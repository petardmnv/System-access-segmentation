{
 "cells": [
  {
   "cell_type": "markdown",
   "metadata": {},
   "source": [
    "# System for access segmentation"
   ]
  },
  {
   "cell_type": "markdown",
   "metadata": {},
   "source": [
    "##### imports"
   ]
  },
  {
   "cell_type": "code",
   "execution_count": 1,
   "metadata": {},
   "outputs": [],
   "source": [
    "import numpy as np\n",
    "import pandas as pd\n",
    "import os\n",
    "from sklearn.preprocessing import StandardScaler"
   ]
  },
  {
   "cell_type": "markdown",
   "metadata": {},
   "source": [
    "#### Get data from results/data folder"
   ]
  },
  {
   "cell_type": "code",
   "execution_count": 2,
   "metadata": {},
   "outputs": [],
   "source": [
    "data = pd.data = pd.read_excel(\"../server/public/data/User-624921c5e1c4d602ddd19695-1649206670127.xlsx\", skiprows=1)"
   ]
  },
  {
   "cell_type": "code",
   "execution_count": 3,
   "metadata": {},
   "outputs": [
    {
     "data": {
      "text/html": [
       "<div>\n",
       "<style scoped>\n",
       "    .dataframe tbody tr th:only-of-type {\n",
       "        vertical-align: middle;\n",
       "    }\n",
       "\n",
       "    .dataframe tbody tr th {\n",
       "        vertical-align: top;\n",
       "    }\n",
       "\n",
       "    .dataframe thead th {\n",
       "        text-align: right;\n",
       "    }\n",
       "</style>\n",
       "<table border=\"1\" class=\"dataframe\">\n",
       "  <thead>\n",
       "    <tr style=\"text-align: right;\">\n",
       "      <th></th>\n",
       "      <th>user_id</th>\n",
       "      <th>position</th>\n",
       "      <th>org_structure</th>\n",
       "      <th>access_name</th>\n",
       "    </tr>\n",
       "  </thead>\n",
       "  <tbody>\n",
       "    <tr>\n",
       "      <th>0</th>\n",
       "      <td>AALISMNA</td>\n",
       "      <td>POSTDOCTORAL FELLOW</td>\n",
       "      <td>BIOLOGICAL, ENVIRONMENTAL SCIENCE &amp; ENG</td>\n",
       "      <td>PRIV:ROLE:GOOGLE:ACCOUNT</td>\n",
       "    </tr>\n",
       "    <tr>\n",
       "      <th>1</th>\n",
       "      <td>AALISMNA</td>\n",
       "      <td>POSTDOCTORAL FELLOW</td>\n",
       "      <td>BIOLOGICAL, ENVIRONMENTAL SCIENCE &amp; ENG</td>\n",
       "      <td>PRIV:ROLE:BAMP900:PB:USER</td>\n",
       "    </tr>\n",
       "    <tr>\n",
       "      <th>2</th>\n",
       "      <td>AALISMNA</td>\n",
       "      <td>POSTDOCTORAL FELLOW</td>\n",
       "      <td>BIOLOGICAL, ENVIRONMENTAL SCIENCE &amp; ENG</td>\n",
       "      <td>PRIV:ROLE:BAMP900:RMS:HR_USER</td>\n",
       "    </tr>\n",
       "    <tr>\n",
       "      <th>3</th>\n",
       "      <td>AALISMNA</td>\n",
       "      <td>POSTDOCTORAL FELLOW</td>\n",
       "      <td>BIOLOGICAL, ENVIRONMENTAL SCIENCE &amp; ENG</td>\n",
       "      <td>PRIV:ROLE:BGWP960:PB:FIORI_FLP</td>\n",
       "    </tr>\n",
       "    <tr>\n",
       "      <th>4</th>\n",
       "      <td>AALISMNA</td>\n",
       "      <td>POSTDOCTORAL FELLOW</td>\n",
       "      <td>BIOLOGICAL, ENVIRONMENTAL SCIENCE &amp; ENG</td>\n",
       "      <td>PRIV:ROLE:BAMP900:FI:TV:TRAVELER</td>\n",
       "    </tr>\n",
       "    <tr>\n",
       "      <th>...</th>\n",
       "      <td>...</td>\n",
       "      <td>...</td>\n",
       "      <td>...</td>\n",
       "      <td>...</td>\n",
       "    </tr>\n",
       "    <tr>\n",
       "      <th>199530</th>\n",
       "      <td>ZYBINSA</td>\n",
       "      <td>SENIOR TECHNICAL SPECIALIST</td>\n",
       "      <td>INORGANICS</td>\n",
       "      <td>PRIV:ROLE:BAMP900:HR:ESS:CLAIMS_REIMBURSEMENT</td>\n",
       "    </tr>\n",
       "    <tr>\n",
       "      <th>199531</th>\n",
       "      <td>ZYBINSA</td>\n",
       "      <td>SENIOR TECHNICAL SPECIALIST</td>\n",
       "      <td>INORGANICS</td>\n",
       "      <td>PRIV:ROLE:BGWP960:IT:GW:PASSWORD_SELF_SERVICE</td>\n",
       "    </tr>\n",
       "    <tr>\n",
       "      <th>199532</th>\n",
       "      <td>ZYBINSA</td>\n",
       "      <td>SENIOR TECHNICAL SPECIALIST</td>\n",
       "      <td>INORGANICS</td>\n",
       "      <td>PRIV:ROLE:BAMP900:IT:BUSINESS_JOB_RELEASE_ACCESS</td>\n",
       "    </tr>\n",
       "    <tr>\n",
       "      <th>199533</th>\n",
       "      <td>ZYBINSA</td>\n",
       "      <td>SENIOR TECHNICAL SPECIALIST</td>\n",
       "      <td>INORGANICS</td>\n",
       "      <td>PRIV:ROLE:BGWP960:KS:KITS_CONFERENC_ROOM_BOOKING</td>\n",
       "    </tr>\n",
       "    <tr>\n",
       "      <th>199534</th>\n",
       "      <td>ZYBINSA</td>\n",
       "      <td>SENIOR TECHNICAL SPECIALIST</td>\n",
       "      <td>INORGANICS</td>\n",
       "      <td>PRIV:ROLE:BGWP960:KS:KITS_EMPLOYEE_EQUIPMENT_GRP</td>\n",
       "    </tr>\n",
       "  </tbody>\n",
       "</table>\n",
       "<p>199535 rows × 4 columns</p>\n",
       "</div>"
      ],
      "text/plain": [
       "         user_id                     position  \\\n",
       "0       AALISMNA          POSTDOCTORAL FELLOW   \n",
       "1       AALISMNA          POSTDOCTORAL FELLOW   \n",
       "2       AALISMNA          POSTDOCTORAL FELLOW   \n",
       "3       AALISMNA          POSTDOCTORAL FELLOW   \n",
       "4       AALISMNA          POSTDOCTORAL FELLOW   \n",
       "...          ...                          ...   \n",
       "199530   ZYBINSA  SENIOR TECHNICAL SPECIALIST   \n",
       "199531   ZYBINSA  SENIOR TECHNICAL SPECIALIST   \n",
       "199532   ZYBINSA  SENIOR TECHNICAL SPECIALIST   \n",
       "199533   ZYBINSA  SENIOR TECHNICAL SPECIALIST   \n",
       "199534   ZYBINSA  SENIOR TECHNICAL SPECIALIST   \n",
       "\n",
       "                                  org_structure  \\\n",
       "0       BIOLOGICAL, ENVIRONMENTAL SCIENCE & ENG   \n",
       "1       BIOLOGICAL, ENVIRONMENTAL SCIENCE & ENG   \n",
       "2       BIOLOGICAL, ENVIRONMENTAL SCIENCE & ENG   \n",
       "3       BIOLOGICAL, ENVIRONMENTAL SCIENCE & ENG   \n",
       "4       BIOLOGICAL, ENVIRONMENTAL SCIENCE & ENG   \n",
       "...                                         ...   \n",
       "199530                               INORGANICS   \n",
       "199531                               INORGANICS   \n",
       "199532                               INORGANICS   \n",
       "199533                               INORGANICS   \n",
       "199534                               INORGANICS   \n",
       "\n",
       "                                             access_name  \n",
       "0                               PRIV:ROLE:GOOGLE:ACCOUNT  \n",
       "1                              PRIV:ROLE:BAMP900:PB:USER  \n",
       "2                          PRIV:ROLE:BAMP900:RMS:HR_USER  \n",
       "3                         PRIV:ROLE:BGWP960:PB:FIORI_FLP  \n",
       "4                       PRIV:ROLE:BAMP900:FI:TV:TRAVELER  \n",
       "...                                                  ...  \n",
       "199530     PRIV:ROLE:BAMP900:HR:ESS:CLAIMS_REIMBURSEMENT  \n",
       "199531     PRIV:ROLE:BGWP960:IT:GW:PASSWORD_SELF_SERVICE  \n",
       "199532  PRIV:ROLE:BAMP900:IT:BUSINESS_JOB_RELEASE_ACCESS  \n",
       "199533  PRIV:ROLE:BGWP960:KS:KITS_CONFERENC_ROOM_BOOKING  \n",
       "199534  PRIV:ROLE:BGWP960:KS:KITS_EMPLOYEE_EQUIPMENT_GRP  \n",
       "\n",
       "[199535 rows x 4 columns]"
      ]
     },
     "execution_count": 3,
     "metadata": {},
     "output_type": "execute_result"
    }
   ],
   "source": [
    "data"
   ]
  },
  {
   "cell_type": "code",
   "execution_count": 4,
   "metadata": {},
   "outputs": [],
   "source": [
    "data.columns = [\"user_id\", \"job\", \"department\", \"privileges_data\"]"
   ]
  },
  {
   "cell_type": "code",
   "execution_count": 5,
   "metadata": {},
   "outputs": [],
   "source": [
    "data = data.dropna()"
   ]
  },
  {
   "cell_type": "code",
   "execution_count": 6,
   "metadata": {},
   "outputs": [
    {
     "data": {
      "text/html": [
       "<div>\n",
       "<style scoped>\n",
       "    .dataframe tbody tr th:only-of-type {\n",
       "        vertical-align: middle;\n",
       "    }\n",
       "\n",
       "    .dataframe tbody tr th {\n",
       "        vertical-align: top;\n",
       "    }\n",
       "\n",
       "    .dataframe thead th {\n",
       "        text-align: right;\n",
       "    }\n",
       "</style>\n",
       "<table border=\"1\" class=\"dataframe\">\n",
       "  <thead>\n",
       "    <tr style=\"text-align: right;\">\n",
       "      <th></th>\n",
       "      <th>user_id</th>\n",
       "      <th>job</th>\n",
       "      <th>department</th>\n",
       "      <th>privileges_data</th>\n",
       "    </tr>\n",
       "  </thead>\n",
       "  <tbody>\n",
       "    <tr>\n",
       "      <th>0</th>\n",
       "      <td>AALISMNA</td>\n",
       "      <td>POSTDOCTORAL FELLOW</td>\n",
       "      <td>BIOLOGICAL, ENVIRONMENTAL SCIENCE &amp; ENG</td>\n",
       "      <td>PRIV:ROLE:GOOGLE:ACCOUNT</td>\n",
       "    </tr>\n",
       "    <tr>\n",
       "      <th>1</th>\n",
       "      <td>AALISMNA</td>\n",
       "      <td>POSTDOCTORAL FELLOW</td>\n",
       "      <td>BIOLOGICAL, ENVIRONMENTAL SCIENCE &amp; ENG</td>\n",
       "      <td>PRIV:ROLE:BAMP900:PB:USER</td>\n",
       "    </tr>\n",
       "    <tr>\n",
       "      <th>2</th>\n",
       "      <td>AALISMNA</td>\n",
       "      <td>POSTDOCTORAL FELLOW</td>\n",
       "      <td>BIOLOGICAL, ENVIRONMENTAL SCIENCE &amp; ENG</td>\n",
       "      <td>PRIV:ROLE:BAMP900:RMS:HR_USER</td>\n",
       "    </tr>\n",
       "    <tr>\n",
       "      <th>3</th>\n",
       "      <td>AALISMNA</td>\n",
       "      <td>POSTDOCTORAL FELLOW</td>\n",
       "      <td>BIOLOGICAL, ENVIRONMENTAL SCIENCE &amp; ENG</td>\n",
       "      <td>PRIV:ROLE:BGWP960:PB:FIORI_FLP</td>\n",
       "    </tr>\n",
       "    <tr>\n",
       "      <th>4</th>\n",
       "      <td>AALISMNA</td>\n",
       "      <td>POSTDOCTORAL FELLOW</td>\n",
       "      <td>BIOLOGICAL, ENVIRONMENTAL SCIENCE &amp; ENG</td>\n",
       "      <td>PRIV:ROLE:BAMP900:FI:TV:TRAVELER</td>\n",
       "    </tr>\n",
       "    <tr>\n",
       "      <th>...</th>\n",
       "      <td>...</td>\n",
       "      <td>...</td>\n",
       "      <td>...</td>\n",
       "      <td>...</td>\n",
       "    </tr>\n",
       "    <tr>\n",
       "      <th>199530</th>\n",
       "      <td>ZYBINSA</td>\n",
       "      <td>SENIOR TECHNICAL SPECIALIST</td>\n",
       "      <td>INORGANICS</td>\n",
       "      <td>PRIV:ROLE:BAMP900:HR:ESS:CLAIMS_REIMBURSEMENT</td>\n",
       "    </tr>\n",
       "    <tr>\n",
       "      <th>199531</th>\n",
       "      <td>ZYBINSA</td>\n",
       "      <td>SENIOR TECHNICAL SPECIALIST</td>\n",
       "      <td>INORGANICS</td>\n",
       "      <td>PRIV:ROLE:BGWP960:IT:GW:PASSWORD_SELF_SERVICE</td>\n",
       "    </tr>\n",
       "    <tr>\n",
       "      <th>199532</th>\n",
       "      <td>ZYBINSA</td>\n",
       "      <td>SENIOR TECHNICAL SPECIALIST</td>\n",
       "      <td>INORGANICS</td>\n",
       "      <td>PRIV:ROLE:BAMP900:IT:BUSINESS_JOB_RELEASE_ACCESS</td>\n",
       "    </tr>\n",
       "    <tr>\n",
       "      <th>199533</th>\n",
       "      <td>ZYBINSA</td>\n",
       "      <td>SENIOR TECHNICAL SPECIALIST</td>\n",
       "      <td>INORGANICS</td>\n",
       "      <td>PRIV:ROLE:BGWP960:KS:KITS_CONFERENC_ROOM_BOOKING</td>\n",
       "    </tr>\n",
       "    <tr>\n",
       "      <th>199534</th>\n",
       "      <td>ZYBINSA</td>\n",
       "      <td>SENIOR TECHNICAL SPECIALIST</td>\n",
       "      <td>INORGANICS</td>\n",
       "      <td>PRIV:ROLE:BGWP960:KS:KITS_EMPLOYEE_EQUIPMENT_GRP</td>\n",
       "    </tr>\n",
       "  </tbody>\n",
       "</table>\n",
       "<p>199511 rows × 4 columns</p>\n",
       "</div>"
      ],
      "text/plain": [
       "         user_id                          job  \\\n",
       "0       AALISMNA          POSTDOCTORAL FELLOW   \n",
       "1       AALISMNA          POSTDOCTORAL FELLOW   \n",
       "2       AALISMNA          POSTDOCTORAL FELLOW   \n",
       "3       AALISMNA          POSTDOCTORAL FELLOW   \n",
       "4       AALISMNA          POSTDOCTORAL FELLOW   \n",
       "...          ...                          ...   \n",
       "199530   ZYBINSA  SENIOR TECHNICAL SPECIALIST   \n",
       "199531   ZYBINSA  SENIOR TECHNICAL SPECIALIST   \n",
       "199532   ZYBINSA  SENIOR TECHNICAL SPECIALIST   \n",
       "199533   ZYBINSA  SENIOR TECHNICAL SPECIALIST   \n",
       "199534   ZYBINSA  SENIOR TECHNICAL SPECIALIST   \n",
       "\n",
       "                                     department  \\\n",
       "0       BIOLOGICAL, ENVIRONMENTAL SCIENCE & ENG   \n",
       "1       BIOLOGICAL, ENVIRONMENTAL SCIENCE & ENG   \n",
       "2       BIOLOGICAL, ENVIRONMENTAL SCIENCE & ENG   \n",
       "3       BIOLOGICAL, ENVIRONMENTAL SCIENCE & ENG   \n",
       "4       BIOLOGICAL, ENVIRONMENTAL SCIENCE & ENG   \n",
       "...                                         ...   \n",
       "199530                               INORGANICS   \n",
       "199531                               INORGANICS   \n",
       "199532                               INORGANICS   \n",
       "199533                               INORGANICS   \n",
       "199534                               INORGANICS   \n",
       "\n",
       "                                         privileges_data  \n",
       "0                               PRIV:ROLE:GOOGLE:ACCOUNT  \n",
       "1                              PRIV:ROLE:BAMP900:PB:USER  \n",
       "2                          PRIV:ROLE:BAMP900:RMS:HR_USER  \n",
       "3                         PRIV:ROLE:BGWP960:PB:FIORI_FLP  \n",
       "4                       PRIV:ROLE:BAMP900:FI:TV:TRAVELER  \n",
       "...                                                  ...  \n",
       "199530     PRIV:ROLE:BAMP900:HR:ESS:CLAIMS_REIMBURSEMENT  \n",
       "199531     PRIV:ROLE:BGWP960:IT:GW:PASSWORD_SELF_SERVICE  \n",
       "199532  PRIV:ROLE:BAMP900:IT:BUSINESS_JOB_RELEASE_ACCESS  \n",
       "199533  PRIV:ROLE:BGWP960:KS:KITS_CONFERENC_ROOM_BOOKING  \n",
       "199534  PRIV:ROLE:BGWP960:KS:KITS_EMPLOYEE_EQUIPMENT_GRP  \n",
       "\n",
       "[199511 rows x 4 columns]"
      ]
     },
     "execution_count": 6,
     "metadata": {},
     "output_type": "execute_result"
    }
   ],
   "source": [
    "data"
   ]
  },
  {
   "cell_type": "code",
   "execution_count": 7,
   "metadata": {},
   "outputs": [],
   "source": [
    "user_data = data.drop(\"privileges_data\", axis=1)"
   ]
  },
  {
   "cell_type": "code",
   "execution_count": 8,
   "metadata": {},
   "outputs": [
    {
     "data": {
      "text/html": [
       "<div>\n",
       "<style scoped>\n",
       "    .dataframe tbody tr th:only-of-type {\n",
       "        vertical-align: middle;\n",
       "    }\n",
       "\n",
       "    .dataframe tbody tr th {\n",
       "        vertical-align: top;\n",
       "    }\n",
       "\n",
       "    .dataframe thead th {\n",
       "        text-align: right;\n",
       "    }\n",
       "</style>\n",
       "<table border=\"1\" class=\"dataframe\">\n",
       "  <thead>\n",
       "    <tr style=\"text-align: right;\">\n",
       "      <th></th>\n",
       "      <th>user_id</th>\n",
       "      <th>job</th>\n",
       "      <th>department</th>\n",
       "    </tr>\n",
       "  </thead>\n",
       "  <tbody>\n",
       "    <tr>\n",
       "      <th>0</th>\n",
       "      <td>AALISMNA</td>\n",
       "      <td>POSTDOCTORAL FELLOW</td>\n",
       "      <td>BIOLOGICAL, ENVIRONMENTAL SCIENCE &amp; ENG</td>\n",
       "    </tr>\n",
       "    <tr>\n",
       "      <th>1</th>\n",
       "      <td>AALISMNA</td>\n",
       "      <td>POSTDOCTORAL FELLOW</td>\n",
       "      <td>BIOLOGICAL, ENVIRONMENTAL SCIENCE &amp; ENG</td>\n",
       "    </tr>\n",
       "    <tr>\n",
       "      <th>2</th>\n",
       "      <td>AALISMNA</td>\n",
       "      <td>POSTDOCTORAL FELLOW</td>\n",
       "      <td>BIOLOGICAL, ENVIRONMENTAL SCIENCE &amp; ENG</td>\n",
       "    </tr>\n",
       "    <tr>\n",
       "      <th>3</th>\n",
       "      <td>AALISMNA</td>\n",
       "      <td>POSTDOCTORAL FELLOW</td>\n",
       "      <td>BIOLOGICAL, ENVIRONMENTAL SCIENCE &amp; ENG</td>\n",
       "    </tr>\n",
       "    <tr>\n",
       "      <th>4</th>\n",
       "      <td>AALISMNA</td>\n",
       "      <td>POSTDOCTORAL FELLOW</td>\n",
       "      <td>BIOLOGICAL, ENVIRONMENTAL SCIENCE &amp; ENG</td>\n",
       "    </tr>\n",
       "    <tr>\n",
       "      <th>...</th>\n",
       "      <td>...</td>\n",
       "      <td>...</td>\n",
       "      <td>...</td>\n",
       "    </tr>\n",
       "    <tr>\n",
       "      <th>199530</th>\n",
       "      <td>ZYBINSA</td>\n",
       "      <td>SENIOR TECHNICAL SPECIALIST</td>\n",
       "      <td>INORGANICS</td>\n",
       "    </tr>\n",
       "    <tr>\n",
       "      <th>199531</th>\n",
       "      <td>ZYBINSA</td>\n",
       "      <td>SENIOR TECHNICAL SPECIALIST</td>\n",
       "      <td>INORGANICS</td>\n",
       "    </tr>\n",
       "    <tr>\n",
       "      <th>199532</th>\n",
       "      <td>ZYBINSA</td>\n",
       "      <td>SENIOR TECHNICAL SPECIALIST</td>\n",
       "      <td>INORGANICS</td>\n",
       "    </tr>\n",
       "    <tr>\n",
       "      <th>199533</th>\n",
       "      <td>ZYBINSA</td>\n",
       "      <td>SENIOR TECHNICAL SPECIALIST</td>\n",
       "      <td>INORGANICS</td>\n",
       "    </tr>\n",
       "    <tr>\n",
       "      <th>199534</th>\n",
       "      <td>ZYBINSA</td>\n",
       "      <td>SENIOR TECHNICAL SPECIALIST</td>\n",
       "      <td>INORGANICS</td>\n",
       "    </tr>\n",
       "  </tbody>\n",
       "</table>\n",
       "<p>199511 rows × 3 columns</p>\n",
       "</div>"
      ],
      "text/plain": [
       "         user_id                          job  \\\n",
       "0       AALISMNA          POSTDOCTORAL FELLOW   \n",
       "1       AALISMNA          POSTDOCTORAL FELLOW   \n",
       "2       AALISMNA          POSTDOCTORAL FELLOW   \n",
       "3       AALISMNA          POSTDOCTORAL FELLOW   \n",
       "4       AALISMNA          POSTDOCTORAL FELLOW   \n",
       "...          ...                          ...   \n",
       "199530   ZYBINSA  SENIOR TECHNICAL SPECIALIST   \n",
       "199531   ZYBINSA  SENIOR TECHNICAL SPECIALIST   \n",
       "199532   ZYBINSA  SENIOR TECHNICAL SPECIALIST   \n",
       "199533   ZYBINSA  SENIOR TECHNICAL SPECIALIST   \n",
       "199534   ZYBINSA  SENIOR TECHNICAL SPECIALIST   \n",
       "\n",
       "                                     department  \n",
       "0       BIOLOGICAL, ENVIRONMENTAL SCIENCE & ENG  \n",
       "1       BIOLOGICAL, ENVIRONMENTAL SCIENCE & ENG  \n",
       "2       BIOLOGICAL, ENVIRONMENTAL SCIENCE & ENG  \n",
       "3       BIOLOGICAL, ENVIRONMENTAL SCIENCE & ENG  \n",
       "4       BIOLOGICAL, ENVIRONMENTAL SCIENCE & ENG  \n",
       "...                                         ...  \n",
       "199530                               INORGANICS  \n",
       "199531                               INORGANICS  \n",
       "199532                               INORGANICS  \n",
       "199533                               INORGANICS  \n",
       "199534                               INORGANICS  \n",
       "\n",
       "[199511 rows x 3 columns]"
      ]
     },
     "execution_count": 8,
     "metadata": {},
     "output_type": "execute_result"
    }
   ],
   "source": [
    "user_data"
   ]
  },
  {
   "cell_type": "code",
   "execution_count": 9,
   "metadata": {},
   "outputs": [],
   "source": [
    "privileges_data = pd.DataFrame(data[\"privileges_data\"])"
   ]
  },
  {
   "cell_type": "code",
   "execution_count": 10,
   "metadata": {},
   "outputs": [],
   "source": [
    "privileges_data.privileges_data = privileges_data[\"privileges_data\"].str[10:]"
   ]
  },
  {
   "cell_type": "markdown",
   "metadata": {},
   "source": [
    "I saw anomaly in data where in some of the records there is ::(double) symbols so i need to remove it so the data is clear"
   ]
  },
  {
   "cell_type": "code",
   "execution_count": 11,
   "metadata": {},
   "outputs": [],
   "source": [
    "for indx in privileges_data[privileges_data[\"privileges_data\"].str.startswith(\":\")].index.tolist():\n",
    "    privileges_data.loc[indx].privileges_data = privileges_data.loc[indx].privileges_data[1:]"
   ]
  },
  {
   "cell_type": "code",
   "execution_count": 12,
   "metadata": {},
   "outputs": [
    {
     "data": {
      "text/plain": [
       "0"
      ]
     },
     "execution_count": 12,
     "metadata": {},
     "output_type": "execute_result"
    }
   ],
   "source": [
    "len(privileges_data.loc[privileges_data[\"privileges_data\"].str.startswith(\":\")].privileges_data)"
   ]
  },
  {
   "cell_type": "code",
   "execution_count": 13,
   "metadata": {},
   "outputs": [
    {
     "data": {
      "text/html": [
       "<div>\n",
       "<style scoped>\n",
       "    .dataframe tbody tr th:only-of-type {\n",
       "        vertical-align: middle;\n",
       "    }\n",
       "\n",
       "    .dataframe tbody tr th {\n",
       "        vertical-align: top;\n",
       "    }\n",
       "\n",
       "    .dataframe thead th {\n",
       "        text-align: right;\n",
       "    }\n",
       "</style>\n",
       "<table border=\"1\" class=\"dataframe\">\n",
       "  <thead>\n",
       "    <tr style=\"text-align: right;\">\n",
       "      <th></th>\n",
       "      <th>privileges_data</th>\n",
       "    </tr>\n",
       "  </thead>\n",
       "  <tbody>\n",
       "    <tr>\n",
       "      <th>0</th>\n",
       "      <td>GOOGLE:ACCOUNT</td>\n",
       "    </tr>\n",
       "    <tr>\n",
       "      <th>1</th>\n",
       "      <td>BAMP900:PB:USER</td>\n",
       "    </tr>\n",
       "    <tr>\n",
       "      <th>2</th>\n",
       "      <td>BAMP900:RMS:HR_USER</td>\n",
       "    </tr>\n",
       "    <tr>\n",
       "      <th>3</th>\n",
       "      <td>BGWP960:PB:FIORI_FLP</td>\n",
       "    </tr>\n",
       "    <tr>\n",
       "      <th>4</th>\n",
       "      <td>BAMP900:FI:TV:TRAVELER</td>\n",
       "    </tr>\n",
       "    <tr>\n",
       "      <th>...</th>\n",
       "      <td>...</td>\n",
       "    </tr>\n",
       "    <tr>\n",
       "      <th>199530</th>\n",
       "      <td>BAMP900:HR:ESS:CLAIMS_REIMBURSEMENT</td>\n",
       "    </tr>\n",
       "    <tr>\n",
       "      <th>199531</th>\n",
       "      <td>BGWP960:IT:GW:PASSWORD_SELF_SERVICE</td>\n",
       "    </tr>\n",
       "    <tr>\n",
       "      <th>199532</th>\n",
       "      <td>BAMP900:IT:BUSINESS_JOB_RELEASE_ACCESS</td>\n",
       "    </tr>\n",
       "    <tr>\n",
       "      <th>199533</th>\n",
       "      <td>BGWP960:KS:KITS_CONFERENC_ROOM_BOOKING</td>\n",
       "    </tr>\n",
       "    <tr>\n",
       "      <th>199534</th>\n",
       "      <td>BGWP960:KS:KITS_EMPLOYEE_EQUIPMENT_GRP</td>\n",
       "    </tr>\n",
       "  </tbody>\n",
       "</table>\n",
       "<p>199511 rows × 1 columns</p>\n",
       "</div>"
      ],
      "text/plain": [
       "                               privileges_data\n",
       "0                               GOOGLE:ACCOUNT\n",
       "1                              BAMP900:PB:USER\n",
       "2                          BAMP900:RMS:HR_USER\n",
       "3                         BGWP960:PB:FIORI_FLP\n",
       "4                       BAMP900:FI:TV:TRAVELER\n",
       "...                                        ...\n",
       "199530     BAMP900:HR:ESS:CLAIMS_REIMBURSEMENT\n",
       "199531     BGWP960:IT:GW:PASSWORD_SELF_SERVICE\n",
       "199532  BAMP900:IT:BUSINESS_JOB_RELEASE_ACCESS\n",
       "199533  BGWP960:KS:KITS_CONFERENC_ROOM_BOOKING\n",
       "199534  BGWP960:KS:KITS_EMPLOYEE_EQUIPMENT_GRP\n",
       "\n",
       "[199511 rows x 1 columns]"
      ]
     },
     "execution_count": 13,
     "metadata": {},
     "output_type": "execute_result"
    }
   ],
   "source": [
    "privileges_data"
   ]
  },
  {
   "cell_type": "code",
   "execution_count": 14,
   "metadata": {},
   "outputs": [],
   "source": [
    "privileges_data['system_name'], privileges_data['priv'] = privileges_data['privileges_data'].str.split(':', 1, expand=True)[0], privileges_data['privileges_data'].str.split(':', 1, expand=True)[1]"
   ]
  },
  {
   "cell_type": "code",
   "execution_count": 15,
   "metadata": {},
   "outputs": [],
   "source": [
    "privileges_data = privileges_data.drop('privileges_data', axis=1)"
   ]
  },
  {
   "cell_type": "code",
   "execution_count": 16,
   "metadata": {},
   "outputs": [
    {
     "data": {
      "text/html": [
       "<div>\n",
       "<style scoped>\n",
       "    .dataframe tbody tr th:only-of-type {\n",
       "        vertical-align: middle;\n",
       "    }\n",
       "\n",
       "    .dataframe tbody tr th {\n",
       "        vertical-align: top;\n",
       "    }\n",
       "\n",
       "    .dataframe thead th {\n",
       "        text-align: right;\n",
       "    }\n",
       "</style>\n",
       "<table border=\"1\" class=\"dataframe\">\n",
       "  <thead>\n",
       "    <tr style=\"text-align: right;\">\n",
       "      <th></th>\n",
       "      <th>system_name</th>\n",
       "      <th>priv</th>\n",
       "    </tr>\n",
       "  </thead>\n",
       "  <tbody>\n",
       "    <tr>\n",
       "      <th>0</th>\n",
       "      <td>GOOGLE</td>\n",
       "      <td>ACCOUNT</td>\n",
       "    </tr>\n",
       "    <tr>\n",
       "      <th>1</th>\n",
       "      <td>BAMP900</td>\n",
       "      <td>PB:USER</td>\n",
       "    </tr>\n",
       "    <tr>\n",
       "      <th>2</th>\n",
       "      <td>BAMP900</td>\n",
       "      <td>RMS:HR_USER</td>\n",
       "    </tr>\n",
       "    <tr>\n",
       "      <th>3</th>\n",
       "      <td>BGWP960</td>\n",
       "      <td>PB:FIORI_FLP</td>\n",
       "    </tr>\n",
       "    <tr>\n",
       "      <th>4</th>\n",
       "      <td>BAMP900</td>\n",
       "      <td>FI:TV:TRAVELER</td>\n",
       "    </tr>\n",
       "    <tr>\n",
       "      <th>...</th>\n",
       "      <td>...</td>\n",
       "      <td>...</td>\n",
       "    </tr>\n",
       "    <tr>\n",
       "      <th>199530</th>\n",
       "      <td>BAMP900</td>\n",
       "      <td>HR:ESS:CLAIMS_REIMBURSEMENT</td>\n",
       "    </tr>\n",
       "    <tr>\n",
       "      <th>199531</th>\n",
       "      <td>BGWP960</td>\n",
       "      <td>IT:GW:PASSWORD_SELF_SERVICE</td>\n",
       "    </tr>\n",
       "    <tr>\n",
       "      <th>199532</th>\n",
       "      <td>BAMP900</td>\n",
       "      <td>IT:BUSINESS_JOB_RELEASE_ACCESS</td>\n",
       "    </tr>\n",
       "    <tr>\n",
       "      <th>199533</th>\n",
       "      <td>BGWP960</td>\n",
       "      <td>KS:KITS_CONFERENC_ROOM_BOOKING</td>\n",
       "    </tr>\n",
       "    <tr>\n",
       "      <th>199534</th>\n",
       "      <td>BGWP960</td>\n",
       "      <td>KS:KITS_EMPLOYEE_EQUIPMENT_GRP</td>\n",
       "    </tr>\n",
       "  </tbody>\n",
       "</table>\n",
       "<p>199511 rows × 2 columns</p>\n",
       "</div>"
      ],
      "text/plain": [
       "       system_name                            priv\n",
       "0           GOOGLE                         ACCOUNT\n",
       "1          BAMP900                         PB:USER\n",
       "2          BAMP900                     RMS:HR_USER\n",
       "3          BGWP960                    PB:FIORI_FLP\n",
       "4          BAMP900                  FI:TV:TRAVELER\n",
       "...            ...                             ...\n",
       "199530     BAMP900     HR:ESS:CLAIMS_REIMBURSEMENT\n",
       "199531     BGWP960     IT:GW:PASSWORD_SELF_SERVICE\n",
       "199532     BAMP900  IT:BUSINESS_JOB_RELEASE_ACCESS\n",
       "199533     BGWP960  KS:KITS_CONFERENC_ROOM_BOOKING\n",
       "199534     BGWP960  KS:KITS_EMPLOYEE_EQUIPMENT_GRP\n",
       "\n",
       "[199511 rows x 2 columns]"
      ]
     },
     "execution_count": 16,
     "metadata": {},
     "output_type": "execute_result"
    }
   ],
   "source": [
    "privileges_data"
   ]
  },
  {
   "cell_type": "code",
   "execution_count": 17,
   "metadata": {},
   "outputs": [],
   "source": [
    "user_data['system_name'] = privileges_data['system_name']\n",
    "user_data['priv'] = privileges_data['priv']"
   ]
  },
  {
   "cell_type": "code",
   "execution_count": 18,
   "metadata": {},
   "outputs": [],
   "source": [
    "job=\"POSTDOCTORAL FELLOW\"\n",
    "department=\"BIOLOGICAL, ENVIRONMENTAL SCIENCE & ENG\"\n",
    "\n",
    "segmentated_data = user_data.where((user_data.job == job) & (user_data.department == department))\n",
    "segmentated_data.dropna(inplace=True)"
   ]
  },
  {
   "cell_type": "code",
   "execution_count": 19,
   "metadata": {},
   "outputs": [
    {
     "data": {
      "text/html": [
       "<div>\n",
       "<style scoped>\n",
       "    .dataframe tbody tr th:only-of-type {\n",
       "        vertical-align: middle;\n",
       "    }\n",
       "\n",
       "    .dataframe tbody tr th {\n",
       "        vertical-align: top;\n",
       "    }\n",
       "\n",
       "    .dataframe thead th {\n",
       "        text-align: right;\n",
       "    }\n",
       "</style>\n",
       "<table border=\"1\" class=\"dataframe\">\n",
       "  <thead>\n",
       "    <tr style=\"text-align: right;\">\n",
       "      <th></th>\n",
       "      <th>user_id</th>\n",
       "      <th>job</th>\n",
       "      <th>department</th>\n",
       "      <th>system_name</th>\n",
       "      <th>priv</th>\n",
       "    </tr>\n",
       "  </thead>\n",
       "  <tbody>\n",
       "    <tr>\n",
       "      <th>0</th>\n",
       "      <td>AALISMNA</td>\n",
       "      <td>POSTDOCTORAL FELLOW</td>\n",
       "      <td>BIOLOGICAL, ENVIRONMENTAL SCIENCE &amp; ENG</td>\n",
       "      <td>GOOGLE</td>\n",
       "      <td>ACCOUNT</td>\n",
       "    </tr>\n",
       "    <tr>\n",
       "      <th>1</th>\n",
       "      <td>AALISMNA</td>\n",
       "      <td>POSTDOCTORAL FELLOW</td>\n",
       "      <td>BIOLOGICAL, ENVIRONMENTAL SCIENCE &amp; ENG</td>\n",
       "      <td>BAMP900</td>\n",
       "      <td>PB:USER</td>\n",
       "    </tr>\n",
       "    <tr>\n",
       "      <th>2</th>\n",
       "      <td>AALISMNA</td>\n",
       "      <td>POSTDOCTORAL FELLOW</td>\n",
       "      <td>BIOLOGICAL, ENVIRONMENTAL SCIENCE &amp; ENG</td>\n",
       "      <td>BAMP900</td>\n",
       "      <td>RMS:HR_USER</td>\n",
       "    </tr>\n",
       "    <tr>\n",
       "      <th>3</th>\n",
       "      <td>AALISMNA</td>\n",
       "      <td>POSTDOCTORAL FELLOW</td>\n",
       "      <td>BIOLOGICAL, ENVIRONMENTAL SCIENCE &amp; ENG</td>\n",
       "      <td>BGWP960</td>\n",
       "      <td>PB:FIORI_FLP</td>\n",
       "    </tr>\n",
       "    <tr>\n",
       "      <th>4</th>\n",
       "      <td>AALISMNA</td>\n",
       "      <td>POSTDOCTORAL FELLOW</td>\n",
       "      <td>BIOLOGICAL, ENVIRONMENTAL SCIENCE &amp; ENG</td>\n",
       "      <td>BAMP900</td>\n",
       "      <td>FI:TV:TRAVELER</td>\n",
       "    </tr>\n",
       "    <tr>\n",
       "      <th>...</th>\n",
       "      <td>...</td>\n",
       "      <td>...</td>\n",
       "      <td>...</td>\n",
       "      <td>...</td>\n",
       "      <td>...</td>\n",
       "    </tr>\n",
       "    <tr>\n",
       "      <th>198873</th>\n",
       "      <td>ZIAA</td>\n",
       "      <td>POSTDOCTORAL FELLOW</td>\n",
       "      <td>BIOLOGICAL, ENVIRONMENTAL SCIENCE &amp; ENG</td>\n",
       "      <td>BGWP960</td>\n",
       "      <td>HR:GW:CLAIMS_TRAVEL_OLD_TIL</td>\n",
       "    </tr>\n",
       "    <tr>\n",
       "      <th>198874</th>\n",
       "      <td>ZIAA</td>\n",
       "      <td>POSTDOCTORAL FELLOW</td>\n",
       "      <td>BIOLOGICAL, ENVIRONMENTAL SCIENCE &amp; ENG</td>\n",
       "      <td>BGWP960</td>\n",
       "      <td>IT:GW:PASSWORD_SELF_SERVICE</td>\n",
       "    </tr>\n",
       "    <tr>\n",
       "      <th>198875</th>\n",
       "      <td>ZIAA</td>\n",
       "      <td>POSTDOCTORAL FELLOW</td>\n",
       "      <td>BIOLOGICAL, ENVIRONMENTAL SCIENCE &amp; ENG</td>\n",
       "      <td>BAMP900</td>\n",
       "      <td>IT:BUSINESS_JOB_RELEASE_ACCESS</td>\n",
       "    </tr>\n",
       "    <tr>\n",
       "      <th>198876</th>\n",
       "      <td>ZIAA</td>\n",
       "      <td>POSTDOCTORAL FELLOW</td>\n",
       "      <td>BIOLOGICAL, ENVIRONMENTAL SCIENCE &amp; ENG</td>\n",
       "      <td>BGWP960</td>\n",
       "      <td>KS:KITS_CONFERENC_ROOM_BOOKING</td>\n",
       "    </tr>\n",
       "    <tr>\n",
       "      <th>198877</th>\n",
       "      <td>ZIAA</td>\n",
       "      <td>POSTDOCTORAL FELLOW</td>\n",
       "      <td>BIOLOGICAL, ENVIRONMENTAL SCIENCE &amp; ENG</td>\n",
       "      <td>BGWP960</td>\n",
       "      <td>KS:KITS_EMPLOYEE_EQUIPMENT_GRP</td>\n",
       "    </tr>\n",
       "  </tbody>\n",
       "</table>\n",
       "<p>2199 rows × 5 columns</p>\n",
       "</div>"
      ],
      "text/plain": [
       "         user_id                  job  \\\n",
       "0       AALISMNA  POSTDOCTORAL FELLOW   \n",
       "1       AALISMNA  POSTDOCTORAL FELLOW   \n",
       "2       AALISMNA  POSTDOCTORAL FELLOW   \n",
       "3       AALISMNA  POSTDOCTORAL FELLOW   \n",
       "4       AALISMNA  POSTDOCTORAL FELLOW   \n",
       "...          ...                  ...   \n",
       "198873      ZIAA  POSTDOCTORAL FELLOW   \n",
       "198874      ZIAA  POSTDOCTORAL FELLOW   \n",
       "198875      ZIAA  POSTDOCTORAL FELLOW   \n",
       "198876      ZIAA  POSTDOCTORAL FELLOW   \n",
       "198877      ZIAA  POSTDOCTORAL FELLOW   \n",
       "\n",
       "                                     department system_name  \\\n",
       "0       BIOLOGICAL, ENVIRONMENTAL SCIENCE & ENG      GOOGLE   \n",
       "1       BIOLOGICAL, ENVIRONMENTAL SCIENCE & ENG     BAMP900   \n",
       "2       BIOLOGICAL, ENVIRONMENTAL SCIENCE & ENG     BAMP900   \n",
       "3       BIOLOGICAL, ENVIRONMENTAL SCIENCE & ENG     BGWP960   \n",
       "4       BIOLOGICAL, ENVIRONMENTAL SCIENCE & ENG     BAMP900   \n",
       "...                                         ...         ...   \n",
       "198873  BIOLOGICAL, ENVIRONMENTAL SCIENCE & ENG     BGWP960   \n",
       "198874  BIOLOGICAL, ENVIRONMENTAL SCIENCE & ENG     BGWP960   \n",
       "198875  BIOLOGICAL, ENVIRONMENTAL SCIENCE & ENG     BAMP900   \n",
       "198876  BIOLOGICAL, ENVIRONMENTAL SCIENCE & ENG     BGWP960   \n",
       "198877  BIOLOGICAL, ENVIRONMENTAL SCIENCE & ENG     BGWP960   \n",
       "\n",
       "                                  priv  \n",
       "0                              ACCOUNT  \n",
       "1                              PB:USER  \n",
       "2                          RMS:HR_USER  \n",
       "3                         PB:FIORI_FLP  \n",
       "4                       FI:TV:TRAVELER  \n",
       "...                                ...  \n",
       "198873     HR:GW:CLAIMS_TRAVEL_OLD_TIL  \n",
       "198874     IT:GW:PASSWORD_SELF_SERVICE  \n",
       "198875  IT:BUSINESS_JOB_RELEASE_ACCESS  \n",
       "198876  KS:KITS_CONFERENC_ROOM_BOOKING  \n",
       "198877  KS:KITS_EMPLOYEE_EQUIPMENT_GRP  \n",
       "\n",
       "[2199 rows x 5 columns]"
      ]
     },
     "execution_count": 19,
     "metadata": {},
     "output_type": "execute_result"
    }
   ],
   "source": [
    "segmentated_data"
   ]
  },
  {
   "cell_type": "code",
   "execution_count": 20,
   "metadata": {},
   "outputs": [],
   "source": [
    "avarege_count = int(segmentated_data.priv.value_counts().sum() / len(segmentated_data.priv.value_counts()))\n",
    "count = 0\n",
    "for p_c in segmentated_data.priv.value_counts():\n",
    "    if p_c < avarege_count:\n",
    "        break\n",
    "    count += 1\n",
    "priv_list = segmentated_data.priv.value_counts().index.tolist()[:count]"
   ]
  },
  {
   "cell_type": "code",
   "execution_count": null,
   "metadata": {},
   "outputs": [],
   "source": []
  },
  {
   "cell_type": "code",
   "execution_count": 21,
   "metadata": {},
   "outputs": [
    {
     "data": {
      "text/plain": [
       "['KAUST:END_USERS',\n",
       " 'IT:UWL:ENDUSER',\n",
       " 'GRAC:BUSINESS_ENDUSERS',\n",
       " 'GRAC:END_USERS_BASE',\n",
       " 'RMS:HR_USER',\n",
       " 'SM:ITSM:SELF_SERVICE',\n",
       " 'IT:GW:PASSWORD_SELF_SERVICE',\n",
       " 'IT:FIORI_INBOX_APPROVAL',\n",
       " 'KS:KITS_EMPLOYEE_EQUIPMENT_GRP',\n",
       " 'IT:GW:END_USER',\n",
       " 'SM:ITSM:CREATE_INTERACTION',\n",
       " 'GA:GASC_MYREQUEST',\n",
       " 'HR:ESS:CLAIMS_REIMBURSEMENT',\n",
       " 'IT:GW:KAUST_ACCES_REQUEST',\n",
       " 'KS:KITS_CONFERENC_ROOM_BOOKING',\n",
       " 'KS:KITS_SECURITY_SERVICES',\n",
       " 'GA:GASC_REQUESTER',\n",
       " 'HR:GW:EMP_SELF_SERVICE',\n",
       " 'IT:BUSINESS_JOB_RELEASE_ACCESS',\n",
       " 'PB:FIORI_FLP',\n",
       " 'ACCOUNT',\n",
       " 'FI:TV:TRAVELER',\n",
       " 'KS:KITS_EMAIL_SERVICES',\n",
       " 'PB:USER',\n",
       " 'HR:ESS:EMP_SELF_SERVICE',\n",
       " 'RMS:TV:HR_USER',\n",
       " 'SLCM:RM_END_USER',\n",
       " 'IT:GW:USER_NOTIF',\n",
       " 'IT:GW:USER_REPORTS',\n",
       " 'IT:GW:USER_WORKFLOW']"
      ]
     },
     "execution_count": 21,
     "metadata": {},
     "output_type": "execute_result"
    }
   ],
   "source": [
    "priv_list"
   ]
  },
  {
   "cell_type": "markdown",
   "metadata": {},
   "source": [
    "### Get information about dataset properties"
   ]
  },
  {
   "cell_type": "markdown",
   "metadata": {},
   "source": [
    "#### Get columns"
   ]
  },
  {
   "cell_type": "code",
   "execution_count": 22,
   "metadata": {},
   "outputs": [
    {
     "data": {
      "text/plain": [
       "Index(['user_id', 'job', 'department', 'system_name', 'priv'], dtype='object')"
      ]
     },
     "execution_count": 22,
     "metadata": {},
     "output_type": "execute_result"
    }
   ],
   "source": [
    "user_data.columns"
   ]
  },
  {
   "cell_type": "markdown",
   "metadata": {},
   "source": [
    "#### Get unique attributes in every column"
   ]
  },
  {
   "cell_type": "code",
   "execution_count": 23,
   "metadata": {},
   "outputs": [
    {
     "name": "stdout",
     "output_type": "stream",
     "text": [
      "user_id 6784\n",
      "job 1581\n",
      "department 463\n",
      "system_name 9\n",
      "priv 2049\n"
     ]
    }
   ],
   "source": [
    "for c in user_data.columns:\n",
    "    print(c, len(user_data[c].value_counts()))"
   ]
  },
  {
   "cell_type": "markdown",
   "metadata": {},
   "source": [
    "#### Get unique privileges count for every system "
   ]
  },
  {
   "cell_type": "code",
   "execution_count": 24,
   "metadata": {},
   "outputs": [
    {
     "name": "stdout",
     "output_type": "stream",
     "text": [
      "GOOGLE 1\n",
      "BAMP900 1751\n",
      "BGWP960 71\n",
      "SMP600 22\n",
      "BGRP940 7\n",
      "EMP980 57\n",
      "BMP950 210\n",
      "BCMP970 2\n",
      "IT 1\n"
     ]
    }
   ],
   "source": [
    "for s in user_data.system_name.unique():\n",
    "    print(s, len(user_data[user_data.system_name == s].priv.unique()))"
   ]
  },
  {
   "cell_type": "markdown",
   "metadata": {},
   "source": [
    "#### get how many times system occurs in data"
   ]
  },
  {
   "cell_type": "code",
   "execution_count": 25,
   "metadata": {},
   "outputs": [
    {
     "data": {
      "text/plain": [
       "BGWP960    79886\n",
       "BAMP900    77340\n",
       "SMP600     16348\n",
       "BGRP940    14272\n",
       "EMP980      5542\n",
       "BMP950      3642\n",
       "GOOGLE      2406\n",
       "BCMP970       66\n",
       "IT             9\n",
       "Name: system_name, dtype: int64"
      ]
     },
     "execution_count": 25,
     "metadata": {},
     "output_type": "execute_result"
    }
   ],
   "source": [
    "user_data.system_name.value_counts()"
   ]
  },
  {
   "cell_type": "markdown",
   "metadata": {},
   "source": [
    "We can conclude that BCMP970 and IT systems contains special privileges for just one certain department and job"
   ]
  },
  {
   "cell_type": "markdown",
   "metadata": {},
   "source": [
    "#### get data about privileges. Are there privileges which are the same for various systems"
   ]
  },
  {
   "cell_type": "code",
   "execution_count": 26,
   "metadata": {},
   "outputs": [
    {
     "data": {
      "text/plain": [
       "2049"
      ]
     },
     "execution_count": 26,
     "metadata": {},
     "output_type": "execute_result"
    }
   ],
   "source": [
    "len(user_data.priv.unique())"
   ]
  },
  {
   "cell_type": "markdown",
   "metadata": {},
   "source": [
    "### Prepare data for clustering"
   ]
  },
  {
   "cell_type": "markdown",
   "metadata": {},
   "source": [
    "In simple words we don't need data for job and department to cluster data, because clustering is performed on privileges for all users.\n",
    "\n",
    "So we will create new table with user id - user_id, and all of the privileges as attributes with values of 0 or 1. 0 - don't have that role, 1 - have that role."
   ]
  },
  {
   "cell_type": "code",
   "execution_count": 27,
   "metadata": {},
   "outputs": [],
   "source": [
    "user_privs_data = pd.DataFrame()"
   ]
  },
  {
   "cell_type": "code",
   "execution_count": 28,
   "metadata": {},
   "outputs": [],
   "source": [
    "user_privs_data['user_id'] = user_data.user_id.unique()"
   ]
  },
  {
   "cell_type": "code",
   "execution_count": 29,
   "metadata": {},
   "outputs": [
    {
     "data": {
      "text/html": [
       "<div>\n",
       "<style scoped>\n",
       "    .dataframe tbody tr th:only-of-type {\n",
       "        vertical-align: middle;\n",
       "    }\n",
       "\n",
       "    .dataframe tbody tr th {\n",
       "        vertical-align: top;\n",
       "    }\n",
       "\n",
       "    .dataframe thead th {\n",
       "        text-align: right;\n",
       "    }\n",
       "</style>\n",
       "<table border=\"1\" class=\"dataframe\">\n",
       "  <thead>\n",
       "    <tr style=\"text-align: right;\">\n",
       "      <th></th>\n",
       "      <th>user_id</th>\n",
       "    </tr>\n",
       "  </thead>\n",
       "  <tbody>\n",
       "    <tr>\n",
       "      <th>0</th>\n",
       "      <td>AALISMNA</td>\n",
       "    </tr>\n",
       "    <tr>\n",
       "      <th>1</th>\n",
       "      <td>AAWARE</td>\n",
       "    </tr>\n",
       "    <tr>\n",
       "      <th>2</th>\n",
       "      <td>ABABTAM</td>\n",
       "    </tr>\n",
       "    <tr>\n",
       "      <th>3</th>\n",
       "      <td>ABALAMP</td>\n",
       "    </tr>\n",
       "    <tr>\n",
       "      <th>4</th>\n",
       "      <td>ABASISN</td>\n",
       "    </tr>\n",
       "    <tr>\n",
       "      <th>...</th>\n",
       "      <td>...</td>\n",
       "    </tr>\n",
       "    <tr>\n",
       "      <th>6779</th>\n",
       "      <td>ZULFIQMH</td>\n",
       "    </tr>\n",
       "    <tr>\n",
       "      <th>6780</th>\n",
       "      <td>ZUPINF</td>\n",
       "    </tr>\n",
       "    <tr>\n",
       "      <th>6781</th>\n",
       "      <td>ZURAYQOA</td>\n",
       "    </tr>\n",
       "    <tr>\n",
       "      <th>6782</th>\n",
       "      <td>ZWAWIFM</td>\n",
       "    </tr>\n",
       "    <tr>\n",
       "      <th>6783</th>\n",
       "      <td>ZYBINSA</td>\n",
       "    </tr>\n",
       "  </tbody>\n",
       "</table>\n",
       "<p>6784 rows × 1 columns</p>\n",
       "</div>"
      ],
      "text/plain": [
       "       user_id\n",
       "0     AALISMNA\n",
       "1       AAWARE\n",
       "2      ABABTAM\n",
       "3      ABALAMP\n",
       "4      ABASISN\n",
       "...        ...\n",
       "6779  ZULFIQMH\n",
       "6780    ZUPINF\n",
       "6781  ZURAYQOA\n",
       "6782   ZWAWIFM\n",
       "6783   ZYBINSA\n",
       "\n",
       "[6784 rows x 1 columns]"
      ]
     },
     "execution_count": 29,
     "metadata": {},
     "output_type": "execute_result"
    }
   ],
   "source": [
    "user_privs_data"
   ]
  },
  {
   "cell_type": "markdown",
   "metadata": {},
   "source": [
    "Create all privileges(categorical data) compatabel for clustering by transforming all privs into numerical data."
   ]
  },
  {
   "cell_type": "code",
   "execution_count": 30,
   "metadata": {},
   "outputs": [],
   "source": [
    "#priv_dummies = pd.DataFrame()"
   ]
  },
  {
   "cell_type": "code",
   "execution_count": 31,
   "metadata": {},
   "outputs": [],
   "source": [
    "#priv_dummies['user_id'] = user_data.user_id"
   ]
  },
  {
   "cell_type": "code",
   "execution_count": 32,
   "metadata": {},
   "outputs": [],
   "source": [
    "#priv_dummies = pd.concat([priv_dummies,pd.get_dummies(user_data.priv)], axis=1)"
   ]
  },
  {
   "cell_type": "code",
   "execution_count": 33,
   "metadata": {},
   "outputs": [],
   "source": [
    "#priv_dummies.groupby('user_id').sum()"
   ]
  },
  {
   "cell_type": "markdown",
   "metadata": {},
   "source": [
    "After that a problem occurs. The shape of dummies is (199511 × 2049) but our data for clustering - user_privs_data is with shape (6784 x 1)"
   ]
  },
  {
   "cell_type": "code",
   "execution_count": 34,
   "metadata": {},
   "outputs": [
    {
     "ename": "NameError",
     "evalue": "name 'priv' is not defined",
     "output_type": "error",
     "traceback": [
      "\u001b[0;31m---------------------------------------------------------------------------\u001b[0m",
      "\u001b[0;31mNameError\u001b[0m                                 Traceback (most recent call last)",
      "\u001b[0;32m<ipython-input-34-3edcbd227114>\u001b[0m in \u001b[0;36m<module>\u001b[0;34m\u001b[0m\n\u001b[0;32m----> 1\u001b[0;31m \u001b[0mpriv\u001b[0m\u001b[0;34m\u001b[0m\u001b[0;34m\u001b[0m\u001b[0m\n\u001b[0m",
      "\u001b[0;31mNameError\u001b[0m: name 'priv' is not defined"
     ]
    }
   ],
   "source": [
    "user_privs_data.reset_index()"
   ]
  },
  {
   "cell_type": "code",
   "execution_count": null,
   "metadata": {},
   "outputs": [],
   "source": []
  },
  {
   "cell_type": "code",
   "execution_count": null,
   "metadata": {},
   "outputs": [],
   "source": []
  }
 ],
 "metadata": {
  "kernelspec": {
   "display_name": "Python 3",
   "language": "python",
   "name": "python3"
  },
  "language_info": {
   "codemirror_mode": {
    "name": "ipython",
    "version": 3
   },
   "file_extension": ".py",
   "mimetype": "text/x-python",
   "name": "python",
   "nbconvert_exporter": "python",
   "pygments_lexer": "ipython3",
   "version": "3.8.5"
  }
 },
 "nbformat": 4,
 "nbformat_minor": 4
}
