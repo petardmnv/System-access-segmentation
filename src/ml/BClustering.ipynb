{
 "cells": [
  {
   "cell_type": "markdown",
   "metadata": {},
   "source": [
    "# System for access segmentation"
   ]
  },
  {
   "cell_type": "markdown",
   "metadata": {},
   "source": [
    "##### imports"
   ]
  },
  {
   "cell_type": "code",
   "execution_count": 1,
   "metadata": {},
   "outputs": [],
   "source": [
    "import numpy as np\n",
    "import pandas as pd\n",
    "import os"
   ]
  },
  {
   "cell_type": "markdown",
   "metadata": {},
   "source": [
    "#### Get data from results/data folder"
   ]
  },
  {
   "cell_type": "code",
   "execution_count": 2,
   "metadata": {},
   "outputs": [],
   "source": [
    "data = pd.data = pd.read_excel(\"../server/public/data/User-624921c5e1c4d602ddd19695-1649042286214.xlsx\", skiprows=1)"
   ]
  },
  {
   "cell_type": "code",
   "execution_count": 3,
   "metadata": {},
   "outputs": [
    {
     "data": {
      "text/html": [
       "<div>\n",
       "<style scoped>\n",
       "    .dataframe tbody tr th:only-of-type {\n",
       "        vertical-align: middle;\n",
       "    }\n",
       "\n",
       "    .dataframe tbody tr th {\n",
       "        vertical-align: top;\n",
       "    }\n",
       "\n",
       "    .dataframe thead th {\n",
       "        text-align: right;\n",
       "    }\n",
       "</style>\n",
       "<table border=\"1\" class=\"dataframe\">\n",
       "  <thead>\n",
       "    <tr style=\"text-align: right;\">\n",
       "      <th></th>\n",
       "      <th>user_id</th>\n",
       "      <th>position</th>\n",
       "      <th>org_structure</th>\n",
       "      <th>access_name</th>\n",
       "    </tr>\n",
       "  </thead>\n",
       "  <tbody>\n",
       "    <tr>\n",
       "      <th>0</th>\n",
       "      <td>AALISMNA</td>\n",
       "      <td>POSTDOCTORAL FELLOW</td>\n",
       "      <td>BIOLOGICAL, ENVIRONMENTAL SCIENCE &amp; ENG</td>\n",
       "      <td>PRIV:ROLE:GOOGLE:ACCOUNT</td>\n",
       "    </tr>\n",
       "    <tr>\n",
       "      <th>1</th>\n",
       "      <td>AALISMNA</td>\n",
       "      <td>POSTDOCTORAL FELLOW</td>\n",
       "      <td>BIOLOGICAL, ENVIRONMENTAL SCIENCE &amp; ENG</td>\n",
       "      <td>PRIV:ROLE:BAMP900:PB:USER</td>\n",
       "    </tr>\n",
       "    <tr>\n",
       "      <th>2</th>\n",
       "      <td>AALISMNA</td>\n",
       "      <td>POSTDOCTORAL FELLOW</td>\n",
       "      <td>BIOLOGICAL, ENVIRONMENTAL SCIENCE &amp; ENG</td>\n",
       "      <td>PRIV:ROLE:BAMP900:RMS:HR_USER</td>\n",
       "    </tr>\n",
       "    <tr>\n",
       "      <th>3</th>\n",
       "      <td>AALISMNA</td>\n",
       "      <td>POSTDOCTORAL FELLOW</td>\n",
       "      <td>BIOLOGICAL, ENVIRONMENTAL SCIENCE &amp; ENG</td>\n",
       "      <td>PRIV:ROLE:BGWP960:PB:FIORI_FLP</td>\n",
       "    </tr>\n",
       "    <tr>\n",
       "      <th>4</th>\n",
       "      <td>AALISMNA</td>\n",
       "      <td>POSTDOCTORAL FELLOW</td>\n",
       "      <td>BIOLOGICAL, ENVIRONMENTAL SCIENCE &amp; ENG</td>\n",
       "      <td>PRIV:ROLE:BAMP900:FI:TV:TRAVELER</td>\n",
       "    </tr>\n",
       "    <tr>\n",
       "      <th>...</th>\n",
       "      <td>...</td>\n",
       "      <td>...</td>\n",
       "      <td>...</td>\n",
       "      <td>...</td>\n",
       "    </tr>\n",
       "    <tr>\n",
       "      <th>199530</th>\n",
       "      <td>ZYBINSA</td>\n",
       "      <td>SENIOR TECHNICAL SPECIALIST</td>\n",
       "      <td>INORGANICS</td>\n",
       "      <td>PRIV:ROLE:BAMP900:HR:ESS:CLAIMS_REIMBURSEMENT</td>\n",
       "    </tr>\n",
       "    <tr>\n",
       "      <th>199531</th>\n",
       "      <td>ZYBINSA</td>\n",
       "      <td>SENIOR TECHNICAL SPECIALIST</td>\n",
       "      <td>INORGANICS</td>\n",
       "      <td>PRIV:ROLE:BGWP960:IT:GW:PASSWORD_SELF_SERVICE</td>\n",
       "    </tr>\n",
       "    <tr>\n",
       "      <th>199532</th>\n",
       "      <td>ZYBINSA</td>\n",
       "      <td>SENIOR TECHNICAL SPECIALIST</td>\n",
       "      <td>INORGANICS</td>\n",
       "      <td>PRIV:ROLE:BAMP900:IT:BUSINESS_JOB_RELEASE_ACCESS</td>\n",
       "    </tr>\n",
       "    <tr>\n",
       "      <th>199533</th>\n",
       "      <td>ZYBINSA</td>\n",
       "      <td>SENIOR TECHNICAL SPECIALIST</td>\n",
       "      <td>INORGANICS</td>\n",
       "      <td>PRIV:ROLE:BGWP960:KS:KITS_CONFERENC_ROOM_BOOKING</td>\n",
       "    </tr>\n",
       "    <tr>\n",
       "      <th>199534</th>\n",
       "      <td>ZYBINSA</td>\n",
       "      <td>SENIOR TECHNICAL SPECIALIST</td>\n",
       "      <td>INORGANICS</td>\n",
       "      <td>PRIV:ROLE:BGWP960:KS:KITS_EMPLOYEE_EQUIPMENT_GRP</td>\n",
       "    </tr>\n",
       "  </tbody>\n",
       "</table>\n",
       "<p>199535 rows × 4 columns</p>\n",
       "</div>"
      ],
      "text/plain": [
       "         user_id                     position  \\\n",
       "0       AALISMNA          POSTDOCTORAL FELLOW   \n",
       "1       AALISMNA          POSTDOCTORAL FELLOW   \n",
       "2       AALISMNA          POSTDOCTORAL FELLOW   \n",
       "3       AALISMNA          POSTDOCTORAL FELLOW   \n",
       "4       AALISMNA          POSTDOCTORAL FELLOW   \n",
       "...          ...                          ...   \n",
       "199530   ZYBINSA  SENIOR TECHNICAL SPECIALIST   \n",
       "199531   ZYBINSA  SENIOR TECHNICAL SPECIALIST   \n",
       "199532   ZYBINSA  SENIOR TECHNICAL SPECIALIST   \n",
       "199533   ZYBINSA  SENIOR TECHNICAL SPECIALIST   \n",
       "199534   ZYBINSA  SENIOR TECHNICAL SPECIALIST   \n",
       "\n",
       "                                  org_structure  \\\n",
       "0       BIOLOGICAL, ENVIRONMENTAL SCIENCE & ENG   \n",
       "1       BIOLOGICAL, ENVIRONMENTAL SCIENCE & ENG   \n",
       "2       BIOLOGICAL, ENVIRONMENTAL SCIENCE & ENG   \n",
       "3       BIOLOGICAL, ENVIRONMENTAL SCIENCE & ENG   \n",
       "4       BIOLOGICAL, ENVIRONMENTAL SCIENCE & ENG   \n",
       "...                                         ...   \n",
       "199530                               INORGANICS   \n",
       "199531                               INORGANICS   \n",
       "199532                               INORGANICS   \n",
       "199533                               INORGANICS   \n",
       "199534                               INORGANICS   \n",
       "\n",
       "                                             access_name  \n",
       "0                               PRIV:ROLE:GOOGLE:ACCOUNT  \n",
       "1                              PRIV:ROLE:BAMP900:PB:USER  \n",
       "2                          PRIV:ROLE:BAMP900:RMS:HR_USER  \n",
       "3                         PRIV:ROLE:BGWP960:PB:FIORI_FLP  \n",
       "4                       PRIV:ROLE:BAMP900:FI:TV:TRAVELER  \n",
       "...                                                  ...  \n",
       "199530     PRIV:ROLE:BAMP900:HR:ESS:CLAIMS_REIMBURSEMENT  \n",
       "199531     PRIV:ROLE:BGWP960:IT:GW:PASSWORD_SELF_SERVICE  \n",
       "199532  PRIV:ROLE:BAMP900:IT:BUSINESS_JOB_RELEASE_ACCESS  \n",
       "199533  PRIV:ROLE:BGWP960:KS:KITS_CONFERENC_ROOM_BOOKING  \n",
       "199534  PRIV:ROLE:BGWP960:KS:KITS_EMPLOYEE_EQUIPMENT_GRP  \n",
       "\n",
       "[199535 rows x 4 columns]"
      ]
     },
     "execution_count": 3,
     "metadata": {},
     "output_type": "execute_result"
    }
   ],
   "source": [
    "data"
   ]
  },
  {
   "cell_type": "code",
   "execution_count": 4,
   "metadata": {},
   "outputs": [],
   "source": [
    "data.columns = [\"user_id\", \"job\", \"department\", \"privileges_data\"]"
   ]
  },
  {
   "cell_type": "code",
   "execution_count": 5,
   "metadata": {},
   "outputs": [],
   "source": [
    "data = data.dropna()"
   ]
  },
  {
   "cell_type": "code",
   "execution_count": 6,
   "metadata": {},
   "outputs": [
    {
     "data": {
      "text/html": [
       "<div>\n",
       "<style scoped>\n",
       "    .dataframe tbody tr th:only-of-type {\n",
       "        vertical-align: middle;\n",
       "    }\n",
       "\n",
       "    .dataframe tbody tr th {\n",
       "        vertical-align: top;\n",
       "    }\n",
       "\n",
       "    .dataframe thead th {\n",
       "        text-align: right;\n",
       "    }\n",
       "</style>\n",
       "<table border=\"1\" class=\"dataframe\">\n",
       "  <thead>\n",
       "    <tr style=\"text-align: right;\">\n",
       "      <th></th>\n",
       "      <th>user_id</th>\n",
       "      <th>job</th>\n",
       "      <th>department</th>\n",
       "      <th>privileges_data</th>\n",
       "    </tr>\n",
       "  </thead>\n",
       "  <tbody>\n",
       "    <tr>\n",
       "      <th>0</th>\n",
       "      <td>AALISMNA</td>\n",
       "      <td>POSTDOCTORAL FELLOW</td>\n",
       "      <td>BIOLOGICAL, ENVIRONMENTAL SCIENCE &amp; ENG</td>\n",
       "      <td>PRIV:ROLE:GOOGLE:ACCOUNT</td>\n",
       "    </tr>\n",
       "    <tr>\n",
       "      <th>1</th>\n",
       "      <td>AALISMNA</td>\n",
       "      <td>POSTDOCTORAL FELLOW</td>\n",
       "      <td>BIOLOGICAL, ENVIRONMENTAL SCIENCE &amp; ENG</td>\n",
       "      <td>PRIV:ROLE:BAMP900:PB:USER</td>\n",
       "    </tr>\n",
       "    <tr>\n",
       "      <th>2</th>\n",
       "      <td>AALISMNA</td>\n",
       "      <td>POSTDOCTORAL FELLOW</td>\n",
       "      <td>BIOLOGICAL, ENVIRONMENTAL SCIENCE &amp; ENG</td>\n",
       "      <td>PRIV:ROLE:BAMP900:RMS:HR_USER</td>\n",
       "    </tr>\n",
       "    <tr>\n",
       "      <th>3</th>\n",
       "      <td>AALISMNA</td>\n",
       "      <td>POSTDOCTORAL FELLOW</td>\n",
       "      <td>BIOLOGICAL, ENVIRONMENTAL SCIENCE &amp; ENG</td>\n",
       "      <td>PRIV:ROLE:BGWP960:PB:FIORI_FLP</td>\n",
       "    </tr>\n",
       "    <tr>\n",
       "      <th>4</th>\n",
       "      <td>AALISMNA</td>\n",
       "      <td>POSTDOCTORAL FELLOW</td>\n",
       "      <td>BIOLOGICAL, ENVIRONMENTAL SCIENCE &amp; ENG</td>\n",
       "      <td>PRIV:ROLE:BAMP900:FI:TV:TRAVELER</td>\n",
       "    </tr>\n",
       "    <tr>\n",
       "      <th>...</th>\n",
       "      <td>...</td>\n",
       "      <td>...</td>\n",
       "      <td>...</td>\n",
       "      <td>...</td>\n",
       "    </tr>\n",
       "    <tr>\n",
       "      <th>199530</th>\n",
       "      <td>ZYBINSA</td>\n",
       "      <td>SENIOR TECHNICAL SPECIALIST</td>\n",
       "      <td>INORGANICS</td>\n",
       "      <td>PRIV:ROLE:BAMP900:HR:ESS:CLAIMS_REIMBURSEMENT</td>\n",
       "    </tr>\n",
       "    <tr>\n",
       "      <th>199531</th>\n",
       "      <td>ZYBINSA</td>\n",
       "      <td>SENIOR TECHNICAL SPECIALIST</td>\n",
       "      <td>INORGANICS</td>\n",
       "      <td>PRIV:ROLE:BGWP960:IT:GW:PASSWORD_SELF_SERVICE</td>\n",
       "    </tr>\n",
       "    <tr>\n",
       "      <th>199532</th>\n",
       "      <td>ZYBINSA</td>\n",
       "      <td>SENIOR TECHNICAL SPECIALIST</td>\n",
       "      <td>INORGANICS</td>\n",
       "      <td>PRIV:ROLE:BAMP900:IT:BUSINESS_JOB_RELEASE_ACCESS</td>\n",
       "    </tr>\n",
       "    <tr>\n",
       "      <th>199533</th>\n",
       "      <td>ZYBINSA</td>\n",
       "      <td>SENIOR TECHNICAL SPECIALIST</td>\n",
       "      <td>INORGANICS</td>\n",
       "      <td>PRIV:ROLE:BGWP960:KS:KITS_CONFERENC_ROOM_BOOKING</td>\n",
       "    </tr>\n",
       "    <tr>\n",
       "      <th>199534</th>\n",
       "      <td>ZYBINSA</td>\n",
       "      <td>SENIOR TECHNICAL SPECIALIST</td>\n",
       "      <td>INORGANICS</td>\n",
       "      <td>PRIV:ROLE:BGWP960:KS:KITS_EMPLOYEE_EQUIPMENT_GRP</td>\n",
       "    </tr>\n",
       "  </tbody>\n",
       "</table>\n",
       "<p>199511 rows × 4 columns</p>\n",
       "</div>"
      ],
      "text/plain": [
       "         user_id                          job  \\\n",
       "0       AALISMNA          POSTDOCTORAL FELLOW   \n",
       "1       AALISMNA          POSTDOCTORAL FELLOW   \n",
       "2       AALISMNA          POSTDOCTORAL FELLOW   \n",
       "3       AALISMNA          POSTDOCTORAL FELLOW   \n",
       "4       AALISMNA          POSTDOCTORAL FELLOW   \n",
       "...          ...                          ...   \n",
       "199530   ZYBINSA  SENIOR TECHNICAL SPECIALIST   \n",
       "199531   ZYBINSA  SENIOR TECHNICAL SPECIALIST   \n",
       "199532   ZYBINSA  SENIOR TECHNICAL SPECIALIST   \n",
       "199533   ZYBINSA  SENIOR TECHNICAL SPECIALIST   \n",
       "199534   ZYBINSA  SENIOR TECHNICAL SPECIALIST   \n",
       "\n",
       "                                     department  \\\n",
       "0       BIOLOGICAL, ENVIRONMENTAL SCIENCE & ENG   \n",
       "1       BIOLOGICAL, ENVIRONMENTAL SCIENCE & ENG   \n",
       "2       BIOLOGICAL, ENVIRONMENTAL SCIENCE & ENG   \n",
       "3       BIOLOGICAL, ENVIRONMENTAL SCIENCE & ENG   \n",
       "4       BIOLOGICAL, ENVIRONMENTAL SCIENCE & ENG   \n",
       "...                                         ...   \n",
       "199530                               INORGANICS   \n",
       "199531                               INORGANICS   \n",
       "199532                               INORGANICS   \n",
       "199533                               INORGANICS   \n",
       "199534                               INORGANICS   \n",
       "\n",
       "                                         privileges_data  \n",
       "0                               PRIV:ROLE:GOOGLE:ACCOUNT  \n",
       "1                              PRIV:ROLE:BAMP900:PB:USER  \n",
       "2                          PRIV:ROLE:BAMP900:RMS:HR_USER  \n",
       "3                         PRIV:ROLE:BGWP960:PB:FIORI_FLP  \n",
       "4                       PRIV:ROLE:BAMP900:FI:TV:TRAVELER  \n",
       "...                                                  ...  \n",
       "199530     PRIV:ROLE:BAMP900:HR:ESS:CLAIMS_REIMBURSEMENT  \n",
       "199531     PRIV:ROLE:BGWP960:IT:GW:PASSWORD_SELF_SERVICE  \n",
       "199532  PRIV:ROLE:BAMP900:IT:BUSINESS_JOB_RELEASE_ACCESS  \n",
       "199533  PRIV:ROLE:BGWP960:KS:KITS_CONFERENC_ROOM_BOOKING  \n",
       "199534  PRIV:ROLE:BGWP960:KS:KITS_EMPLOYEE_EQUIPMENT_GRP  \n",
       "\n",
       "[199511 rows x 4 columns]"
      ]
     },
     "execution_count": 6,
     "metadata": {},
     "output_type": "execute_result"
    }
   ],
   "source": [
    "data"
   ]
  },
  {
   "cell_type": "code",
   "execution_count": 7,
   "metadata": {},
   "outputs": [],
   "source": [
    "user_data = data.drop(\"privileges_data\", axis=1)"
   ]
  },
  {
   "cell_type": "code",
   "execution_count": 8,
   "metadata": {},
   "outputs": [
    {
     "data": {
      "text/html": [
       "<div>\n",
       "<style scoped>\n",
       "    .dataframe tbody tr th:only-of-type {\n",
       "        vertical-align: middle;\n",
       "    }\n",
       "\n",
       "    .dataframe tbody tr th {\n",
       "        vertical-align: top;\n",
       "    }\n",
       "\n",
       "    .dataframe thead th {\n",
       "        text-align: right;\n",
       "    }\n",
       "</style>\n",
       "<table border=\"1\" class=\"dataframe\">\n",
       "  <thead>\n",
       "    <tr style=\"text-align: right;\">\n",
       "      <th></th>\n",
       "      <th>user_id</th>\n",
       "      <th>job</th>\n",
       "      <th>department</th>\n",
       "    </tr>\n",
       "  </thead>\n",
       "  <tbody>\n",
       "    <tr>\n",
       "      <th>0</th>\n",
       "      <td>AALISMNA</td>\n",
       "      <td>POSTDOCTORAL FELLOW</td>\n",
       "      <td>BIOLOGICAL, ENVIRONMENTAL SCIENCE &amp; ENG</td>\n",
       "    </tr>\n",
       "    <tr>\n",
       "      <th>1</th>\n",
       "      <td>AALISMNA</td>\n",
       "      <td>POSTDOCTORAL FELLOW</td>\n",
       "      <td>BIOLOGICAL, ENVIRONMENTAL SCIENCE &amp; ENG</td>\n",
       "    </tr>\n",
       "    <tr>\n",
       "      <th>2</th>\n",
       "      <td>AALISMNA</td>\n",
       "      <td>POSTDOCTORAL FELLOW</td>\n",
       "      <td>BIOLOGICAL, ENVIRONMENTAL SCIENCE &amp; ENG</td>\n",
       "    </tr>\n",
       "    <tr>\n",
       "      <th>3</th>\n",
       "      <td>AALISMNA</td>\n",
       "      <td>POSTDOCTORAL FELLOW</td>\n",
       "      <td>BIOLOGICAL, ENVIRONMENTAL SCIENCE &amp; ENG</td>\n",
       "    </tr>\n",
       "    <tr>\n",
       "      <th>4</th>\n",
       "      <td>AALISMNA</td>\n",
       "      <td>POSTDOCTORAL FELLOW</td>\n",
       "      <td>BIOLOGICAL, ENVIRONMENTAL SCIENCE &amp; ENG</td>\n",
       "    </tr>\n",
       "    <tr>\n",
       "      <th>...</th>\n",
       "      <td>...</td>\n",
       "      <td>...</td>\n",
       "      <td>...</td>\n",
       "    </tr>\n",
       "    <tr>\n",
       "      <th>199530</th>\n",
       "      <td>ZYBINSA</td>\n",
       "      <td>SENIOR TECHNICAL SPECIALIST</td>\n",
       "      <td>INORGANICS</td>\n",
       "    </tr>\n",
       "    <tr>\n",
       "      <th>199531</th>\n",
       "      <td>ZYBINSA</td>\n",
       "      <td>SENIOR TECHNICAL SPECIALIST</td>\n",
       "      <td>INORGANICS</td>\n",
       "    </tr>\n",
       "    <tr>\n",
       "      <th>199532</th>\n",
       "      <td>ZYBINSA</td>\n",
       "      <td>SENIOR TECHNICAL SPECIALIST</td>\n",
       "      <td>INORGANICS</td>\n",
       "    </tr>\n",
       "    <tr>\n",
       "      <th>199533</th>\n",
       "      <td>ZYBINSA</td>\n",
       "      <td>SENIOR TECHNICAL SPECIALIST</td>\n",
       "      <td>INORGANICS</td>\n",
       "    </tr>\n",
       "    <tr>\n",
       "      <th>199534</th>\n",
       "      <td>ZYBINSA</td>\n",
       "      <td>SENIOR TECHNICAL SPECIALIST</td>\n",
       "      <td>INORGANICS</td>\n",
       "    </tr>\n",
       "  </tbody>\n",
       "</table>\n",
       "<p>199511 rows × 3 columns</p>\n",
       "</div>"
      ],
      "text/plain": [
       "         user_id                          job  \\\n",
       "0       AALISMNA          POSTDOCTORAL FELLOW   \n",
       "1       AALISMNA          POSTDOCTORAL FELLOW   \n",
       "2       AALISMNA          POSTDOCTORAL FELLOW   \n",
       "3       AALISMNA          POSTDOCTORAL FELLOW   \n",
       "4       AALISMNA          POSTDOCTORAL FELLOW   \n",
       "...          ...                          ...   \n",
       "199530   ZYBINSA  SENIOR TECHNICAL SPECIALIST   \n",
       "199531   ZYBINSA  SENIOR TECHNICAL SPECIALIST   \n",
       "199532   ZYBINSA  SENIOR TECHNICAL SPECIALIST   \n",
       "199533   ZYBINSA  SENIOR TECHNICAL SPECIALIST   \n",
       "199534   ZYBINSA  SENIOR TECHNICAL SPECIALIST   \n",
       "\n",
       "                                     department  \n",
       "0       BIOLOGICAL, ENVIRONMENTAL SCIENCE & ENG  \n",
       "1       BIOLOGICAL, ENVIRONMENTAL SCIENCE & ENG  \n",
       "2       BIOLOGICAL, ENVIRONMENTAL SCIENCE & ENG  \n",
       "3       BIOLOGICAL, ENVIRONMENTAL SCIENCE & ENG  \n",
       "4       BIOLOGICAL, ENVIRONMENTAL SCIENCE & ENG  \n",
       "...                                         ...  \n",
       "199530                               INORGANICS  \n",
       "199531                               INORGANICS  \n",
       "199532                               INORGANICS  \n",
       "199533                               INORGANICS  \n",
       "199534                               INORGANICS  \n",
       "\n",
       "[199511 rows x 3 columns]"
      ]
     },
     "execution_count": 8,
     "metadata": {},
     "output_type": "execute_result"
    }
   ],
   "source": [
    "user_data"
   ]
  },
  {
   "cell_type": "code",
   "execution_count": 9,
   "metadata": {},
   "outputs": [],
   "source": [
    "privileges_data = pd.DataFrame(data[\"privileges_data\"])"
   ]
  },
  {
   "cell_type": "code",
   "execution_count": 10,
   "metadata": {},
   "outputs": [],
   "source": [
    "privileges_data.privileges_data = privileges_data[\"privileges_data\"].str[9:]"
   ]
  },
  {
   "cell_type": "code",
   "execution_count": 11,
   "metadata": {},
   "outputs": [
    {
     "data": {
      "text/html": [
       "<div>\n",
       "<style scoped>\n",
       "    .dataframe tbody tr th:only-of-type {\n",
       "        vertical-align: middle;\n",
       "    }\n",
       "\n",
       "    .dataframe tbody tr th {\n",
       "        vertical-align: top;\n",
       "    }\n",
       "\n",
       "    .dataframe thead th {\n",
       "        text-align: right;\n",
       "    }\n",
       "</style>\n",
       "<table border=\"1\" class=\"dataframe\">\n",
       "  <thead>\n",
       "    <tr style=\"text-align: right;\">\n",
       "      <th></th>\n",
       "      <th>privileges_data</th>\n",
       "    </tr>\n",
       "  </thead>\n",
       "  <tbody>\n",
       "    <tr>\n",
       "      <th>0</th>\n",
       "      <td>:GOOGLE:ACCOUNT</td>\n",
       "    </tr>\n",
       "    <tr>\n",
       "      <th>1</th>\n",
       "      <td>:BAMP900:PB:USER</td>\n",
       "    </tr>\n",
       "    <tr>\n",
       "      <th>2</th>\n",
       "      <td>:BAMP900:RMS:HR_USER</td>\n",
       "    </tr>\n",
       "    <tr>\n",
       "      <th>3</th>\n",
       "      <td>:BGWP960:PB:FIORI_FLP</td>\n",
       "    </tr>\n",
       "    <tr>\n",
       "      <th>4</th>\n",
       "      <td>:BAMP900:FI:TV:TRAVELER</td>\n",
       "    </tr>\n",
       "    <tr>\n",
       "      <th>...</th>\n",
       "      <td>...</td>\n",
       "    </tr>\n",
       "    <tr>\n",
       "      <th>199530</th>\n",
       "      <td>:BAMP900:HR:ESS:CLAIMS_REIMBURSEMENT</td>\n",
       "    </tr>\n",
       "    <tr>\n",
       "      <th>199531</th>\n",
       "      <td>:BGWP960:IT:GW:PASSWORD_SELF_SERVICE</td>\n",
       "    </tr>\n",
       "    <tr>\n",
       "      <th>199532</th>\n",
       "      <td>:BAMP900:IT:BUSINESS_JOB_RELEASE_ACCESS</td>\n",
       "    </tr>\n",
       "    <tr>\n",
       "      <th>199533</th>\n",
       "      <td>:BGWP960:KS:KITS_CONFERENC_ROOM_BOOKING</td>\n",
       "    </tr>\n",
       "    <tr>\n",
       "      <th>199534</th>\n",
       "      <td>:BGWP960:KS:KITS_EMPLOYEE_EQUIPMENT_GRP</td>\n",
       "    </tr>\n",
       "  </tbody>\n",
       "</table>\n",
       "<p>199511 rows × 1 columns</p>\n",
       "</div>"
      ],
      "text/plain": [
       "                                privileges_data\n",
       "0                               :GOOGLE:ACCOUNT\n",
       "1                              :BAMP900:PB:USER\n",
       "2                          :BAMP900:RMS:HR_USER\n",
       "3                         :BGWP960:PB:FIORI_FLP\n",
       "4                       :BAMP900:FI:TV:TRAVELER\n",
       "...                                         ...\n",
       "199530     :BAMP900:HR:ESS:CLAIMS_REIMBURSEMENT\n",
       "199531     :BGWP960:IT:GW:PASSWORD_SELF_SERVICE\n",
       "199532  :BAMP900:IT:BUSINESS_JOB_RELEASE_ACCESS\n",
       "199533  :BGWP960:KS:KITS_CONFERENC_ROOM_BOOKING\n",
       "199534  :BGWP960:KS:KITS_EMPLOYEE_EQUIPMENT_GRP\n",
       "\n",
       "[199511 rows x 1 columns]"
      ]
     },
     "execution_count": 11,
     "metadata": {},
     "output_type": "execute_result"
    }
   ],
   "source": [
    "privileges_data"
   ]
  },
  {
   "cell_type": "code",
   "execution_count": 12,
   "metadata": {},
   "outputs": [
    {
     "ename": "KeyboardInterrupt",
     "evalue": "",
     "output_type": "error",
     "traceback": [
      "\u001b[0;31m---------------------------------------------------------------------------\u001b[0m",
      "\u001b[0;31mKeyboardInterrupt\u001b[0m                         Traceback (most recent call last)",
      "\u001b[0;32m<ipython-input-12-fe880c39b76c>\u001b[0m in \u001b[0;36m<module>\u001b[0;34m\u001b[0m\n\u001b[1;32m      1\u001b[0m \u001b[0mprivileges_table\u001b[0m \u001b[0;34m=\u001b[0m \u001b[0mpd\u001b[0m\u001b[0;34m.\u001b[0m\u001b[0mDataFrame\u001b[0m\u001b[0;34m(\u001b[0m\u001b[0mcolumns\u001b[0m\u001b[0;34m=\u001b[0m\u001b[0;34m[\u001b[0m\u001b[0;34m'role'\u001b[0m\u001b[0;34m,\u001b[0m \u001b[0;34m'privilege'\u001b[0m\u001b[0;34m]\u001b[0m\u001b[0;34m)\u001b[0m\u001b[0;34m\u001b[0m\u001b[0;34m\u001b[0m\u001b[0m\n\u001b[1;32m      2\u001b[0m \u001b[0;32mfor\u001b[0m \u001b[0mi\u001b[0m \u001b[0;32min\u001b[0m \u001b[0mprivileges_data\u001b[0m\u001b[0;34m[\u001b[0m\u001b[0;34m\"privileges_data\"\u001b[0m\u001b[0;34m]\u001b[0m\u001b[0;34m.\u001b[0m\u001b[0mstr\u001b[0m\u001b[0;34m.\u001b[0m\u001b[0msplit\u001b[0m\u001b[0;34m(\u001b[0m\u001b[0;34m\":\"\u001b[0m\u001b[0;34m,\u001b[0m \u001b[0;36m2\u001b[0m\u001b[0;34m)\u001b[0m\u001b[0;34m[\u001b[0m\u001b[0;34m:\u001b[0m\u001b[0;34m]\u001b[0m\u001b[0;34m.\u001b[0m\u001b[0mvalues\u001b[0m\u001b[0;34m:\u001b[0m\u001b[0;34m\u001b[0m\u001b[0;34m\u001b[0m\u001b[0m\n\u001b[0;32m----> 3\u001b[0;31m     \u001b[0mprivileges_table\u001b[0m \u001b[0;34m=\u001b[0m \u001b[0mprivileges_table\u001b[0m\u001b[0;34m.\u001b[0m\u001b[0mappend\u001b[0m\u001b[0;34m(\u001b[0m\u001b[0;34m{\u001b[0m\u001b[0;34m'role'\u001b[0m\u001b[0;34m:\u001b[0m \u001b[0mi\u001b[0m\u001b[0;34m[\u001b[0m\u001b[0;36m1\u001b[0m\u001b[0;34m]\u001b[0m\u001b[0;34m,\u001b[0m \u001b[0;34m'privilege'\u001b[0m\u001b[0;34m:\u001b[0m \u001b[0mi\u001b[0m\u001b[0;34m[\u001b[0m\u001b[0;36m2\u001b[0m\u001b[0;34m]\u001b[0m\u001b[0;34m}\u001b[0m\u001b[0;34m,\u001b[0m \u001b[0mignore_index\u001b[0m\u001b[0;34m=\u001b[0m\u001b[0;32mTrue\u001b[0m\u001b[0;34m)\u001b[0m\u001b[0;34m\u001b[0m\u001b[0;34m\u001b[0m\u001b[0m\n\u001b[0m",
      "\u001b[0;32m~/anaconda3/lib/python3.8/site-packages/pandas/core/frame.py\u001b[0m in \u001b[0;36mappend\u001b[0;34m(self, other, ignore_index, verify_integrity, sort)\u001b[0m\n\u001b[1;32m   7720\u001b[0m                 \u001b[0mcombined_columns\u001b[0m \u001b[0;34m=\u001b[0m \u001b[0mself\u001b[0m\u001b[0;34m.\u001b[0m\u001b[0mcolumns\u001b[0m\u001b[0;34m.\u001b[0m\u001b[0mastype\u001b[0m\u001b[0;34m(\u001b[0m\u001b[0mobject\u001b[0m\u001b[0;34m)\u001b[0m\u001b[0;34m.\u001b[0m\u001b[0mappend\u001b[0m\u001b[0;34m(\u001b[0m\u001b[0midx_diff\u001b[0m\u001b[0;34m)\u001b[0m\u001b[0;34m\u001b[0m\u001b[0;34m\u001b[0m\u001b[0m\n\u001b[1;32m   7721\u001b[0m             other = (\n\u001b[0;32m-> 7722\u001b[0;31m                 \u001b[0mother\u001b[0m\u001b[0;34m.\u001b[0m\u001b[0mreindex\u001b[0m\u001b[0;34m(\u001b[0m\u001b[0mcombined_columns\u001b[0m\u001b[0;34m,\u001b[0m \u001b[0mcopy\u001b[0m\u001b[0;34m=\u001b[0m\u001b[0;32mFalse\u001b[0m\u001b[0;34m)\u001b[0m\u001b[0;34m\u001b[0m\u001b[0;34m\u001b[0m\u001b[0m\n\u001b[0m\u001b[1;32m   7723\u001b[0m                 \u001b[0;34m.\u001b[0m\u001b[0mto_frame\u001b[0m\u001b[0;34m(\u001b[0m\u001b[0;34m)\u001b[0m\u001b[0;34m\u001b[0m\u001b[0;34m\u001b[0m\u001b[0m\n\u001b[1;32m   7724\u001b[0m                 \u001b[0;34m.\u001b[0m\u001b[0mT\u001b[0m\u001b[0;34m.\u001b[0m\u001b[0minfer_objects\u001b[0m\u001b[0;34m(\u001b[0m\u001b[0;34m)\u001b[0m\u001b[0;34m\u001b[0m\u001b[0;34m\u001b[0m\u001b[0m\n",
      "\u001b[0;32m~/anaconda3/lib/python3.8/site-packages/pandas/core/generic.py\u001b[0m in \u001b[0;36minfer_objects\u001b[0;34m(self)\u001b[0m\n\u001b[1;32m   5760\u001b[0m         \u001b[0;31m# native numpy numeric types\u001b[0m\u001b[0;34m\u001b[0m\u001b[0;34m\u001b[0m\u001b[0;34m\u001b[0m\u001b[0m\n\u001b[1;32m   5761\u001b[0m         return self._constructor(\n\u001b[0;32m-> 5762\u001b[0;31m             self._mgr.convert(\n\u001b[0m\u001b[1;32m   5763\u001b[0m                 \u001b[0mdatetime\u001b[0m\u001b[0;34m=\u001b[0m\u001b[0;32mTrue\u001b[0m\u001b[0;34m,\u001b[0m \u001b[0mnumeric\u001b[0m\u001b[0;34m=\u001b[0m\u001b[0;32mFalse\u001b[0m\u001b[0;34m,\u001b[0m \u001b[0mtimedelta\u001b[0m\u001b[0;34m=\u001b[0m\u001b[0;32mTrue\u001b[0m\u001b[0;34m,\u001b[0m \u001b[0mcoerce\u001b[0m\u001b[0;34m=\u001b[0m\u001b[0;32mFalse\u001b[0m\u001b[0;34m,\u001b[0m \u001b[0mcopy\u001b[0m\u001b[0;34m=\u001b[0m\u001b[0;32mTrue\u001b[0m\u001b[0;34m\u001b[0m\u001b[0;34m\u001b[0m\u001b[0m\n\u001b[1;32m   5764\u001b[0m             )\n",
      "\u001b[0;32m~/anaconda3/lib/python3.8/site-packages/pandas/core/internals/managers.py\u001b[0m in \u001b[0;36mconvert\u001b[0;34m(self, copy, datetime, numeric, timedelta, coerce)\u001b[0m\n\u001b[1;32m    603\u001b[0m         \u001b[0mcoerce\u001b[0m\u001b[0;34m:\u001b[0m \u001b[0mbool\u001b[0m \u001b[0;34m=\u001b[0m \u001b[0;32mFalse\u001b[0m\u001b[0;34m,\u001b[0m\u001b[0;34m\u001b[0m\u001b[0;34m\u001b[0m\u001b[0m\n\u001b[1;32m    604\u001b[0m     ) -> \"BlockManager\":\n\u001b[0;32m--> 605\u001b[0;31m         return self.apply(\n\u001b[0m\u001b[1;32m    606\u001b[0m             \u001b[0;34m\"convert\"\u001b[0m\u001b[0;34m,\u001b[0m\u001b[0;34m\u001b[0m\u001b[0;34m\u001b[0m\u001b[0m\n\u001b[1;32m    607\u001b[0m             \u001b[0mcopy\u001b[0m\u001b[0;34m=\u001b[0m\u001b[0mcopy\u001b[0m\u001b[0;34m,\u001b[0m\u001b[0;34m\u001b[0m\u001b[0;34m\u001b[0m\u001b[0m\n",
      "\u001b[0;32m~/anaconda3/lib/python3.8/site-packages/pandas/core/internals/managers.py\u001b[0m in \u001b[0;36mapply\u001b[0;34m(self, f, align_keys, **kwargs)\u001b[0m\n\u001b[1;32m    404\u001b[0m                 \u001b[0mapplied\u001b[0m \u001b[0;34m=\u001b[0m \u001b[0mb\u001b[0m\u001b[0;34m.\u001b[0m\u001b[0mapply\u001b[0m\u001b[0;34m(\u001b[0m\u001b[0mf\u001b[0m\u001b[0;34m,\u001b[0m \u001b[0;34m**\u001b[0m\u001b[0mkwargs\u001b[0m\u001b[0;34m)\u001b[0m\u001b[0;34m\u001b[0m\u001b[0;34m\u001b[0m\u001b[0m\n\u001b[1;32m    405\u001b[0m             \u001b[0;32melse\u001b[0m\u001b[0;34m:\u001b[0m\u001b[0;34m\u001b[0m\u001b[0;34m\u001b[0m\u001b[0m\n\u001b[0;32m--> 406\u001b[0;31m                 \u001b[0mapplied\u001b[0m \u001b[0;34m=\u001b[0m \u001b[0mgetattr\u001b[0m\u001b[0;34m(\u001b[0m\u001b[0mb\u001b[0m\u001b[0;34m,\u001b[0m \u001b[0mf\u001b[0m\u001b[0;34m)\u001b[0m\u001b[0;34m(\u001b[0m\u001b[0;34m**\u001b[0m\u001b[0mkwargs\u001b[0m\u001b[0;34m)\u001b[0m\u001b[0;34m\u001b[0m\u001b[0;34m\u001b[0m\u001b[0m\n\u001b[0m\u001b[1;32m    407\u001b[0m             \u001b[0mresult_blocks\u001b[0m \u001b[0;34m=\u001b[0m \u001b[0m_extend_blocks\u001b[0m\u001b[0;34m(\u001b[0m\u001b[0mapplied\u001b[0m\u001b[0;34m,\u001b[0m \u001b[0mresult_blocks\u001b[0m\u001b[0;34m)\u001b[0m\u001b[0;34m\u001b[0m\u001b[0;34m\u001b[0m\u001b[0m\n\u001b[1;32m    408\u001b[0m \u001b[0;34m\u001b[0m\u001b[0m\n",
      "\u001b[0;32m~/anaconda3/lib/python3.8/site-packages/pandas/core/internals/blocks.py\u001b[0m in \u001b[0;36mconvert\u001b[0;34m(self, copy, datetime, numeric, timedelta, coerce)\u001b[0m\n\u001b[1;32m   2418\u001b[0m \u001b[0;34m\u001b[0m\u001b[0m\n\u001b[1;32m   2419\u001b[0m         \u001b[0;32mif\u001b[0m \u001b[0mself\u001b[0m\u001b[0;34m.\u001b[0m\u001b[0mndim\u001b[0m \u001b[0;34m==\u001b[0m \u001b[0;36m2\u001b[0m\u001b[0;34m:\u001b[0m\u001b[0;34m\u001b[0m\u001b[0;34m\u001b[0m\u001b[0m\n\u001b[0;32m-> 2420\u001b[0;31m             \u001b[0mblocks\u001b[0m \u001b[0;34m=\u001b[0m \u001b[0mself\u001b[0m\u001b[0;34m.\u001b[0m\u001b[0msplit_and_operate\u001b[0m\u001b[0;34m(\u001b[0m\u001b[0;32mNone\u001b[0m\u001b[0;34m,\u001b[0m \u001b[0mf\u001b[0m\u001b[0;34m,\u001b[0m \u001b[0;32mFalse\u001b[0m\u001b[0;34m)\u001b[0m\u001b[0;34m\u001b[0m\u001b[0;34m\u001b[0m\u001b[0m\n\u001b[0m\u001b[1;32m   2421\u001b[0m         \u001b[0;32melse\u001b[0m\u001b[0;34m:\u001b[0m\u001b[0;34m\u001b[0m\u001b[0;34m\u001b[0m\u001b[0m\n\u001b[1;32m   2422\u001b[0m             \u001b[0mvalues\u001b[0m \u001b[0;34m=\u001b[0m \u001b[0mf\u001b[0m\u001b[0;34m(\u001b[0m\u001b[0;32mNone\u001b[0m\u001b[0;34m,\u001b[0m \u001b[0mself\u001b[0m\u001b[0;34m.\u001b[0m\u001b[0mvalues\u001b[0m\u001b[0;34m.\u001b[0m\u001b[0mravel\u001b[0m\u001b[0;34m(\u001b[0m\u001b[0;34m)\u001b[0m\u001b[0;34m,\u001b[0m \u001b[0;32mNone\u001b[0m\u001b[0;34m)\u001b[0m\u001b[0;34m\u001b[0m\u001b[0;34m\u001b[0m\u001b[0m\n",
      "\u001b[0;32m~/anaconda3/lib/python3.8/site-packages/pandas/core/internals/blocks.py\u001b[0m in \u001b[0;36msplit_and_operate\u001b[0;34m(self, mask, f, inplace)\u001b[0m\n\u001b[1;32m    456\u001b[0m             \u001b[0;31m# need a new block\u001b[0m\u001b[0;34m\u001b[0m\u001b[0;34m\u001b[0m\u001b[0;34m\u001b[0m\u001b[0m\n\u001b[1;32m    457\u001b[0m             \u001b[0;32mif\u001b[0m \u001b[0mm\u001b[0m\u001b[0;34m.\u001b[0m\u001b[0many\u001b[0m\u001b[0;34m(\u001b[0m\u001b[0;34m)\u001b[0m\u001b[0;34m:\u001b[0m\u001b[0;34m\u001b[0m\u001b[0;34m\u001b[0m\u001b[0m\n\u001b[0;32m--> 458\u001b[0;31m                 \u001b[0mnv\u001b[0m \u001b[0;34m=\u001b[0m \u001b[0mf\u001b[0m\u001b[0;34m(\u001b[0m\u001b[0mm\u001b[0m\u001b[0;34m,\u001b[0m \u001b[0mv\u001b[0m\u001b[0;34m,\u001b[0m \u001b[0mi\u001b[0m\u001b[0;34m)\u001b[0m\u001b[0;34m\u001b[0m\u001b[0;34m\u001b[0m\u001b[0m\n\u001b[0m\u001b[1;32m    459\u001b[0m             \u001b[0;32melse\u001b[0m\u001b[0;34m:\u001b[0m\u001b[0;34m\u001b[0m\u001b[0;34m\u001b[0m\u001b[0m\n\u001b[1;32m    460\u001b[0m                 \u001b[0mnv\u001b[0m \u001b[0;34m=\u001b[0m \u001b[0mv\u001b[0m \u001b[0;32mif\u001b[0m \u001b[0minplace\u001b[0m \u001b[0;32melse\u001b[0m \u001b[0mv\u001b[0m\u001b[0;34m.\u001b[0m\u001b[0mcopy\u001b[0m\u001b[0;34m(\u001b[0m\u001b[0;34m)\u001b[0m\u001b[0;34m\u001b[0m\u001b[0;34m\u001b[0m\u001b[0m\n",
      "\u001b[0;32m~/anaconda3/lib/python3.8/site-packages/pandas/core/internals/blocks.py\u001b[0m in \u001b[0;36mf\u001b[0;34m(mask, val, idx)\u001b[0m\n\u001b[1;32m   2403\u001b[0m         \u001b[0;32mdef\u001b[0m \u001b[0mf\u001b[0m\u001b[0;34m(\u001b[0m\u001b[0mmask\u001b[0m\u001b[0;34m,\u001b[0m \u001b[0mval\u001b[0m\u001b[0;34m,\u001b[0m \u001b[0midx\u001b[0m\u001b[0;34m)\u001b[0m\u001b[0;34m:\u001b[0m\u001b[0;34m\u001b[0m\u001b[0;34m\u001b[0m\u001b[0m\n\u001b[1;32m   2404\u001b[0m             \u001b[0mshape\u001b[0m \u001b[0;34m=\u001b[0m \u001b[0mval\u001b[0m\u001b[0;34m.\u001b[0m\u001b[0mshape\u001b[0m\u001b[0;34m\u001b[0m\u001b[0;34m\u001b[0m\u001b[0m\n\u001b[0;32m-> 2405\u001b[0;31m             values = soft_convert_objects(\n\u001b[0m\u001b[1;32m   2406\u001b[0m                 \u001b[0mval\u001b[0m\u001b[0;34m.\u001b[0m\u001b[0mravel\u001b[0m\u001b[0;34m(\u001b[0m\u001b[0;34m)\u001b[0m\u001b[0;34m,\u001b[0m\u001b[0;34m\u001b[0m\u001b[0;34m\u001b[0m\u001b[0m\n\u001b[1;32m   2407\u001b[0m                 \u001b[0mdatetime\u001b[0m\u001b[0;34m=\u001b[0m\u001b[0mdatetime\u001b[0m\u001b[0;34m,\u001b[0m\u001b[0;34m\u001b[0m\u001b[0;34m\u001b[0m\u001b[0m\n",
      "\u001b[0;32m~/anaconda3/lib/python3.8/site-packages/pandas/core/dtypes/cast.py\u001b[0m in \u001b[0;36msoft_convert_objects\u001b[0;34m(values, datetime, numeric, timedelta, coerce, copy)\u001b[0m\n\u001b[1;32m   1103\u001b[0m     \u001b[0;32mif\u001b[0m \u001b[0mtimedelta\u001b[0m \u001b[0;32mand\u001b[0m \u001b[0mis_object_dtype\u001b[0m\u001b[0;34m(\u001b[0m\u001b[0mvalues\u001b[0m\u001b[0;34m.\u001b[0m\u001b[0mdtype\u001b[0m\u001b[0;34m)\u001b[0m\u001b[0;34m:\u001b[0m\u001b[0;34m\u001b[0m\u001b[0;34m\u001b[0m\u001b[0m\n\u001b[1;32m   1104\u001b[0m         \u001b[0;31m# Object check to ensure only run if previous did not convert\u001b[0m\u001b[0;34m\u001b[0m\u001b[0;34m\u001b[0m\u001b[0;34m\u001b[0m\u001b[0m\n\u001b[0;32m-> 1105\u001b[0;31m         \u001b[0mvalues\u001b[0m \u001b[0;34m=\u001b[0m \u001b[0mlib\u001b[0m\u001b[0;34m.\u001b[0m\u001b[0mmaybe_convert_objects\u001b[0m\u001b[0;34m(\u001b[0m\u001b[0mvalues\u001b[0m\u001b[0;34m,\u001b[0m \u001b[0mconvert_timedelta\u001b[0m\u001b[0;34m=\u001b[0m\u001b[0;32mTrue\u001b[0m\u001b[0;34m)\u001b[0m\u001b[0;34m\u001b[0m\u001b[0;34m\u001b[0m\u001b[0m\n\u001b[0m\u001b[1;32m   1106\u001b[0m \u001b[0;34m\u001b[0m\u001b[0m\n\u001b[1;32m   1107\u001b[0m     \u001b[0;32mif\u001b[0m \u001b[0mnumeric\u001b[0m \u001b[0;32mand\u001b[0m \u001b[0mis_object_dtype\u001b[0m\u001b[0;34m(\u001b[0m\u001b[0mvalues\u001b[0m\u001b[0;34m.\u001b[0m\u001b[0mdtype\u001b[0m\u001b[0;34m)\u001b[0m\u001b[0;34m:\u001b[0m\u001b[0;34m\u001b[0m\u001b[0;34m\u001b[0m\u001b[0m\n",
      "\u001b[0;32mpandas/_libs/lib.pyx\u001b[0m in \u001b[0;36mpandas._libs.lib.maybe_convert_objects\u001b[0;34m()\u001b[0m\n",
      "\u001b[0;32m~/.local/lib/python3.8/site-packages/numpy/core/numeric.py\u001b[0m in \u001b[0;36mfull\u001b[0;34m(shape, fill_value, dtype, order, like)\u001b[0m\n\u001b[1;32m    286\u001b[0m \u001b[0;34m\u001b[0m\u001b[0m\n\u001b[1;32m    287\u001b[0m \u001b[0;34m\u001b[0m\u001b[0m\n\u001b[0;32m--> 288\u001b[0;31m \u001b[0;34m@\u001b[0m\u001b[0mset_array_function_like_doc\u001b[0m\u001b[0;34m\u001b[0m\u001b[0;34m\u001b[0m\u001b[0m\n\u001b[0m\u001b[1;32m    289\u001b[0m \u001b[0;34m@\u001b[0m\u001b[0mset_module\u001b[0m\u001b[0;34m(\u001b[0m\u001b[0;34m'numpy'\u001b[0m\u001b[0;34m)\u001b[0m\u001b[0;34m\u001b[0m\u001b[0;34m\u001b[0m\u001b[0m\n\u001b[1;32m    290\u001b[0m \u001b[0;32mdef\u001b[0m \u001b[0mfull\u001b[0m\u001b[0;34m(\u001b[0m\u001b[0mshape\u001b[0m\u001b[0;34m,\u001b[0m \u001b[0mfill_value\u001b[0m\u001b[0;34m,\u001b[0m \u001b[0mdtype\u001b[0m\u001b[0;34m=\u001b[0m\u001b[0;32mNone\u001b[0m\u001b[0;34m,\u001b[0m \u001b[0morder\u001b[0m\u001b[0;34m=\u001b[0m\u001b[0;34m'C'\u001b[0m\u001b[0;34m,\u001b[0m \u001b[0;34m*\u001b[0m\u001b[0;34m,\u001b[0m \u001b[0mlike\u001b[0m\u001b[0;34m=\u001b[0m\u001b[0;32mNone\u001b[0m\u001b[0;34m)\u001b[0m\u001b[0;34m:\u001b[0m\u001b[0;34m\u001b[0m\u001b[0;34m\u001b[0m\u001b[0m\n",
      "\u001b[0;31mKeyboardInterrupt\u001b[0m: "
     ]
    }
   ],
   "source": [
    "privileges_table = pd.DataFrame(columns=['role', 'privilege'])\n",
    "for i in privileges_data[\"privileges_data\"].str.split(\":\", 2)[:].values:\n",
    "    privileges_table = privileges_table.append({'role': i[1], 'privilege': i[2]}, ignore_index=True)"
   ]
  },
  {
   "cell_type": "code",
   "execution_count": null,
   "metadata": {},
   "outputs": [],
   "source": [
    "privileges_table"
   ]
  },
  {
   "cell_type": "code",
   "execution_count": 187,
   "metadata": {},
   "outputs": [],
   "source": [
    " privileges_data = privileges_table"
   ]
  },
  {
   "cell_type": "code",
   "execution_count": 188,
   "metadata": {},
   "outputs": [
    {
     "data": {
      "text/html": [
       "<div>\n",
       "<style scoped>\n",
       "    .dataframe tbody tr th:only-of-type {\n",
       "        vertical-align: middle;\n",
       "    }\n",
       "\n",
       "    .dataframe tbody tr th {\n",
       "        vertical-align: top;\n",
       "    }\n",
       "\n",
       "    .dataframe thead th {\n",
       "        text-align: right;\n",
       "    }\n",
       "</style>\n",
       "<table border=\"1\" class=\"dataframe\">\n",
       "  <thead>\n",
       "    <tr style=\"text-align: right;\">\n",
       "      <th></th>\n",
       "      <th>role</th>\n",
       "      <th>privilege</th>\n",
       "    </tr>\n",
       "  </thead>\n",
       "  <tbody>\n",
       "    <tr>\n",
       "      <th>0</th>\n",
       "      <td>GOOGLE</td>\n",
       "      <td>ACCOUNT</td>\n",
       "    </tr>\n",
       "    <tr>\n",
       "      <th>1</th>\n",
       "      <td>BAMP900</td>\n",
       "      <td>PB:USER</td>\n",
       "    </tr>\n",
       "    <tr>\n",
       "      <th>2</th>\n",
       "      <td>BAMP900</td>\n",
       "      <td>RMS:HR_USER</td>\n",
       "    </tr>\n",
       "    <tr>\n",
       "      <th>3</th>\n",
       "      <td>BGWP960</td>\n",
       "      <td>PB:FIORI_FLP</td>\n",
       "    </tr>\n",
       "    <tr>\n",
       "      <th>4</th>\n",
       "      <td>BAMP900</td>\n",
       "      <td>FI:TV:TRAVELER</td>\n",
       "    </tr>\n",
       "    <tr>\n",
       "      <th>...</th>\n",
       "      <td>...</td>\n",
       "      <td>...</td>\n",
       "    </tr>\n",
       "    <tr>\n",
       "      <th>199506</th>\n",
       "      <td>BAMP900</td>\n",
       "      <td>HR:ESS:CLAIMS_REIMBURSEMENT</td>\n",
       "    </tr>\n",
       "    <tr>\n",
       "      <th>199507</th>\n",
       "      <td>BGWP960</td>\n",
       "      <td>IT:GW:PASSWORD_SELF_SERVICE</td>\n",
       "    </tr>\n",
       "    <tr>\n",
       "      <th>199508</th>\n",
       "      <td>BAMP900</td>\n",
       "      <td>IT:BUSINESS_JOB_RELEASE_ACCESS</td>\n",
       "    </tr>\n",
       "    <tr>\n",
       "      <th>199509</th>\n",
       "      <td>BGWP960</td>\n",
       "      <td>KS:KITS_CONFERENC_ROOM_BOOKING</td>\n",
       "    </tr>\n",
       "    <tr>\n",
       "      <th>199510</th>\n",
       "      <td>BGWP960</td>\n",
       "      <td>KS:KITS_EMPLOYEE_EQUIPMENT_GRP</td>\n",
       "    </tr>\n",
       "  </tbody>\n",
       "</table>\n",
       "<p>199511 rows × 2 columns</p>\n",
       "</div>"
      ],
      "text/plain": [
       "           role                       privilege\n",
       "0        GOOGLE                         ACCOUNT\n",
       "1       BAMP900                         PB:USER\n",
       "2       BAMP900                     RMS:HR_USER\n",
       "3       BGWP960                    PB:FIORI_FLP\n",
       "4       BAMP900                  FI:TV:TRAVELER\n",
       "...         ...                             ...\n",
       "199506  BAMP900     HR:ESS:CLAIMS_REIMBURSEMENT\n",
       "199507  BGWP960     IT:GW:PASSWORD_SELF_SERVICE\n",
       "199508  BAMP900  IT:BUSINESS_JOB_RELEASE_ACCESS\n",
       "199509  BGWP960  KS:KITS_CONFERENC_ROOM_BOOKING\n",
       "199510  BGWP960  KS:KITS_EMPLOYEE_EQUIPMENT_GRP\n",
       "\n",
       "[199511 rows x 2 columns]"
      ]
     },
     "execution_count": 188,
     "metadata": {},
     "output_type": "execute_result"
    }
   ],
   "source": [
    "privileges_data"
   ]
  },
  {
   "cell_type": "code",
   "execution_count": 234,
   "metadata": {},
   "outputs": [],
   "source": [
    "#privileges_data.groupby('privilege').max().keys#.describe().role.count"
   ]
  },
  {
   "cell_type": "code",
   "execution_count": 242,
   "metadata": {},
   "outputs": [],
   "source": [
    "user_data = user_data.dropna().reset_index()"
   ]
  },
  {
   "cell_type": "code",
   "execution_count": 243,
   "metadata": {},
   "outputs": [],
   "source": [
    "user_data.drop('index', inplace=True, axis=1)"
   ]
  },
  {
   "cell_type": "code",
   "execution_count": 244,
   "metadata": {},
   "outputs": [
    {
     "data": {
      "text/html": [
       "<div>\n",
       "<style scoped>\n",
       "    .dataframe tbody tr th:only-of-type {\n",
       "        vertical-align: middle;\n",
       "    }\n",
       "\n",
       "    .dataframe tbody tr th {\n",
       "        vertical-align: top;\n",
       "    }\n",
       "\n",
       "    .dataframe thead th {\n",
       "        text-align: right;\n",
       "    }\n",
       "</style>\n",
       "<table border=\"1\" class=\"dataframe\">\n",
       "  <thead>\n",
       "    <tr style=\"text-align: right;\">\n",
       "      <th></th>\n",
       "      <th>user_id</th>\n",
       "      <th>job</th>\n",
       "      <th>department</th>\n",
       "    </tr>\n",
       "  </thead>\n",
       "  <tbody>\n",
       "    <tr>\n",
       "      <th>0</th>\n",
       "      <td>AALISMNA</td>\n",
       "      <td>POSTDOCTORAL FELLOW</td>\n",
       "      <td>BIOLOGICAL, ENVIRONMENTAL SCIENCE &amp; ENG</td>\n",
       "    </tr>\n",
       "    <tr>\n",
       "      <th>1</th>\n",
       "      <td>AALISMNA</td>\n",
       "      <td>POSTDOCTORAL FELLOW</td>\n",
       "      <td>BIOLOGICAL, ENVIRONMENTAL SCIENCE &amp; ENG</td>\n",
       "    </tr>\n",
       "    <tr>\n",
       "      <th>2</th>\n",
       "      <td>AALISMNA</td>\n",
       "      <td>POSTDOCTORAL FELLOW</td>\n",
       "      <td>BIOLOGICAL, ENVIRONMENTAL SCIENCE &amp; ENG</td>\n",
       "    </tr>\n",
       "    <tr>\n",
       "      <th>3</th>\n",
       "      <td>AALISMNA</td>\n",
       "      <td>POSTDOCTORAL FELLOW</td>\n",
       "      <td>BIOLOGICAL, ENVIRONMENTAL SCIENCE &amp; ENG</td>\n",
       "    </tr>\n",
       "    <tr>\n",
       "      <th>4</th>\n",
       "      <td>AALISMNA</td>\n",
       "      <td>POSTDOCTORAL FELLOW</td>\n",
       "      <td>BIOLOGICAL, ENVIRONMENTAL SCIENCE &amp; ENG</td>\n",
       "    </tr>\n",
       "    <tr>\n",
       "      <th>...</th>\n",
       "      <td>...</td>\n",
       "      <td>...</td>\n",
       "      <td>...</td>\n",
       "    </tr>\n",
       "    <tr>\n",
       "      <th>199506</th>\n",
       "      <td>ZYBINSA</td>\n",
       "      <td>SENIOR TECHNICAL SPECIALIST</td>\n",
       "      <td>INORGANICS</td>\n",
       "    </tr>\n",
       "    <tr>\n",
       "      <th>199507</th>\n",
       "      <td>ZYBINSA</td>\n",
       "      <td>SENIOR TECHNICAL SPECIALIST</td>\n",
       "      <td>INORGANICS</td>\n",
       "    </tr>\n",
       "    <tr>\n",
       "      <th>199508</th>\n",
       "      <td>ZYBINSA</td>\n",
       "      <td>SENIOR TECHNICAL SPECIALIST</td>\n",
       "      <td>INORGANICS</td>\n",
       "    </tr>\n",
       "    <tr>\n",
       "      <th>199509</th>\n",
       "      <td>ZYBINSA</td>\n",
       "      <td>SENIOR TECHNICAL SPECIALIST</td>\n",
       "      <td>INORGANICS</td>\n",
       "    </tr>\n",
       "    <tr>\n",
       "      <th>199510</th>\n",
       "      <td>ZYBINSA</td>\n",
       "      <td>SENIOR TECHNICAL SPECIALIST</td>\n",
       "      <td>INORGANICS</td>\n",
       "    </tr>\n",
       "  </tbody>\n",
       "</table>\n",
       "<p>199511 rows × 3 columns</p>\n",
       "</div>"
      ],
      "text/plain": [
       "         user_id                          job  \\\n",
       "0       AALISMNA          POSTDOCTORAL FELLOW   \n",
       "1       AALISMNA          POSTDOCTORAL FELLOW   \n",
       "2       AALISMNA          POSTDOCTORAL FELLOW   \n",
       "3       AALISMNA          POSTDOCTORAL FELLOW   \n",
       "4       AALISMNA          POSTDOCTORAL FELLOW   \n",
       "...          ...                          ...   \n",
       "199506   ZYBINSA  SENIOR TECHNICAL SPECIALIST   \n",
       "199507   ZYBINSA  SENIOR TECHNICAL SPECIALIST   \n",
       "199508   ZYBINSA  SENIOR TECHNICAL SPECIALIST   \n",
       "199509   ZYBINSA  SENIOR TECHNICAL SPECIALIST   \n",
       "199510   ZYBINSA  SENIOR TECHNICAL SPECIALIST   \n",
       "\n",
       "                                     department  \n",
       "0       BIOLOGICAL, ENVIRONMENTAL SCIENCE & ENG  \n",
       "1       BIOLOGICAL, ENVIRONMENTAL SCIENCE & ENG  \n",
       "2       BIOLOGICAL, ENVIRONMENTAL SCIENCE & ENG  \n",
       "3       BIOLOGICAL, ENVIRONMENTAL SCIENCE & ENG  \n",
       "4       BIOLOGICAL, ENVIRONMENTAL SCIENCE & ENG  \n",
       "...                                         ...  \n",
       "199506                               INORGANICS  \n",
       "199507                               INORGANICS  \n",
       "199508                               INORGANICS  \n",
       "199509                               INORGANICS  \n",
       "199510                               INORGANICS  \n",
       "\n",
       "[199511 rows x 3 columns]"
      ]
     },
     "execution_count": 244,
     "metadata": {},
     "output_type": "execute_result"
    }
   ],
   "source": [
    "user_data"
   ]
  },
  {
   "cell_type": "code",
   "execution_count": 361,
   "metadata": {},
   "outputs": [
    {
     "data": {
      "text/plain": [
       "1581"
      ]
     },
     "execution_count": 361,
     "metadata": {},
     "output_type": "execute_result"
    }
   ],
   "source": [
    "len(user_data.job.unique())"
   ]
  },
  {
   "cell_type": "code",
   "execution_count": 264,
   "metadata": {},
   "outputs": [
    {
     "data": {
      "text/plain": [
       "463"
      ]
     },
     "execution_count": 264,
     "metadata": {},
     "output_type": "execute_result"
    }
   ],
   "source": [
    "len(user_data.department.unique())"
   ]
  },
  {
   "cell_type": "code",
   "execution_count": 269,
   "metadata": {},
   "outputs": [
    {
     "data": {
      "text/plain": [
       "6784"
      ]
     },
     "execution_count": 269,
     "metadata": {},
     "output_type": "execute_result"
    }
   ],
   "source": [
    "len(user_data.user_id.unique())"
   ]
  },
  {
   "cell_type": "code",
   "execution_count": 13,
   "metadata": {},
   "outputs": [],
   "source": [
    "def loadFile(filepath):\n",
    "    ext = filepath.split('.')[-1]\n",
    "    if ext == 'xlsx':\n",
    "        data = pd.read_excel(filepath, skiprows=1)\n",
    "    elif ext == 'csv':\n",
    "        data = pd.read_csv(filepath, skiprows=1)\n",
    "    return data.dropna()"
   ]
  },
  {
   "cell_type": "code",
   "execution_count": 14,
   "metadata": {},
   "outputs": [],
   "source": [
    "def removeUnneededContent(data, column, charsCount):\n",
    "    charsCount += 1\n",
    "    data[column]= data[column].str[charsCount:]\n",
    "\n",
    "def separateSystemNameFromPrivilege(data, column):\n",
    "    data['role'], data['priv'] = data[column].str.split(':', 1, expand=True)[0], data[column].str.split(':', 1, expand=True)[1]\n",
    "    return data.drop(column, axis=1)\n",
    "    \n",
    "def GetResultsFromModel(data):   \n",
    "    data.columns = [\"user_id\", \"job\", \"department\", \"privileges_data\"]\n",
    "    removeUnneededContent(data, \"privileges_data\", 9)"
   ]
  },
  {
   "cell_type": "code",
   "execution_count": 35,
   "metadata": {},
   "outputs": [],
   "source": [
    "def getPrivsOnAverageDistribution(data, job, department):\n",
    "    print(type(data))\n",
    "    segmentated_data = data[(data.job == job) & (data.department == department)] \n",
    "    avarege_count = int(segmentated_data.priv.value_counts().sum() / len(segmentated_data.priv.value_counts()))\n",
    "    count = 0\n",
    "    for p_c in segmentated_data.priv.value_counts():\n",
    "        if p_c < avarege_count:\n",
    "            break\n",
    "        count += 1\n",
    "    return segmentated_data.priv.value_counts().index.tolist()[:count]"
   ]
  },
  {
   "cell_type": "code",
   "execution_count": 16,
   "metadata": {},
   "outputs": [],
   "source": [
    "def removeFile(filepath):\n",
    "    os.remove(filepath)"
   ]
  },
  {
   "cell_type": "code",
   "execution_count": 17,
   "metadata": {},
   "outputs": [],
   "source": [
    "def writeResult(result, filename):\n",
    "    filepath = '../public/result/'+filename.split('.')[0]\n",
    "    try: \n",
    "        os.mkfifo(filepath)\n",
    "    except:\n",
    "        fifo_write = open(filepath, 'w')\n",
    "        fifo_write.write((\",\".join(x for x in result)))\n",
    "        fifo_write.flush()"
   ]
  },
  {
   "cell_type": "code",
   "execution_count": 29,
   "metadata": {},
   "outputs": [],
   "source": [
    "def getResult(job, department, filename):\n",
    "    filepath = '../server/public/data/'+filename\n",
    "    data = loadFile(filepath)\n",
    "    GetResultsFromModel(data)\n",
    "    data = separateSystemNameFromPrivilege(data, \"privileges_data\")\n",
    "    result = getPrivsOnAverageDistribution(data, job, department)\n",
    "    return result\n",
    "    #writeResult(result, filename)\n",
    "    #removeFile(filepath)\n",
    "    #removeFile('../public/result/'+filename.split('.')[0])"
   ]
  },
  {
   "cell_type": "code",
   "execution_count": 36,
   "metadata": {},
   "outputs": [
    {
     "name": "stdout",
     "output_type": "stream",
     "text": [
      "<class 'pandas.core.frame.DataFrame'>\n"
     ]
    }
   ],
   "source": [
    "job = 'POSTDOCTORAL FELLOW'\n",
    "department = 'BIOLOGICAL, ENVIRONMENTAL SCIENCE & ENG'\n",
    "filename = 'User-624921c5e1c4d602ddd19695-1649042286214.xlsx'\n",
    "result = getResult(job, department, filename)"
   ]
  },
  {
   "cell_type": "code",
   "execution_count": 31,
   "metadata": {},
   "outputs": [
    {
     "data": {
      "text/plain": [
       "['KAUST:END_USERS',\n",
       " 'IT:UWL:ENDUSER',\n",
       " 'RMS:HR_USER',\n",
       " 'GA:GASC_MYREQUEST',\n",
       " 'GRAC:END_USERS_BASE',\n",
       " 'IT:GW:PASSWORD_SELF_SERVICE',\n",
       " 'KS:KITS_CONFERENC_ROOM_BOOKING',\n",
       " 'SM:ITSM:CREATE_INTERACTION',\n",
       " 'KS:KITS_EMPLOYEE_EQUIPMENT_GRP',\n",
       " 'IT:FIORI_INBOX_APPROVAL',\n",
       " 'SM:ITSM:SELF_SERVICE',\n",
       " 'HR:ESS:CLAIMS_REIMBURSEMENT',\n",
       " 'GRAC:BUSINESS_ENDUSERS',\n",
       " 'IT:GW:END_USER',\n",
       " 'IT:GW:KAUST_ACCES_REQUEST',\n",
       " 'IT:BUSINESS_JOB_RELEASE_ACCESS',\n",
       " 'PB:USER',\n",
       " 'ACCOUNT',\n",
       " 'GA:GASC_REQUESTER',\n",
       " 'FI:TV:TRAVELER',\n",
       " 'RMS:TV:HR_USER',\n",
       " 'KS:KITS_EMAIL_SERVICES',\n",
       " 'KS:KITS_SECURITY_SERVICES',\n",
       " 'HR:ESS:EMP_SELF_SERVICE',\n",
       " 'HR:GW:EMP_SELF_SERVICE',\n",
       " 'PB:FIORI_FLP',\n",
       " 'SLCM:RM_END_USER',\n",
       " 'IT:GW:USER_NOTIF',\n",
       " 'IT:GW:USER_REPORTS',\n",
       " 'IT:GW:USER_WORKFLOW']"
      ]
     },
     "execution_count": 31,
     "metadata": {},
     "output_type": "execute_result"
    }
   ],
   "source": [
    "result"
   ]
  },
  {
   "cell_type": "code",
   "execution_count": null,
   "metadata": {},
   "outputs": [],
   "source": []
  },
  {
   "cell_type": "code",
   "execution_count": null,
   "metadata": {},
   "outputs": [],
   "source": []
  },
  {
   "cell_type": "code",
   "execution_count": null,
   "metadata": {},
   "outputs": [],
   "source": []
  },
  {
   "cell_type": "code",
   "execution_count": null,
   "metadata": {},
   "outputs": [],
   "source": []
  },
  {
   "cell_type": "code",
   "execution_count": null,
   "metadata": {},
   "outputs": [],
   "source": []
  },
  {
   "cell_type": "code",
   "execution_count": null,
   "metadata": {},
   "outputs": [],
   "source": []
  },
  {
   "cell_type": "code",
   "execution_count": null,
   "metadata": {},
   "outputs": [],
   "source": []
  },
  {
   "cell_type": "code",
   "execution_count": null,
   "metadata": {},
   "outputs": [],
   "source": []
  },
  {
   "cell_type": "code",
   "execution_count": null,
   "metadata": {},
   "outputs": [],
   "source": []
  },
  {
   "cell_type": "code",
   "execution_count": null,
   "metadata": {},
   "outputs": [],
   "source": []
  },
  {
   "cell_type": "code",
   "execution_count": null,
   "metadata": {},
   "outputs": [],
   "source": []
  },
  {
   "cell_type": "code",
   "execution_count": 89,
   "metadata": {},
   "outputs": [],
   "source": [
    "def getPropsData():\n",
    "    path = '../public/result/pipe'\n",
    "    try:\n",
    "        os.mkfifo(path)\n",
    "    except:\n",
    "        pass\n",
    "    \n",
    "    while True:\n",
    "        print(\"Opening FIFO...\")\n",
    "        with open(path) as fifo:\n",
    "            print(\"FIFO opened\")\n",
    "            while True:\n",
    "                data = fifo.read()\n",
    "                if len(data) == 0:\n",
    "                    print(\"Writer closed\")\n",
    "                    break\n",
    "                job, department, filename = data.split('?')\n",
    "                getResult(job, department, filename)"
   ]
  },
  {
   "cell_type": "code",
   "execution_count": 90,
   "metadata": {},
   "outputs": [
    {
     "name": "stdout",
     "output_type": "stream",
     "text": [
      "Opening FIFO...\n",
      "FIFO opened\n",
      "Writer closed\n",
      "Opening FIFO...\n"
     ]
    },
    {
     "ename": "KeyboardInterrupt",
     "evalue": "",
     "output_type": "error",
     "traceback": [
      "\u001b[0;31m---------------------------------------------------------------------------\u001b[0m",
      "\u001b[0;31mKeyboardInterrupt\u001b[0m                         Traceback (most recent call last)",
      "\u001b[0;32m<ipython-input-90-e105332738e7>\u001b[0m in \u001b[0;36m<module>\u001b[0;34m\u001b[0m\n\u001b[0;32m----> 1\u001b[0;31m \u001b[0mgetPropsData\u001b[0m\u001b[0;34m(\u001b[0m\u001b[0;34m)\u001b[0m\u001b[0;34m\u001b[0m\u001b[0;34m\u001b[0m\u001b[0m\n\u001b[0m",
      "\u001b[0;32m<ipython-input-89-90529f802f58>\u001b[0m in \u001b[0;36mgetPropsData\u001b[0;34m()\u001b[0m\n\u001b[1;32m      8\u001b[0m     \u001b[0;32mwhile\u001b[0m \u001b[0;32mTrue\u001b[0m\u001b[0;34m:\u001b[0m\u001b[0;34m\u001b[0m\u001b[0;34m\u001b[0m\u001b[0m\n\u001b[1;32m      9\u001b[0m         \u001b[0mprint\u001b[0m\u001b[0;34m(\u001b[0m\u001b[0;34m\"Opening FIFO...\"\u001b[0m\u001b[0;34m)\u001b[0m\u001b[0;34m\u001b[0m\u001b[0;34m\u001b[0m\u001b[0m\n\u001b[0;32m---> 10\u001b[0;31m         \u001b[0;32mwith\u001b[0m \u001b[0mopen\u001b[0m\u001b[0;34m(\u001b[0m\u001b[0mpath\u001b[0m\u001b[0;34m)\u001b[0m \u001b[0;32mas\u001b[0m \u001b[0mfifo\u001b[0m\u001b[0;34m:\u001b[0m\u001b[0;34m\u001b[0m\u001b[0;34m\u001b[0m\u001b[0m\n\u001b[0m\u001b[1;32m     11\u001b[0m             \u001b[0mprint\u001b[0m\u001b[0;34m(\u001b[0m\u001b[0;34m\"FIFO opened\"\u001b[0m\u001b[0;34m)\u001b[0m\u001b[0;34m\u001b[0m\u001b[0;34m\u001b[0m\u001b[0m\n\u001b[1;32m     12\u001b[0m             \u001b[0;32mwhile\u001b[0m \u001b[0;32mTrue\u001b[0m\u001b[0;34m:\u001b[0m\u001b[0;34m\u001b[0m\u001b[0;34m\u001b[0m\u001b[0m\n",
      "\u001b[0;31mKeyboardInterrupt\u001b[0m: "
     ]
    }
   ],
   "source": [
    "getPropsData()"
   ]
  }
 ],
 "metadata": {
  "kernelspec": {
   "display_name": "Python 3",
   "language": "python",
   "name": "python3"
  },
  "language_info": {
   "codemirror_mode": {
    "name": "ipython",
    "version": 3
   },
   "file_extension": ".py",
   "mimetype": "text/x-python",
   "name": "python",
   "nbconvert_exporter": "python",
   "pygments_lexer": "ipython3",
   "version": "3.8.5"
  }
 },
 "nbformat": 4,
 "nbformat_minor": 4
}
