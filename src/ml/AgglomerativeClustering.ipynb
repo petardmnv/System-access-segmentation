{
 "cells": [
  {
   "cell_type": "markdown",
   "metadata": {
    "id": "FHvfGUxAYIfk"
   },
   "source": [
    "# System for access segmentation"
   ]
  },
  {
   "cell_type": "markdown",
   "metadata": {
    "id": "5lBJ004WYIfr"
   },
   "source": [
    "##### imports"
   ]
  },
  {
   "cell_type": "code",
   "execution_count": 1,
   "metadata": {
    "executionInfo": {
     "elapsed": 501,
     "status": "ok",
     "timestamp": 1649695522548,
     "user": {
      "displayName": "Petar Damianov",
      "userId": "11400996130549296363"
     },
     "user_tz": -180
    },
    "id": "s131fPvJYIfs"
   },
   "outputs": [],
   "source": [
    "import numpy as np\n",
    "import pandas as pd\n",
    "import os\n",
    "from sklearn.preprocessing import StandardScaler\n",
    "from sklearn.decomposition import PCA\n",
    "from sklearn.cluster import AgglomerativeClustering\n",
    "from sklearn.cro"
   ]
  },
  {
   "cell_type": "markdown",
   "metadata": {
    "id": "1VMd7f-IYIfu"
   },
   "source": [
    "#### Get data from results/data folder"
   ]
  },
  {
   "cell_type": "code",
   "execution_count": 2,
   "metadata": {
    "executionInfo": {
     "elapsed": 5,
     "status": "ok",
     "timestamp": 1649695522931,
     "user": {
      "displayName": "Petar Damianov",
      "userId": "11400996130549296363"
     },
     "user_tz": -180
    },
    "id": "KXfjUVOcYIfu"
   },
   "outputs": [],
   "source": [
    "data = pd.data = pd.read_excel(\"../server/public/data/User-624921c5e1c4d602ddd19695-1649206670127.xlsx\", skiprows=1)"
   ]
  },
  {
   "cell_type": "code",
   "execution_count": 3,
   "metadata": {
    "colab": {
     "base_uri": "https://localhost:8080/"
    },
    "executionInfo": {
     "elapsed": 1636,
     "status": "ok",
     "timestamp": 1649695524562,
     "user": {
      "displayName": "Petar Damianov",
      "userId": "11400996130549296363"
     },
     "user_tz": -180
    },
    "id": "G5FzI74rYYfO",
    "outputId": "925b4f88-1457-48dd-d175-60655762e99d"
   },
   "outputs": [],
   "source": [
    "# from google.colab import drive\n",
    "# drive.mount('/content/drive')"
   ]
  },
  {
   "cell_type": "code",
   "execution_count": 4,
   "metadata": {
    "executionInfo": {
     "elapsed": 18867,
     "status": "ok",
     "timestamp": 1649695543426,
     "user": {
      "displayName": "Petar Damianov",
      "userId": "11400996130549296363"
     },
     "user_tz": -180
    },
    "id": "OFFY2pMrYlxl"
   },
   "outputs": [],
   "source": [
    "#data = pd.read_excel(\"/content/drive/MyDrive/User-624921c5e1c4d602ddd19695-1649206670127.xlsx\", skiprows=1)"
   ]
  },
  {
   "cell_type": "code",
   "execution_count": 5,
   "metadata": {
    "colab": {
     "base_uri": "https://localhost:8080/",
     "height": 641
    },
    "executionInfo": {
     "elapsed": 26,
     "status": "ok",
     "timestamp": 1649695543427,
     "user": {
      "displayName": "Petar Damianov",
      "userId": "11400996130549296363"
     },
     "user_tz": -180
    },
    "id": "yadvj-JMYIfv",
    "outputId": "7d3e58fe-2849-43e7-b84e-cb3949b4aaa1"
   },
   "outputs": [
    {
     "data": {
      "text/html": [
       "<div>\n",
       "<style scoped>\n",
       "    .dataframe tbody tr th:only-of-type {\n",
       "        vertical-align: middle;\n",
       "    }\n",
       "\n",
       "    .dataframe tbody tr th {\n",
       "        vertical-align: top;\n",
       "    }\n",
       "\n",
       "    .dataframe thead th {\n",
       "        text-align: right;\n",
       "    }\n",
       "</style>\n",
       "<table border=\"1\" class=\"dataframe\">\n",
       "  <thead>\n",
       "    <tr style=\"text-align: right;\">\n",
       "      <th></th>\n",
       "      <th>user_id</th>\n",
       "      <th>position</th>\n",
       "      <th>org_structure</th>\n",
       "      <th>access_name</th>\n",
       "    </tr>\n",
       "  </thead>\n",
       "  <tbody>\n",
       "    <tr>\n",
       "      <th>0</th>\n",
       "      <td>AALISMNA</td>\n",
       "      <td>POSTDOCTORAL FELLOW</td>\n",
       "      <td>BIOLOGICAL, ENVIRONMENTAL SCIENCE &amp; ENG</td>\n",
       "      <td>PRIV:ROLE:GOOGLE:ACCOUNT</td>\n",
       "    </tr>\n",
       "    <tr>\n",
       "      <th>1</th>\n",
       "      <td>AALISMNA</td>\n",
       "      <td>POSTDOCTORAL FELLOW</td>\n",
       "      <td>BIOLOGICAL, ENVIRONMENTAL SCIENCE &amp; ENG</td>\n",
       "      <td>PRIV:ROLE:BAMP900:PB:USER</td>\n",
       "    </tr>\n",
       "    <tr>\n",
       "      <th>2</th>\n",
       "      <td>AALISMNA</td>\n",
       "      <td>POSTDOCTORAL FELLOW</td>\n",
       "      <td>BIOLOGICAL, ENVIRONMENTAL SCIENCE &amp; ENG</td>\n",
       "      <td>PRIV:ROLE:BAMP900:RMS:HR_USER</td>\n",
       "    </tr>\n",
       "    <tr>\n",
       "      <th>3</th>\n",
       "      <td>AALISMNA</td>\n",
       "      <td>POSTDOCTORAL FELLOW</td>\n",
       "      <td>BIOLOGICAL, ENVIRONMENTAL SCIENCE &amp; ENG</td>\n",
       "      <td>PRIV:ROLE:BGWP960:PB:FIORI_FLP</td>\n",
       "    </tr>\n",
       "    <tr>\n",
       "      <th>4</th>\n",
       "      <td>AALISMNA</td>\n",
       "      <td>POSTDOCTORAL FELLOW</td>\n",
       "      <td>BIOLOGICAL, ENVIRONMENTAL SCIENCE &amp; ENG</td>\n",
       "      <td>PRIV:ROLE:BAMP900:FI:TV:TRAVELER</td>\n",
       "    </tr>\n",
       "    <tr>\n",
       "      <th>...</th>\n",
       "      <td>...</td>\n",
       "      <td>...</td>\n",
       "      <td>...</td>\n",
       "      <td>...</td>\n",
       "    </tr>\n",
       "    <tr>\n",
       "      <th>199530</th>\n",
       "      <td>ZYBINSA</td>\n",
       "      <td>SENIOR TECHNICAL SPECIALIST</td>\n",
       "      <td>INORGANICS</td>\n",
       "      <td>PRIV:ROLE:BAMP900:HR:ESS:CLAIMS_REIMBURSEMENT</td>\n",
       "    </tr>\n",
       "    <tr>\n",
       "      <th>199531</th>\n",
       "      <td>ZYBINSA</td>\n",
       "      <td>SENIOR TECHNICAL SPECIALIST</td>\n",
       "      <td>INORGANICS</td>\n",
       "      <td>PRIV:ROLE:BGWP960:IT:GW:PASSWORD_SELF_SERVICE</td>\n",
       "    </tr>\n",
       "    <tr>\n",
       "      <th>199532</th>\n",
       "      <td>ZYBINSA</td>\n",
       "      <td>SENIOR TECHNICAL SPECIALIST</td>\n",
       "      <td>INORGANICS</td>\n",
       "      <td>PRIV:ROLE:BAMP900:IT:BUSINESS_JOB_RELEASE_ACCESS</td>\n",
       "    </tr>\n",
       "    <tr>\n",
       "      <th>199533</th>\n",
       "      <td>ZYBINSA</td>\n",
       "      <td>SENIOR TECHNICAL SPECIALIST</td>\n",
       "      <td>INORGANICS</td>\n",
       "      <td>PRIV:ROLE:BGWP960:KS:KITS_CONFERENC_ROOM_BOOKING</td>\n",
       "    </tr>\n",
       "    <tr>\n",
       "      <th>199534</th>\n",
       "      <td>ZYBINSA</td>\n",
       "      <td>SENIOR TECHNICAL SPECIALIST</td>\n",
       "      <td>INORGANICS</td>\n",
       "      <td>PRIV:ROLE:BGWP960:KS:KITS_EMPLOYEE_EQUIPMENT_GRP</td>\n",
       "    </tr>\n",
       "  </tbody>\n",
       "</table>\n",
       "<p>199535 rows × 4 columns</p>\n",
       "</div>"
      ],
      "text/plain": [
       "         user_id                     position  \\\n",
       "0       AALISMNA          POSTDOCTORAL FELLOW   \n",
       "1       AALISMNA          POSTDOCTORAL FELLOW   \n",
       "2       AALISMNA          POSTDOCTORAL FELLOW   \n",
       "3       AALISMNA          POSTDOCTORAL FELLOW   \n",
       "4       AALISMNA          POSTDOCTORAL FELLOW   \n",
       "...          ...                          ...   \n",
       "199530   ZYBINSA  SENIOR TECHNICAL SPECIALIST   \n",
       "199531   ZYBINSA  SENIOR TECHNICAL SPECIALIST   \n",
       "199532   ZYBINSA  SENIOR TECHNICAL SPECIALIST   \n",
       "199533   ZYBINSA  SENIOR TECHNICAL SPECIALIST   \n",
       "199534   ZYBINSA  SENIOR TECHNICAL SPECIALIST   \n",
       "\n",
       "                                  org_structure  \\\n",
       "0       BIOLOGICAL, ENVIRONMENTAL SCIENCE & ENG   \n",
       "1       BIOLOGICAL, ENVIRONMENTAL SCIENCE & ENG   \n",
       "2       BIOLOGICAL, ENVIRONMENTAL SCIENCE & ENG   \n",
       "3       BIOLOGICAL, ENVIRONMENTAL SCIENCE & ENG   \n",
       "4       BIOLOGICAL, ENVIRONMENTAL SCIENCE & ENG   \n",
       "...                                         ...   \n",
       "199530                               INORGANICS   \n",
       "199531                               INORGANICS   \n",
       "199532                               INORGANICS   \n",
       "199533                               INORGANICS   \n",
       "199534                               INORGANICS   \n",
       "\n",
       "                                             access_name  \n",
       "0                               PRIV:ROLE:GOOGLE:ACCOUNT  \n",
       "1                              PRIV:ROLE:BAMP900:PB:USER  \n",
       "2                          PRIV:ROLE:BAMP900:RMS:HR_USER  \n",
       "3                         PRIV:ROLE:BGWP960:PB:FIORI_FLP  \n",
       "4                       PRIV:ROLE:BAMP900:FI:TV:TRAVELER  \n",
       "...                                                  ...  \n",
       "199530     PRIV:ROLE:BAMP900:HR:ESS:CLAIMS_REIMBURSEMENT  \n",
       "199531     PRIV:ROLE:BGWP960:IT:GW:PASSWORD_SELF_SERVICE  \n",
       "199532  PRIV:ROLE:BAMP900:IT:BUSINESS_JOB_RELEASE_ACCESS  \n",
       "199533  PRIV:ROLE:BGWP960:KS:KITS_CONFERENC_ROOM_BOOKING  \n",
       "199534  PRIV:ROLE:BGWP960:KS:KITS_EMPLOYEE_EQUIPMENT_GRP  \n",
       "\n",
       "[199535 rows x 4 columns]"
      ]
     },
     "execution_count": 5,
     "metadata": {},
     "output_type": "execute_result"
    }
   ],
   "source": [
    "data"
   ]
  },
  {
   "cell_type": "code",
   "execution_count": 6,
   "metadata": {
    "executionInfo": {
     "elapsed": 12,
     "status": "ok",
     "timestamp": 1649695543427,
     "user": {
      "displayName": "Petar Damianov",
      "userId": "11400996130549296363"
     },
     "user_tz": -180
    },
    "id": "JGLItQjaYIfw"
   },
   "outputs": [],
   "source": [
    "data.columns = [\"user_id\", \"job\", \"department\", \"privileges_data\"]"
   ]
  },
  {
   "cell_type": "code",
   "execution_count": 7,
   "metadata": {
    "executionInfo": {
     "elapsed": 12,
     "status": "ok",
     "timestamp": 1649695543428,
     "user": {
      "displayName": "Petar Damianov",
      "userId": "11400996130549296363"
     },
     "user_tz": -180
    },
    "id": "XO0oX3w3YIfx"
   },
   "outputs": [],
   "source": [
    "data = data.dropna()"
   ]
  },
  {
   "cell_type": "code",
   "execution_count": 8,
   "metadata": {
    "colab": {
     "base_uri": "https://localhost:8080/",
     "height": 641
    },
    "executionInfo": {
     "elapsed": 12,
     "status": "ok",
     "timestamp": 1649695543428,
     "user": {
      "displayName": "Petar Damianov",
      "userId": "11400996130549296363"
     },
     "user_tz": -180
    },
    "id": "lACGuamEYIfy",
    "outputId": "81c9ca41-1081-4092-c384-9f00f902814d"
   },
   "outputs": [
    {
     "data": {
      "text/html": [
       "<div>\n",
       "<style scoped>\n",
       "    .dataframe tbody tr th:only-of-type {\n",
       "        vertical-align: middle;\n",
       "    }\n",
       "\n",
       "    .dataframe tbody tr th {\n",
       "        vertical-align: top;\n",
       "    }\n",
       "\n",
       "    .dataframe thead th {\n",
       "        text-align: right;\n",
       "    }\n",
       "</style>\n",
       "<table border=\"1\" class=\"dataframe\">\n",
       "  <thead>\n",
       "    <tr style=\"text-align: right;\">\n",
       "      <th></th>\n",
       "      <th>user_id</th>\n",
       "      <th>job</th>\n",
       "      <th>department</th>\n",
       "      <th>privileges_data</th>\n",
       "    </tr>\n",
       "  </thead>\n",
       "  <tbody>\n",
       "    <tr>\n",
       "      <th>0</th>\n",
       "      <td>AALISMNA</td>\n",
       "      <td>POSTDOCTORAL FELLOW</td>\n",
       "      <td>BIOLOGICAL, ENVIRONMENTAL SCIENCE &amp; ENG</td>\n",
       "      <td>PRIV:ROLE:GOOGLE:ACCOUNT</td>\n",
       "    </tr>\n",
       "    <tr>\n",
       "      <th>1</th>\n",
       "      <td>AALISMNA</td>\n",
       "      <td>POSTDOCTORAL FELLOW</td>\n",
       "      <td>BIOLOGICAL, ENVIRONMENTAL SCIENCE &amp; ENG</td>\n",
       "      <td>PRIV:ROLE:BAMP900:PB:USER</td>\n",
       "    </tr>\n",
       "    <tr>\n",
       "      <th>2</th>\n",
       "      <td>AALISMNA</td>\n",
       "      <td>POSTDOCTORAL FELLOW</td>\n",
       "      <td>BIOLOGICAL, ENVIRONMENTAL SCIENCE &amp; ENG</td>\n",
       "      <td>PRIV:ROLE:BAMP900:RMS:HR_USER</td>\n",
       "    </tr>\n",
       "    <tr>\n",
       "      <th>3</th>\n",
       "      <td>AALISMNA</td>\n",
       "      <td>POSTDOCTORAL FELLOW</td>\n",
       "      <td>BIOLOGICAL, ENVIRONMENTAL SCIENCE &amp; ENG</td>\n",
       "      <td>PRIV:ROLE:BGWP960:PB:FIORI_FLP</td>\n",
       "    </tr>\n",
       "    <tr>\n",
       "      <th>4</th>\n",
       "      <td>AALISMNA</td>\n",
       "      <td>POSTDOCTORAL FELLOW</td>\n",
       "      <td>BIOLOGICAL, ENVIRONMENTAL SCIENCE &amp; ENG</td>\n",
       "      <td>PRIV:ROLE:BAMP900:FI:TV:TRAVELER</td>\n",
       "    </tr>\n",
       "    <tr>\n",
       "      <th>...</th>\n",
       "      <td>...</td>\n",
       "      <td>...</td>\n",
       "      <td>...</td>\n",
       "      <td>...</td>\n",
       "    </tr>\n",
       "    <tr>\n",
       "      <th>199530</th>\n",
       "      <td>ZYBINSA</td>\n",
       "      <td>SENIOR TECHNICAL SPECIALIST</td>\n",
       "      <td>INORGANICS</td>\n",
       "      <td>PRIV:ROLE:BAMP900:HR:ESS:CLAIMS_REIMBURSEMENT</td>\n",
       "    </tr>\n",
       "    <tr>\n",
       "      <th>199531</th>\n",
       "      <td>ZYBINSA</td>\n",
       "      <td>SENIOR TECHNICAL SPECIALIST</td>\n",
       "      <td>INORGANICS</td>\n",
       "      <td>PRIV:ROLE:BGWP960:IT:GW:PASSWORD_SELF_SERVICE</td>\n",
       "    </tr>\n",
       "    <tr>\n",
       "      <th>199532</th>\n",
       "      <td>ZYBINSA</td>\n",
       "      <td>SENIOR TECHNICAL SPECIALIST</td>\n",
       "      <td>INORGANICS</td>\n",
       "      <td>PRIV:ROLE:BAMP900:IT:BUSINESS_JOB_RELEASE_ACCESS</td>\n",
       "    </tr>\n",
       "    <tr>\n",
       "      <th>199533</th>\n",
       "      <td>ZYBINSA</td>\n",
       "      <td>SENIOR TECHNICAL SPECIALIST</td>\n",
       "      <td>INORGANICS</td>\n",
       "      <td>PRIV:ROLE:BGWP960:KS:KITS_CONFERENC_ROOM_BOOKING</td>\n",
       "    </tr>\n",
       "    <tr>\n",
       "      <th>199534</th>\n",
       "      <td>ZYBINSA</td>\n",
       "      <td>SENIOR TECHNICAL SPECIALIST</td>\n",
       "      <td>INORGANICS</td>\n",
       "      <td>PRIV:ROLE:BGWP960:KS:KITS_EMPLOYEE_EQUIPMENT_GRP</td>\n",
       "    </tr>\n",
       "  </tbody>\n",
       "</table>\n",
       "<p>199511 rows × 4 columns</p>\n",
       "</div>"
      ],
      "text/plain": [
       "         user_id                          job  \\\n",
       "0       AALISMNA          POSTDOCTORAL FELLOW   \n",
       "1       AALISMNA          POSTDOCTORAL FELLOW   \n",
       "2       AALISMNA          POSTDOCTORAL FELLOW   \n",
       "3       AALISMNA          POSTDOCTORAL FELLOW   \n",
       "4       AALISMNA          POSTDOCTORAL FELLOW   \n",
       "...          ...                          ...   \n",
       "199530   ZYBINSA  SENIOR TECHNICAL SPECIALIST   \n",
       "199531   ZYBINSA  SENIOR TECHNICAL SPECIALIST   \n",
       "199532   ZYBINSA  SENIOR TECHNICAL SPECIALIST   \n",
       "199533   ZYBINSA  SENIOR TECHNICAL SPECIALIST   \n",
       "199534   ZYBINSA  SENIOR TECHNICAL SPECIALIST   \n",
       "\n",
       "                                     department  \\\n",
       "0       BIOLOGICAL, ENVIRONMENTAL SCIENCE & ENG   \n",
       "1       BIOLOGICAL, ENVIRONMENTAL SCIENCE & ENG   \n",
       "2       BIOLOGICAL, ENVIRONMENTAL SCIENCE & ENG   \n",
       "3       BIOLOGICAL, ENVIRONMENTAL SCIENCE & ENG   \n",
       "4       BIOLOGICAL, ENVIRONMENTAL SCIENCE & ENG   \n",
       "...                                         ...   \n",
       "199530                               INORGANICS   \n",
       "199531                               INORGANICS   \n",
       "199532                               INORGANICS   \n",
       "199533                               INORGANICS   \n",
       "199534                               INORGANICS   \n",
       "\n",
       "                                         privileges_data  \n",
       "0                               PRIV:ROLE:GOOGLE:ACCOUNT  \n",
       "1                              PRIV:ROLE:BAMP900:PB:USER  \n",
       "2                          PRIV:ROLE:BAMP900:RMS:HR_USER  \n",
       "3                         PRIV:ROLE:BGWP960:PB:FIORI_FLP  \n",
       "4                       PRIV:ROLE:BAMP900:FI:TV:TRAVELER  \n",
       "...                                                  ...  \n",
       "199530     PRIV:ROLE:BAMP900:HR:ESS:CLAIMS_REIMBURSEMENT  \n",
       "199531     PRIV:ROLE:BGWP960:IT:GW:PASSWORD_SELF_SERVICE  \n",
       "199532  PRIV:ROLE:BAMP900:IT:BUSINESS_JOB_RELEASE_ACCESS  \n",
       "199533  PRIV:ROLE:BGWP960:KS:KITS_CONFERENC_ROOM_BOOKING  \n",
       "199534  PRIV:ROLE:BGWP960:KS:KITS_EMPLOYEE_EQUIPMENT_GRP  \n",
       "\n",
       "[199511 rows x 4 columns]"
      ]
     },
     "execution_count": 8,
     "metadata": {},
     "output_type": "execute_result"
    }
   ],
   "source": [
    "data"
   ]
  },
  {
   "cell_type": "code",
   "execution_count": 9,
   "metadata": {
    "executionInfo": {
     "elapsed": 12,
     "status": "ok",
     "timestamp": 1649695543429,
     "user": {
      "displayName": "Petar Damianov",
      "userId": "11400996130549296363"
     },
     "user_tz": -180
    },
    "id": "dSBgTgRjYIfz"
   },
   "outputs": [],
   "source": [
    "user_data = data.drop(\"privileges_data\", axis=1)"
   ]
  },
  {
   "cell_type": "code",
   "execution_count": 10,
   "metadata": {
    "colab": {
     "base_uri": "https://localhost:8080/",
     "height": 424
    },
    "executionInfo": {
     "elapsed": 380,
     "status": "ok",
     "timestamp": 1649695543797,
     "user": {
      "displayName": "Petar Damianov",
      "userId": "11400996130549296363"
     },
     "user_tz": -180
    },
    "id": "JU8cTQTSYIf0",
    "outputId": "721ff768-1f56-4368-a33e-755381e1127d"
   },
   "outputs": [
    {
     "data": {
      "text/html": [
       "<div>\n",
       "<style scoped>\n",
       "    .dataframe tbody tr th:only-of-type {\n",
       "        vertical-align: middle;\n",
       "    }\n",
       "\n",
       "    .dataframe tbody tr th {\n",
       "        vertical-align: top;\n",
       "    }\n",
       "\n",
       "    .dataframe thead th {\n",
       "        text-align: right;\n",
       "    }\n",
       "</style>\n",
       "<table border=\"1\" class=\"dataframe\">\n",
       "  <thead>\n",
       "    <tr style=\"text-align: right;\">\n",
       "      <th></th>\n",
       "      <th>user_id</th>\n",
       "      <th>job</th>\n",
       "      <th>department</th>\n",
       "    </tr>\n",
       "  </thead>\n",
       "  <tbody>\n",
       "    <tr>\n",
       "      <th>0</th>\n",
       "      <td>AALISMNA</td>\n",
       "      <td>POSTDOCTORAL FELLOW</td>\n",
       "      <td>BIOLOGICAL, ENVIRONMENTAL SCIENCE &amp; ENG</td>\n",
       "    </tr>\n",
       "    <tr>\n",
       "      <th>1</th>\n",
       "      <td>AALISMNA</td>\n",
       "      <td>POSTDOCTORAL FELLOW</td>\n",
       "      <td>BIOLOGICAL, ENVIRONMENTAL SCIENCE &amp; ENG</td>\n",
       "    </tr>\n",
       "    <tr>\n",
       "      <th>2</th>\n",
       "      <td>AALISMNA</td>\n",
       "      <td>POSTDOCTORAL FELLOW</td>\n",
       "      <td>BIOLOGICAL, ENVIRONMENTAL SCIENCE &amp; ENG</td>\n",
       "    </tr>\n",
       "    <tr>\n",
       "      <th>3</th>\n",
       "      <td>AALISMNA</td>\n",
       "      <td>POSTDOCTORAL FELLOW</td>\n",
       "      <td>BIOLOGICAL, ENVIRONMENTAL SCIENCE &amp; ENG</td>\n",
       "    </tr>\n",
       "    <tr>\n",
       "      <th>4</th>\n",
       "      <td>AALISMNA</td>\n",
       "      <td>POSTDOCTORAL FELLOW</td>\n",
       "      <td>BIOLOGICAL, ENVIRONMENTAL SCIENCE &amp; ENG</td>\n",
       "    </tr>\n",
       "    <tr>\n",
       "      <th>...</th>\n",
       "      <td>...</td>\n",
       "      <td>...</td>\n",
       "      <td>...</td>\n",
       "    </tr>\n",
       "    <tr>\n",
       "      <th>199530</th>\n",
       "      <td>ZYBINSA</td>\n",
       "      <td>SENIOR TECHNICAL SPECIALIST</td>\n",
       "      <td>INORGANICS</td>\n",
       "    </tr>\n",
       "    <tr>\n",
       "      <th>199531</th>\n",
       "      <td>ZYBINSA</td>\n",
       "      <td>SENIOR TECHNICAL SPECIALIST</td>\n",
       "      <td>INORGANICS</td>\n",
       "    </tr>\n",
       "    <tr>\n",
       "      <th>199532</th>\n",
       "      <td>ZYBINSA</td>\n",
       "      <td>SENIOR TECHNICAL SPECIALIST</td>\n",
       "      <td>INORGANICS</td>\n",
       "    </tr>\n",
       "    <tr>\n",
       "      <th>199533</th>\n",
       "      <td>ZYBINSA</td>\n",
       "      <td>SENIOR TECHNICAL SPECIALIST</td>\n",
       "      <td>INORGANICS</td>\n",
       "    </tr>\n",
       "    <tr>\n",
       "      <th>199534</th>\n",
       "      <td>ZYBINSA</td>\n",
       "      <td>SENIOR TECHNICAL SPECIALIST</td>\n",
       "      <td>INORGANICS</td>\n",
       "    </tr>\n",
       "  </tbody>\n",
       "</table>\n",
       "<p>199511 rows × 3 columns</p>\n",
       "</div>"
      ],
      "text/plain": [
       "         user_id                          job  \\\n",
       "0       AALISMNA          POSTDOCTORAL FELLOW   \n",
       "1       AALISMNA          POSTDOCTORAL FELLOW   \n",
       "2       AALISMNA          POSTDOCTORAL FELLOW   \n",
       "3       AALISMNA          POSTDOCTORAL FELLOW   \n",
       "4       AALISMNA          POSTDOCTORAL FELLOW   \n",
       "...          ...                          ...   \n",
       "199530   ZYBINSA  SENIOR TECHNICAL SPECIALIST   \n",
       "199531   ZYBINSA  SENIOR TECHNICAL SPECIALIST   \n",
       "199532   ZYBINSA  SENIOR TECHNICAL SPECIALIST   \n",
       "199533   ZYBINSA  SENIOR TECHNICAL SPECIALIST   \n",
       "199534   ZYBINSA  SENIOR TECHNICAL SPECIALIST   \n",
       "\n",
       "                                     department  \n",
       "0       BIOLOGICAL, ENVIRONMENTAL SCIENCE & ENG  \n",
       "1       BIOLOGICAL, ENVIRONMENTAL SCIENCE & ENG  \n",
       "2       BIOLOGICAL, ENVIRONMENTAL SCIENCE & ENG  \n",
       "3       BIOLOGICAL, ENVIRONMENTAL SCIENCE & ENG  \n",
       "4       BIOLOGICAL, ENVIRONMENTAL SCIENCE & ENG  \n",
       "...                                         ...  \n",
       "199530                               INORGANICS  \n",
       "199531                               INORGANICS  \n",
       "199532                               INORGANICS  \n",
       "199533                               INORGANICS  \n",
       "199534                               INORGANICS  \n",
       "\n",
       "[199511 rows x 3 columns]"
      ]
     },
     "execution_count": 10,
     "metadata": {},
     "output_type": "execute_result"
    }
   ],
   "source": [
    "user_data"
   ]
  },
  {
   "cell_type": "code",
   "execution_count": 11,
   "metadata": {
    "executionInfo": {
     "elapsed": 5,
     "status": "ok",
     "timestamp": 1649695543797,
     "user": {
      "displayName": "Petar Damianov",
      "userId": "11400996130549296363"
     },
     "user_tz": -180
    },
    "id": "cnS6KHaJYIf1"
   },
   "outputs": [],
   "source": [
    "privileges_data = pd.DataFrame(data[\"privileges_data\"])"
   ]
  },
  {
   "cell_type": "code",
   "execution_count": 12,
   "metadata": {
    "executionInfo": {
     "elapsed": 4,
     "status": "ok",
     "timestamp": 1649695543797,
     "user": {
      "displayName": "Petar Damianov",
      "userId": "11400996130549296363"
     },
     "user_tz": -180
    },
    "id": "Vr-MWXBGYIf1"
   },
   "outputs": [],
   "source": [
    "privileges_data.privileges_data = privileges_data[\"privileges_data\"].str[10:]"
   ]
  },
  {
   "cell_type": "markdown",
   "metadata": {
    "id": "hUdsKMtxYIf2"
   },
   "source": [
    "I saw anomaly in data where in some of the records there is ::(double) symbols so i need to remove it so the data is clear"
   ]
  },
  {
   "cell_type": "code",
   "execution_count": 13,
   "metadata": {
    "executionInfo": {
     "elapsed": 5,
     "status": "ok",
     "timestamp": 1649695543798,
     "user": {
      "displayName": "Petar Damianov",
      "userId": "11400996130549296363"
     },
     "user_tz": -180
    },
    "id": "9eUxhUiYYIf2"
   },
   "outputs": [],
   "source": [
    "for indx in privileges_data[privileges_data[\"privileges_data\"].str.startswith(\":\")].index.tolist():\n",
    "    privileges_data.loc[indx].privileges_data = privileges_data.loc[indx].privileges_data[1:]"
   ]
  },
  {
   "cell_type": "code",
   "execution_count": 14,
   "metadata": {
    "colab": {
     "base_uri": "https://localhost:8080/"
    },
    "executionInfo": {
     "elapsed": 5,
     "status": "ok",
     "timestamp": 1649695543798,
     "user": {
      "displayName": "Petar Damianov",
      "userId": "11400996130549296363"
     },
     "user_tz": -180
    },
    "id": "p32Qc1u7YIf3",
    "outputId": "bc8044da-6526-4a74-8a38-801c7813ab48"
   },
   "outputs": [
    {
     "data": {
      "text/plain": [
       "0"
      ]
     },
     "execution_count": 14,
     "metadata": {},
     "output_type": "execute_result"
    }
   ],
   "source": [
    "len(privileges_data.loc[privileges_data[\"privileges_data\"].str.startswith(\":\")].privileges_data)"
   ]
  },
  {
   "cell_type": "code",
   "execution_count": 15,
   "metadata": {
    "colab": {
     "base_uri": "https://localhost:8080/",
     "height": 424
    },
    "executionInfo": {
     "elapsed": 269,
     "status": "ok",
     "timestamp": 1649695544064,
     "user": {
      "displayName": "Petar Damianov",
      "userId": "11400996130549296363"
     },
     "user_tz": -180
    },
    "id": "502T8J4VYIf3",
    "outputId": "d2616e69-35f7-4acb-9e3f-a571f5cf0433"
   },
   "outputs": [
    {
     "data": {
      "text/html": [
       "<div>\n",
       "<style scoped>\n",
       "    .dataframe tbody tr th:only-of-type {\n",
       "        vertical-align: middle;\n",
       "    }\n",
       "\n",
       "    .dataframe tbody tr th {\n",
       "        vertical-align: top;\n",
       "    }\n",
       "\n",
       "    .dataframe thead th {\n",
       "        text-align: right;\n",
       "    }\n",
       "</style>\n",
       "<table border=\"1\" class=\"dataframe\">\n",
       "  <thead>\n",
       "    <tr style=\"text-align: right;\">\n",
       "      <th></th>\n",
       "      <th>privileges_data</th>\n",
       "    </tr>\n",
       "  </thead>\n",
       "  <tbody>\n",
       "    <tr>\n",
       "      <th>0</th>\n",
       "      <td>GOOGLE:ACCOUNT</td>\n",
       "    </tr>\n",
       "    <tr>\n",
       "      <th>1</th>\n",
       "      <td>BAMP900:PB:USER</td>\n",
       "    </tr>\n",
       "    <tr>\n",
       "      <th>2</th>\n",
       "      <td>BAMP900:RMS:HR_USER</td>\n",
       "    </tr>\n",
       "    <tr>\n",
       "      <th>3</th>\n",
       "      <td>BGWP960:PB:FIORI_FLP</td>\n",
       "    </tr>\n",
       "    <tr>\n",
       "      <th>4</th>\n",
       "      <td>BAMP900:FI:TV:TRAVELER</td>\n",
       "    </tr>\n",
       "    <tr>\n",
       "      <th>...</th>\n",
       "      <td>...</td>\n",
       "    </tr>\n",
       "    <tr>\n",
       "      <th>199530</th>\n",
       "      <td>BAMP900:HR:ESS:CLAIMS_REIMBURSEMENT</td>\n",
       "    </tr>\n",
       "    <tr>\n",
       "      <th>199531</th>\n",
       "      <td>BGWP960:IT:GW:PASSWORD_SELF_SERVICE</td>\n",
       "    </tr>\n",
       "    <tr>\n",
       "      <th>199532</th>\n",
       "      <td>BAMP900:IT:BUSINESS_JOB_RELEASE_ACCESS</td>\n",
       "    </tr>\n",
       "    <tr>\n",
       "      <th>199533</th>\n",
       "      <td>BGWP960:KS:KITS_CONFERENC_ROOM_BOOKING</td>\n",
       "    </tr>\n",
       "    <tr>\n",
       "      <th>199534</th>\n",
       "      <td>BGWP960:KS:KITS_EMPLOYEE_EQUIPMENT_GRP</td>\n",
       "    </tr>\n",
       "  </tbody>\n",
       "</table>\n",
       "<p>199511 rows × 1 columns</p>\n",
       "</div>"
      ],
      "text/plain": [
       "                               privileges_data\n",
       "0                               GOOGLE:ACCOUNT\n",
       "1                              BAMP900:PB:USER\n",
       "2                          BAMP900:RMS:HR_USER\n",
       "3                         BGWP960:PB:FIORI_FLP\n",
       "4                       BAMP900:FI:TV:TRAVELER\n",
       "...                                        ...\n",
       "199530     BAMP900:HR:ESS:CLAIMS_REIMBURSEMENT\n",
       "199531     BGWP960:IT:GW:PASSWORD_SELF_SERVICE\n",
       "199532  BAMP900:IT:BUSINESS_JOB_RELEASE_ACCESS\n",
       "199533  BGWP960:KS:KITS_CONFERENC_ROOM_BOOKING\n",
       "199534  BGWP960:KS:KITS_EMPLOYEE_EQUIPMENT_GRP\n",
       "\n",
       "[199511 rows x 1 columns]"
      ]
     },
     "execution_count": 15,
     "metadata": {},
     "output_type": "execute_result"
    }
   ],
   "source": [
    "privileges_data"
   ]
  },
  {
   "cell_type": "code",
   "execution_count": 16,
   "metadata": {
    "executionInfo": {
     "elapsed": 692,
     "status": "ok",
     "timestamp": 1649695544753,
     "user": {
      "displayName": "Petar Damianov",
      "userId": "11400996130549296363"
     },
     "user_tz": -180
    },
    "id": "SjNmuePOYIf4"
   },
   "outputs": [],
   "source": [
    "privileges_data['priv'] = privileges_data['privileges_data']\n",
    "privileges_data['system_name'] = privileges_data['privileges_data'].str.split(':', 1, expand=True)[0]"
   ]
  },
  {
   "cell_type": "code",
   "execution_count": 17,
   "metadata": {
    "executionInfo": {
     "elapsed": 6,
     "status": "ok",
     "timestamp": 1649695544755,
     "user": {
      "displayName": "Petar Damianov",
      "userId": "11400996130549296363"
     },
     "user_tz": -180
    },
    "id": "H0bdkChrYIf4"
   },
   "outputs": [],
   "source": [
    "privileges_data = privileges_data.drop('privileges_data', axis=1)"
   ]
  },
  {
   "cell_type": "code",
   "execution_count": 18,
   "metadata": {
    "colab": {
     "base_uri": "https://localhost:8080/",
     "height": 424
    },
    "executionInfo": {
     "elapsed": 5,
     "status": "ok",
     "timestamp": 1649695544755,
     "user": {
      "displayName": "Petar Damianov",
      "userId": "11400996130549296363"
     },
     "user_tz": -180
    },
    "id": "9NDSKybEYIf5",
    "outputId": "a3623d12-4046-462c-bcc2-601aaa3d9b7a"
   },
   "outputs": [
    {
     "data": {
      "text/html": [
       "<div>\n",
       "<style scoped>\n",
       "    .dataframe tbody tr th:only-of-type {\n",
       "        vertical-align: middle;\n",
       "    }\n",
       "\n",
       "    .dataframe tbody tr th {\n",
       "        vertical-align: top;\n",
       "    }\n",
       "\n",
       "    .dataframe thead th {\n",
       "        text-align: right;\n",
       "    }\n",
       "</style>\n",
       "<table border=\"1\" class=\"dataframe\">\n",
       "  <thead>\n",
       "    <tr style=\"text-align: right;\">\n",
       "      <th></th>\n",
       "      <th>priv</th>\n",
       "      <th>system_name</th>\n",
       "    </tr>\n",
       "  </thead>\n",
       "  <tbody>\n",
       "    <tr>\n",
       "      <th>0</th>\n",
       "      <td>GOOGLE:ACCOUNT</td>\n",
       "      <td>GOOGLE</td>\n",
       "    </tr>\n",
       "    <tr>\n",
       "      <th>1</th>\n",
       "      <td>BAMP900:PB:USER</td>\n",
       "      <td>BAMP900</td>\n",
       "    </tr>\n",
       "    <tr>\n",
       "      <th>2</th>\n",
       "      <td>BAMP900:RMS:HR_USER</td>\n",
       "      <td>BAMP900</td>\n",
       "    </tr>\n",
       "    <tr>\n",
       "      <th>3</th>\n",
       "      <td>BGWP960:PB:FIORI_FLP</td>\n",
       "      <td>BGWP960</td>\n",
       "    </tr>\n",
       "    <tr>\n",
       "      <th>4</th>\n",
       "      <td>BAMP900:FI:TV:TRAVELER</td>\n",
       "      <td>BAMP900</td>\n",
       "    </tr>\n",
       "    <tr>\n",
       "      <th>...</th>\n",
       "      <td>...</td>\n",
       "      <td>...</td>\n",
       "    </tr>\n",
       "    <tr>\n",
       "      <th>199530</th>\n",
       "      <td>BAMP900:HR:ESS:CLAIMS_REIMBURSEMENT</td>\n",
       "      <td>BAMP900</td>\n",
       "    </tr>\n",
       "    <tr>\n",
       "      <th>199531</th>\n",
       "      <td>BGWP960:IT:GW:PASSWORD_SELF_SERVICE</td>\n",
       "      <td>BGWP960</td>\n",
       "    </tr>\n",
       "    <tr>\n",
       "      <th>199532</th>\n",
       "      <td>BAMP900:IT:BUSINESS_JOB_RELEASE_ACCESS</td>\n",
       "      <td>BAMP900</td>\n",
       "    </tr>\n",
       "    <tr>\n",
       "      <th>199533</th>\n",
       "      <td>BGWP960:KS:KITS_CONFERENC_ROOM_BOOKING</td>\n",
       "      <td>BGWP960</td>\n",
       "    </tr>\n",
       "    <tr>\n",
       "      <th>199534</th>\n",
       "      <td>BGWP960:KS:KITS_EMPLOYEE_EQUIPMENT_GRP</td>\n",
       "      <td>BGWP960</td>\n",
       "    </tr>\n",
       "  </tbody>\n",
       "</table>\n",
       "<p>199511 rows × 2 columns</p>\n",
       "</div>"
      ],
      "text/plain": [
       "                                          priv system_name\n",
       "0                               GOOGLE:ACCOUNT      GOOGLE\n",
       "1                              BAMP900:PB:USER     BAMP900\n",
       "2                          BAMP900:RMS:HR_USER     BAMP900\n",
       "3                         BGWP960:PB:FIORI_FLP     BGWP960\n",
       "4                       BAMP900:FI:TV:TRAVELER     BAMP900\n",
       "...                                        ...         ...\n",
       "199530     BAMP900:HR:ESS:CLAIMS_REIMBURSEMENT     BAMP900\n",
       "199531     BGWP960:IT:GW:PASSWORD_SELF_SERVICE     BGWP960\n",
       "199532  BAMP900:IT:BUSINESS_JOB_RELEASE_ACCESS     BAMP900\n",
       "199533  BGWP960:KS:KITS_CONFERENC_ROOM_BOOKING     BGWP960\n",
       "199534  BGWP960:KS:KITS_EMPLOYEE_EQUIPMENT_GRP     BGWP960\n",
       "\n",
       "[199511 rows x 2 columns]"
      ]
     },
     "execution_count": 18,
     "metadata": {},
     "output_type": "execute_result"
    }
   ],
   "source": [
    "privileges_data"
   ]
  },
  {
   "cell_type": "code",
   "execution_count": 19,
   "metadata": {
    "executionInfo": {
     "elapsed": 5,
     "status": "ok",
     "timestamp": 1649695544755,
     "user": {
      "displayName": "Petar Damianov",
      "userId": "11400996130549296363"
     },
     "user_tz": -180
    },
    "id": "dWJTAXSjYIf5"
   },
   "outputs": [],
   "source": [
    "user_data['system_name'] = privileges_data['system_name']\n",
    "user_data['priv'] = privileges_data['priv']"
   ]
  },
  {
   "cell_type": "code",
   "execution_count": 20,
   "metadata": {
    "executionInfo": {
     "elapsed": 378,
     "status": "ok",
     "timestamp": 1649695545129,
     "user": {
      "displayName": "Petar Damianov",
      "userId": "11400996130549296363"
     },
     "user_tz": -180
    },
    "id": "TNMc5z-WYIf6"
   },
   "outputs": [],
   "source": [
    "job=\"POSTDOCTORAL FELLOW\"\n",
    "department=\"BIOLOGICAL, ENVIRONMENTAL SCIENCE & ENG\"\n",
    "\n",
    "segmentated_data = user_data.where((user_data.job == job) & (user_data.department == department))\n",
    "segmentated_data.dropna(inplace=True)"
   ]
  },
  {
   "cell_type": "code",
   "execution_count": 21,
   "metadata": {
    "colab": {
     "base_uri": "https://localhost:8080/",
     "height": 641
    },
    "executionInfo": {
     "elapsed": 14,
     "status": "ok",
     "timestamp": 1649695545130,
     "user": {
      "displayName": "Petar Damianov",
      "userId": "11400996130549296363"
     },
     "user_tz": -180
    },
    "id": "a6yFeU1JYIf6",
    "outputId": "cba5e3dd-3958-4f86-d9c4-7a76dcde4435"
   },
   "outputs": [
    {
     "data": {
      "text/html": [
       "<div>\n",
       "<style scoped>\n",
       "    .dataframe tbody tr th:only-of-type {\n",
       "        vertical-align: middle;\n",
       "    }\n",
       "\n",
       "    .dataframe tbody tr th {\n",
       "        vertical-align: top;\n",
       "    }\n",
       "\n",
       "    .dataframe thead th {\n",
       "        text-align: right;\n",
       "    }\n",
       "</style>\n",
       "<table border=\"1\" class=\"dataframe\">\n",
       "  <thead>\n",
       "    <tr style=\"text-align: right;\">\n",
       "      <th></th>\n",
       "      <th>user_id</th>\n",
       "      <th>job</th>\n",
       "      <th>department</th>\n",
       "      <th>system_name</th>\n",
       "      <th>priv</th>\n",
       "    </tr>\n",
       "  </thead>\n",
       "  <tbody>\n",
       "    <tr>\n",
       "      <th>0</th>\n",
       "      <td>AALISMNA</td>\n",
       "      <td>POSTDOCTORAL FELLOW</td>\n",
       "      <td>BIOLOGICAL, ENVIRONMENTAL SCIENCE &amp; ENG</td>\n",
       "      <td>GOOGLE</td>\n",
       "      <td>GOOGLE:ACCOUNT</td>\n",
       "    </tr>\n",
       "    <tr>\n",
       "      <th>1</th>\n",
       "      <td>AALISMNA</td>\n",
       "      <td>POSTDOCTORAL FELLOW</td>\n",
       "      <td>BIOLOGICAL, ENVIRONMENTAL SCIENCE &amp; ENG</td>\n",
       "      <td>BAMP900</td>\n",
       "      <td>BAMP900:PB:USER</td>\n",
       "    </tr>\n",
       "    <tr>\n",
       "      <th>2</th>\n",
       "      <td>AALISMNA</td>\n",
       "      <td>POSTDOCTORAL FELLOW</td>\n",
       "      <td>BIOLOGICAL, ENVIRONMENTAL SCIENCE &amp; ENG</td>\n",
       "      <td>BAMP900</td>\n",
       "      <td>BAMP900:RMS:HR_USER</td>\n",
       "    </tr>\n",
       "    <tr>\n",
       "      <th>3</th>\n",
       "      <td>AALISMNA</td>\n",
       "      <td>POSTDOCTORAL FELLOW</td>\n",
       "      <td>BIOLOGICAL, ENVIRONMENTAL SCIENCE &amp; ENG</td>\n",
       "      <td>BGWP960</td>\n",
       "      <td>BGWP960:PB:FIORI_FLP</td>\n",
       "    </tr>\n",
       "    <tr>\n",
       "      <th>4</th>\n",
       "      <td>AALISMNA</td>\n",
       "      <td>POSTDOCTORAL FELLOW</td>\n",
       "      <td>BIOLOGICAL, ENVIRONMENTAL SCIENCE &amp; ENG</td>\n",
       "      <td>BAMP900</td>\n",
       "      <td>BAMP900:FI:TV:TRAVELER</td>\n",
       "    </tr>\n",
       "    <tr>\n",
       "      <th>...</th>\n",
       "      <td>...</td>\n",
       "      <td>...</td>\n",
       "      <td>...</td>\n",
       "      <td>...</td>\n",
       "      <td>...</td>\n",
       "    </tr>\n",
       "    <tr>\n",
       "      <th>198873</th>\n",
       "      <td>ZIAA</td>\n",
       "      <td>POSTDOCTORAL FELLOW</td>\n",
       "      <td>BIOLOGICAL, ENVIRONMENTAL SCIENCE &amp; ENG</td>\n",
       "      <td>BGWP960</td>\n",
       "      <td>BGWP960:HR:GW:CLAIMS_TRAVEL_OLD_TIL</td>\n",
       "    </tr>\n",
       "    <tr>\n",
       "      <th>198874</th>\n",
       "      <td>ZIAA</td>\n",
       "      <td>POSTDOCTORAL FELLOW</td>\n",
       "      <td>BIOLOGICAL, ENVIRONMENTAL SCIENCE &amp; ENG</td>\n",
       "      <td>BGWP960</td>\n",
       "      <td>BGWP960:IT:GW:PASSWORD_SELF_SERVICE</td>\n",
       "    </tr>\n",
       "    <tr>\n",
       "      <th>198875</th>\n",
       "      <td>ZIAA</td>\n",
       "      <td>POSTDOCTORAL FELLOW</td>\n",
       "      <td>BIOLOGICAL, ENVIRONMENTAL SCIENCE &amp; ENG</td>\n",
       "      <td>BAMP900</td>\n",
       "      <td>BAMP900:IT:BUSINESS_JOB_RELEASE_ACCESS</td>\n",
       "    </tr>\n",
       "    <tr>\n",
       "      <th>198876</th>\n",
       "      <td>ZIAA</td>\n",
       "      <td>POSTDOCTORAL FELLOW</td>\n",
       "      <td>BIOLOGICAL, ENVIRONMENTAL SCIENCE &amp; ENG</td>\n",
       "      <td>BGWP960</td>\n",
       "      <td>BGWP960:KS:KITS_CONFERENC_ROOM_BOOKING</td>\n",
       "    </tr>\n",
       "    <tr>\n",
       "      <th>198877</th>\n",
       "      <td>ZIAA</td>\n",
       "      <td>POSTDOCTORAL FELLOW</td>\n",
       "      <td>BIOLOGICAL, ENVIRONMENTAL SCIENCE &amp; ENG</td>\n",
       "      <td>BGWP960</td>\n",
       "      <td>BGWP960:KS:KITS_EMPLOYEE_EQUIPMENT_GRP</td>\n",
       "    </tr>\n",
       "  </tbody>\n",
       "</table>\n",
       "<p>2199 rows × 5 columns</p>\n",
       "</div>"
      ],
      "text/plain": [
       "         user_id                  job  \\\n",
       "0       AALISMNA  POSTDOCTORAL FELLOW   \n",
       "1       AALISMNA  POSTDOCTORAL FELLOW   \n",
       "2       AALISMNA  POSTDOCTORAL FELLOW   \n",
       "3       AALISMNA  POSTDOCTORAL FELLOW   \n",
       "4       AALISMNA  POSTDOCTORAL FELLOW   \n",
       "...          ...                  ...   \n",
       "198873      ZIAA  POSTDOCTORAL FELLOW   \n",
       "198874      ZIAA  POSTDOCTORAL FELLOW   \n",
       "198875      ZIAA  POSTDOCTORAL FELLOW   \n",
       "198876      ZIAA  POSTDOCTORAL FELLOW   \n",
       "198877      ZIAA  POSTDOCTORAL FELLOW   \n",
       "\n",
       "                                     department system_name  \\\n",
       "0       BIOLOGICAL, ENVIRONMENTAL SCIENCE & ENG      GOOGLE   \n",
       "1       BIOLOGICAL, ENVIRONMENTAL SCIENCE & ENG     BAMP900   \n",
       "2       BIOLOGICAL, ENVIRONMENTAL SCIENCE & ENG     BAMP900   \n",
       "3       BIOLOGICAL, ENVIRONMENTAL SCIENCE & ENG     BGWP960   \n",
       "4       BIOLOGICAL, ENVIRONMENTAL SCIENCE & ENG     BAMP900   \n",
       "...                                         ...         ...   \n",
       "198873  BIOLOGICAL, ENVIRONMENTAL SCIENCE & ENG     BGWP960   \n",
       "198874  BIOLOGICAL, ENVIRONMENTAL SCIENCE & ENG     BGWP960   \n",
       "198875  BIOLOGICAL, ENVIRONMENTAL SCIENCE & ENG     BAMP900   \n",
       "198876  BIOLOGICAL, ENVIRONMENTAL SCIENCE & ENG     BGWP960   \n",
       "198877  BIOLOGICAL, ENVIRONMENTAL SCIENCE & ENG     BGWP960   \n",
       "\n",
       "                                          priv  \n",
       "0                               GOOGLE:ACCOUNT  \n",
       "1                              BAMP900:PB:USER  \n",
       "2                          BAMP900:RMS:HR_USER  \n",
       "3                         BGWP960:PB:FIORI_FLP  \n",
       "4                       BAMP900:FI:TV:TRAVELER  \n",
       "...                                        ...  \n",
       "198873     BGWP960:HR:GW:CLAIMS_TRAVEL_OLD_TIL  \n",
       "198874     BGWP960:IT:GW:PASSWORD_SELF_SERVICE  \n",
       "198875  BAMP900:IT:BUSINESS_JOB_RELEASE_ACCESS  \n",
       "198876  BGWP960:KS:KITS_CONFERENC_ROOM_BOOKING  \n",
       "198877  BGWP960:KS:KITS_EMPLOYEE_EQUIPMENT_GRP  \n",
       "\n",
       "[2199 rows x 5 columns]"
      ]
     },
     "execution_count": 21,
     "metadata": {},
     "output_type": "execute_result"
    }
   ],
   "source": [
    "segmentated_data"
   ]
  },
  {
   "cell_type": "code",
   "execution_count": 22,
   "metadata": {
    "executionInfo": {
     "elapsed": 13,
     "status": "ok",
     "timestamp": 1649695545130,
     "user": {
      "displayName": "Petar Damianov",
      "userId": "11400996130549296363"
     },
     "user_tz": -180
    },
    "id": "v-wVYzB0YIf7"
   },
   "outputs": [],
   "source": [
    "avarege_count = int(segmentated_data.priv.value_counts().sum() / len(segmentated_data.priv.value_counts()))\n",
    "count = 0\n",
    "for p_c in segmentated_data.priv.value_counts():\n",
    "    if p_c < avarege_count:\n",
    "        break\n",
    "    count += 1\n",
    "priv_list = segmentated_data.priv.value_counts().index.tolist()[:count]"
   ]
  },
  {
   "cell_type": "code",
   "execution_count": null,
   "metadata": {
    "executionInfo": {
     "elapsed": 13,
     "status": "ok",
     "timestamp": 1649695545131,
     "user": {
      "displayName": "Petar Damianov",
      "userId": "11400996130549296363"
     },
     "user_tz": -180
    },
    "id": "EyifcKZPYIf7"
   },
   "outputs": [],
   "source": []
  },
  {
   "cell_type": "code",
   "execution_count": 23,
   "metadata": {
    "colab": {
     "base_uri": "https://localhost:8080/"
    },
    "executionInfo": {
     "elapsed": 13,
     "status": "ok",
     "timestamp": 1649695545131,
     "user": {
      "displayName": "Petar Damianov",
      "userId": "11400996130549296363"
     },
     "user_tz": -180
    },
    "id": "BvEfIo06YIf7",
    "outputId": "feae0c17-386f-4bc5-baf7-e45bb5aefe36"
   },
   "outputs": [
    {
     "data": {
      "text/plain": [
       "['BGRP940:GRAC:BUSINESS_ENDUSERS',\n",
       " 'BGWP960:IT:GW:KAUST_ACCES_REQUEST',\n",
       " 'BGWP960:IT:GW:PASSWORD_SELF_SERVICE',\n",
       " 'SMP600:SM:ITSM:SELF_SERVICE',\n",
       " 'SMP600:SM:ITSM:CREATE_INTERACTION',\n",
       " 'BAMP900:HR:ESS:CLAIMS_REIMBURSEMENT',\n",
       " 'BGWP960:GA:GASC_MYREQUEST',\n",
       " 'BGWP960:IT:FIORI_INBOX_APPROVAL',\n",
       " 'BGWP960:KS:KITS_EMPLOYEE_EQUIPMENT_GRP',\n",
       " 'BGRP940:GRAC:END_USERS_BASE',\n",
       " 'BGWP960:KAUST:END_USERS',\n",
       " 'BGRP940:KAUST:END_USERS',\n",
       " 'BAMP900:RMS:HR_USER',\n",
       " 'SMP600:KAUST:END_USERS',\n",
       " 'BGWP960:KS:KITS_CONFERENC_ROOM_BOOKING',\n",
       " 'BGWP960:IT:GW:END_USER',\n",
       " 'BAMP900:IT:BUSINESS_JOB_RELEASE_ACCESS',\n",
       " 'BAMP900:FI:TV:TRAVELER',\n",
       " 'BAMP900:KAUST:END_USERS',\n",
       " 'BGWP960:KS:KITS_SECURITY_SERVICES',\n",
       " 'BGWP960:PB:FIORI_FLP',\n",
       " 'BAMP900:HR:ESS:EMP_SELF_SERVICE',\n",
       " 'GOOGLE:ACCOUNT',\n",
       " 'BGWP960:GA:GASC_REQUESTER',\n",
       " 'BAMP900:PB:USER',\n",
       " 'BAMP900:IT:UWL:ENDUSER',\n",
       " 'BAMP900:SLCM:RM_END_USER',\n",
       " 'BAMP900:RMS:TV:HR_USER',\n",
       " 'BGWP960:HR:GW:EMP_SELF_SERVICE',\n",
       " 'BGWP960:KS:KITS_EMAIL_SERVICES',\n",
       " 'BGWP960:IT:GW:USER_NOTIF',\n",
       " 'BGWP960:IT:GW:USER_REPORTS',\n",
       " 'BGWP960:IT:GW:USER_WORKFLOW']"
      ]
     },
     "execution_count": 23,
     "metadata": {},
     "output_type": "execute_result"
    }
   ],
   "source": [
    "priv_list"
   ]
  },
  {
   "cell_type": "markdown",
   "metadata": {
    "id": "K0j4oU3SYIf8"
   },
   "source": [
    "### Get information about dataset properties"
   ]
  },
  {
   "cell_type": "markdown",
   "metadata": {
    "id": "QVK_NWejYIf8"
   },
   "source": [
    "#### Get columns"
   ]
  },
  {
   "cell_type": "code",
   "execution_count": 24,
   "metadata": {
    "colab": {
     "base_uri": "https://localhost:8080/"
    },
    "executionInfo": {
     "elapsed": 11,
     "status": "ok",
     "timestamp": 1649695545132,
     "user": {
      "displayName": "Petar Damianov",
      "userId": "11400996130549296363"
     },
     "user_tz": -180
    },
    "id": "2FDe1jkEYIf8",
    "outputId": "c9957bc5-5410-480d-b84e-f24cb94a1774"
   },
   "outputs": [
    {
     "data": {
      "text/plain": [
       "Index(['user_id', 'job', 'department', 'system_name', 'priv'], dtype='object')"
      ]
     },
     "execution_count": 24,
     "metadata": {},
     "output_type": "execute_result"
    }
   ],
   "source": [
    "user_data.columns"
   ]
  },
  {
   "cell_type": "markdown",
   "metadata": {
    "id": "mW4XUce3YIf9"
   },
   "source": [
    "#### Get unique attributes in every column"
   ]
  },
  {
   "cell_type": "code",
   "execution_count": 25,
   "metadata": {
    "colab": {
     "base_uri": "https://localhost:8080/"
    },
    "executionInfo": {
     "elapsed": 347,
     "status": "ok",
     "timestamp": 1649695545471,
     "user": {
      "displayName": "Petar Damianov",
      "userId": "11400996130549296363"
     },
     "user_tz": -180
    },
    "id": "jHaguU7HYIf9",
    "outputId": "4d7b49f8-659b-4e0e-860c-4b30d985df00"
   },
   "outputs": [
    {
     "name": "stdout",
     "output_type": "stream",
     "text": [
      "user_id 6784\n",
      "job 1581\n",
      "department 463\n",
      "system_name 9\n",
      "priv 2122\n"
     ]
    }
   ],
   "source": [
    "for c in user_data.columns:\n",
    "    print(c, len(user_data[c].value_counts()))"
   ]
  },
  {
   "cell_type": "markdown",
   "metadata": {
    "id": "U679JxZdYIf-"
   },
   "source": [
    "#### Get unique privileges count for every system "
   ]
  },
  {
   "cell_type": "code",
   "execution_count": 26,
   "metadata": {
    "colab": {
     "base_uri": "https://localhost:8080/"
    },
    "executionInfo": {
     "elapsed": 259,
     "status": "ok",
     "timestamp": 1649695545727,
     "user": {
      "displayName": "Petar Damianov",
      "userId": "11400996130549296363"
     },
     "user_tz": -180
    },
    "id": "u1BT5T9jYIf-",
    "outputId": "3930218d-cc25-4ee6-9c39-dc5732b2dd07"
   },
   "outputs": [
    {
     "name": "stdout",
     "output_type": "stream",
     "text": [
      "GOOGLE 1\n",
      "BAMP900 1751\n",
      "BGWP960 71\n",
      "SMP600 22\n",
      "BGRP940 7\n",
      "EMP980 57\n",
      "BMP950 210\n",
      "BCMP970 2\n",
      "IT 1\n",
      "Uniqua privs for every system count =  2122\n"
     ]
    }
   ],
   "source": [
    "system_privs_count = 0\n",
    "for s in user_data.system_name.unique():\n",
    "    print(s, len(user_data[user_data.system_name == s].priv.unique()))\n",
    "    system_privs_count += len(user_data[user_data.system_name == s].priv.unique())\n",
    "\n",
    "print(\"Uniqua privs for every system count = \", system_privs_count)"
   ]
  },
  {
   "cell_type": "markdown",
   "metadata": {
    "id": "ocMocfF1YIf-"
   },
   "source": [
    "#### get how many times system occurs in data"
   ]
  },
  {
   "cell_type": "code",
   "execution_count": 27,
   "metadata": {
    "colab": {
     "base_uri": "https://localhost:8080/"
    },
    "executionInfo": {
     "elapsed": 4,
     "status": "ok",
     "timestamp": 1649695545727,
     "user": {
      "displayName": "Petar Damianov",
      "userId": "11400996130549296363"
     },
     "user_tz": -180
    },
    "id": "Zco2MvK2YIf_",
    "outputId": "ebc0d7d5-4f16-4db5-e350-ddd94776a374"
   },
   "outputs": [
    {
     "data": {
      "text/plain": [
       "BGWP960    79886\n",
       "BAMP900    77340\n",
       "SMP600     16348\n",
       "BGRP940    14272\n",
       "EMP980      5542\n",
       "BMP950      3642\n",
       "GOOGLE      2406\n",
       "BCMP970       66\n",
       "IT             9\n",
       "Name: system_name, dtype: int64"
      ]
     },
     "execution_count": 27,
     "metadata": {},
     "output_type": "execute_result"
    }
   ],
   "source": [
    "user_data.system_name.value_counts()"
   ]
  },
  {
   "cell_type": "markdown",
   "metadata": {
    "id": "p76rqOrMYIf_"
   },
   "source": [
    "We can conclude that BCMP970 and IT systems contains special privileges for just one certain department and job"
   ]
  },
  {
   "cell_type": "markdown",
   "metadata": {
    "id": "5akVzgjSYIf_"
   },
   "source": [
    "#### get data about privileges. Are there privileges which are the same for various systems"
   ]
  },
  {
   "cell_type": "code",
   "execution_count": 28,
   "metadata": {
    "colab": {
     "base_uri": "https://localhost:8080/"
    },
    "executionInfo": {
     "elapsed": 316,
     "status": "ok",
     "timestamp": 1649695546040,
     "user": {
      "displayName": "Petar Damianov",
      "userId": "11400996130549296363"
     },
     "user_tz": -180
    },
    "id": "6a16ny2qYIgA",
    "outputId": "804ab6c2-ea20-4af3-f569-50fe8a62ac34"
   },
   "outputs": [
    {
     "data": {
      "text/plain": [
       "0"
      ]
     },
     "execution_count": 28,
     "metadata": {},
     "output_type": "execute_result"
    }
   ],
   "source": [
    "system_privs_count - len(user_data.priv.unique())"
   ]
  },
  {
   "cell_type": "markdown",
   "metadata": {
    "id": "E2TPCknuYIgA"
   },
   "source": [
    "### Prepare data for clustering"
   ]
  },
  {
   "cell_type": "markdown",
   "metadata": {
    "id": "5wzdrS9TYIgA"
   },
   "source": [
    "In simple words we don't need data for job and department to cluster data, because clustering is performed on privileges for all users.\n",
    "\n",
    "So we will create new table with user id - user_id, and all of the privileges as attributes with values of 0 or 1. 0 - don't have that role, 1 - have that role."
   ]
  },
  {
   "cell_type": "code",
   "execution_count": 29,
   "metadata": {
    "executionInfo": {
     "elapsed": 5,
     "status": "ok",
     "timestamp": 1649695546040,
     "user": {
      "displayName": "Petar Damianov",
      "userId": "11400996130549296363"
     },
     "user_tz": -180
    },
    "id": "ZLCXsy0AYIgB"
   },
   "outputs": [],
   "source": [
    "user_privs_data = pd.DataFrame()"
   ]
  },
  {
   "cell_type": "markdown",
   "metadata": {
    "id": "9UN_gwUzYIgC"
   },
   "source": [
    "Create all privileges(categorical data) compatabel for clustering by transforming all privs into numerical data."
   ]
  },
  {
   "cell_type": "code",
   "execution_count": 30,
   "metadata": {
    "executionInfo": {
     "elapsed": 5,
     "status": "ok",
     "timestamp": 1649695546040,
     "user": {
      "displayName": "Petar Damianov",
      "userId": "11400996130549296363"
     },
     "user_tz": -180
    },
    "id": "sFUIyFV1YIgC"
   },
   "outputs": [],
   "source": [
    "priv_dummies = pd.DataFrame()"
   ]
  },
  {
   "cell_type": "code",
   "execution_count": 31,
   "metadata": {
    "executionInfo": {
     "elapsed": 4,
     "status": "ok",
     "timestamp": 1649695546041,
     "user": {
      "displayName": "Petar Damianov",
      "userId": "11400996130549296363"
     },
     "user_tz": -180
    },
    "id": "8wFFhdYbYIgC"
   },
   "outputs": [],
   "source": [
    "priv_dummies['user_id'] = user_data.user_id"
   ]
  },
  {
   "cell_type": "code",
   "execution_count": 32,
   "metadata": {
    "executionInfo": {
     "elapsed": 2466,
     "status": "ok",
     "timestamp": 1649695548504,
     "user": {
      "displayName": "Petar Damianov",
      "userId": "11400996130549296363"
     },
     "user_tz": -180
    },
    "id": "XJ-ld1ZgYIgD"
   },
   "outputs": [],
   "source": [
    "priv_dummies = pd.concat([priv_dummies, pd.get_dummies(user_data.priv, dtype=np.uint8)], axis=1)"
   ]
  },
  {
   "cell_type": "code",
   "execution_count": 33,
   "metadata": {
    "colab": {
     "base_uri": "https://localhost:8080/"
    },
    "executionInfo": {
     "elapsed": 5,
     "status": "ok",
     "timestamp": 1649695548505,
     "user": {
      "displayName": "Petar Damianov",
      "userId": "11400996130549296363"
     },
     "user_tz": -180
    },
    "id": "M5f7MViuFeEx",
    "outputId": "40602954-e38f-41ed-c897-024d1ef228ad"
   },
   "outputs": [
    {
     "data": {
      "text/plain": [
       "user_id                                  object\n",
       "BAMP900:AIS:AUDIT_ADMINISTRATOR           uint8\n",
       "BAMP900:AIS:BA:CON_FIN_STATEMENTS         uint8\n",
       "BAMP900:AIS:BA:INDIV_FIN_STATEMENTS       uint8\n",
       "BAMP900:AIS:DATA_PROTECTION               uint8\n",
       "                                          ...  \n",
       "SMP600:SM:ITSM:SERVICEDESK_AGENT          uint8\n",
       "SMP600:SM:ITSM:SERVICE_TEAM               uint8\n",
       "SMP600:SM:ITSM:SOLMANUI_CHANGE_MANAGM     uint8\n",
       "SMP600:SM:ITSM:SOLMANUI_SER_DES_AGENT     uint8\n",
       "SMP600:SM:ITSM:SOLMANUI_TEAM_MANAGER      uint8\n",
       "Length: 2123, dtype: object"
      ]
     },
     "execution_count": 33,
     "metadata": {},
     "output_type": "execute_result"
    }
   ],
   "source": [
    "priv_dummies.dtypes"
   ]
  },
  {
   "cell_type": "code",
   "execution_count": 34,
   "metadata": {},
   "outputs": [],
   "source": [
    "grouped_data = priv_dummies.groupby('user_id')"
   ]
  },
  {
   "cell_type": "code",
   "execution_count": null,
   "metadata": {},
   "outputs": [],
   "source": []
  },
  {
   "cell_type": "code",
   "execution_count": null,
   "metadata": {
    "executionInfo": {
     "elapsed": 8455,
     "status": "ok",
     "timestamp": 1649695556957,
     "user": {
      "displayName": "Petar Damianov",
      "userId": "11400996130549296363"
     },
     "user_tz": -180
    },
    "id": "18yYek-4YIgD"
   },
   "outputs": [],
   "source": [
    "user_privs_data = grouped_data.sum()"
   ]
  },
  {
   "cell_type": "code",
   "execution_count": null,
   "metadata": {},
   "outputs": [],
   "source": [
    "user_privs_data = user_privs_data.reset_index()"
   ]
  },
  {
   "cell_type": "code",
   "execution_count": null,
   "metadata": {
    "colab": {
     "base_uri": "https://localhost:8080/"
    },
    "executionInfo": {
     "elapsed": 20,
     "status": "ok",
     "timestamp": 1649695556958,
     "user": {
      "displayName": "Petar Damianov",
      "userId": "11400996130549296363"
     },
     "user_tz": -180
    },
    "id": "GDv-Fz3HYIgD",
    "outputId": "535869ba-4435-4785-e38d-4182898ec18b"
   },
   "outputs": [],
   "source": [
    "user_privs_data.dtypes"
   ]
  },
  {
   "cell_type": "code",
   "execution_count": null,
   "metadata": {
    "executionInfo": {
     "elapsed": 19,
     "status": "ok",
     "timestamp": 1649695556959,
     "user": {
      "displayName": "Petar Damianov",
      "userId": "11400996130549296363"
     },
     "user_tz": -180
    },
    "id": "hq8XVX8-bIxV"
   },
   "outputs": [],
   "source": [
    "agg_clustering = AgglomerativeClustering(n_clusters=None, compute_full_tree=True, distance_threshold=20)"
   ]
  },
  {
   "cell_type": "code",
   "execution_count": null,
   "metadata": {
    "executionInfo": {
     "elapsed": 71478,
     "status": "ok",
     "timestamp": 1649695628419,
     "user": {
      "displayName": "Petar Damianov",
      "userId": "11400996130549296363"
     },
     "user_tz": -180
    },
    "id": "ERo6EhOyepEo"
   },
   "outputs": [],
   "source": [
    "fit_data = agg_clustering.fit(user_privs_data.drop('user_id', axis=1))"
   ]
  },
  {
   "cell_type": "code",
   "execution_count": null,
   "metadata": {
    "colab": {
     "base_uri": "https://localhost:8080/"
    },
    "executionInfo": {
     "elapsed": 36,
     "status": "ok",
     "timestamp": 1649695628419,
     "user": {
      "displayName": "Petar Damianov",
      "userId": "11400996130549296363"
     },
     "user_tz": -180
    },
    "id": "lRR7m4y8bUa2",
    "outputId": "26725b1e-f119-40d0-a62e-a1291071228e"
   },
   "outputs": [],
   "source": [
    "fit_data.n_clusters_"
   ]
  },
  {
   "cell_type": "code",
   "execution_count": null,
   "metadata": {
    "colab": {
     "base_uri": "https://localhost:8080/"
    },
    "executionInfo": {
     "elapsed": 34,
     "status": "ok",
     "timestamp": 1649695628420,
     "user": {
      "displayName": "Petar Damianov",
      "userId": "11400996130549296363"
     },
     "user_tz": -180
    },
    "id": "wP72j6T6frcZ",
    "outputId": "894dd3d3-2ce6-4ba1-ef55-277f1beb79cc"
   },
   "outputs": [],
   "source": [
    "fit_data.n_features_in_"
   ]
  },
  {
   "cell_type": "code",
   "execution_count": null,
   "metadata": {
    "colab": {
     "base_uri": "https://localhost:8080/"
    },
    "executionInfo": {
     "elapsed": 30,
     "status": "ok",
     "timestamp": 1649695628420,
     "user": {
      "displayName": "Petar Damianov",
      "userId": "11400996130549296363"
     },
     "user_tz": -180
    },
    "id": "Y07BH6u2fWjM",
    "outputId": "01a45746-3eec-4011-ff28-efca5d1d2365"
   },
   "outputs": [],
   "source": [
    "fit_data.labels_"
   ]
  },
  {
   "cell_type": "code",
   "execution_count": null,
   "metadata": {
    "colab": {
     "base_uri": "https://localhost:8080/"
    },
    "executionInfo": {
     "elapsed": 29,
     "status": "ok",
     "timestamp": 1649695628421,
     "user": {
      "displayName": "Petar Damianov",
      "userId": "11400996130549296363"
     },
     "user_tz": -180
    },
    "id": "i2-M-0-rg2WK",
    "outputId": "942849cf-8a81-4060-c5f1-c4fcb6fa735b"
   },
   "outputs": [],
   "source": [
    "fit_data.feature_names_in_.shape"
   ]
  },
  {
   "cell_type": "code",
   "execution_count": null,
   "metadata": {
    "executionInfo": {
     "elapsed": 28,
     "status": "ok",
     "timestamp": 1649695628423,
     "user": {
      "displayName": "Petar Damianov",
      "userId": "11400996130549296363"
     },
     "user_tz": -180
    },
    "id": "XwnKv40vAIeH"
   },
   "outputs": [],
   "source": [
    "result = pd.DataFrame(fit_data.labels_, columns=['id'])"
   ]
  },
  {
   "cell_type": "code",
   "execution_count": null,
   "metadata": {
    "colab": {
     "base_uri": "https://localhost:8080/"
    },
    "executionInfo": {
     "elapsed": 30,
     "status": "ok",
     "timestamp": 1649695628425,
     "user": {
      "displayName": "Petar Damianov",
      "userId": "11400996130549296363"
     },
     "user_tz": -180
    },
    "id": "yvTBNB7SAIp0",
    "outputId": "22909bdd-6164-4278-b4dc-9ccb6cf6635c"
   },
   "outputs": [],
   "source": [
    "result.id.value_counts()"
   ]
  },
  {
   "cell_type": "markdown",
   "metadata": {
    "id": "cO7WbT-KClkE"
   },
   "source": [
    "### Get result based on clustered data\n"
   ]
  },
  {
   "cell_type": "markdown",
   "metadata": {
    "id": "dntFkRWaNPi8"
   },
   "source": [
    "#### Prepare data for extracting privileges from given label"
   ]
  },
  {
   "cell_type": "code",
   "execution_count": null,
   "metadata": {
    "colab": {
     "base_uri": "https://localhost:8080/",
     "height": 0
    },
    "executionInfo": {
     "elapsed": 27,
     "status": "ok",
     "timestamp": 1649695628425,
     "user": {
      "displayName": "Petar Damianov",
      "userId": "11400996130549296363"
     },
     "user_tz": -180
    },
    "id": "Ql9VmioRCu3l",
    "outputId": "dd94101b-d515-4cac-fbd2-035c23a7d077"
   },
   "outputs": [],
   "source": [
    "user_data"
   ]
  },
  {
   "cell_type": "code",
   "execution_count": null,
   "metadata": {
    "executionInfo": {
     "elapsed": 33127,
     "status": "ok",
     "timestamp": 1649695661538,
     "user": {
      "displayName": "Petar Damianov",
      "userId": "11400996130549296363"
     },
     "user_tz": -180
    },
    "id": "IXwTss3TCu80"
   },
   "outputs": [],
   "source": [
    "unique_user_data = user_data.groupby(['user_id', 'job', 'department']).describe().reset_index()"
   ]
  },
  {
   "cell_type": "code",
   "execution_count": null,
   "metadata": {
    "colab": {
     "base_uri": "https://localhost:8080/",
     "height": 0
    },
    "executionInfo": {
     "elapsed": 28,
     "status": "ok",
     "timestamp": 1649695661541,
     "user": {
      "displayName": "Petar Damianov",
      "userId": "11400996130549296363"
     },
     "user_tz": -180
    },
    "id": "eifbcCRmCu_9",
    "outputId": "b8d6647c-db90-43fa-8dd8-562a6100109d"
   },
   "outputs": [],
   "source": [
    "unique_user_data"
   ]
  },
  {
   "cell_type": "code",
   "execution_count": null,
   "metadata": {
    "colab": {
     "base_uri": "https://localhost:8080/"
    },
    "executionInfo": {
     "elapsed": 14,
     "status": "ok",
     "timestamp": 1649695661542,
     "user": {
      "displayName": "Petar Damianov",
      "userId": "11400996130549296363"
     },
     "user_tz": -180
    },
    "id": "oVipXB1QHmmM",
    "outputId": "71862a2e-b5f3-4900-c33f-72c2c7c4df23"
   },
   "outputs": [],
   "source": [
    "unique_user_data.drop(['system_name', 'priv'], axis=1, inplace=True)"
   ]
  },
  {
   "cell_type": "code",
   "execution_count": null,
   "metadata": {
    "executionInfo": {
     "elapsed": 12,
     "status": "ok",
     "timestamp": 1649695661543,
     "user": {
      "displayName": "Petar Damianov",
      "userId": "11400996130549296363"
     },
     "user_tz": -180
    },
    "id": "nvH7IJzbJYSe"
   },
   "outputs": [],
   "source": [
    "unique_user_data.columns = ['user_id', 'job', 'department']"
   ]
  },
  {
   "cell_type": "code",
   "execution_count": null,
   "metadata": {
    "colab": {
     "base_uri": "https://localhost:8080/",
     "height": 0
    },
    "executionInfo": {
     "elapsed": 13,
     "status": "ok",
     "timestamp": 1649695661544,
     "user": {
      "displayName": "Petar Damianov",
      "userId": "11400996130549296363"
     },
     "user_tz": -180
    },
    "id": "oCokdxx1IlgT",
    "outputId": "a213ca24-e36c-4350-f2f7-0b17fd264c76"
   },
   "outputs": [],
   "source": [
    "unique_user_data"
   ]
  },
  {
   "cell_type": "code",
   "execution_count": null,
   "metadata": {
    "executionInfo": {
     "elapsed": 12,
     "status": "ok",
     "timestamp": 1649695661544,
     "user": {
      "displayName": "Petar Damianov",
      "userId": "11400996130549296363"
     },
     "user_tz": -180
    },
    "id": "UOs5HIGrI8YB"
   },
   "outputs": [],
   "source": [
    "result_table = pd.concat([unique_user_data, user_privs_data.drop('user_id', axis=1)], axis=1)"
   ]
  },
  {
   "cell_type": "code",
   "execution_count": null,
   "metadata": {
    "colab": {
     "base_uri": "https://localhost:8080/",
     "height": 0
    },
    "executionInfo": {
     "elapsed": 425,
     "status": "ok",
     "timestamp": 1649695661958,
     "user": {
      "displayName": "Petar Damianov",
      "userId": "11400996130549296363"
     },
     "user_tz": -180
    },
    "id": "48ikMNYeJ5KP",
    "outputId": "65fb3c15-be1a-4c91-e1c6-5c7e409e9fb1"
   },
   "outputs": [],
   "source": [
    "result_table"
   ]
  },
  {
   "cell_type": "code",
   "execution_count": null,
   "metadata": {
    "executionInfo": {
     "elapsed": 9,
     "status": "ok",
     "timestamp": 1649695661959,
     "user": {
      "displayName": "Petar Damianov",
      "userId": "11400996130549296363"
     },
     "user_tz": -180
    },
    "id": "IQUccSTEJ4bm"
   },
   "outputs": [],
   "source": [
    "result_table.insert(3, \"cluster_label\", result.id)"
   ]
  },
  {
   "cell_type": "code",
   "execution_count": null,
   "metadata": {
    "colab": {
     "base_uri": "https://localhost:8080/",
     "height": 0
    },
    "executionInfo": {
     "elapsed": 9,
     "status": "ok",
     "timestamp": 1649695661960,
     "user": {
      "displayName": "Petar Damianov",
      "userId": "11400996130549296363"
     },
     "user_tz": -180
    },
    "id": "TJsTKr5ELUNE",
    "outputId": "aaaa3105-8866-4922-a7d9-cbc8dee37a20"
   },
   "outputs": [],
   "source": [
    "result_table"
   ]
  },
  {
   "cell_type": "markdown",
   "metadata": {
    "id": "NjOk6oY7FYYi"
   },
   "source": [
    "### Extract all data from clusters with selected job and department in them"
   ]
  },
  {
   "cell_type": "code",
   "execution_count": null,
   "metadata": {
    "executionInfo": {
     "elapsed": 951,
     "status": "ok",
     "timestamp": 1649695662903,
     "user": {
      "displayName": "Petar Damianov",
      "userId": "11400996130549296363"
     },
     "user_tz": -180
    },
    "id": "1_fCklKkN9fd"
   },
   "outputs": [],
   "source": [
    "result_data = result_table.where((result_table.job == job) & (result_table.department == department))"
   ]
  },
  {
   "cell_type": "code",
   "execution_count": null,
   "metadata": {
    "executionInfo": {
     "elapsed": 513,
     "status": "ok",
     "timestamp": 1649695663414,
     "user": {
      "displayName": "Petar Damianov",
      "userId": "11400996130549296363"
     },
     "user_tz": -180
    },
    "id": "rjhEXD5jN9h8"
   },
   "outputs": [],
   "source": [
    "result_data.dropna(inplace=True)"
   ]
  },
  {
   "cell_type": "code",
   "execution_count": null,
   "metadata": {
    "executionInfo": {
     "elapsed": 13,
     "status": "ok",
     "timestamp": 1649695663415,
     "user": {
      "displayName": "Petar Damianov",
      "userId": "11400996130549296363"
     },
     "user_tz": -180
    },
    "id": "GnBODmx1OXB9"
   },
   "outputs": [],
   "source": [
    "result_data = result_data.reset_index()"
   ]
  },
  {
   "cell_type": "code",
   "execution_count": null,
   "metadata": {
    "colab": {
     "base_uri": "https://localhost:8080/",
     "height": 835
    },
    "executionInfo": {
     "elapsed": 12,
     "status": "ok",
     "timestamp": 1649695663415,
     "user": {
      "displayName": "Petar Damianov",
      "userId": "11400996130549296363"
     },
     "user_tz": -180
    },
    "id": "V1kKQiGWQWYH",
    "outputId": "6e87c2cf-1e52-41c2-db71-5e9a762007ba"
   },
   "outputs": [],
   "source": [
    "result_data"
   ]
  },
  {
   "cell_type": "code",
   "execution_count": null,
   "metadata": {
    "colab": {
     "base_uri": "https://localhost:8080/"
    },
    "executionInfo": {
     "elapsed": 10,
     "status": "ok",
     "timestamp": 1649695663415,
     "user": {
      "displayName": "Petar Damianov",
      "userId": "11400996130549296363"
     },
     "user_tz": -180
    },
    "id": "ApquXxbiSBnw",
    "outputId": "f4352234-e1e2-4db8-f225-6da84b2f91b9"
   },
   "outputs": [],
   "source": [
    "result_data.cluster_label.value_counts()"
   ]
  },
  {
   "cell_type": "code",
   "execution_count": null,
   "metadata": {
    "executionInfo": {
     "elapsed": 8,
     "status": "ok",
     "timestamp": 1649695663416,
     "user": {
      "displayName": "Petar Damianov",
      "userId": "11400996130549296363"
     },
     "user_tz": -180
    },
    "id": "n0yHiqtVFsLo"
   },
   "outputs": [],
   "source": []
  },
  {
   "cell_type": "markdown",
   "metadata": {
    "id": "X1R5Jw-RFpVd"
   },
   "source": [
    "#### Get  the best fitted cluster"
   ]
  },
  {
   "cell_type": "code",
   "execution_count": null,
   "metadata": {
    "executionInfo": {
     "elapsed": 8,
     "status": "ok",
     "timestamp": 1649695663416,
     "user": {
      "displayName": "Petar Damianov",
      "userId": "11400996130549296363"
     },
     "user_tz": -180
    },
    "id": "cxB061_4Tp9I"
   },
   "outputs": [],
   "source": [
    "best_cluster_label = result_data.cluster_label.value_counts().index.tolist()[0]"
   ]
  },
  {
   "cell_type": "code",
   "execution_count": null,
   "metadata": {
    "colab": {
     "base_uri": "https://localhost:8080/"
    },
    "executionInfo": {
     "elapsed": 503,
     "status": "ok",
     "timestamp": 1649695663911,
     "user": {
      "displayName": "Petar Damianov",
      "userId": "11400996130549296363"
     },
     "user_tz": -180
    },
    "id": "0ypBZeDUUPAb",
    "outputId": "95679be6-30c3-4665-df3b-10f21645da95"
   },
   "outputs": [],
   "source": [
    "best_cluster_label"
   ]
  },
  {
   "cell_type": "code",
   "execution_count": null,
   "metadata": {
    "executionInfo": {
     "elapsed": 9,
     "status": "ok",
     "timestamp": 1649695663912,
     "user": {
      "displayName": "Petar Damianov",
      "userId": "11400996130549296363"
     },
     "user_tz": -180
    },
    "id": "4Pye4MppURMW"
   },
   "outputs": [],
   "source": [
    "current_cluster_label_data = result_table[result_table['cluster_label'] == best_cluster_label]"
   ]
  },
  {
   "cell_type": "code",
   "execution_count": null,
   "metadata": {
    "executionInfo": {
     "elapsed": 8,
     "status": "ok",
     "timestamp": 1649695663912,
     "user": {
      "displayName": "Petar Damianov",
      "userId": "11400996130549296363"
     },
     "user_tz": -180
    },
    "id": "oL_QcvcQUa3H"
   },
   "outputs": [],
   "source": [
    "current_cluster_label_data.reset_index(inplace=True)"
   ]
  },
  {
   "cell_type": "code",
   "execution_count": null,
   "metadata": {
    "executionInfo": {
     "elapsed": 7,
     "status": "ok",
     "timestamp": 1649695663912,
     "user": {
      "displayName": "Petar Damianov",
      "userId": "11400996130549296363"
     },
     "user_tz": -180
    },
    "id": "nQFVzbWKEHEX"
   },
   "outputs": [],
   "source": [
    "users_count = current_cluster_label_data.shape[0]"
   ]
  },
  {
   "cell_type": "code",
   "execution_count": null,
   "metadata": {
    "colab": {
     "base_uri": "https://localhost:8080/"
    },
    "executionInfo": {
     "elapsed": 7,
     "status": "ok",
     "timestamp": 1649695663912,
     "user": {
      "displayName": "Petar Damianov",
      "userId": "11400996130549296363"
     },
     "user_tz": -180
    },
    "id": "wUswjooSEPLg",
    "outputId": "5aaf2513-7619-4873-bc5c-b5ca3efb055f"
   },
   "outputs": [],
   "source": [
    "users_count"
   ]
  },
  {
   "cell_type": "markdown",
   "metadata": {
    "id": "Lt-dvRDVFtye"
   },
   "source": [
    "#### Get information about privileges from that cluster"
   ]
  },
  {
   "cell_type": "code",
   "execution_count": null,
   "metadata": {
    "colab": {
     "base_uri": "https://localhost:8080/",
     "height": 0
    },
    "executionInfo": {
     "elapsed": 6,
     "status": "ok",
     "timestamp": 1649695663913,
     "user": {
      "displayName": "Petar Damianov",
      "userId": "11400996130549296363"
     },
     "user_tz": -180
    },
    "id": "DBkwhp4huruF",
    "outputId": "7621368e-60ce-4cbd-e6ed-6ce7629343fa"
   },
   "outputs": [],
   "source": [
    "if 'index' in current_cluster_label_data.columns:\n",
    "  current_cluster_label_data = current_cluster_label_data.drop('index', axis=1)\n",
    "current_cluster_label_data"
   ]
  },
  {
   "cell_type": "code",
   "execution_count": null,
   "metadata": {
    "executionInfo": {
     "elapsed": 879,
     "status": "ok",
     "timestamp": 1649695664787,
     "user": {
      "displayName": "Petar Damianov",
      "userId": "11400996130549296363"
     },
     "user_tz": -180
    },
    "id": "N2Q8fQMwVYF0"
   },
   "outputs": [],
   "source": [
    "privileges_counts = {}\n",
    "for pr in current_cluster_label_data.columns[4:]:\n",
    "  if 1 in current_cluster_label_data[pr].value_counts().index.tolist():\n",
    "    privileges_counts[pr] = current_cluster_label_data[pr].value_counts()[1]"
   ]
  },
  {
   "cell_type": "code",
   "execution_count": null,
   "metadata": {
    "executionInfo": {
     "elapsed": 16,
     "status": "ok",
     "timestamp": 1649695664788,
     "user": {
      "displayName": "Petar Damianov",
      "userId": "11400996130549296363"
     },
     "user_tz": -180
    },
    "id": "7XRbTm7l8raH"
   },
   "outputs": [],
   "source": [
    "#privileges_counts = dict(sorted(privileges_counts.items(),key= lambda x:x[1]))\n",
    "sorted_privileges_counts = sorted(privileges_counts.items(), key=lambda x: x[1], reverse=True)\n",
    "filtered_privileges_counts = list(filter(lambda x: x[1] > users_count*0.9, sorted_privileges_counts))"
   ]
  },
  {
   "cell_type": "markdown",
   "metadata": {
    "id": "IxtoM9crFy8n"
   },
   "source": [
    "#### Filter the most relevant privileges from that cluster"
   ]
  },
  {
   "cell_type": "code",
   "execution_count": null,
   "metadata": {
    "colab": {
     "base_uri": "https://localhost:8080/"
    },
    "executionInfo": {
     "elapsed": 15,
     "status": "ok",
     "timestamp": 1649695664788,
     "user": {
      "displayName": "Petar Damianov",
      "userId": "11400996130549296363"
     },
     "user_tz": -180
    },
    "id": "Vrd0maZRCBNG",
    "outputId": "1f595cfc-db3f-41cb-b144-6811e5c1f89a"
   },
   "outputs": [],
   "source": [
    "filtered_privileges_counts"
   ]
  },
  {
   "cell_type": "code",
   "execution_count": null,
   "metadata": {
    "executionInfo": {
     "elapsed": 14,
     "status": "ok",
     "timestamp": 1649695664789,
     "user": {
      "displayName": "Petar Damianov",
      "userId": "11400996130549296363"
     },
     "user_tz": -180
    },
    "id": "Ig7G1jDfEn91"
   },
   "outputs": [],
   "source": [
    "suggested_privileges = [v[0] for v in filtered_privileges_counts]"
   ]
  },
  {
   "cell_type": "code",
   "execution_count": null,
   "metadata": {
    "colab": {
     "base_uri": "https://localhost:8080/"
    },
    "executionInfo": {
     "elapsed": 12,
     "status": "ok",
     "timestamp": 1649695664789,
     "user": {
      "displayName": "Petar Damianov",
      "userId": "11400996130549296363"
     },
     "user_tz": -180
    },
    "id": "vleEgyRVE1fj",
    "outputId": "9388d38e-a7fc-4370-8031-20cbb2ed909c"
   },
   "outputs": [],
   "source": [
    "suggested_privileges"
   ]
  },
  {
   "cell_type": "markdown",
   "metadata": {
    "id": "YbzgOcKJBe9J"
   },
   "source": [
    "### Applying PCA to the model data"
   ]
  },
  {
   "cell_type": "markdown",
   "metadata": {
    "id": "C-207y9XiBVM"
   },
   "source": [
    "To reduce dimentionality of the dataset we are going to use PCA from sckitlearn"
   ]
  },
  {
   "cell_type": "code",
   "execution_count": null,
   "metadata": {
    "executionInfo": {
     "elapsed": 12,
     "status": "ok",
     "timestamp": 1649695664790,
     "user": {
      "displayName": "Petar Damianov",
      "userId": "11400996130549296363"
     },
     "user_tz": -180
    },
    "id": "UAhCMmlRh-it"
   },
   "outputs": [],
   "source": [
    "#pca = PCA()"
   ]
  },
  {
   "cell_type": "code",
   "execution_count": null,
   "metadata": {
    "executionInfo": {
     "elapsed": 11,
     "status": "ok",
     "timestamp": 1649695664790,
     "user": {
      "displayName": "Petar Damianov",
      "userId": "11400996130549296363"
     },
     "user_tz": -180
    },
    "id": "hatZnWash-2j"
   },
   "outputs": [],
   "source": [
    "#new_transformed_privs = pca.fit_transform(user_privs_data.drop('user_id', axis=1))"
   ]
  },
  {
   "cell_type": "code",
   "execution_count": null,
   "metadata": {
    "executionInfo": {
     "elapsed": 11,
     "status": "ok",
     "timestamp": 1649695664790,
     "user": {
      "displayName": "Petar Damianov",
      "userId": "11400996130549296363"
     },
     "user_tz": -180
    },
    "id": "sPOltgJzh-5C"
   },
   "outputs": [],
   "source": [
    "#new_transformed_privs.shape"
   ]
  },
  {
   "cell_type": "code",
   "execution_count": null,
   "metadata": {
    "executionInfo": {
     "elapsed": 11,
     "status": "ok",
     "timestamp": 1649695664791,
     "user": {
      "displayName": "Petar Damianov",
      "userId": "11400996130549296363"
     },
     "user_tz": -180
    },
    "id": "vltAiHydh-8G"
   },
   "outputs": [],
   "source": [
    "#transformed_user_privs_data = pd.DataFrame(new_transformed_privs, columns=user_privs_data.drop('user_id', axis=1).columns)"
   ]
  },
  {
   "cell_type": "code",
   "execution_count": null,
   "metadata": {
    "executionInfo": {
     "elapsed": 10,
     "status": "ok",
     "timestamp": 1649695664791,
     "user": {
      "displayName": "Petar Damianov",
      "userId": "11400996130549296363"
     },
     "user_tz": -180
    },
    "id": "QaufCgg3kF7Q"
   },
   "outputs": [],
   "source": [
    "#transformed_user_privs_data"
   ]
  },
  {
   "cell_type": "code",
   "execution_count": null,
   "metadata": {
    "executionInfo": {
     "elapsed": 11,
     "status": "ok",
     "timestamp": 1649695664792,
     "user": {
      "displayName": "Petar Damianov",
      "userId": "11400996130549296363"
     },
     "user_tz": -180
    },
    "id": "8QZhkdlmmGOO"
   },
   "outputs": [],
   "source": [
    "#pca.explained_variance_ratio_.shape"
   ]
  },
  {
   "cell_type": "code",
   "execution_count": null,
   "metadata": {
    "executionInfo": {
     "elapsed": 10,
     "status": "ok",
     "timestamp": 1649695664792,
     "user": {
      "displayName": "Petar Damianov",
      "userId": "11400996130549296363"
     },
     "user_tz": -180
    },
    "id": "OReQu0b2mMVq"
   },
   "outputs": [],
   "source": [
    "#user_privs_data.drop('user_id', axis=1).columns.shape"
   ]
  },
  {
   "cell_type": "code",
   "execution_count": null,
   "metadata": {
    "executionInfo": {
     "elapsed": 437,
     "status": "ok",
     "timestamp": 1649695665219,
     "user": {
      "displayName": "Petar Damianov",
      "userId": "11400996130549296363"
     },
     "user_tz": -180
    },
    "id": "_PPF0GMolQ41"
   },
   "outputs": [],
   "source": [
    "#variance_explained = pd.DataFrame([pca.explained_variance_ratio_], columns=user_privs_data.drop('user_id', axis=1).columns)"
   ]
  },
  {
   "cell_type": "code",
   "execution_count": null,
   "metadata": {
    "executionInfo": {
     "elapsed": 9,
     "status": "ok",
     "timestamp": 1649695665219,
     "user": {
      "displayName": "Petar Damianov",
      "userId": "11400996130549296363"
     },
     "user_tz": -180
    },
    "id": "Gx3CVjdfmqam"
   },
   "outputs": [],
   "source": [
    "#variance_explained"
   ]
  },
  {
   "cell_type": "code",
   "execution_count": null,
   "metadata": {
    "executionInfo": {
     "elapsed": 9,
     "status": "ok",
     "timestamp": 1649695665219,
     "user": {
      "displayName": "Petar Damianov",
      "userId": "11400996130549296363"
     },
     "user_tz": -180
    },
    "id": "rueF6fD2gUXf"
   },
   "outputs": [],
   "source": [
    "#fit_pca_data = agg_clustering.fit(transformed_user_privs_data)"
   ]
  },
  {
   "cell_type": "code",
   "execution_count": null,
   "metadata": {
    "executionInfo": {
     "elapsed": 10,
     "status": "ok",
     "timestamp": 1649695665220,
     "user": {
      "displayName": "Petar Damianov",
      "userId": "11400996130549296363"
     },
     "user_tz": -180
    },
    "id": "UdcxXO4FgUas"
   },
   "outputs": [],
   "source": [
    "#fit_pca_data.n_clusters_"
   ]
  },
  {
   "cell_type": "code",
   "execution_count": null,
   "metadata": {
    "executionInfo": {
     "elapsed": 9,
     "status": "ok",
     "timestamp": 1649695665220,
     "user": {
      "displayName": "Petar Damianov",
      "userId": "11400996130549296363"
     },
     "user_tz": -180
    },
    "id": "IVQx-HL6gUdo"
   },
   "outputs": [],
   "source": [
    "#result = pd.DataFrame(fit_pca_data.labels_, columns=['id'])"
   ]
  },
  {
   "cell_type": "code",
   "execution_count": null,
   "metadata": {
    "executionInfo": {
     "elapsed": 9,
     "status": "ok",
     "timestamp": 1649695665220,
     "user": {
      "displayName": "Petar Damianov",
      "userId": "11400996130549296363"
     },
     "user_tz": -180
    },
    "id": "oqZ2q9_F2NSD"
   },
   "outputs": [],
   "source": [
    "#result"
   ]
  },
  {
   "cell_type": "code",
   "execution_count": null,
   "metadata": {
    "executionInfo": {
     "elapsed": 9,
     "status": "ok",
     "timestamp": 1649695665220,
     "user": {
      "displayName": "Petar Damianov",
      "userId": "11400996130549296363"
     },
     "user_tz": -180
    },
    "id": "kszTKFDN2NUy"
   },
   "outputs": [],
   "source": [
    "#result.id.value_counts()"
   ]
  },
  {
   "cell_type": "code",
   "execution_count": null,
   "metadata": {
    "executionInfo": {
     "elapsed": 10,
     "status": "ok",
     "timestamp": 1649695665221,
     "user": {
      "displayName": "Petar Damianov",
      "userId": "11400996130549296363"
     },
     "user_tz": -180
    },
    "id": "SveB08Pf2NXt"
   },
   "outputs": [],
   "source": []
  },
  {
   "cell_type": "code",
   "execution_count": null,
   "metadata": {
    "executionInfo": {
     "elapsed": 9,
     "status": "ok",
     "timestamp": 1649695665221,
     "user": {
      "displayName": "Petar Damianov",
      "userId": "11400996130549296363"
     },
     "user_tz": -180
    },
    "id": "wpoHUovs2NaW"
   },
   "outputs": [],
   "source": []
  }
 ],
 "metadata": {
  "colab": {
   "collapsed_sections": [
    "K0j4oU3SYIf8",
    "QVK_NWejYIf8",
    "mW4XUce3YIf9",
    "U679JxZdYIf-",
    "ocMocfF1YIf-",
    "5akVzgjSYIf_",
    "cO7WbT-KClkE",
    "dntFkRWaNPi8",
    "X1R5Jw-RFpVd",
    "Lt-dvRDVFtye",
    "IxtoM9crFy8n"
   ],
   "name": "BClustering.ipynb",
   "provenance": []
  },
  "kernelspec": {
   "display_name": "Python 3",
   "language": "python",
   "name": "python3"
  },
  "language_info": {
   "codemirror_mode": {
    "name": "ipython",
    "version": 3
   },
   "file_extension": ".py",
   "mimetype": "text/x-python",
   "name": "python",
   "nbconvert_exporter": "python",
   "pygments_lexer": "ipython3",
   "version": "3.8.5"
  }
 },
 "nbformat": 4,
 "nbformat_minor": 1
}
