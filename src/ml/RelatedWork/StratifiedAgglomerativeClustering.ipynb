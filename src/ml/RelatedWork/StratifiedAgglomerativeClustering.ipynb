{
 "cells": [
  {
   "cell_type": "markdown",
   "metadata": {
    "id": "FHvfGUxAYIfk"
   },
   "source": [
    "# System for access segmentation"
   ]
  },
  {
   "cell_type": "markdown",
   "metadata": {
    "id": "5lBJ004WYIfr"
   },
   "source": [
    "##### imports"
   ]
  },
  {
   "cell_type": "code",
   "execution_count": 1,
   "metadata": {
    "executionInfo": {
     "elapsed": 3,
     "status": "ok",
     "timestamp": 1649810066073,
     "user": {
      "displayName": "Petar Damianov",
      "userId": "11400996130549296363"
     },
     "user_tz": -180
    },
    "id": "s131fPvJYIfs"
   },
   "outputs": [],
   "source": [
    "import numpy as np\n",
    "import pandas as pd\n",
    "import os\n",
    "from sklearn.preprocessing import StandardScaler\n",
    "from sklearn.decomposition import PCA\n",
    "from sklearn.model_selection import StratifiedShuffleSplit, train_test_split\n",
    "from sklearn.cluster import AgglomerativeClustering"
   ]
  },
  {
   "cell_type": "markdown",
   "metadata": {
    "id": "1VMd7f-IYIfu"
   },
   "source": [
    "#### Get data from results/data folder"
   ]
  },
  {
   "cell_type": "code",
   "execution_count": 2,
   "metadata": {
    "executionInfo": {
     "elapsed": 6,
     "status": "ok",
     "timestamp": 1649810066632,
     "user": {
      "displayName": "Petar Damianov",
      "userId": "11400996130549296363"
     },
     "user_tz": -180
    },
    "id": "KXfjUVOcYIfu"
   },
   "outputs": [],
   "source": [
    "data = pd.data = pd.read_excel(\"../server/public/data/User-624921c5e1c4d602ddd19695-1652272714446.xlsx\")"
   ]
  },
  {
   "cell_type": "code",
   "execution_count": 3,
   "metadata": {
    "colab": {
     "base_uri": "https://localhost:8080/"
    },
    "executionInfo": {
     "elapsed": 1643,
     "status": "ok",
     "timestamp": 1649810068269,
     "user": {
      "displayName": "Petar Damianov",
      "userId": "11400996130549296363"
     },
     "user_tz": -180
    },
    "id": "G5FzI74rYYfO",
    "outputId": "e1b026f8-c826-40ca-af11-4b821e83fe89"
   },
   "outputs": [],
   "source": [
    "# from google.colab import drive\n",
    "# drive.mount('/content/drive')"
   ]
  },
  {
   "cell_type": "code",
   "execution_count": 4,
   "metadata": {
    "executionInfo": {
     "elapsed": 16143,
     "status": "ok",
     "timestamp": 1649810084409,
     "user": {
      "displayName": "Petar Damianov",
      "userId": "11400996130549296363"
     },
     "user_tz": -180
    },
    "id": "OFFY2pMrYlxl"
   },
   "outputs": [],
   "source": [
    "# data = pd.read_excel(\"/content/drive/MyDrive/User-624921c5e1c4d602ddd19695-1649206670127.xlsx\", skiprows=1)"
   ]
  },
  {
   "cell_type": "code",
   "execution_count": 5,
   "metadata": {
    "colab": {
     "base_uri": "https://localhost:8080/",
     "height": 641
    },
    "executionInfo": {
     "elapsed": 17,
     "status": "ok",
     "timestamp": 1649810084412,
     "user": {
      "displayName": "Petar Damianov",
      "userId": "11400996130549296363"
     },
     "user_tz": -180
    },
    "id": "yadvj-JMYIfv",
    "outputId": "50602946-278c-44f1-aeec-fa3f813c46fa"
   },
   "outputs": [
    {
     "data": {
      "text/html": [
       "<div>\n",
       "<style scoped>\n",
       "    .dataframe tbody tr th:only-of-type {\n",
       "        vertical-align: middle;\n",
       "    }\n",
       "\n",
       "    .dataframe tbody tr th {\n",
       "        vertical-align: top;\n",
       "    }\n",
       "\n",
       "    .dataframe thead th {\n",
       "        text-align: right;\n",
       "    }\n",
       "</style>\n",
       "<table border=\"1\" class=\"dataframe\">\n",
       "  <thead>\n",
       "    <tr style=\"text-align: right;\">\n",
       "      <th></th>\n",
       "      <th>user_id</th>\n",
       "      <th>department</th>\n",
       "      <th>job</th>\n",
       "      <th>access</th>\n",
       "    </tr>\n",
       "  </thead>\n",
       "  <tbody>\n",
       "    <tr>\n",
       "      <th>0</th>\n",
       "      <td>81</td>\n",
       "      <td>SALES</td>\n",
       "      <td>REGIONAL ACCOUNT MANAGER</td>\n",
       "      <td>PRIV:ROLE:QE2CLNT110:CO3180_DP:D_CO_DEFAULT</td>\n",
       "    </tr>\n",
       "    <tr>\n",
       "      <th>1</th>\n",
       "      <td>81</td>\n",
       "      <td>SALES</td>\n",
       "      <td>REGIONAL ACCOUNT MANAGER</td>\n",
       "      <td>PRIV:ROLE:QE2CLNT110:CS3180_DP:D_CS_DEFAULT</td>\n",
       "    </tr>\n",
       "    <tr>\n",
       "      <th>2</th>\n",
       "      <td>81</td>\n",
       "      <td>SALES</td>\n",
       "      <td>REGIONAL ACCOUNT MANAGER</td>\n",
       "      <td>PRIV:ROLE:QE2CLNT110:CS3180_DP:D_CS_STATISTIC</td>\n",
       "    </tr>\n",
       "    <tr>\n",
       "      <th>3</th>\n",
       "      <td>81</td>\n",
       "      <td>SALES</td>\n",
       "      <td>REGIONAL ACCOUNT MANAGER</td>\n",
       "      <td>PRIV:ROLE:QE2CLNT110:FI3180_DP:D_FI_DEFAULT</td>\n",
       "    </tr>\n",
       "    <tr>\n",
       "      <th>4</th>\n",
       "      <td>81</td>\n",
       "      <td>SALES</td>\n",
       "      <td>REGIONAL ACCOUNT MANAGER</td>\n",
       "      <td>PRIV:ROLE:QE2CLNT110:LO3180_DP:D_LO</td>\n",
       "    </tr>\n",
       "    <tr>\n",
       "      <th>...</th>\n",
       "      <td>...</td>\n",
       "      <td>...</td>\n",
       "      <td>...</td>\n",
       "      <td>...</td>\n",
       "    </tr>\n",
       "    <tr>\n",
       "      <th>221274</th>\n",
       "      <td>4023652</td>\n",
       "      <td>CUSTOMER SERVICE</td>\n",
       "      <td>JUNIOR SPECIALIST CS</td>\n",
       "      <td>PRIV:ROLE:PE1CLNT110:SD5400_DP:M_SD_ORDER</td>\n",
       "    </tr>\n",
       "    <tr>\n",
       "      <th>221275</th>\n",
       "      <td>4023652</td>\n",
       "      <td>CUSTOMER SERVICE</td>\n",
       "      <td>JUNIOR SPECIALIST CS</td>\n",
       "      <td>PRIV:ROLE:PE1CLNT110:SD6900_DP:M_INVOICE</td>\n",
       "    </tr>\n",
       "    <tr>\n",
       "      <th>221276</th>\n",
       "      <td>4023652</td>\n",
       "      <td>CUSTOMER SERVICE</td>\n",
       "      <td>JUNIOR SPECIALIST CS</td>\n",
       "      <td>PRIV:ROLE:PE1CLNT110:SD6900_DP:M_MD_OUTPUT_CON...</td>\n",
       "    </tr>\n",
       "    <tr>\n",
       "      <th>221277</th>\n",
       "      <td>4023652</td>\n",
       "      <td>CUSTOMER SERVICE</td>\n",
       "      <td>JUNIOR SPECIALIST CS</td>\n",
       "      <td>PRIV:ROLE:PE1CLNT110:SD6900_DP:M_SD</td>\n",
       "    </tr>\n",
       "    <tr>\n",
       "      <th>221278</th>\n",
       "      <td>4023652</td>\n",
       "      <td>CUSTOMER SERVICE</td>\n",
       "      <td>JUNIOR SPECIALIST CS</td>\n",
       "      <td>PRIV:ROLE:PE1CLNT110:SD6900_DP:M_SD_ORDER</td>\n",
       "    </tr>\n",
       "  </tbody>\n",
       "</table>\n",
       "<p>221279 rows × 4 columns</p>\n",
       "</div>"
      ],
      "text/plain": [
       "        user_id        department                       job  \\\n",
       "0            81             SALES  REGIONAL ACCOUNT MANAGER   \n",
       "1            81             SALES  REGIONAL ACCOUNT MANAGER   \n",
       "2            81             SALES  REGIONAL ACCOUNT MANAGER   \n",
       "3            81             SALES  REGIONAL ACCOUNT MANAGER   \n",
       "4            81             SALES  REGIONAL ACCOUNT MANAGER   \n",
       "...         ...               ...                       ...   \n",
       "221274  4023652  CUSTOMER SERVICE      JUNIOR SPECIALIST CS   \n",
       "221275  4023652  CUSTOMER SERVICE      JUNIOR SPECIALIST CS   \n",
       "221276  4023652  CUSTOMER SERVICE      JUNIOR SPECIALIST CS   \n",
       "221277  4023652  CUSTOMER SERVICE      JUNIOR SPECIALIST CS   \n",
       "221278  4023652  CUSTOMER SERVICE      JUNIOR SPECIALIST CS   \n",
       "\n",
       "                                                   access  \n",
       "0             PRIV:ROLE:QE2CLNT110:CO3180_DP:D_CO_DEFAULT  \n",
       "1             PRIV:ROLE:QE2CLNT110:CS3180_DP:D_CS_DEFAULT  \n",
       "2           PRIV:ROLE:QE2CLNT110:CS3180_DP:D_CS_STATISTIC  \n",
       "3             PRIV:ROLE:QE2CLNT110:FI3180_DP:D_FI_DEFAULT  \n",
       "4                     PRIV:ROLE:QE2CLNT110:LO3180_DP:D_LO  \n",
       "...                                                   ...  \n",
       "221274          PRIV:ROLE:PE1CLNT110:SD5400_DP:M_SD_ORDER  \n",
       "221275           PRIV:ROLE:PE1CLNT110:SD6900_DP:M_INVOICE  \n",
       "221276  PRIV:ROLE:PE1CLNT110:SD6900_DP:M_MD_OUTPUT_CON...  \n",
       "221277                PRIV:ROLE:PE1CLNT110:SD6900_DP:M_SD  \n",
       "221278          PRIV:ROLE:PE1CLNT110:SD6900_DP:M_SD_ORDER  \n",
       "\n",
       "[221279 rows x 4 columns]"
      ]
     },
     "execution_count": 5,
     "metadata": {},
     "output_type": "execute_result"
    }
   ],
   "source": [
    "data"
   ]
  },
  {
   "cell_type": "code",
   "execution_count": 6,
   "metadata": {
    "executionInfo": {
     "elapsed": 15,
     "status": "ok",
     "timestamp": 1649810084412,
     "user": {
      "displayName": "Petar Damianov",
      "userId": "11400996130549296363"
     },
     "user_tz": -180
    },
    "id": "JGLItQjaYIfw"
   },
   "outputs": [],
   "source": [
    "data.columns = [\"user_id\", \"job\", \"department\", \"privileges_data\"]"
   ]
  },
  {
   "cell_type": "code",
   "execution_count": 7,
   "metadata": {
    "executionInfo": {
     "elapsed": 16,
     "status": "ok",
     "timestamp": 1649810084413,
     "user": {
      "displayName": "Petar Damianov",
      "userId": "11400996130549296363"
     },
     "user_tz": -180
    },
    "id": "XO0oX3w3YIfx"
   },
   "outputs": [],
   "source": [
    "data = data.dropna()"
   ]
  },
  {
   "cell_type": "code",
   "execution_count": 8,
   "metadata": {
    "colab": {
     "base_uri": "https://localhost:8080/"
    },
    "executionInfo": {
     "elapsed": 15,
     "status": "ok",
     "timestamp": 1649810084413,
     "user": {
      "displayName": "Petar Damianov",
      "userId": "11400996130549296363"
     },
     "user_tz": -180
    },
    "id": "BooE_U9eubBT",
    "outputId": "d1e98982-f63b-4be1-9edf-1fb8090afa2a"
   },
   "outputs": [
    {
     "data": {
      "text/plain": [
       "PRIV:ROLE:PE1CLNT110:XX0000_SP:D_EVERYONE          2278\n",
       "PRIV:ROLE:PGWCLNT110:XX0000_SP:D_EVERYONE          2115\n",
       "PRIV:ROLE:PGWCLNT110:XX0000_SP:D_EVERYONE_FIORI    2115\n",
       "PRIV:ROLE:QE2CLNT110:XX0000_SP:D_EVERYONE          2110\n",
       "PRIV:ROLE:PO1CLNT110:SM0000_SP:D_EVERYONE_PO1      2049\n",
       "                                                   ... \n",
       "PRIV:ROLE:PE1CLNT110:XX3070_DP:M_CATS                 1\n",
       "PRIV:ROLE:DE2CLNT210:CS4200_DP:D_CS_STATISTIC         1\n",
       "PRIV:ROLE:QE2CLNT110:FI3220_DP:M_POST_CUSTOMER        1\n",
       "PRIV:ROLE:P11CLNT110:FI0025_DP:D_CUSTOMER             1\n",
       "PRIV:ROLE:PE1CLNT110:FI4100_DP:M_MD_ASSETS            1\n",
       "Name: privileges_data, Length: 8495, dtype: int64"
      ]
     },
     "execution_count": 8,
     "metadata": {},
     "output_type": "execute_result"
    }
   ],
   "source": [
    "class_to_counts = data.privileges_data.value_counts()\n",
    "class_to_counts"
   ]
  },
  {
   "cell_type": "code",
   "execution_count": 9,
   "metadata": {
    "colab": {
     "base_uri": "https://localhost:8080/"
    },
    "executionInfo": {
     "elapsed": 1109,
     "status": "ok",
     "timestamp": 1649810085513,
     "user": {
      "displayName": "Petar Damianov",
      "userId": "11400996130549296363"
     },
     "user_tz": -180
    },
    "id": "zscTDXNdu0nk",
    "outputId": "a1c15fff-0b08-44b3-c6ab-f52e43d05cee"
   },
   "outputs": [],
   "source": [
    "data['times_occured'] = data['privileges_data'].apply(lambda y: class_to_counts[y])"
   ]
  },
  {
   "cell_type": "code",
   "execution_count": 10,
   "metadata": {
    "colab": {
     "base_uri": "https://localhost:8080/"
    },
    "executionInfo": {
     "elapsed": 24,
     "status": "ok",
     "timestamp": 1649810085514,
     "user": {
      "displayName": "Petar Damianov",
      "userId": "11400996130549296363"
     },
     "user_tz": -180
    },
    "id": "xRby68GVvIvw",
    "outputId": "e325a35a-fc1b-464a-a6a1-a11c667c5f78"
   },
   "outputs": [],
   "source": [
    "data.times_occured = data.times_occured.astype(int)"
   ]
  },
  {
   "cell_type": "code",
   "execution_count": 11,
   "metadata": {
    "colab": {
     "base_uri": "https://localhost:8080/"
    },
    "executionInfo": {
     "elapsed": 18,
     "status": "ok",
     "timestamp": 1649810085514,
     "user": {
      "displayName": "Petar Damianov",
      "userId": "11400996130549296363"
     },
     "user_tz": -180
    },
    "id": "cQ1mtILQv1-t",
    "outputId": "0c161b14-c6ca-4ea3-e197-b433938791ce"
   },
   "outputs": [
    {
     "data": {
      "text/plain": [
       "user_id             int64\n",
       "job                object\n",
       "department         object\n",
       "privileges_data    object\n",
       "times_occured       int64\n",
       "dtype: object"
      ]
     },
     "execution_count": 11,
     "metadata": {},
     "output_type": "execute_result"
    }
   ],
   "source": [
    "data.dtypes"
   ]
  },
  {
   "cell_type": "code",
   "execution_count": 12,
   "metadata": {
    "colab": {
     "base_uri": "https://localhost:8080/",
     "height": 728
    },
    "executionInfo": {
     "elapsed": 15,
     "status": "ok",
     "timestamp": 1649810085515,
     "user": {
      "displayName": "Petar Damianov",
      "userId": "11400996130549296363"
     },
     "user_tz": -180
    },
    "id": "yHwdxhDqwGy7",
    "outputId": "1bc7d3ce-25ba-4b31-a735-6981ae02fb9d"
   },
   "outputs": [
    {
     "data": {
      "text/html": [
       "<div>\n",
       "<style scoped>\n",
       "    .dataframe tbody tr th:only-of-type {\n",
       "        vertical-align: middle;\n",
       "    }\n",
       "\n",
       "    .dataframe tbody tr th {\n",
       "        vertical-align: top;\n",
       "    }\n",
       "\n",
       "    .dataframe thead th {\n",
       "        text-align: right;\n",
       "    }\n",
       "</style>\n",
       "<table border=\"1\" class=\"dataframe\">\n",
       "  <thead>\n",
       "    <tr style=\"text-align: right;\">\n",
       "      <th></th>\n",
       "      <th>user_id</th>\n",
       "      <th>job</th>\n",
       "      <th>department</th>\n",
       "      <th>privileges_data</th>\n",
       "      <th>times_occured</th>\n",
       "    </tr>\n",
       "  </thead>\n",
       "  <tbody>\n",
       "    <tr>\n",
       "      <th>0</th>\n",
       "      <td>81</td>\n",
       "      <td>SALES</td>\n",
       "      <td>REGIONAL ACCOUNT MANAGER</td>\n",
       "      <td>PRIV:ROLE:QE2CLNT110:CO3180_DP:D_CO_DEFAULT</td>\n",
       "      <td>72</td>\n",
       "    </tr>\n",
       "    <tr>\n",
       "      <th>1</th>\n",
       "      <td>81</td>\n",
       "      <td>SALES</td>\n",
       "      <td>REGIONAL ACCOUNT MANAGER</td>\n",
       "      <td>PRIV:ROLE:QE2CLNT110:CS3180_DP:D_CS_DEFAULT</td>\n",
       "      <td>72</td>\n",
       "    </tr>\n",
       "    <tr>\n",
       "      <th>2</th>\n",
       "      <td>81</td>\n",
       "      <td>SALES</td>\n",
       "      <td>REGIONAL ACCOUNT MANAGER</td>\n",
       "      <td>PRIV:ROLE:QE2CLNT110:CS3180_DP:D_CS_STATISTIC</td>\n",
       "      <td>72</td>\n",
       "    </tr>\n",
       "    <tr>\n",
       "      <th>3</th>\n",
       "      <td>81</td>\n",
       "      <td>SALES</td>\n",
       "      <td>REGIONAL ACCOUNT MANAGER</td>\n",
       "      <td>PRIV:ROLE:QE2CLNT110:FI3180_DP:D_FI_DEFAULT</td>\n",
       "      <td>72</td>\n",
       "    </tr>\n",
       "    <tr>\n",
       "      <th>4</th>\n",
       "      <td>81</td>\n",
       "      <td>SALES</td>\n",
       "      <td>REGIONAL ACCOUNT MANAGER</td>\n",
       "      <td>PRIV:ROLE:QE2CLNT110:LO3180_DP:D_LO</td>\n",
       "      <td>72</td>\n",
       "    </tr>\n",
       "    <tr>\n",
       "      <th>...</th>\n",
       "      <td>...</td>\n",
       "      <td>...</td>\n",
       "      <td>...</td>\n",
       "      <td>...</td>\n",
       "      <td>...</td>\n",
       "    </tr>\n",
       "    <tr>\n",
       "      <th>221274</th>\n",
       "      <td>4023652</td>\n",
       "      <td>CUSTOMER SERVICE</td>\n",
       "      <td>JUNIOR SPECIALIST CS</td>\n",
       "      <td>PRIV:ROLE:PE1CLNT110:SD5400_DP:M_SD_ORDER</td>\n",
       "      <td>9</td>\n",
       "    </tr>\n",
       "    <tr>\n",
       "      <th>221275</th>\n",
       "      <td>4023652</td>\n",
       "      <td>CUSTOMER SERVICE</td>\n",
       "      <td>JUNIOR SPECIALIST CS</td>\n",
       "      <td>PRIV:ROLE:PE1CLNT110:SD6900_DP:M_INVOICE</td>\n",
       "      <td>90</td>\n",
       "    </tr>\n",
       "    <tr>\n",
       "      <th>221276</th>\n",
       "      <td>4023652</td>\n",
       "      <td>CUSTOMER SERVICE</td>\n",
       "      <td>JUNIOR SPECIALIST CS</td>\n",
       "      <td>PRIV:ROLE:PE1CLNT110:SD6900_DP:M_MD_OUTPUT_CON...</td>\n",
       "      <td>104</td>\n",
       "    </tr>\n",
       "    <tr>\n",
       "      <th>221277</th>\n",
       "      <td>4023652</td>\n",
       "      <td>CUSTOMER SERVICE</td>\n",
       "      <td>JUNIOR SPECIALIST CS</td>\n",
       "      <td>PRIV:ROLE:PE1CLNT110:SD6900_DP:M_SD</td>\n",
       "      <td>108</td>\n",
       "    </tr>\n",
       "    <tr>\n",
       "      <th>221278</th>\n",
       "      <td>4023652</td>\n",
       "      <td>CUSTOMER SERVICE</td>\n",
       "      <td>JUNIOR SPECIALIST CS</td>\n",
       "      <td>PRIV:ROLE:PE1CLNT110:SD6900_DP:M_SD_ORDER</td>\n",
       "      <td>109</td>\n",
       "    </tr>\n",
       "  </tbody>\n",
       "</table>\n",
       "<p>221279 rows × 5 columns</p>\n",
       "</div>"
      ],
      "text/plain": [
       "        user_id               job                department  \\\n",
       "0            81             SALES  REGIONAL ACCOUNT MANAGER   \n",
       "1            81             SALES  REGIONAL ACCOUNT MANAGER   \n",
       "2            81             SALES  REGIONAL ACCOUNT MANAGER   \n",
       "3            81             SALES  REGIONAL ACCOUNT MANAGER   \n",
       "4            81             SALES  REGIONAL ACCOUNT MANAGER   \n",
       "...         ...               ...                       ...   \n",
       "221274  4023652  CUSTOMER SERVICE      JUNIOR SPECIALIST CS   \n",
       "221275  4023652  CUSTOMER SERVICE      JUNIOR SPECIALIST CS   \n",
       "221276  4023652  CUSTOMER SERVICE      JUNIOR SPECIALIST CS   \n",
       "221277  4023652  CUSTOMER SERVICE      JUNIOR SPECIALIST CS   \n",
       "221278  4023652  CUSTOMER SERVICE      JUNIOR SPECIALIST CS   \n",
       "\n",
       "                                          privileges_data  times_occured  \n",
       "0             PRIV:ROLE:QE2CLNT110:CO3180_DP:D_CO_DEFAULT             72  \n",
       "1             PRIV:ROLE:QE2CLNT110:CS3180_DP:D_CS_DEFAULT             72  \n",
       "2           PRIV:ROLE:QE2CLNT110:CS3180_DP:D_CS_STATISTIC             72  \n",
       "3             PRIV:ROLE:QE2CLNT110:FI3180_DP:D_FI_DEFAULT             72  \n",
       "4                     PRIV:ROLE:QE2CLNT110:LO3180_DP:D_LO             72  \n",
       "...                                                   ...            ...  \n",
       "221274          PRIV:ROLE:PE1CLNT110:SD5400_DP:M_SD_ORDER              9  \n",
       "221275           PRIV:ROLE:PE1CLNT110:SD6900_DP:M_INVOICE             90  \n",
       "221276  PRIV:ROLE:PE1CLNT110:SD6900_DP:M_MD_OUTPUT_CON...            104  \n",
       "221277                PRIV:ROLE:PE1CLNT110:SD6900_DP:M_SD            108  \n",
       "221278          PRIV:ROLE:PE1CLNT110:SD6900_DP:M_SD_ORDER            109  \n",
       "\n",
       "[221279 rows x 5 columns]"
      ]
     },
     "execution_count": 12,
     "metadata": {},
     "output_type": "execute_result"
    }
   ],
   "source": [
    "data"
   ]
  },
  {
   "cell_type": "code",
   "execution_count": 13,
   "metadata": {
    "executionInfo": {
     "elapsed": 14,
     "status": "ok",
     "timestamp": 1649810085515,
     "user": {
      "displayName": "Petar Damianov",
      "userId": "11400996130549296363"
     },
     "user_tz": -180
    },
    "id": "-Ux9QmUdrwz7"
   },
   "outputs": [],
   "source": [
    "data_with_privileges_found_one_time = data.where(data['times_occured'] == 1).dropna()"
   ]
  },
  {
   "cell_type": "code",
   "execution_count": 14,
   "metadata": {
    "colab": {
     "base_uri": "https://localhost:8080/"
    },
    "executionInfo": {
     "elapsed": 372,
     "status": "ok",
     "timestamp": 1649810085874,
     "user": {
      "displayName": "Petar Damianov",
      "userId": "11400996130549296363"
     },
     "user_tz": -180
    },
    "id": "wewB3KOCvUrH",
    "outputId": "e00c17e0-cba0-49d2-aa77-089e6de63f25"
   },
   "outputs": [
    {
     "data": {
      "text/plain": [
       "user_id            float64\n",
       "job                 object\n",
       "department          object\n",
       "privileges_data     object\n",
       "times_occured      float64\n",
       "dtype: object"
      ]
     },
     "execution_count": 14,
     "metadata": {},
     "output_type": "execute_result"
    }
   ],
   "source": [
    "data_with_privileges_found_one_time.dtypes"
   ]
  },
  {
   "cell_type": "code",
   "execution_count": 15,
   "metadata": {
    "executionInfo": {
     "elapsed": 20,
     "status": "ok",
     "timestamp": 1649810085879,
     "user": {
      "displayName": "Petar Damianov",
      "userId": "11400996130549296363"
     },
     "user_tz": -180
    },
    "id": "WVy2oGjqwQB1"
   },
   "outputs": [],
   "source": [
    "data_with_privileges_found_one_time.times_occured = data_with_privileges_found_one_time.times_occured.astype(int)"
   ]
  },
  {
   "cell_type": "code",
   "execution_count": 16,
   "metadata": {
    "colab": {
     "base_uri": "https://localhost:8080/"
    },
    "executionInfo": {
     "elapsed": 20,
     "status": "ok",
     "timestamp": 1649810085880,
     "user": {
      "displayName": "Petar Damianov",
      "userId": "11400996130549296363"
     },
     "user_tz": -180
    },
    "id": "SNOsq9FfwPir",
    "outputId": "0bbf96f3-a5a0-451f-e8bb-d36b165ae9f6"
   },
   "outputs": [
    {
     "data": {
      "text/plain": [
       "user_id            float64\n",
       "job                 object\n",
       "department          object\n",
       "privileges_data     object\n",
       "times_occured        int64\n",
       "dtype: object"
      ]
     },
     "execution_count": 16,
     "metadata": {},
     "output_type": "execute_result"
    }
   ],
   "source": [
    "data_with_privileges_found_one_time.dtypes"
   ]
  },
  {
   "cell_type": "code",
   "execution_count": 17,
   "metadata": {
    "colab": {
     "base_uri": "https://localhost:8080/",
     "height": 780
    },
    "executionInfo": {
     "elapsed": 19,
     "status": "ok",
     "timestamp": 1649810085880,
     "user": {
      "displayName": "Petar Damianov",
      "userId": "11400996130549296363"
     },
     "user_tz": -180
    },
    "id": "NPdq68z0wIxi",
    "outputId": "b02bfb67-cae7-40ce-dd95-d5dffecdc969"
   },
   "outputs": [
    {
     "data": {
      "text/html": [
       "<div>\n",
       "<style scoped>\n",
       "    .dataframe tbody tr th:only-of-type {\n",
       "        vertical-align: middle;\n",
       "    }\n",
       "\n",
       "    .dataframe tbody tr th {\n",
       "        vertical-align: top;\n",
       "    }\n",
       "\n",
       "    .dataframe thead th {\n",
       "        text-align: right;\n",
       "    }\n",
       "</style>\n",
       "<table border=\"1\" class=\"dataframe\">\n",
       "  <thead>\n",
       "    <tr style=\"text-align: right;\">\n",
       "      <th></th>\n",
       "      <th>user_id</th>\n",
       "      <th>job</th>\n",
       "      <th>department</th>\n",
       "      <th>privileges_data</th>\n",
       "      <th>times_occured</th>\n",
       "    </tr>\n",
       "  </thead>\n",
       "  <tbody>\n",
       "    <tr>\n",
       "      <th>1144</th>\n",
       "      <td>404.0</td>\n",
       "      <td>CUSTOMER SERVICE</td>\n",
       "      <td>CUSTOMER SERVICES SPECIALIST</td>\n",
       "      <td>PRIV:ROLE:DE2CLNT210:MM3180_DP:M_REQUISITION_REL</td>\n",
       "      <td>1</td>\n",
       "    </tr>\n",
       "    <tr>\n",
       "      <th>1148</th>\n",
       "      <td>404.0</td>\n",
       "      <td>CUSTOMER SERVICE</td>\n",
       "      <td>CUSTOMER SERVICES SPECIALIST</td>\n",
       "      <td>PRIV:ROLE:DE2CLNT210:SD3180_DP:M_KEYUSER</td>\n",
       "      <td>1</td>\n",
       "    </tr>\n",
       "    <tr>\n",
       "      <th>1149</th>\n",
       "      <td>404.0</td>\n",
       "      <td>CUSTOMER SERVICE</td>\n",
       "      <td>CUSTOMER SERVICES SPECIALIST</td>\n",
       "      <td>PRIV:ROLE:DE2CLNT210:SD3180_DP:M_MD_CUSTOMER</td>\n",
       "      <td>1</td>\n",
       "    </tr>\n",
       "    <tr>\n",
       "      <th>1150</th>\n",
       "      <td>404.0</td>\n",
       "      <td>CUSTOMER SERVICE</td>\n",
       "      <td>CUSTOMER SERVICES SPECIALIST</td>\n",
       "      <td>PRIV:ROLE:DE2CLNT210:SD3180_DP:M_MD_SALES_PRICE</td>\n",
       "      <td>1</td>\n",
       "    </tr>\n",
       "    <tr>\n",
       "      <th>1152</th>\n",
       "      <td>404.0</td>\n",
       "      <td>CUSTOMER SERVICE</td>\n",
       "      <td>CUSTOMER SERVICES SPECIALIST</td>\n",
       "      <td>PRIV:ROLE:DE2CLNT210:SD3180_DP:M_SD</td>\n",
       "      <td>1</td>\n",
       "    </tr>\n",
       "    <tr>\n",
       "      <th>...</th>\n",
       "      <td>...</td>\n",
       "      <td>...</td>\n",
       "      <td>...</td>\n",
       "      <td>...</td>\n",
       "      <td>...</td>\n",
       "    </tr>\n",
       "    <tr>\n",
       "      <th>220111</th>\n",
       "      <td>4023508.0</td>\n",
       "      <td>FIELD SERVICE</td>\n",
       "      <td>OPÉRATEUR DE SAISIE</td>\n",
       "      <td>PRIV:ROLE:PE1CLNT110:PS3270_DP:M_PROJECT_MANAGER</td>\n",
       "      <td>1</td>\n",
       "    </tr>\n",
       "    <tr>\n",
       "      <th>220892</th>\n",
       "      <td>4023637.0</td>\n",
       "      <td>CUSTOMER SERVICE</td>\n",
       "      <td>SPECIALIST CS</td>\n",
       "      <td>PRIV:ROLE:PE1CLNT110:XX3230_DP:M_CATS_ADMIN</td>\n",
       "      <td>1</td>\n",
       "    </tr>\n",
       "    <tr>\n",
       "      <th>220894</th>\n",
       "      <td>4023637.0</td>\n",
       "      <td>CUSTOMER SERVICE</td>\n",
       "      <td>SPECIALIST CS</td>\n",
       "      <td>PRIV:ROLE:PE1CLNT110:XX3230_DP:M_CATS_X</td>\n",
       "      <td>1</td>\n",
       "    </tr>\n",
       "    <tr>\n",
       "      <th>220895</th>\n",
       "      <td>4023637.0</td>\n",
       "      <td>CUSTOMER SERVICE</td>\n",
       "      <td>SPECIALIST CS</td>\n",
       "      <td>PRIV:ROLE:PE1CLNT110:XX3250_DP:M_CATS_ADMIN</td>\n",
       "      <td>1</td>\n",
       "    </tr>\n",
       "    <tr>\n",
       "      <th>220896</th>\n",
       "      <td>4023637.0</td>\n",
       "      <td>CUSTOMER SERVICE</td>\n",
       "      <td>SPECIALIST CS</td>\n",
       "      <td>PRIV:ROLE:PE1CLNT110:XX3250_DP:M_CATS_X</td>\n",
       "      <td>1</td>\n",
       "    </tr>\n",
       "  </tbody>\n",
       "</table>\n",
       "<p>1744 rows × 5 columns</p>\n",
       "</div>"
      ],
      "text/plain": [
       "          user_id               job                    department  \\\n",
       "1144        404.0  CUSTOMER SERVICE  CUSTOMER SERVICES SPECIALIST   \n",
       "1148        404.0  CUSTOMER SERVICE  CUSTOMER SERVICES SPECIALIST   \n",
       "1149        404.0  CUSTOMER SERVICE  CUSTOMER SERVICES SPECIALIST   \n",
       "1150        404.0  CUSTOMER SERVICE  CUSTOMER SERVICES SPECIALIST   \n",
       "1152        404.0  CUSTOMER SERVICE  CUSTOMER SERVICES SPECIALIST   \n",
       "...           ...               ...                           ...   \n",
       "220111  4023508.0     FIELD SERVICE           OPÉRATEUR DE SAISIE   \n",
       "220892  4023637.0  CUSTOMER SERVICE                 SPECIALIST CS   \n",
       "220894  4023637.0  CUSTOMER SERVICE                 SPECIALIST CS   \n",
       "220895  4023637.0  CUSTOMER SERVICE                 SPECIALIST CS   \n",
       "220896  4023637.0  CUSTOMER SERVICE                 SPECIALIST CS   \n",
       "\n",
       "                                         privileges_data  times_occured  \n",
       "1144    PRIV:ROLE:DE2CLNT210:MM3180_DP:M_REQUISITION_REL              1  \n",
       "1148            PRIV:ROLE:DE2CLNT210:SD3180_DP:M_KEYUSER              1  \n",
       "1149        PRIV:ROLE:DE2CLNT210:SD3180_DP:M_MD_CUSTOMER              1  \n",
       "1150     PRIV:ROLE:DE2CLNT210:SD3180_DP:M_MD_SALES_PRICE              1  \n",
       "1152                 PRIV:ROLE:DE2CLNT210:SD3180_DP:M_SD              1  \n",
       "...                                                  ...            ...  \n",
       "220111  PRIV:ROLE:PE1CLNT110:PS3270_DP:M_PROJECT_MANAGER              1  \n",
       "220892       PRIV:ROLE:PE1CLNT110:XX3230_DP:M_CATS_ADMIN              1  \n",
       "220894           PRIV:ROLE:PE1CLNT110:XX3230_DP:M_CATS_X              1  \n",
       "220895       PRIV:ROLE:PE1CLNT110:XX3250_DP:M_CATS_ADMIN              1  \n",
       "220896           PRIV:ROLE:PE1CLNT110:XX3250_DP:M_CATS_X              1  \n",
       "\n",
       "[1744 rows x 5 columns]"
      ]
     },
     "execution_count": 17,
     "metadata": {},
     "output_type": "execute_result"
    }
   ],
   "source": [
    "data_with_privileges_found_one_time"
   ]
  },
  {
   "cell_type": "code",
   "execution_count": 18,
   "metadata": {
    "colab": {
     "base_uri": "https://localhost:8080/"
    },
    "executionInfo": {
     "elapsed": 19,
     "status": "ok",
     "timestamp": 1649810085881,
     "user": {
      "displayName": "Petar Damianov",
      "userId": "11400996130549296363"
     },
     "user_tz": -180
    },
    "id": "6U3a4CHIxFtw",
    "outputId": "bb97cf04-421a-41e8-e932-754d898ef6bb"
   },
   "outputs": [],
   "source": [
    "data.drop(data_with_privileges_found_one_time.index, inplace=True)"
   ]
  },
  {
   "cell_type": "code",
   "execution_count": 19,
   "metadata": {
    "colab": {
     "base_uri": "https://localhost:8080/",
     "height": 728
    },
    "executionInfo": {
     "elapsed": 14,
     "status": "ok",
     "timestamp": 1649810085881,
     "user": {
      "displayName": "Petar Damianov",
      "userId": "11400996130549296363"
     },
     "user_tz": -180
    },
    "id": "SDiw0H0QxFwj",
    "outputId": "fa5ab7c1-939b-4e9a-deaa-1a7da53d2944"
   },
   "outputs": [
    {
     "data": {
      "text/html": [
       "<div>\n",
       "<style scoped>\n",
       "    .dataframe tbody tr th:only-of-type {\n",
       "        vertical-align: middle;\n",
       "    }\n",
       "\n",
       "    .dataframe tbody tr th {\n",
       "        vertical-align: top;\n",
       "    }\n",
       "\n",
       "    .dataframe thead th {\n",
       "        text-align: right;\n",
       "    }\n",
       "</style>\n",
       "<table border=\"1\" class=\"dataframe\">\n",
       "  <thead>\n",
       "    <tr style=\"text-align: right;\">\n",
       "      <th></th>\n",
       "      <th>user_id</th>\n",
       "      <th>job</th>\n",
       "      <th>department</th>\n",
       "      <th>privileges_data</th>\n",
       "      <th>times_occured</th>\n",
       "    </tr>\n",
       "  </thead>\n",
       "  <tbody>\n",
       "    <tr>\n",
       "      <th>0</th>\n",
       "      <td>81</td>\n",
       "      <td>SALES</td>\n",
       "      <td>REGIONAL ACCOUNT MANAGER</td>\n",
       "      <td>PRIV:ROLE:QE2CLNT110:CO3180_DP:D_CO_DEFAULT</td>\n",
       "      <td>72</td>\n",
       "    </tr>\n",
       "    <tr>\n",
       "      <th>1</th>\n",
       "      <td>81</td>\n",
       "      <td>SALES</td>\n",
       "      <td>REGIONAL ACCOUNT MANAGER</td>\n",
       "      <td>PRIV:ROLE:QE2CLNT110:CS3180_DP:D_CS_DEFAULT</td>\n",
       "      <td>72</td>\n",
       "    </tr>\n",
       "    <tr>\n",
       "      <th>2</th>\n",
       "      <td>81</td>\n",
       "      <td>SALES</td>\n",
       "      <td>REGIONAL ACCOUNT MANAGER</td>\n",
       "      <td>PRIV:ROLE:QE2CLNT110:CS3180_DP:D_CS_STATISTIC</td>\n",
       "      <td>72</td>\n",
       "    </tr>\n",
       "    <tr>\n",
       "      <th>3</th>\n",
       "      <td>81</td>\n",
       "      <td>SALES</td>\n",
       "      <td>REGIONAL ACCOUNT MANAGER</td>\n",
       "      <td>PRIV:ROLE:QE2CLNT110:FI3180_DP:D_FI_DEFAULT</td>\n",
       "      <td>72</td>\n",
       "    </tr>\n",
       "    <tr>\n",
       "      <th>4</th>\n",
       "      <td>81</td>\n",
       "      <td>SALES</td>\n",
       "      <td>REGIONAL ACCOUNT MANAGER</td>\n",
       "      <td>PRIV:ROLE:QE2CLNT110:LO3180_DP:D_LO</td>\n",
       "      <td>72</td>\n",
       "    </tr>\n",
       "    <tr>\n",
       "      <th>...</th>\n",
       "      <td>...</td>\n",
       "      <td>...</td>\n",
       "      <td>...</td>\n",
       "      <td>...</td>\n",
       "      <td>...</td>\n",
       "    </tr>\n",
       "    <tr>\n",
       "      <th>219530</th>\n",
       "      <td>4023652</td>\n",
       "      <td>CUSTOMER SERVICE</td>\n",
       "      <td>JUNIOR SPECIALIST CS</td>\n",
       "      <td>PRIV:ROLE:PE1CLNT110:SD5400_DP:M_SD_ORDER</td>\n",
       "      <td>9</td>\n",
       "    </tr>\n",
       "    <tr>\n",
       "      <th>219531</th>\n",
       "      <td>4023652</td>\n",
       "      <td>CUSTOMER SERVICE</td>\n",
       "      <td>JUNIOR SPECIALIST CS</td>\n",
       "      <td>PRIV:ROLE:PE1CLNT110:SD6900_DP:M_INVOICE</td>\n",
       "      <td>90</td>\n",
       "    </tr>\n",
       "    <tr>\n",
       "      <th>219532</th>\n",
       "      <td>4023652</td>\n",
       "      <td>CUSTOMER SERVICE</td>\n",
       "      <td>JUNIOR SPECIALIST CS</td>\n",
       "      <td>PRIV:ROLE:PE1CLNT110:SD6900_DP:M_MD_OUTPUT_CON...</td>\n",
       "      <td>104</td>\n",
       "    </tr>\n",
       "    <tr>\n",
       "      <th>219533</th>\n",
       "      <td>4023652</td>\n",
       "      <td>CUSTOMER SERVICE</td>\n",
       "      <td>JUNIOR SPECIALIST CS</td>\n",
       "      <td>PRIV:ROLE:PE1CLNT110:SD6900_DP:M_SD</td>\n",
       "      <td>108</td>\n",
       "    </tr>\n",
       "    <tr>\n",
       "      <th>219534</th>\n",
       "      <td>4023652</td>\n",
       "      <td>CUSTOMER SERVICE</td>\n",
       "      <td>JUNIOR SPECIALIST CS</td>\n",
       "      <td>PRIV:ROLE:PE1CLNT110:SD6900_DP:M_SD_ORDER</td>\n",
       "      <td>109</td>\n",
       "    </tr>\n",
       "  </tbody>\n",
       "</table>\n",
       "<p>219535 rows × 5 columns</p>\n",
       "</div>"
      ],
      "text/plain": [
       "        user_id               job                department  \\\n",
       "0            81             SALES  REGIONAL ACCOUNT MANAGER   \n",
       "1            81             SALES  REGIONAL ACCOUNT MANAGER   \n",
       "2            81             SALES  REGIONAL ACCOUNT MANAGER   \n",
       "3            81             SALES  REGIONAL ACCOUNT MANAGER   \n",
       "4            81             SALES  REGIONAL ACCOUNT MANAGER   \n",
       "...         ...               ...                       ...   \n",
       "219530  4023652  CUSTOMER SERVICE      JUNIOR SPECIALIST CS   \n",
       "219531  4023652  CUSTOMER SERVICE      JUNIOR SPECIALIST CS   \n",
       "219532  4023652  CUSTOMER SERVICE      JUNIOR SPECIALIST CS   \n",
       "219533  4023652  CUSTOMER SERVICE      JUNIOR SPECIALIST CS   \n",
       "219534  4023652  CUSTOMER SERVICE      JUNIOR SPECIALIST CS   \n",
       "\n",
       "                                          privileges_data  times_occured  \n",
       "0             PRIV:ROLE:QE2CLNT110:CO3180_DP:D_CO_DEFAULT             72  \n",
       "1             PRIV:ROLE:QE2CLNT110:CS3180_DP:D_CS_DEFAULT             72  \n",
       "2           PRIV:ROLE:QE2CLNT110:CS3180_DP:D_CS_STATISTIC             72  \n",
       "3             PRIV:ROLE:QE2CLNT110:FI3180_DP:D_FI_DEFAULT             72  \n",
       "4                     PRIV:ROLE:QE2CLNT110:LO3180_DP:D_LO             72  \n",
       "...                                                   ...            ...  \n",
       "219530          PRIV:ROLE:PE1CLNT110:SD5400_DP:M_SD_ORDER              9  \n",
       "219531           PRIV:ROLE:PE1CLNT110:SD6900_DP:M_INVOICE             90  \n",
       "219532  PRIV:ROLE:PE1CLNT110:SD6900_DP:M_MD_OUTPUT_CON...            104  \n",
       "219533                PRIV:ROLE:PE1CLNT110:SD6900_DP:M_SD            108  \n",
       "219534          PRIV:ROLE:PE1CLNT110:SD6900_DP:M_SD_ORDER            109  \n",
       "\n",
       "[219535 rows x 5 columns]"
      ]
     },
     "execution_count": 19,
     "metadata": {},
     "output_type": "execute_result"
    }
   ],
   "source": [
    "data = data.reset_index(drop=True)\n",
    "data"
   ]
  },
  {
   "cell_type": "code",
   "execution_count": 20,
   "metadata": {
    "executionInfo": {
     "elapsed": 13,
     "status": "ok",
     "timestamp": 1649810085881,
     "user": {
      "displayName": "Petar Damianov",
      "userId": "11400996130549296363"
     },
     "user_tz": -180
    },
    "id": "j42lNZOAxFzX"
   },
   "outputs": [],
   "source": [
    "data.drop('times_occured', axis=1, inplace=True)"
   ]
  },
  {
   "cell_type": "code",
   "execution_count": 21,
   "metadata": {
    "executionInfo": {
     "elapsed": 13,
     "status": "ok",
     "timestamp": 1649810085882,
     "user": {
      "displayName": "Petar Damianov",
      "userId": "11400996130549296363"
     },
     "user_tz": -180
    },
    "id": "mqY371EDR1Y0"
   },
   "outputs": [],
   "source": [
    "X_train, y_train = train_test_split(data, train_size=0.1, shuffle=True, stratify=data.privileges_data)"
   ]
  },
  {
   "cell_type": "code",
   "execution_count": 22,
   "metadata": {
    "colab": {
     "base_uri": "https://localhost:8080/",
     "height": 537
    },
    "executionInfo": {
     "elapsed": 361,
     "status": "ok",
     "timestamp": 1649810086230,
     "user": {
      "displayName": "Petar Damianov",
      "userId": "11400996130549296363"
     },
     "user_tz": -180
    },
    "id": "3U1ZGUXGc9Ll",
    "outputId": "be15f425-1883-4881-a1b0-346812364073"
   },
   "outputs": [
    {
     "data": {
      "text/html": [
       "<div>\n",
       "<style scoped>\n",
       "    .dataframe tbody tr th:only-of-type {\n",
       "        vertical-align: middle;\n",
       "    }\n",
       "\n",
       "    .dataframe tbody tr th {\n",
       "        vertical-align: top;\n",
       "    }\n",
       "\n",
       "    .dataframe thead th {\n",
       "        text-align: right;\n",
       "    }\n",
       "</style>\n",
       "<table border=\"1\" class=\"dataframe\">\n",
       "  <thead>\n",
       "    <tr style=\"text-align: right;\">\n",
       "      <th></th>\n",
       "      <th>user_id</th>\n",
       "      <th>job</th>\n",
       "      <th>department</th>\n",
       "      <th>privileges_data</th>\n",
       "    </tr>\n",
       "  </thead>\n",
       "  <tbody>\n",
       "    <tr>\n",
       "      <th>20147</th>\n",
       "      <td>314985</td>\n",
       "      <td>FIELD SERVICE</td>\n",
       "      <td>SERVICE TEAM MANAGER - NORTH</td>\n",
       "      <td>PRIV:ROLE:PE1CLNT110:MM3120_DP:D_MATMAS_B+G</td>\n",
       "    </tr>\n",
       "    <tr>\n",
       "      <th>38174</th>\n",
       "      <td>690192</td>\n",
       "      <td>FIELD SERVICE</td>\n",
       "      <td>TECHNICAL TRAINING AND VALIDATION MANAGER IC”</td>\n",
       "      <td>PRIV:ROLE:PE1CLNT110:XX0000_SP:D_EVERYONE</td>\n",
       "    </tr>\n",
       "    <tr>\n",
       "      <th>115825</th>\n",
       "      <td>2935844</td>\n",
       "      <td>CUSTOMER SERVICE</td>\n",
       "      <td>SACHBEARBEITER CUSTOMER SERVICE</td>\n",
       "      <td>PRIV:ROLE:QE2CLNT110:MM3040_DP:D_INFOSYS</td>\n",
       "    </tr>\n",
       "    <tr>\n",
       "      <th>195161</th>\n",
       "      <td>4020595</td>\n",
       "      <td>FIELD SERVICE</td>\n",
       "      <td>VALIDATION ENGINEER</td>\n",
       "      <td>PRIV:ROLE:QE2CLNT110:LO8060_DP:M_LEAN_WM</td>\n",
       "    </tr>\n",
       "    <tr>\n",
       "      <th>137458</th>\n",
       "      <td>4008660</td>\n",
       "      <td>FIELD SERVICE</td>\n",
       "      <td>SERVICE TECHNICIAN</td>\n",
       "      <td>PRIV:ROLE:PE1CLNT110:PS8090_DP:D_PROJECT_MANAGER</td>\n",
       "    </tr>\n",
       "    <tr>\n",
       "      <th>...</th>\n",
       "      <td>...</td>\n",
       "      <td>...</td>\n",
       "      <td>...</td>\n",
       "      <td>...</td>\n",
       "    </tr>\n",
       "    <tr>\n",
       "      <th>25703</th>\n",
       "      <td>423013</td>\n",
       "      <td>SALES</td>\n",
       "      <td>SENIOR DIRECTOR LS SPECIAL PRODUCTS SALES</td>\n",
       "      <td>PRIV:ROLE:PE1CLNT110:XX3120_DP:D_IDOC</td>\n",
       "    </tr>\n",
       "    <tr>\n",
       "      <th>205255</th>\n",
       "      <td>4021869</td>\n",
       "      <td>SALES</td>\n",
       "      <td>KEY ACCOUNT MANAGER BIOTECHNOLOGY</td>\n",
       "      <td>PRIV:ROLE:PE1CLNT110:CO3030_DP:D_CO_DEFAULT</td>\n",
       "    </tr>\n",
       "    <tr>\n",
       "      <th>58710</th>\n",
       "      <td>2001018</td>\n",
       "      <td>CUSTOMER SERVICE</td>\n",
       "      <td>SECOND LEVEL TECHNICAL SUPPORT SPECIALIST</td>\n",
       "      <td>PRIV:ROLE:QE2CLNT110:XX1600_DP:D_IDOC</td>\n",
       "    </tr>\n",
       "    <tr>\n",
       "      <th>80281</th>\n",
       "      <td>2335069</td>\n",
       "      <td>SALES</td>\n",
       "      <td>MANAGING DIRECTOR, GETINGE GROUP, HONG KONG</td>\n",
       "      <td>PRIV:ROLE:QE2CLNT110:PS8010_DP:D_PS</td>\n",
       "    </tr>\n",
       "    <tr>\n",
       "      <th>143271</th>\n",
       "      <td>4011209</td>\n",
       "      <td>FIELD SERVICE</td>\n",
       "      <td>TECHNICAL SERVICE MANAGER (IC)</td>\n",
       "      <td>PRIV:ROLE:PGWCLNT110:XX0000_SP:D_EVERYONE_FIORI</td>\n",
       "    </tr>\n",
       "  </tbody>\n",
       "</table>\n",
       "<p>21953 rows × 4 columns</p>\n",
       "</div>"
      ],
      "text/plain": [
       "        user_id               job  \\\n",
       "20147    314985     FIELD SERVICE   \n",
       "38174    690192     FIELD SERVICE   \n",
       "115825  2935844  CUSTOMER SERVICE   \n",
       "195161  4020595     FIELD SERVICE   \n",
       "137458  4008660     FIELD SERVICE   \n",
       "...         ...               ...   \n",
       "25703    423013             SALES   \n",
       "205255  4021869             SALES   \n",
       "58710   2001018  CUSTOMER SERVICE   \n",
       "80281   2335069             SALES   \n",
       "143271  4011209     FIELD SERVICE   \n",
       "\n",
       "                                           department  \\\n",
       "20147                    SERVICE TEAM MANAGER - NORTH   \n",
       "38174   TECHNICAL TRAINING AND VALIDATION MANAGER IC”   \n",
       "115825                SACHBEARBEITER CUSTOMER SERVICE   \n",
       "195161                            VALIDATION ENGINEER   \n",
       "137458                             SERVICE TECHNICIAN   \n",
       "...                                               ...   \n",
       "25703       SENIOR DIRECTOR LS SPECIAL PRODUCTS SALES   \n",
       "205255              KEY ACCOUNT MANAGER BIOTECHNOLOGY   \n",
       "58710       SECOND LEVEL TECHNICAL SUPPORT SPECIALIST   \n",
       "80281     MANAGING DIRECTOR, GETINGE GROUP, HONG KONG   \n",
       "143271                 TECHNICAL SERVICE MANAGER (IC)   \n",
       "\n",
       "                                         privileges_data  \n",
       "20147        PRIV:ROLE:PE1CLNT110:MM3120_DP:D_MATMAS_B+G  \n",
       "38174          PRIV:ROLE:PE1CLNT110:XX0000_SP:D_EVERYONE  \n",
       "115825          PRIV:ROLE:QE2CLNT110:MM3040_DP:D_INFOSYS  \n",
       "195161          PRIV:ROLE:QE2CLNT110:LO8060_DP:M_LEAN_WM  \n",
       "137458  PRIV:ROLE:PE1CLNT110:PS8090_DP:D_PROJECT_MANAGER  \n",
       "...                                                  ...  \n",
       "25703              PRIV:ROLE:PE1CLNT110:XX3120_DP:D_IDOC  \n",
       "205255       PRIV:ROLE:PE1CLNT110:CO3030_DP:D_CO_DEFAULT  \n",
       "58710              PRIV:ROLE:QE2CLNT110:XX1600_DP:D_IDOC  \n",
       "80281                PRIV:ROLE:QE2CLNT110:PS8010_DP:D_PS  \n",
       "143271   PRIV:ROLE:PGWCLNT110:XX0000_SP:D_EVERYONE_FIORI  \n",
       "\n",
       "[21953 rows x 4 columns]"
      ]
     },
     "execution_count": 22,
     "metadata": {},
     "output_type": "execute_result"
    }
   ],
   "source": [
    "X_train"
   ]
  },
  {
   "cell_type": "code",
   "execution_count": 23,
   "metadata": {
    "executionInfo": {
     "elapsed": 19,
     "status": "ok",
     "timestamp": 1649810086234,
     "user": {
      "displayName": "Petar Damianov",
      "userId": "11400996130549296363"
     },
     "user_tz": -180
    },
    "id": "lACGuamEYIfy"
   },
   "outputs": [],
   "source": [
    "data = X_train"
   ]
  },
  {
   "cell_type": "code",
   "execution_count": 24,
   "metadata": {
    "colab": {
     "base_uri": "https://localhost:8080/"
    },
    "executionInfo": {
     "elapsed": 19,
     "status": "ok",
     "timestamp": 1649810086235,
     "user": {
      "displayName": "Petar Damianov",
      "userId": "11400996130549296363"
     },
     "user_tz": -180
    },
    "id": "PeuRX19w3_GH",
    "outputId": "4679d5e3-43d2-4b20-e301-c0dd8cba2d1a"
   },
   "outputs": [
    {
     "data": {
      "text/plain": [
       "(21953, 4)"
      ]
     },
     "execution_count": 24,
     "metadata": {},
     "output_type": "execute_result"
    }
   ],
   "source": [
    "data.shape"
   ]
  },
  {
   "cell_type": "code",
   "execution_count": 25,
   "metadata": {
    "colab": {
     "base_uri": "https://localhost:8080/",
     "height": 537
    },
    "executionInfo": {
     "elapsed": 17,
     "status": "ok",
     "timestamp": 1649810086235,
     "user": {
      "displayName": "Petar Damianov",
      "userId": "11400996130549296363"
     },
     "user_tz": -180
    },
    "id": "-TLP0bEm4B46",
    "outputId": "fc40dcb7-ca25-4e82-da1e-32db03df6e4b"
   },
   "outputs": [
    {
     "data": {
      "text/html": [
       "<div>\n",
       "<style scoped>\n",
       "    .dataframe tbody tr th:only-of-type {\n",
       "        vertical-align: middle;\n",
       "    }\n",
       "\n",
       "    .dataframe tbody tr th {\n",
       "        vertical-align: top;\n",
       "    }\n",
       "\n",
       "    .dataframe thead th {\n",
       "        text-align: right;\n",
       "    }\n",
       "</style>\n",
       "<table border=\"1\" class=\"dataframe\">\n",
       "  <thead>\n",
       "    <tr style=\"text-align: right;\">\n",
       "      <th></th>\n",
       "      <th>user_id</th>\n",
       "      <th>job</th>\n",
       "      <th>department</th>\n",
       "      <th>privileges_data</th>\n",
       "    </tr>\n",
       "  </thead>\n",
       "  <tbody>\n",
       "    <tr>\n",
       "      <th>20147</th>\n",
       "      <td>314985</td>\n",
       "      <td>FIELD SERVICE</td>\n",
       "      <td>SERVICE TEAM MANAGER - NORTH</td>\n",
       "      <td>PRIV:ROLE:PE1CLNT110:MM3120_DP:D_MATMAS_B+G</td>\n",
       "    </tr>\n",
       "    <tr>\n",
       "      <th>38174</th>\n",
       "      <td>690192</td>\n",
       "      <td>FIELD SERVICE</td>\n",
       "      <td>TECHNICAL TRAINING AND VALIDATION MANAGER IC”</td>\n",
       "      <td>PRIV:ROLE:PE1CLNT110:XX0000_SP:D_EVERYONE</td>\n",
       "    </tr>\n",
       "    <tr>\n",
       "      <th>115825</th>\n",
       "      <td>2935844</td>\n",
       "      <td>CUSTOMER SERVICE</td>\n",
       "      <td>SACHBEARBEITER CUSTOMER SERVICE</td>\n",
       "      <td>PRIV:ROLE:QE2CLNT110:MM3040_DP:D_INFOSYS</td>\n",
       "    </tr>\n",
       "    <tr>\n",
       "      <th>195161</th>\n",
       "      <td>4020595</td>\n",
       "      <td>FIELD SERVICE</td>\n",
       "      <td>VALIDATION ENGINEER</td>\n",
       "      <td>PRIV:ROLE:QE2CLNT110:LO8060_DP:M_LEAN_WM</td>\n",
       "    </tr>\n",
       "    <tr>\n",
       "      <th>137458</th>\n",
       "      <td>4008660</td>\n",
       "      <td>FIELD SERVICE</td>\n",
       "      <td>SERVICE TECHNICIAN</td>\n",
       "      <td>PRIV:ROLE:PE1CLNT110:PS8090_DP:D_PROJECT_MANAGER</td>\n",
       "    </tr>\n",
       "    <tr>\n",
       "      <th>...</th>\n",
       "      <td>...</td>\n",
       "      <td>...</td>\n",
       "      <td>...</td>\n",
       "      <td>...</td>\n",
       "    </tr>\n",
       "    <tr>\n",
       "      <th>25703</th>\n",
       "      <td>423013</td>\n",
       "      <td>SALES</td>\n",
       "      <td>SENIOR DIRECTOR LS SPECIAL PRODUCTS SALES</td>\n",
       "      <td>PRIV:ROLE:PE1CLNT110:XX3120_DP:D_IDOC</td>\n",
       "    </tr>\n",
       "    <tr>\n",
       "      <th>205255</th>\n",
       "      <td>4021869</td>\n",
       "      <td>SALES</td>\n",
       "      <td>KEY ACCOUNT MANAGER BIOTECHNOLOGY</td>\n",
       "      <td>PRIV:ROLE:PE1CLNT110:CO3030_DP:D_CO_DEFAULT</td>\n",
       "    </tr>\n",
       "    <tr>\n",
       "      <th>58710</th>\n",
       "      <td>2001018</td>\n",
       "      <td>CUSTOMER SERVICE</td>\n",
       "      <td>SECOND LEVEL TECHNICAL SUPPORT SPECIALIST</td>\n",
       "      <td>PRIV:ROLE:QE2CLNT110:XX1600_DP:D_IDOC</td>\n",
       "    </tr>\n",
       "    <tr>\n",
       "      <th>80281</th>\n",
       "      <td>2335069</td>\n",
       "      <td>SALES</td>\n",
       "      <td>MANAGING DIRECTOR, GETINGE GROUP, HONG KONG</td>\n",
       "      <td>PRIV:ROLE:QE2CLNT110:PS8010_DP:D_PS</td>\n",
       "    </tr>\n",
       "    <tr>\n",
       "      <th>143271</th>\n",
       "      <td>4011209</td>\n",
       "      <td>FIELD SERVICE</td>\n",
       "      <td>TECHNICAL SERVICE MANAGER (IC)</td>\n",
       "      <td>PRIV:ROLE:PGWCLNT110:XX0000_SP:D_EVERYONE_FIORI</td>\n",
       "    </tr>\n",
       "  </tbody>\n",
       "</table>\n",
       "<p>21953 rows × 4 columns</p>\n",
       "</div>"
      ],
      "text/plain": [
       "        user_id               job  \\\n",
       "20147    314985     FIELD SERVICE   \n",
       "38174    690192     FIELD SERVICE   \n",
       "115825  2935844  CUSTOMER SERVICE   \n",
       "195161  4020595     FIELD SERVICE   \n",
       "137458  4008660     FIELD SERVICE   \n",
       "...         ...               ...   \n",
       "25703    423013             SALES   \n",
       "205255  4021869             SALES   \n",
       "58710   2001018  CUSTOMER SERVICE   \n",
       "80281   2335069             SALES   \n",
       "143271  4011209     FIELD SERVICE   \n",
       "\n",
       "                                           department  \\\n",
       "20147                    SERVICE TEAM MANAGER - NORTH   \n",
       "38174   TECHNICAL TRAINING AND VALIDATION MANAGER IC”   \n",
       "115825                SACHBEARBEITER CUSTOMER SERVICE   \n",
       "195161                            VALIDATION ENGINEER   \n",
       "137458                             SERVICE TECHNICIAN   \n",
       "...                                               ...   \n",
       "25703       SENIOR DIRECTOR LS SPECIAL PRODUCTS SALES   \n",
       "205255              KEY ACCOUNT MANAGER BIOTECHNOLOGY   \n",
       "58710       SECOND LEVEL TECHNICAL SUPPORT SPECIALIST   \n",
       "80281     MANAGING DIRECTOR, GETINGE GROUP, HONG KONG   \n",
       "143271                 TECHNICAL SERVICE MANAGER (IC)   \n",
       "\n",
       "                                         privileges_data  \n",
       "20147        PRIV:ROLE:PE1CLNT110:MM3120_DP:D_MATMAS_B+G  \n",
       "38174          PRIV:ROLE:PE1CLNT110:XX0000_SP:D_EVERYONE  \n",
       "115825          PRIV:ROLE:QE2CLNT110:MM3040_DP:D_INFOSYS  \n",
       "195161          PRIV:ROLE:QE2CLNT110:LO8060_DP:M_LEAN_WM  \n",
       "137458  PRIV:ROLE:PE1CLNT110:PS8090_DP:D_PROJECT_MANAGER  \n",
       "...                                                  ...  \n",
       "25703              PRIV:ROLE:PE1CLNT110:XX3120_DP:D_IDOC  \n",
       "205255       PRIV:ROLE:PE1CLNT110:CO3030_DP:D_CO_DEFAULT  \n",
       "58710              PRIV:ROLE:QE2CLNT110:XX1600_DP:D_IDOC  \n",
       "80281                PRIV:ROLE:QE2CLNT110:PS8010_DP:D_PS  \n",
       "143271   PRIV:ROLE:PGWCLNT110:XX0000_SP:D_EVERYONE_FIORI  \n",
       "\n",
       "[21953 rows x 4 columns]"
      ]
     },
     "execution_count": 25,
     "metadata": {},
     "output_type": "execute_result"
    }
   ],
   "source": [
    "data"
   ]
  },
  {
   "cell_type": "code",
   "execution_count": 26,
   "metadata": {
    "executionInfo": {
     "elapsed": 15,
     "status": "ok",
     "timestamp": 1649810086235,
     "user": {
      "displayName": "Petar Damianov",
      "userId": "11400996130549296363"
     },
     "user_tz": -180
    },
    "id": "V_5lzcae30bz"
   },
   "outputs": [],
   "source": [
    "#data = data.append(data_with_privileges_found_one_time.drop('times_occured', axis=1))"
   ]
  },
  {
   "cell_type": "code",
   "execution_count": 27,
   "metadata": {
    "executionInfo": {
     "elapsed": 16,
     "status": "ok",
     "timestamp": 1649810086236,
     "user": {
      "displayName": "Petar Damianov",
      "userId": "11400996130549296363"
     },
     "user_tz": -180
    },
    "id": "kSzoocEP31-0"
   },
   "outputs": [],
   "source": [
    "data = data.reset_index(drop=True)"
   ]
  },
  {
   "cell_type": "code",
   "execution_count": 28,
   "metadata": {
    "colab": {
     "base_uri": "https://localhost:8080/"
    },
    "executionInfo": {
     "elapsed": 17,
     "status": "ok",
     "timestamp": 1649810086237,
     "user": {
      "displayName": "Petar Damianov",
      "userId": "11400996130549296363"
     },
     "user_tz": -180
    },
    "id": "50aIwXYo4E6k",
    "outputId": "d0a36a44-03d3-4f44-ea85-c4fa49c30ef2"
   },
   "outputs": [
    {
     "data": {
      "text/plain": [
       "(21953, 4)"
      ]
     },
     "execution_count": 28,
     "metadata": {},
     "output_type": "execute_result"
    }
   ],
   "source": [
    "data.shape"
   ]
  },
  {
   "cell_type": "code",
   "execution_count": 29,
   "metadata": {
    "colab": {
     "base_uri": "https://localhost:8080/",
     "height": 537
    },
    "executionInfo": {
     "elapsed": 14,
     "status": "ok",
     "timestamp": 1649810086238,
     "user": {
      "displayName": "Petar Damianov",
      "userId": "11400996130549296363"
     },
     "user_tz": -180
    },
    "id": "S4Z_whPt4E6l",
    "outputId": "ff848377-a4bc-4dbf-e3bb-3f2f5e1b4adf"
   },
   "outputs": [
    {
     "data": {
      "text/html": [
       "<div>\n",
       "<style scoped>\n",
       "    .dataframe tbody tr th:only-of-type {\n",
       "        vertical-align: middle;\n",
       "    }\n",
       "\n",
       "    .dataframe tbody tr th {\n",
       "        vertical-align: top;\n",
       "    }\n",
       "\n",
       "    .dataframe thead th {\n",
       "        text-align: right;\n",
       "    }\n",
       "</style>\n",
       "<table border=\"1\" class=\"dataframe\">\n",
       "  <thead>\n",
       "    <tr style=\"text-align: right;\">\n",
       "      <th></th>\n",
       "      <th>user_id</th>\n",
       "      <th>job</th>\n",
       "      <th>department</th>\n",
       "      <th>privileges_data</th>\n",
       "    </tr>\n",
       "  </thead>\n",
       "  <tbody>\n",
       "    <tr>\n",
       "      <th>0</th>\n",
       "      <td>314985</td>\n",
       "      <td>FIELD SERVICE</td>\n",
       "      <td>SERVICE TEAM MANAGER - NORTH</td>\n",
       "      <td>PRIV:ROLE:PE1CLNT110:MM3120_DP:D_MATMAS_B+G</td>\n",
       "    </tr>\n",
       "    <tr>\n",
       "      <th>1</th>\n",
       "      <td>690192</td>\n",
       "      <td>FIELD SERVICE</td>\n",
       "      <td>TECHNICAL TRAINING AND VALIDATION MANAGER IC”</td>\n",
       "      <td>PRIV:ROLE:PE1CLNT110:XX0000_SP:D_EVERYONE</td>\n",
       "    </tr>\n",
       "    <tr>\n",
       "      <th>2</th>\n",
       "      <td>2935844</td>\n",
       "      <td>CUSTOMER SERVICE</td>\n",
       "      <td>SACHBEARBEITER CUSTOMER SERVICE</td>\n",
       "      <td>PRIV:ROLE:QE2CLNT110:MM3040_DP:D_INFOSYS</td>\n",
       "    </tr>\n",
       "    <tr>\n",
       "      <th>3</th>\n",
       "      <td>4020595</td>\n",
       "      <td>FIELD SERVICE</td>\n",
       "      <td>VALIDATION ENGINEER</td>\n",
       "      <td>PRIV:ROLE:QE2CLNT110:LO8060_DP:M_LEAN_WM</td>\n",
       "    </tr>\n",
       "    <tr>\n",
       "      <th>4</th>\n",
       "      <td>4008660</td>\n",
       "      <td>FIELD SERVICE</td>\n",
       "      <td>SERVICE TECHNICIAN</td>\n",
       "      <td>PRIV:ROLE:PE1CLNT110:PS8090_DP:D_PROJECT_MANAGER</td>\n",
       "    </tr>\n",
       "    <tr>\n",
       "      <th>...</th>\n",
       "      <td>...</td>\n",
       "      <td>...</td>\n",
       "      <td>...</td>\n",
       "      <td>...</td>\n",
       "    </tr>\n",
       "    <tr>\n",
       "      <th>21948</th>\n",
       "      <td>423013</td>\n",
       "      <td>SALES</td>\n",
       "      <td>SENIOR DIRECTOR LS SPECIAL PRODUCTS SALES</td>\n",
       "      <td>PRIV:ROLE:PE1CLNT110:XX3120_DP:D_IDOC</td>\n",
       "    </tr>\n",
       "    <tr>\n",
       "      <th>21949</th>\n",
       "      <td>4021869</td>\n",
       "      <td>SALES</td>\n",
       "      <td>KEY ACCOUNT MANAGER BIOTECHNOLOGY</td>\n",
       "      <td>PRIV:ROLE:PE1CLNT110:CO3030_DP:D_CO_DEFAULT</td>\n",
       "    </tr>\n",
       "    <tr>\n",
       "      <th>21950</th>\n",
       "      <td>2001018</td>\n",
       "      <td>CUSTOMER SERVICE</td>\n",
       "      <td>SECOND LEVEL TECHNICAL SUPPORT SPECIALIST</td>\n",
       "      <td>PRIV:ROLE:QE2CLNT110:XX1600_DP:D_IDOC</td>\n",
       "    </tr>\n",
       "    <tr>\n",
       "      <th>21951</th>\n",
       "      <td>2335069</td>\n",
       "      <td>SALES</td>\n",
       "      <td>MANAGING DIRECTOR, GETINGE GROUP, HONG KONG</td>\n",
       "      <td>PRIV:ROLE:QE2CLNT110:PS8010_DP:D_PS</td>\n",
       "    </tr>\n",
       "    <tr>\n",
       "      <th>21952</th>\n",
       "      <td>4011209</td>\n",
       "      <td>FIELD SERVICE</td>\n",
       "      <td>TECHNICAL SERVICE MANAGER (IC)</td>\n",
       "      <td>PRIV:ROLE:PGWCLNT110:XX0000_SP:D_EVERYONE_FIORI</td>\n",
       "    </tr>\n",
       "  </tbody>\n",
       "</table>\n",
       "<p>21953 rows × 4 columns</p>\n",
       "</div>"
      ],
      "text/plain": [
       "       user_id               job  \\\n",
       "0       314985     FIELD SERVICE   \n",
       "1       690192     FIELD SERVICE   \n",
       "2      2935844  CUSTOMER SERVICE   \n",
       "3      4020595     FIELD SERVICE   \n",
       "4      4008660     FIELD SERVICE   \n",
       "...        ...               ...   \n",
       "21948   423013             SALES   \n",
       "21949  4021869             SALES   \n",
       "21950  2001018  CUSTOMER SERVICE   \n",
       "21951  2335069             SALES   \n",
       "21952  4011209     FIELD SERVICE   \n",
       "\n",
       "                                          department  \\\n",
       "0                       SERVICE TEAM MANAGER - NORTH   \n",
       "1      TECHNICAL TRAINING AND VALIDATION MANAGER IC”   \n",
       "2                    SACHBEARBEITER CUSTOMER SERVICE   \n",
       "3                                VALIDATION ENGINEER   \n",
       "4                                 SERVICE TECHNICIAN   \n",
       "...                                              ...   \n",
       "21948      SENIOR DIRECTOR LS SPECIAL PRODUCTS SALES   \n",
       "21949              KEY ACCOUNT MANAGER BIOTECHNOLOGY   \n",
       "21950      SECOND LEVEL TECHNICAL SUPPORT SPECIALIST   \n",
       "21951    MANAGING DIRECTOR, GETINGE GROUP, HONG KONG   \n",
       "21952                 TECHNICAL SERVICE MANAGER (IC)   \n",
       "\n",
       "                                        privileges_data  \n",
       "0           PRIV:ROLE:PE1CLNT110:MM3120_DP:D_MATMAS_B+G  \n",
       "1             PRIV:ROLE:PE1CLNT110:XX0000_SP:D_EVERYONE  \n",
       "2              PRIV:ROLE:QE2CLNT110:MM3040_DP:D_INFOSYS  \n",
       "3              PRIV:ROLE:QE2CLNT110:LO8060_DP:M_LEAN_WM  \n",
       "4      PRIV:ROLE:PE1CLNT110:PS8090_DP:D_PROJECT_MANAGER  \n",
       "...                                                 ...  \n",
       "21948             PRIV:ROLE:PE1CLNT110:XX3120_DP:D_IDOC  \n",
       "21949       PRIV:ROLE:PE1CLNT110:CO3030_DP:D_CO_DEFAULT  \n",
       "21950             PRIV:ROLE:QE2CLNT110:XX1600_DP:D_IDOC  \n",
       "21951               PRIV:ROLE:QE2CLNT110:PS8010_DP:D_PS  \n",
       "21952   PRIV:ROLE:PGWCLNT110:XX0000_SP:D_EVERYONE_FIORI  \n",
       "\n",
       "[21953 rows x 4 columns]"
      ]
     },
     "execution_count": 29,
     "metadata": {},
     "output_type": "execute_result"
    }
   ],
   "source": [
    "data"
   ]
  },
  {
   "cell_type": "code",
   "execution_count": 30,
   "metadata": {
    "executionInfo": {
     "elapsed": 13,
     "status": "ok",
     "timestamp": 1649810086238,
     "user": {
      "displayName": "Petar Damianov",
      "userId": "11400996130549296363"
     },
     "user_tz": -180
    },
    "id": "dSBgTgRjYIfz"
   },
   "outputs": [],
   "source": [
    "user_data = data.drop(\"privileges_data\", axis=1)"
   ]
  },
  {
   "cell_type": "code",
   "execution_count": 31,
   "metadata": {
    "colab": {
     "base_uri": "https://localhost:8080/",
     "height": 424
    },
    "executionInfo": {
     "elapsed": 13,
     "status": "ok",
     "timestamp": 1649810086238,
     "user": {
      "displayName": "Petar Damianov",
      "userId": "11400996130549296363"
     },
     "user_tz": -180
    },
    "id": "atb0RM4r3a2g",
    "outputId": "f84b0034-b674-4f1d-b38b-e92fc1928ecc"
   },
   "outputs": [
    {
     "data": {
      "text/html": [
       "<div>\n",
       "<style scoped>\n",
       "    .dataframe tbody tr th:only-of-type {\n",
       "        vertical-align: middle;\n",
       "    }\n",
       "\n",
       "    .dataframe tbody tr th {\n",
       "        vertical-align: top;\n",
       "    }\n",
       "\n",
       "    .dataframe thead th {\n",
       "        text-align: right;\n",
       "    }\n",
       "</style>\n",
       "<table border=\"1\" class=\"dataframe\">\n",
       "  <thead>\n",
       "    <tr style=\"text-align: right;\">\n",
       "      <th></th>\n",
       "      <th>user_id</th>\n",
       "      <th>job</th>\n",
       "      <th>department</th>\n",
       "    </tr>\n",
       "  </thead>\n",
       "  <tbody>\n",
       "    <tr>\n",
       "      <th>0</th>\n",
       "      <td>314985</td>\n",
       "      <td>FIELD SERVICE</td>\n",
       "      <td>SERVICE TEAM MANAGER - NORTH</td>\n",
       "    </tr>\n",
       "    <tr>\n",
       "      <th>1</th>\n",
       "      <td>690192</td>\n",
       "      <td>FIELD SERVICE</td>\n",
       "      <td>TECHNICAL TRAINING AND VALIDATION MANAGER IC”</td>\n",
       "    </tr>\n",
       "    <tr>\n",
       "      <th>2</th>\n",
       "      <td>2935844</td>\n",
       "      <td>CUSTOMER SERVICE</td>\n",
       "      <td>SACHBEARBEITER CUSTOMER SERVICE</td>\n",
       "    </tr>\n",
       "    <tr>\n",
       "      <th>3</th>\n",
       "      <td>4020595</td>\n",
       "      <td>FIELD SERVICE</td>\n",
       "      <td>VALIDATION ENGINEER</td>\n",
       "    </tr>\n",
       "    <tr>\n",
       "      <th>4</th>\n",
       "      <td>4008660</td>\n",
       "      <td>FIELD SERVICE</td>\n",
       "      <td>SERVICE TECHNICIAN</td>\n",
       "    </tr>\n",
       "    <tr>\n",
       "      <th>...</th>\n",
       "      <td>...</td>\n",
       "      <td>...</td>\n",
       "      <td>...</td>\n",
       "    </tr>\n",
       "    <tr>\n",
       "      <th>21948</th>\n",
       "      <td>423013</td>\n",
       "      <td>SALES</td>\n",
       "      <td>SENIOR DIRECTOR LS SPECIAL PRODUCTS SALES</td>\n",
       "    </tr>\n",
       "    <tr>\n",
       "      <th>21949</th>\n",
       "      <td>4021869</td>\n",
       "      <td>SALES</td>\n",
       "      <td>KEY ACCOUNT MANAGER BIOTECHNOLOGY</td>\n",
       "    </tr>\n",
       "    <tr>\n",
       "      <th>21950</th>\n",
       "      <td>2001018</td>\n",
       "      <td>CUSTOMER SERVICE</td>\n",
       "      <td>SECOND LEVEL TECHNICAL SUPPORT SPECIALIST</td>\n",
       "    </tr>\n",
       "    <tr>\n",
       "      <th>21951</th>\n",
       "      <td>2335069</td>\n",
       "      <td>SALES</td>\n",
       "      <td>MANAGING DIRECTOR, GETINGE GROUP, HONG KONG</td>\n",
       "    </tr>\n",
       "    <tr>\n",
       "      <th>21952</th>\n",
       "      <td>4011209</td>\n",
       "      <td>FIELD SERVICE</td>\n",
       "      <td>TECHNICAL SERVICE MANAGER (IC)</td>\n",
       "    </tr>\n",
       "  </tbody>\n",
       "</table>\n",
       "<p>21953 rows × 3 columns</p>\n",
       "</div>"
      ],
      "text/plain": [
       "       user_id               job  \\\n",
       "0       314985     FIELD SERVICE   \n",
       "1       690192     FIELD SERVICE   \n",
       "2      2935844  CUSTOMER SERVICE   \n",
       "3      4020595     FIELD SERVICE   \n",
       "4      4008660     FIELD SERVICE   \n",
       "...        ...               ...   \n",
       "21948   423013             SALES   \n",
       "21949  4021869             SALES   \n",
       "21950  2001018  CUSTOMER SERVICE   \n",
       "21951  2335069             SALES   \n",
       "21952  4011209     FIELD SERVICE   \n",
       "\n",
       "                                          department  \n",
       "0                       SERVICE TEAM MANAGER - NORTH  \n",
       "1      TECHNICAL TRAINING AND VALIDATION MANAGER IC”  \n",
       "2                    SACHBEARBEITER CUSTOMER SERVICE  \n",
       "3                                VALIDATION ENGINEER  \n",
       "4                                 SERVICE TECHNICIAN  \n",
       "...                                              ...  \n",
       "21948      SENIOR DIRECTOR LS SPECIAL PRODUCTS SALES  \n",
       "21949              KEY ACCOUNT MANAGER BIOTECHNOLOGY  \n",
       "21950      SECOND LEVEL TECHNICAL SUPPORT SPECIALIST  \n",
       "21951    MANAGING DIRECTOR, GETINGE GROUP, HONG KONG  \n",
       "21952                 TECHNICAL SERVICE MANAGER (IC)  \n",
       "\n",
       "[21953 rows x 3 columns]"
      ]
     },
     "execution_count": 31,
     "metadata": {},
     "output_type": "execute_result"
    }
   ],
   "source": [
    "user_data"
   ]
  },
  {
   "cell_type": "code",
   "execution_count": 32,
   "metadata": {
    "executionInfo": {
     "elapsed": 13,
     "status": "ok",
     "timestamp": 1649810086239,
     "user": {
      "displayName": "Petar Damianov",
      "userId": "11400996130549296363"
     },
     "user_tz": -180
    },
    "id": "cnS6KHaJYIf1"
   },
   "outputs": [],
   "source": [
    "privileges_data = pd.DataFrame(data[\"privileges_data\"])"
   ]
  },
  {
   "cell_type": "code",
   "execution_count": 33,
   "metadata": {
    "executionInfo": {
     "elapsed": 13,
     "status": "ok",
     "timestamp": 1649810086239,
     "user": {
      "displayName": "Petar Damianov",
      "userId": "11400996130549296363"
     },
     "user_tz": -180
    },
    "id": "Vr-MWXBGYIf1"
   },
   "outputs": [],
   "source": [
    "privileges_data.privileges_data = privileges_data[\"privileges_data\"].str[10:]"
   ]
  },
  {
   "cell_type": "markdown",
   "metadata": {
    "id": "hUdsKMtxYIf2"
   },
   "source": [
    "I saw anomaly in data where in some of the records there is ::(double) symbols so i need to remove it so the data is clear"
   ]
  },
  {
   "cell_type": "code",
   "execution_count": 34,
   "metadata": {
    "executionInfo": {
     "elapsed": 334,
     "status": "ok",
     "timestamp": 1649810086560,
     "user": {
      "displayName": "Petar Damianov",
      "userId": "11400996130549296363"
     },
     "user_tz": -180
    },
    "id": "9eUxhUiYYIf2"
   },
   "outputs": [],
   "source": [
    "for indx in privileges_data[privileges_data[\"privileges_data\"].str.startswith(\":\")].index.tolist():\n",
    "    privileges_data.loc[indx].privileges_data = privileges_data.loc[indx].privileges_data[1:]"
   ]
  },
  {
   "cell_type": "code",
   "execution_count": 35,
   "metadata": {
    "colab": {
     "base_uri": "https://localhost:8080/"
    },
    "executionInfo": {
     "elapsed": 6,
     "status": "ok",
     "timestamp": 1649810086561,
     "user": {
      "displayName": "Petar Damianov",
      "userId": "11400996130549296363"
     },
     "user_tz": -180
    },
    "id": "p32Qc1u7YIf3",
    "outputId": "1b26e666-15c8-48a6-81bf-b8c787e58a7e"
   },
   "outputs": [
    {
     "data": {
      "text/plain": [
       "0"
      ]
     },
     "execution_count": 35,
     "metadata": {},
     "output_type": "execute_result"
    }
   ],
   "source": [
    "len(privileges_data.loc[privileges_data[\"privileges_data\"].str.startswith(\":\")].privileges_data)"
   ]
  },
  {
   "cell_type": "code",
   "execution_count": 36,
   "metadata": {
    "colab": {
     "base_uri": "https://localhost:8080/",
     "height": 424
    },
    "executionInfo": {
     "elapsed": 5,
     "status": "ok",
     "timestamp": 1649810086561,
     "user": {
      "displayName": "Petar Damianov",
      "userId": "11400996130549296363"
     },
     "user_tz": -180
    },
    "id": "502T8J4VYIf3",
    "outputId": "d3c00a9a-401b-4daf-e456-8cf0cb688a82"
   },
   "outputs": [
    {
     "data": {
      "text/html": [
       "<div>\n",
       "<style scoped>\n",
       "    .dataframe tbody tr th:only-of-type {\n",
       "        vertical-align: middle;\n",
       "    }\n",
       "\n",
       "    .dataframe tbody tr th {\n",
       "        vertical-align: top;\n",
       "    }\n",
       "\n",
       "    .dataframe thead th {\n",
       "        text-align: right;\n",
       "    }\n",
       "</style>\n",
       "<table border=\"1\" class=\"dataframe\">\n",
       "  <thead>\n",
       "    <tr style=\"text-align: right;\">\n",
       "      <th></th>\n",
       "      <th>privileges_data</th>\n",
       "    </tr>\n",
       "  </thead>\n",
       "  <tbody>\n",
       "    <tr>\n",
       "      <th>0</th>\n",
       "      <td>PE1CLNT110:MM3120_DP:D_MATMAS_B+G</td>\n",
       "    </tr>\n",
       "    <tr>\n",
       "      <th>1</th>\n",
       "      <td>PE1CLNT110:XX0000_SP:D_EVERYONE</td>\n",
       "    </tr>\n",
       "    <tr>\n",
       "      <th>2</th>\n",
       "      <td>QE2CLNT110:MM3040_DP:D_INFOSYS</td>\n",
       "    </tr>\n",
       "    <tr>\n",
       "      <th>3</th>\n",
       "      <td>QE2CLNT110:LO8060_DP:M_LEAN_WM</td>\n",
       "    </tr>\n",
       "    <tr>\n",
       "      <th>4</th>\n",
       "      <td>PE1CLNT110:PS8090_DP:D_PROJECT_MANAGER</td>\n",
       "    </tr>\n",
       "    <tr>\n",
       "      <th>...</th>\n",
       "      <td>...</td>\n",
       "    </tr>\n",
       "    <tr>\n",
       "      <th>21948</th>\n",
       "      <td>PE1CLNT110:XX3120_DP:D_IDOC</td>\n",
       "    </tr>\n",
       "    <tr>\n",
       "      <th>21949</th>\n",
       "      <td>PE1CLNT110:CO3030_DP:D_CO_DEFAULT</td>\n",
       "    </tr>\n",
       "    <tr>\n",
       "      <th>21950</th>\n",
       "      <td>QE2CLNT110:XX1600_DP:D_IDOC</td>\n",
       "    </tr>\n",
       "    <tr>\n",
       "      <th>21951</th>\n",
       "      <td>QE2CLNT110:PS8010_DP:D_PS</td>\n",
       "    </tr>\n",
       "    <tr>\n",
       "      <th>21952</th>\n",
       "      <td>PGWCLNT110:XX0000_SP:D_EVERYONE_FIORI</td>\n",
       "    </tr>\n",
       "  </tbody>\n",
       "</table>\n",
       "<p>21953 rows × 1 columns</p>\n",
       "</div>"
      ],
      "text/plain": [
       "                              privileges_data\n",
       "0           PE1CLNT110:MM3120_DP:D_MATMAS_B+G\n",
       "1             PE1CLNT110:XX0000_SP:D_EVERYONE\n",
       "2              QE2CLNT110:MM3040_DP:D_INFOSYS\n",
       "3              QE2CLNT110:LO8060_DP:M_LEAN_WM\n",
       "4      PE1CLNT110:PS8090_DP:D_PROJECT_MANAGER\n",
       "...                                       ...\n",
       "21948             PE1CLNT110:XX3120_DP:D_IDOC\n",
       "21949       PE1CLNT110:CO3030_DP:D_CO_DEFAULT\n",
       "21950             QE2CLNT110:XX1600_DP:D_IDOC\n",
       "21951               QE2CLNT110:PS8010_DP:D_PS\n",
       "21952   PGWCLNT110:XX0000_SP:D_EVERYONE_FIORI\n",
       "\n",
       "[21953 rows x 1 columns]"
      ]
     },
     "execution_count": 36,
     "metadata": {},
     "output_type": "execute_result"
    }
   ],
   "source": [
    "privileges_data"
   ]
  },
  {
   "cell_type": "code",
   "execution_count": 37,
   "metadata": {
    "executionInfo": {
     "elapsed": 272,
     "status": "ok",
     "timestamp": 1649810086829,
     "user": {
      "displayName": "Petar Damianov",
      "userId": "11400996130549296363"
     },
     "user_tz": -180
    },
    "id": "SjNmuePOYIf4"
   },
   "outputs": [],
   "source": [
    "privileges_data['priv'] = privileges_data['privileges_data']\n",
    "privileges_data['system_name'] = privileges_data['privileges_data'].str.split(':', 1, expand=True)[0]"
   ]
  },
  {
   "cell_type": "code",
   "execution_count": 38,
   "metadata": {
    "executionInfo": {
     "elapsed": 13,
     "status": "ok",
     "timestamp": 1649810086830,
     "user": {
      "displayName": "Petar Damianov",
      "userId": "11400996130549296363"
     },
     "user_tz": -180
    },
    "id": "H0bdkChrYIf4"
   },
   "outputs": [],
   "source": [
    "privileges_data = privileges_data.drop('privileges_data', axis=1)"
   ]
  },
  {
   "cell_type": "code",
   "execution_count": 39,
   "metadata": {
    "colab": {
     "base_uri": "https://localhost:8080/",
     "height": 424
    },
    "executionInfo": {
     "elapsed": 13,
     "status": "ok",
     "timestamp": 1649810086831,
     "user": {
      "displayName": "Petar Damianov",
      "userId": "11400996130549296363"
     },
     "user_tz": -180
    },
    "id": "9NDSKybEYIf5",
    "outputId": "1ca9a396-a7a2-4199-a351-1f7fe258dab9"
   },
   "outputs": [
    {
     "data": {
      "text/html": [
       "<div>\n",
       "<style scoped>\n",
       "    .dataframe tbody tr th:only-of-type {\n",
       "        vertical-align: middle;\n",
       "    }\n",
       "\n",
       "    .dataframe tbody tr th {\n",
       "        vertical-align: top;\n",
       "    }\n",
       "\n",
       "    .dataframe thead th {\n",
       "        text-align: right;\n",
       "    }\n",
       "</style>\n",
       "<table border=\"1\" class=\"dataframe\">\n",
       "  <thead>\n",
       "    <tr style=\"text-align: right;\">\n",
       "      <th></th>\n",
       "      <th>priv</th>\n",
       "      <th>system_name</th>\n",
       "    </tr>\n",
       "  </thead>\n",
       "  <tbody>\n",
       "    <tr>\n",
       "      <th>0</th>\n",
       "      <td>PE1CLNT110:MM3120_DP:D_MATMAS_B+G</td>\n",
       "      <td>PE1CLNT110</td>\n",
       "    </tr>\n",
       "    <tr>\n",
       "      <th>1</th>\n",
       "      <td>PE1CLNT110:XX0000_SP:D_EVERYONE</td>\n",
       "      <td>PE1CLNT110</td>\n",
       "    </tr>\n",
       "    <tr>\n",
       "      <th>2</th>\n",
       "      <td>QE2CLNT110:MM3040_DP:D_INFOSYS</td>\n",
       "      <td>QE2CLNT110</td>\n",
       "    </tr>\n",
       "    <tr>\n",
       "      <th>3</th>\n",
       "      <td>QE2CLNT110:LO8060_DP:M_LEAN_WM</td>\n",
       "      <td>QE2CLNT110</td>\n",
       "    </tr>\n",
       "    <tr>\n",
       "      <th>4</th>\n",
       "      <td>PE1CLNT110:PS8090_DP:D_PROJECT_MANAGER</td>\n",
       "      <td>PE1CLNT110</td>\n",
       "    </tr>\n",
       "    <tr>\n",
       "      <th>...</th>\n",
       "      <td>...</td>\n",
       "      <td>...</td>\n",
       "    </tr>\n",
       "    <tr>\n",
       "      <th>21948</th>\n",
       "      <td>PE1CLNT110:XX3120_DP:D_IDOC</td>\n",
       "      <td>PE1CLNT110</td>\n",
       "    </tr>\n",
       "    <tr>\n",
       "      <th>21949</th>\n",
       "      <td>PE1CLNT110:CO3030_DP:D_CO_DEFAULT</td>\n",
       "      <td>PE1CLNT110</td>\n",
       "    </tr>\n",
       "    <tr>\n",
       "      <th>21950</th>\n",
       "      <td>QE2CLNT110:XX1600_DP:D_IDOC</td>\n",
       "      <td>QE2CLNT110</td>\n",
       "    </tr>\n",
       "    <tr>\n",
       "      <th>21951</th>\n",
       "      <td>QE2CLNT110:PS8010_DP:D_PS</td>\n",
       "      <td>QE2CLNT110</td>\n",
       "    </tr>\n",
       "    <tr>\n",
       "      <th>21952</th>\n",
       "      <td>PGWCLNT110:XX0000_SP:D_EVERYONE_FIORI</td>\n",
       "      <td>PGWCLNT110</td>\n",
       "    </tr>\n",
       "  </tbody>\n",
       "</table>\n",
       "<p>21953 rows × 2 columns</p>\n",
       "</div>"
      ],
      "text/plain": [
       "                                         priv system_name\n",
       "0           PE1CLNT110:MM3120_DP:D_MATMAS_B+G  PE1CLNT110\n",
       "1             PE1CLNT110:XX0000_SP:D_EVERYONE  PE1CLNT110\n",
       "2              QE2CLNT110:MM3040_DP:D_INFOSYS  QE2CLNT110\n",
       "3              QE2CLNT110:LO8060_DP:M_LEAN_WM  QE2CLNT110\n",
       "4      PE1CLNT110:PS8090_DP:D_PROJECT_MANAGER  PE1CLNT110\n",
       "...                                       ...         ...\n",
       "21948             PE1CLNT110:XX3120_DP:D_IDOC  PE1CLNT110\n",
       "21949       PE1CLNT110:CO3030_DP:D_CO_DEFAULT  PE1CLNT110\n",
       "21950             QE2CLNT110:XX1600_DP:D_IDOC  QE2CLNT110\n",
       "21951               QE2CLNT110:PS8010_DP:D_PS  QE2CLNT110\n",
       "21952   PGWCLNT110:XX0000_SP:D_EVERYONE_FIORI  PGWCLNT110\n",
       "\n",
       "[21953 rows x 2 columns]"
      ]
     },
     "execution_count": 39,
     "metadata": {},
     "output_type": "execute_result"
    }
   ],
   "source": [
    "privileges_data"
   ]
  },
  {
   "cell_type": "code",
   "execution_count": 40,
   "metadata": {
    "executionInfo": {
     "elapsed": 12,
     "status": "ok",
     "timestamp": 1649810086831,
     "user": {
      "displayName": "Petar Damianov",
      "userId": "11400996130549296363"
     },
     "user_tz": -180
    },
    "id": "dWJTAXSjYIf5"
   },
   "outputs": [],
   "source": [
    "user_data['system_name'] = privileges_data['system_name']\n",
    "user_data['priv'] = privileges_data['priv']"
   ]
  },
  {
   "cell_type": "code",
   "execution_count": 41,
   "metadata": {
    "executionInfo": {
     "elapsed": 11,
     "status": "ok",
     "timestamp": 1649810086831,
     "user": {
      "displayName": "Petar Damianov",
      "userId": "11400996130549296363"
     },
     "user_tz": -180
    },
    "id": "TNMc5z-WYIf6"
   },
   "outputs": [],
   "source": [
    "job=\"CUSTOMER SERVICE\"\n",
    "department=\"JUNIOR SPECIALIST CS\""
   ]
  },
  {
   "cell_type": "markdown",
   "metadata": {
    "id": "K0j4oU3SYIf8"
   },
   "source": [
    "### Get information about dataset properties"
   ]
  },
  {
   "cell_type": "markdown",
   "metadata": {
    "id": "QVK_NWejYIf8"
   },
   "source": [
    "#### Get columns"
   ]
  },
  {
   "cell_type": "code",
   "execution_count": 42,
   "metadata": {
    "colab": {
     "base_uri": "https://localhost:8080/"
    },
    "executionInfo": {
     "elapsed": 12,
     "status": "ok",
     "timestamp": 1649810086832,
     "user": {
      "displayName": "Petar Damianov",
      "userId": "11400996130549296363"
     },
     "user_tz": -180
    },
    "id": "2FDe1jkEYIf8",
    "outputId": "af811650-61ca-408e-ab8a-7d068f2acfab"
   },
   "outputs": [
    {
     "data": {
      "text/plain": [
       "Index(['user_id', 'job', 'department', 'system_name', 'priv'], dtype='object')"
      ]
     },
     "execution_count": 42,
     "metadata": {},
     "output_type": "execute_result"
    }
   ],
   "source": [
    "user_data.columns"
   ]
  },
  {
   "cell_type": "markdown",
   "metadata": {
    "id": "mW4XUce3YIf9"
   },
   "source": [
    "#### Get unique attributes in every column"
   ]
  },
  {
   "cell_type": "code",
   "execution_count": 43,
   "metadata": {
    "colab": {
     "base_uri": "https://localhost:8080/"
    },
    "executionInfo": {
     "elapsed": 200,
     "status": "ok",
     "timestamp": 1649810087025,
     "user": {
      "displayName": "Petar Damianov",
      "userId": "11400996130549296363"
     },
     "user_tz": -180
    },
    "id": "jHaguU7HYIf9",
    "outputId": "63a5abbe-83dc-4407-ee95-59a54ddc9711"
   },
   "outputs": [
    {
     "name": "stdout",
     "output_type": "stream",
     "text": [
      "user_id 2277\n",
      "job 3\n",
      "department 692\n",
      "system_name 19\n",
      "priv 4499\n"
     ]
    }
   ],
   "source": [
    "for c in user_data.columns:\n",
    "    print(c, len(user_data[c].value_counts()))"
   ]
  },
  {
   "cell_type": "markdown",
   "metadata": {
    "id": "U679JxZdYIf-"
   },
   "source": [
    "#### Get unique privileges count for every system "
   ]
  },
  {
   "cell_type": "code",
   "execution_count": 44,
   "metadata": {
    "colab": {
     "base_uri": "https://localhost:8080/"
    },
    "executionInfo": {
     "elapsed": 281,
     "status": "ok",
     "timestamp": 1649810087301,
     "user": {
      "displayName": "Petar Damianov",
      "userId": "11400996130549296363"
     },
     "user_tz": -180
    },
    "id": "u1BT5T9jYIf-",
    "outputId": "98cb6fed-461f-4d77-9db7-fba3f5992161"
   },
   "outputs": [
    {
     "name": "stdout",
     "output_type": "stream",
     "text": [
      "PE1CLNT110 1689\n",
      "QE2CLNT110 1967\n",
      "PO1CLNT110 9\n",
      "P11CLNT110 117\n",
      "DE2CLNT210 608\n",
      "PGWCLNT110 10\n",
      "Q12CLNT110 41\n",
      "PR1CLNT110 11\n",
      "DGWCLNT110 5\n",
      "QGWCLNT110 6\n",
      "PG1CLNT110 11\n",
      "PB1CLNT110 2\n",
      "DG2CLNT210 7\n",
      "SE6CLNT110 1\n",
      "QG2CLNT110 7\n",
      "PGRCLNT110 2\n",
      "ASJAVAIDM 2\n",
      "PSRCLNT110 2\n",
      "QB1CLNT110 2\n",
      "Uniqua privs for every system count =  4499\n"
     ]
    }
   ],
   "source": [
    "system_privs_count = 0\n",
    "for s in user_data.system_name.unique():\n",
    "    print(s, len(user_data[user_data.system_name == s].priv.unique()))\n",
    "    system_privs_count += len(user_data[user_data.system_name == s].priv.unique())\n",
    "\n",
    "print(\"Uniqua privs for every system count = \", system_privs_count)"
   ]
  },
  {
   "cell_type": "markdown",
   "metadata": {
    "id": "ocMocfF1YIf-"
   },
   "source": [
    "#### get how many times system occurs in data"
   ]
  },
  {
   "cell_type": "code",
   "execution_count": 45,
   "metadata": {
    "colab": {
     "base_uri": "https://localhost:8080/"
    },
    "executionInfo": {
     "elapsed": 12,
     "status": "ok",
     "timestamp": 1649810087302,
     "user": {
      "displayName": "Petar Damianov",
      "userId": "11400996130549296363"
     },
     "user_tz": -180
    },
    "id": "Zco2MvK2YIf_",
    "outputId": "61e0fe34-1ee6-445f-8250-313bfe965ab6"
   },
   "outputs": [
    {
     "data": {
      "text/plain": [
       "QE2CLNT110    9653\n",
       "PE1CLNT110    9595\n",
       "DE2CLNT210     915\n",
       "PGWCLNT110     806\n",
       "PO1CLNT110     479\n",
       "P11CLNT110     236\n",
       "PR1CLNT110      92\n",
       "QGWCLNT110      56\n",
       "Q12CLNT110      42\n",
       "DG2CLNT210      17\n",
       "PG1CLNT110      15\n",
       "DGWCLNT110      14\n",
       "QG2CLNT110       9\n",
       "PB1CLNT110       8\n",
       "QB1CLNT110       7\n",
       "PGRCLNT110       4\n",
       "PSRCLNT110       2\n",
       "ASJAVAIDM        2\n",
       "SE6CLNT110       1\n",
       "Name: system_name, dtype: int64"
      ]
     },
     "execution_count": 45,
     "metadata": {},
     "output_type": "execute_result"
    }
   ],
   "source": [
    "user_data.system_name.value_counts()"
   ]
  },
  {
   "cell_type": "markdown",
   "metadata": {
    "id": "p76rqOrMYIf_"
   },
   "source": [
    "We can conclude that BCMP970 and IT systems contains special privileges for just one certain department and job"
   ]
  },
  {
   "cell_type": "markdown",
   "metadata": {
    "id": "5akVzgjSYIf_"
   },
   "source": [
    "#### get data about privileges. Are there privileges which are the same for various systems"
   ]
  },
  {
   "cell_type": "code",
   "execution_count": 46,
   "metadata": {
    "colab": {
     "base_uri": "https://localhost:8080/"
    },
    "executionInfo": {
     "elapsed": 8,
     "status": "ok",
     "timestamp": 1649810087302,
     "user": {
      "displayName": "Petar Damianov",
      "userId": "11400996130549296363"
     },
     "user_tz": -180
    },
    "id": "6a16ny2qYIgA",
    "outputId": "b8cd6025-50f8-47c8-cc0e-0cc08b808d1b"
   },
   "outputs": [
    {
     "data": {
      "text/plain": [
       "0"
      ]
     },
     "execution_count": 46,
     "metadata": {},
     "output_type": "execute_result"
    }
   ],
   "source": [
    "system_privs_count - len(user_data.priv.unique())"
   ]
  },
  {
   "cell_type": "markdown",
   "metadata": {
    "id": "E2TPCknuYIgA"
   },
   "source": [
    "### Prepare data for clustering"
   ]
  },
  {
   "cell_type": "markdown",
   "metadata": {
    "id": "5wzdrS9TYIgA"
   },
   "source": [
    "In simple words we don't need data for job and department to cluster data, because clustering is performed on privileges for all users.\n",
    "\n",
    "So we will create new table with user id - user_id, and all of the privileges as attributes with values of 0 or 1. 0 - don't have that role, 1 - have that role."
   ]
  },
  {
   "cell_type": "code",
   "execution_count": 47,
   "metadata": {
    "executionInfo": {
     "elapsed": 6,
     "status": "ok",
     "timestamp": 1649810087303,
     "user": {
      "displayName": "Petar Damianov",
      "userId": "11400996130549296363"
     },
     "user_tz": -180
    },
    "id": "ZLCXsy0AYIgB"
   },
   "outputs": [],
   "source": [
    "user_privs_data = pd.DataFrame()"
   ]
  },
  {
   "cell_type": "markdown",
   "metadata": {
    "id": "9UN_gwUzYIgC"
   },
   "source": [
    "Create all privileges(categorical data) compatabel for clustering by transforming all privs into numerical data."
   ]
  },
  {
   "cell_type": "code",
   "execution_count": 48,
   "metadata": {
    "executionInfo": {
     "elapsed": 5,
     "status": "ok",
     "timestamp": 1649810087303,
     "user": {
      "displayName": "Petar Damianov",
      "userId": "11400996130549296363"
     },
     "user_tz": -180
    },
    "id": "sFUIyFV1YIgC"
   },
   "outputs": [],
   "source": [
    "priv_dummies = pd.DataFrame()"
   ]
  },
  {
   "cell_type": "code",
   "execution_count": 49,
   "metadata": {
    "executionInfo": {
     "elapsed": 6,
     "status": "ok",
     "timestamp": 1649810087304,
     "user": {
      "displayName": "Petar Damianov",
      "userId": "11400996130549296363"
     },
     "user_tz": -180
    },
    "id": "8wFFhdYbYIgC"
   },
   "outputs": [],
   "source": [
    "priv_dummies['user_id'] = user_data.user_id"
   ]
  },
  {
   "cell_type": "code",
   "execution_count": 50,
   "metadata": {
    "executionInfo": {
     "elapsed": 938,
     "status": "ok",
     "timestamp": 1649810088236,
     "user": {
      "displayName": "Petar Damianov",
      "userId": "11400996130549296363"
     },
     "user_tz": -180
    },
    "id": "XJ-ld1ZgYIgD"
   },
   "outputs": [],
   "source": [
    "priv_dummies = pd.concat([priv_dummies, pd.get_dummies(user_data.priv, dtype=np.ubyte)], axis=1)"
   ]
  },
  {
   "cell_type": "code",
   "execution_count": 51,
   "metadata": {
    "colab": {
     "base_uri": "https://localhost:8080/"
    },
    "executionInfo": {
     "elapsed": 7,
     "status": "ok",
     "timestamp": 1649810088237,
     "user": {
      "displayName": "Petar Damianov",
      "userId": "11400996130549296363"
     },
     "user_tz": -180
    },
    "id": "M5f7MViuFeEx",
    "outputId": "371c9777-3e8c-48de-dc6e-82c1406a0716"
   },
   "outputs": [
    {
     "data": {
      "text/plain": [
       "user_id                                 int64\n",
       "ASJAVAIDM:IDM_User                      uint8\n",
       "ASJAVAIDM:idm.user                      uint8\n",
       "DE2CLNT210:CO3050_DP:D_CO               uint8\n",
       "DE2CLNT210:CO3050_DP:D_CO_DEFAULT       uint8\n",
       "                                        ...  \n",
       "QGWCLNT110:XX0000_SP:M_FIORI_CO         uint8\n",
       "QGWCLNT110:XX0000_SP:M_FIORI_CS         uint8\n",
       "QGWCLNT110:XX0000_SP:M_FIORI_TRV        uint8\n",
       "QGWCLNT110:XX0000_SP:M_FIORI_TRV_APP    uint8\n",
       "SE6CLNT110:ZSAP_ALL_ERP                 uint8\n",
       "Length: 4500, dtype: object"
      ]
     },
     "execution_count": 51,
     "metadata": {},
     "output_type": "execute_result"
    }
   ],
   "source": [
    "priv_dummies.dtypes"
   ]
  },
  {
   "cell_type": "code",
   "execution_count": 52,
   "metadata": {
    "executionInfo": {
     "elapsed": 339,
     "status": "ok",
     "timestamp": 1649810088573,
     "user": {
      "displayName": "Petar Damianov",
      "userId": "11400996130549296363"
     },
     "user_tz": -180
    },
    "id": "kLPDgg1Bj5uI"
   },
   "outputs": [],
   "source": [
    "priv_dummies = priv_dummies.drop('user_id', axis=1)"
   ]
  },
  {
   "cell_type": "code",
   "execution_count": 53,
   "metadata": {
    "colab": {
     "base_uri": "https://localhost:8080/"
    },
    "executionInfo": {
     "elapsed": 6,
     "status": "ok",
     "timestamp": 1649810088574,
     "user": {
      "displayName": "Petar Damianov",
      "userId": "11400996130549296363"
     },
     "user_tz": -180
    },
    "id": "MqVaYwKD0YLu",
    "outputId": "e9da71ae-2e15-43d7-c4b4-70c1498ecb02"
   },
   "outputs": [
    {
     "data": {
      "text/plain": [
       "ASJAVAIDM:IDM_User                      uint8\n",
       "ASJAVAIDM:idm.user                      uint8\n",
       "DE2CLNT210:CO3050_DP:D_CO               uint8\n",
       "DE2CLNT210:CO3050_DP:D_CO_DEFAULT       uint8\n",
       "DE2CLNT210:CO3050_DP:D_PRODUCT_COST     uint8\n",
       "                                        ...  \n",
       "QGWCLNT110:XX0000_SP:M_FIORI_CO         uint8\n",
       "QGWCLNT110:XX0000_SP:M_FIORI_CS         uint8\n",
       "QGWCLNT110:XX0000_SP:M_FIORI_TRV        uint8\n",
       "QGWCLNT110:XX0000_SP:M_FIORI_TRV_APP    uint8\n",
       "SE6CLNT110:ZSAP_ALL_ERP                 uint8\n",
       "Length: 4499, dtype: object"
      ]
     },
     "execution_count": 53,
     "metadata": {},
     "output_type": "execute_result"
    }
   ],
   "source": [
    "priv_dummies.dtypes"
   ]
  },
  {
   "cell_type": "code",
   "execution_count": 54,
   "metadata": {
    "executionInfo": {
     "elapsed": 4,
     "status": "ok",
     "timestamp": 1649810088574,
     "user": {
      "displayName": "Petar Damianov",
      "userId": "11400996130549296363"
     },
     "user_tz": -180
    },
    "id": "Rh9mi30qlpSi"
   },
   "outputs": [],
   "source": [
    "priv_dummies['user_id'] = user_data.user_id"
   ]
  },
  {
   "cell_type": "code",
   "execution_count": 55,
   "metadata": {},
   "outputs": [
    {
     "data": {
      "text/html": [
       "<div>\n",
       "<style scoped>\n",
       "    .dataframe tbody tr th:only-of-type {\n",
       "        vertical-align: middle;\n",
       "    }\n",
       "\n",
       "    .dataframe tbody tr th {\n",
       "        vertical-align: top;\n",
       "    }\n",
       "\n",
       "    .dataframe thead th {\n",
       "        text-align: right;\n",
       "    }\n",
       "</style>\n",
       "<table border=\"1\" class=\"dataframe\">\n",
       "  <thead>\n",
       "    <tr style=\"text-align: right;\">\n",
       "      <th></th>\n",
       "      <th>ASJAVAIDM:IDM_User</th>\n",
       "      <th>ASJAVAIDM:idm.user</th>\n",
       "      <th>DE2CLNT210:CO3050_DP:D_CO</th>\n",
       "      <th>DE2CLNT210:CO3050_DP:D_CO_DEFAULT</th>\n",
       "      <th>DE2CLNT210:CO3050_DP:D_PRODUCT_COST</th>\n",
       "      <th>DE2CLNT210:CO3160_DP:D_CO</th>\n",
       "      <th>DE2CLNT210:CO3160_DP:D_CO_DEFAULT</th>\n",
       "      <th>DE2CLNT210:CO3160_DP:D_PRODUCT_COST</th>\n",
       "      <th>DE2CLNT210:CO3160_DP:M_CO</th>\n",
       "      <th>DE2CLNT210:CO3160_DP:M_CO_DEPT</th>\n",
       "      <th>...</th>\n",
       "      <th>QG2CLNT110:GTS3220_DP:M_WORKLIST</th>\n",
       "      <th>QG2CLNT110:XX0000_SP:D_EVERYONE</th>\n",
       "      <th>QGWCLNT110:XX0000_SP:D_EVERYONE</th>\n",
       "      <th>QGWCLNT110:XX0000_SP:D_EVERYONE_FIORI</th>\n",
       "      <th>QGWCLNT110:XX0000_SP:M_FIORI_CO</th>\n",
       "      <th>QGWCLNT110:XX0000_SP:M_FIORI_CS</th>\n",
       "      <th>QGWCLNT110:XX0000_SP:M_FIORI_TRV</th>\n",
       "      <th>QGWCLNT110:XX0000_SP:M_FIORI_TRV_APP</th>\n",
       "      <th>SE6CLNT110:ZSAP_ALL_ERP</th>\n",
       "      <th>user_id</th>\n",
       "    </tr>\n",
       "  </thead>\n",
       "  <tbody>\n",
       "    <tr>\n",
       "      <th>0</th>\n",
       "      <td>0</td>\n",
       "      <td>0</td>\n",
       "      <td>0</td>\n",
       "      <td>0</td>\n",
       "      <td>0</td>\n",
       "      <td>0</td>\n",
       "      <td>0</td>\n",
       "      <td>0</td>\n",
       "      <td>0</td>\n",
       "      <td>0</td>\n",
       "      <td>...</td>\n",
       "      <td>0</td>\n",
       "      <td>0</td>\n",
       "      <td>0</td>\n",
       "      <td>0</td>\n",
       "      <td>0</td>\n",
       "      <td>0</td>\n",
       "      <td>0</td>\n",
       "      <td>0</td>\n",
       "      <td>0</td>\n",
       "      <td>314985</td>\n",
       "    </tr>\n",
       "    <tr>\n",
       "      <th>1</th>\n",
       "      <td>0</td>\n",
       "      <td>0</td>\n",
       "      <td>0</td>\n",
       "      <td>0</td>\n",
       "      <td>0</td>\n",
       "      <td>0</td>\n",
       "      <td>0</td>\n",
       "      <td>0</td>\n",
       "      <td>0</td>\n",
       "      <td>0</td>\n",
       "      <td>...</td>\n",
       "      <td>0</td>\n",
       "      <td>0</td>\n",
       "      <td>0</td>\n",
       "      <td>0</td>\n",
       "      <td>0</td>\n",
       "      <td>0</td>\n",
       "      <td>0</td>\n",
       "      <td>0</td>\n",
       "      <td>0</td>\n",
       "      <td>690192</td>\n",
       "    </tr>\n",
       "    <tr>\n",
       "      <th>2</th>\n",
       "      <td>0</td>\n",
       "      <td>0</td>\n",
       "      <td>0</td>\n",
       "      <td>0</td>\n",
       "      <td>0</td>\n",
       "      <td>0</td>\n",
       "      <td>0</td>\n",
       "      <td>0</td>\n",
       "      <td>0</td>\n",
       "      <td>0</td>\n",
       "      <td>...</td>\n",
       "      <td>0</td>\n",
       "      <td>0</td>\n",
       "      <td>0</td>\n",
       "      <td>0</td>\n",
       "      <td>0</td>\n",
       "      <td>0</td>\n",
       "      <td>0</td>\n",
       "      <td>0</td>\n",
       "      <td>0</td>\n",
       "      <td>2935844</td>\n",
       "    </tr>\n",
       "    <tr>\n",
       "      <th>3</th>\n",
       "      <td>0</td>\n",
       "      <td>0</td>\n",
       "      <td>0</td>\n",
       "      <td>0</td>\n",
       "      <td>0</td>\n",
       "      <td>0</td>\n",
       "      <td>0</td>\n",
       "      <td>0</td>\n",
       "      <td>0</td>\n",
       "      <td>0</td>\n",
       "      <td>...</td>\n",
       "      <td>0</td>\n",
       "      <td>0</td>\n",
       "      <td>0</td>\n",
       "      <td>0</td>\n",
       "      <td>0</td>\n",
       "      <td>0</td>\n",
       "      <td>0</td>\n",
       "      <td>0</td>\n",
       "      <td>0</td>\n",
       "      <td>4020595</td>\n",
       "    </tr>\n",
       "    <tr>\n",
       "      <th>4</th>\n",
       "      <td>0</td>\n",
       "      <td>0</td>\n",
       "      <td>0</td>\n",
       "      <td>0</td>\n",
       "      <td>0</td>\n",
       "      <td>0</td>\n",
       "      <td>0</td>\n",
       "      <td>0</td>\n",
       "      <td>0</td>\n",
       "      <td>0</td>\n",
       "      <td>...</td>\n",
       "      <td>0</td>\n",
       "      <td>0</td>\n",
       "      <td>0</td>\n",
       "      <td>0</td>\n",
       "      <td>0</td>\n",
       "      <td>0</td>\n",
       "      <td>0</td>\n",
       "      <td>0</td>\n",
       "      <td>0</td>\n",
       "      <td>4008660</td>\n",
       "    </tr>\n",
       "    <tr>\n",
       "      <th>...</th>\n",
       "      <td>...</td>\n",
       "      <td>...</td>\n",
       "      <td>...</td>\n",
       "      <td>...</td>\n",
       "      <td>...</td>\n",
       "      <td>...</td>\n",
       "      <td>...</td>\n",
       "      <td>...</td>\n",
       "      <td>...</td>\n",
       "      <td>...</td>\n",
       "      <td>...</td>\n",
       "      <td>...</td>\n",
       "      <td>...</td>\n",
       "      <td>...</td>\n",
       "      <td>...</td>\n",
       "      <td>...</td>\n",
       "      <td>...</td>\n",
       "      <td>...</td>\n",
       "      <td>...</td>\n",
       "      <td>...</td>\n",
       "      <td>...</td>\n",
       "    </tr>\n",
       "    <tr>\n",
       "      <th>21948</th>\n",
       "      <td>0</td>\n",
       "      <td>0</td>\n",
       "      <td>0</td>\n",
       "      <td>0</td>\n",
       "      <td>0</td>\n",
       "      <td>0</td>\n",
       "      <td>0</td>\n",
       "      <td>0</td>\n",
       "      <td>0</td>\n",
       "      <td>0</td>\n",
       "      <td>...</td>\n",
       "      <td>0</td>\n",
       "      <td>0</td>\n",
       "      <td>0</td>\n",
       "      <td>0</td>\n",
       "      <td>0</td>\n",
       "      <td>0</td>\n",
       "      <td>0</td>\n",
       "      <td>0</td>\n",
       "      <td>0</td>\n",
       "      <td>423013</td>\n",
       "    </tr>\n",
       "    <tr>\n",
       "      <th>21949</th>\n",
       "      <td>0</td>\n",
       "      <td>0</td>\n",
       "      <td>0</td>\n",
       "      <td>0</td>\n",
       "      <td>0</td>\n",
       "      <td>0</td>\n",
       "      <td>0</td>\n",
       "      <td>0</td>\n",
       "      <td>0</td>\n",
       "      <td>0</td>\n",
       "      <td>...</td>\n",
       "      <td>0</td>\n",
       "      <td>0</td>\n",
       "      <td>0</td>\n",
       "      <td>0</td>\n",
       "      <td>0</td>\n",
       "      <td>0</td>\n",
       "      <td>0</td>\n",
       "      <td>0</td>\n",
       "      <td>0</td>\n",
       "      <td>4021869</td>\n",
       "    </tr>\n",
       "    <tr>\n",
       "      <th>21950</th>\n",
       "      <td>0</td>\n",
       "      <td>0</td>\n",
       "      <td>0</td>\n",
       "      <td>0</td>\n",
       "      <td>0</td>\n",
       "      <td>0</td>\n",
       "      <td>0</td>\n",
       "      <td>0</td>\n",
       "      <td>0</td>\n",
       "      <td>0</td>\n",
       "      <td>...</td>\n",
       "      <td>0</td>\n",
       "      <td>0</td>\n",
       "      <td>0</td>\n",
       "      <td>0</td>\n",
       "      <td>0</td>\n",
       "      <td>0</td>\n",
       "      <td>0</td>\n",
       "      <td>0</td>\n",
       "      <td>0</td>\n",
       "      <td>2001018</td>\n",
       "    </tr>\n",
       "    <tr>\n",
       "      <th>21951</th>\n",
       "      <td>0</td>\n",
       "      <td>0</td>\n",
       "      <td>0</td>\n",
       "      <td>0</td>\n",
       "      <td>0</td>\n",
       "      <td>0</td>\n",
       "      <td>0</td>\n",
       "      <td>0</td>\n",
       "      <td>0</td>\n",
       "      <td>0</td>\n",
       "      <td>...</td>\n",
       "      <td>0</td>\n",
       "      <td>0</td>\n",
       "      <td>0</td>\n",
       "      <td>0</td>\n",
       "      <td>0</td>\n",
       "      <td>0</td>\n",
       "      <td>0</td>\n",
       "      <td>0</td>\n",
       "      <td>0</td>\n",
       "      <td>2335069</td>\n",
       "    </tr>\n",
       "    <tr>\n",
       "      <th>21952</th>\n",
       "      <td>0</td>\n",
       "      <td>0</td>\n",
       "      <td>0</td>\n",
       "      <td>0</td>\n",
       "      <td>0</td>\n",
       "      <td>0</td>\n",
       "      <td>0</td>\n",
       "      <td>0</td>\n",
       "      <td>0</td>\n",
       "      <td>0</td>\n",
       "      <td>...</td>\n",
       "      <td>0</td>\n",
       "      <td>0</td>\n",
       "      <td>0</td>\n",
       "      <td>0</td>\n",
       "      <td>0</td>\n",
       "      <td>0</td>\n",
       "      <td>0</td>\n",
       "      <td>0</td>\n",
       "      <td>0</td>\n",
       "      <td>4011209</td>\n",
       "    </tr>\n",
       "  </tbody>\n",
       "</table>\n",
       "<p>21953 rows × 4500 columns</p>\n",
       "</div>"
      ],
      "text/plain": [
       "       ASJAVAIDM:IDM_User  ASJAVAIDM:idm.user  DE2CLNT210:CO3050_DP:D_CO  \\\n",
       "0                       0                   0                          0   \n",
       "1                       0                   0                          0   \n",
       "2                       0                   0                          0   \n",
       "3                       0                   0                          0   \n",
       "4                       0                   0                          0   \n",
       "...                   ...                 ...                        ...   \n",
       "21948                   0                   0                          0   \n",
       "21949                   0                   0                          0   \n",
       "21950                   0                   0                          0   \n",
       "21951                   0                   0                          0   \n",
       "21952                   0                   0                          0   \n",
       "\n",
       "       DE2CLNT210:CO3050_DP:D_CO_DEFAULT  DE2CLNT210:CO3050_DP:D_PRODUCT_COST  \\\n",
       "0                                      0                                    0   \n",
       "1                                      0                                    0   \n",
       "2                                      0                                    0   \n",
       "3                                      0                                    0   \n",
       "4                                      0                                    0   \n",
       "...                                  ...                                  ...   \n",
       "21948                                  0                                    0   \n",
       "21949                                  0                                    0   \n",
       "21950                                  0                                    0   \n",
       "21951                                  0                                    0   \n",
       "21952                                  0                                    0   \n",
       "\n",
       "       DE2CLNT210:CO3160_DP:D_CO  DE2CLNT210:CO3160_DP:D_CO_DEFAULT  \\\n",
       "0                              0                                  0   \n",
       "1                              0                                  0   \n",
       "2                              0                                  0   \n",
       "3                              0                                  0   \n",
       "4                              0                                  0   \n",
       "...                          ...                                ...   \n",
       "21948                          0                                  0   \n",
       "21949                          0                                  0   \n",
       "21950                          0                                  0   \n",
       "21951                          0                                  0   \n",
       "21952                          0                                  0   \n",
       "\n",
       "       DE2CLNT210:CO3160_DP:D_PRODUCT_COST  DE2CLNT210:CO3160_DP:M_CO  \\\n",
       "0                                        0                          0   \n",
       "1                                        0                          0   \n",
       "2                                        0                          0   \n",
       "3                                        0                          0   \n",
       "4                                        0                          0   \n",
       "...                                    ...                        ...   \n",
       "21948                                    0                          0   \n",
       "21949                                    0                          0   \n",
       "21950                                    0                          0   \n",
       "21951                                    0                          0   \n",
       "21952                                    0                          0   \n",
       "\n",
       "       DE2CLNT210:CO3160_DP:M_CO_DEPT  ...  QG2CLNT110:GTS3220_DP:M_WORKLIST  \\\n",
       "0                                   0  ...                                 0   \n",
       "1                                   0  ...                                 0   \n",
       "2                                   0  ...                                 0   \n",
       "3                                   0  ...                                 0   \n",
       "4                                   0  ...                                 0   \n",
       "...                               ...  ...                               ...   \n",
       "21948                               0  ...                                 0   \n",
       "21949                               0  ...                                 0   \n",
       "21950                               0  ...                                 0   \n",
       "21951                               0  ...                                 0   \n",
       "21952                               0  ...                                 0   \n",
       "\n",
       "       QG2CLNT110:XX0000_SP:D_EVERYONE  QGWCLNT110:XX0000_SP:D_EVERYONE  \\\n",
       "0                                    0                                0   \n",
       "1                                    0                                0   \n",
       "2                                    0                                0   \n",
       "3                                    0                                0   \n",
       "4                                    0                                0   \n",
       "...                                ...                              ...   \n",
       "21948                                0                                0   \n",
       "21949                                0                                0   \n",
       "21950                                0                                0   \n",
       "21951                                0                                0   \n",
       "21952                                0                                0   \n",
       "\n",
       "       QGWCLNT110:XX0000_SP:D_EVERYONE_FIORI  QGWCLNT110:XX0000_SP:M_FIORI_CO  \\\n",
       "0                                          0                                0   \n",
       "1                                          0                                0   \n",
       "2                                          0                                0   \n",
       "3                                          0                                0   \n",
       "4                                          0                                0   \n",
       "...                                      ...                              ...   \n",
       "21948                                      0                                0   \n",
       "21949                                      0                                0   \n",
       "21950                                      0                                0   \n",
       "21951                                      0                                0   \n",
       "21952                                      0                                0   \n",
       "\n",
       "       QGWCLNT110:XX0000_SP:M_FIORI_CS  QGWCLNT110:XX0000_SP:M_FIORI_TRV  \\\n",
       "0                                    0                                 0   \n",
       "1                                    0                                 0   \n",
       "2                                    0                                 0   \n",
       "3                                    0                                 0   \n",
       "4                                    0                                 0   \n",
       "...                                ...                               ...   \n",
       "21948                                0                                 0   \n",
       "21949                                0                                 0   \n",
       "21950                                0                                 0   \n",
       "21951                                0                                 0   \n",
       "21952                                0                                 0   \n",
       "\n",
       "       QGWCLNT110:XX0000_SP:M_FIORI_TRV_APP  SE6CLNT110:ZSAP_ALL_ERP  user_id  \n",
       "0                                         0                        0   314985  \n",
       "1                                         0                        0   690192  \n",
       "2                                         0                        0  2935844  \n",
       "3                                         0                        0  4020595  \n",
       "4                                         0                        0  4008660  \n",
       "...                                     ...                      ...      ...  \n",
       "21948                                     0                        0   423013  \n",
       "21949                                     0                        0  4021869  \n",
       "21950                                     0                        0  2001018  \n",
       "21951                                     0                        0  2335069  \n",
       "21952                                     0                        0  4011209  \n",
       "\n",
       "[21953 rows x 4500 columns]"
      ]
     },
     "execution_count": 55,
     "metadata": {},
     "output_type": "execute_result"
    }
   ],
   "source": [
    "priv_dummies"
   ]
  },
  {
   "cell_type": "code",
   "execution_count": 56,
   "metadata": {
    "executionInfo": {
     "elapsed": 4200,
     "status": "ok",
     "timestamp": 1649810092771,
     "user": {
      "displayName": "Petar Damianov",
      "userId": "11400996130549296363"
     },
     "user_tz": -180
    },
    "id": "GDv-Fz3HYIgD"
   },
   "outputs": [],
   "source": [
    "user_privs_data = priv_dummies.groupby('user_id').sum().reset_index(drop=True)"
   ]
  },
  {
   "cell_type": "code",
   "execution_count": 57,
   "metadata": {
    "executionInfo": {
     "elapsed": 5,
     "status": "ok",
     "timestamp": 1649810092771,
     "user": {
      "displayName": "Petar Damianov",
      "userId": "11400996130549296363"
     },
     "user_tz": -180
    },
    "id": "dzkXZZgjzq2A"
   },
   "outputs": [],
   "source": [
    "user_privs_data['user_id'] = user_data.user_id"
   ]
  },
  {
   "cell_type": "code",
   "execution_count": 58,
   "metadata": {
    "executionInfo": {
     "elapsed": 363,
     "status": "ok",
     "timestamp": 1649810093130,
     "user": {
      "displayName": "Petar Damianov",
      "userId": "11400996130549296363"
     },
     "user_tz": -180
    },
    "id": "hq8XVX8-bIxV"
   },
   "outputs": [],
   "source": [
    "agg_clustering = AgglomerativeClustering(n_clusters=None, compute_full_tree=True, distance_threshold=9)"
   ]
  },
  {
   "cell_type": "code",
   "execution_count": 59,
   "metadata": {
    "executionInfo": {
     "elapsed": 40201,
     "status": "ok",
     "timestamp": 1649810133326,
     "user": {
      "displayName": "Petar Damianov",
      "userId": "11400996130549296363"
     },
     "user_tz": -180
    },
    "id": "ERo6EhOyepEo"
   },
   "outputs": [],
   "source": [
    "fit_data = agg_clustering.fit(user_privs_data.drop('user_id', axis=1))"
   ]
  },
  {
   "cell_type": "code",
   "execution_count": 60,
   "metadata": {
    "colab": {
     "base_uri": "https://localhost:8080/"
    },
    "executionInfo": {
     "elapsed": 41,
     "status": "ok",
     "timestamp": 1649810133328,
     "user": {
      "displayName": "Petar Damianov",
      "userId": "11400996130549296363"
     },
     "user_tz": -180
    },
    "id": "lRR7m4y8bUa2",
    "outputId": "6c3aa27b-4137-4022-97e6-1dfaeae508cf"
   },
   "outputs": [
    {
     "data": {
      "text/plain": [
       "32"
      ]
     },
     "execution_count": 60,
     "metadata": {},
     "output_type": "execute_result"
    }
   ],
   "source": [
    "fit_data.n_clusters_"
   ]
  },
  {
   "cell_type": "code",
   "execution_count": 61,
   "metadata": {
    "colab": {
     "base_uri": "https://localhost:8080/"
    },
    "executionInfo": {
     "elapsed": 38,
     "status": "ok",
     "timestamp": 1649810133329,
     "user": {
      "displayName": "Petar Damianov",
      "userId": "11400996130549296363"
     },
     "user_tz": -180
    },
    "id": "wP72j6T6frcZ",
    "outputId": "9fa348c2-d696-4e52-e827-bc96cce4687c"
   },
   "outputs": [
    {
     "data": {
      "text/plain": [
       "4499"
      ]
     },
     "execution_count": 61,
     "metadata": {},
     "output_type": "execute_result"
    }
   ],
   "source": [
    "fit_data.n_features_in_"
   ]
  },
  {
   "cell_type": "code",
   "execution_count": 62,
   "metadata": {
    "colab": {
     "base_uri": "https://localhost:8080/"
    },
    "executionInfo": {
     "elapsed": 34,
     "status": "ok",
     "timestamp": 1649810133329,
     "user": {
      "displayName": "Petar Damianov",
      "userId": "11400996130549296363"
     },
     "user_tz": -180
    },
    "id": "Y07BH6u2fWjM",
    "outputId": "6a8db5a6-9f74-40aa-ef19-7f88e7297007"
   },
   "outputs": [
    {
     "data": {
      "text/plain": [
       "array([ 4,  0,  1, ..., 14,  0, 14])"
      ]
     },
     "execution_count": 62,
     "metadata": {},
     "output_type": "execute_result"
    }
   ],
   "source": [
    "fit_data.labels_"
   ]
  },
  {
   "cell_type": "code",
   "execution_count": 63,
   "metadata": {
    "executionInfo": {
     "elapsed": 26,
     "status": "ok",
     "timestamp": 1649810133330,
     "user": {
      "displayName": "Petar Damianov",
      "userId": "11400996130549296363"
     },
     "user_tz": -180
    },
    "id": "XwnKv40vAIeH"
   },
   "outputs": [],
   "source": [
    "result = pd.DataFrame(fit_data.labels_, columns=['id'])"
   ]
  },
  {
   "cell_type": "code",
   "execution_count": 64,
   "metadata": {
    "colab": {
     "base_uri": "https://localhost:8080/"
    },
    "executionInfo": {
     "elapsed": 27,
     "status": "ok",
     "timestamp": 1649810133331,
     "user": {
      "displayName": "Petar Damianov",
      "userId": "11400996130549296363"
     },
     "user_tz": -180
    },
    "id": "yvTBNB7SAIp0",
    "outputId": "d5bdecf3-8f96-4fcb-a77c-c44a55c682be"
   },
   "outputs": [
    {
     "data": {
      "text/plain": [
       "1     538\n",
       "0     214\n",
       "14    167\n",
       "15    165\n",
       "11    142\n",
       "31    120\n",
       "25    109\n",
       "10    104\n",
       "3     101\n",
       "8      77\n",
       "16     73\n",
       "12     65\n",
       "7      63\n",
       "2      60\n",
       "13     55\n",
       "4      54\n",
       "22     54\n",
       "24     53\n",
       "6      49\n",
       "5       2\n",
       "18      1\n",
       "27      1\n",
       "19      1\n",
       "20      1\n",
       "17      1\n",
       "26      1\n",
       "28      1\n",
       "29      1\n",
       "9       1\n",
       "23      1\n",
       "21      1\n",
       "30      1\n",
       "Name: id, dtype: int64"
      ]
     },
     "execution_count": 64,
     "metadata": {},
     "output_type": "execute_result"
    }
   ],
   "source": [
    "result.id.value_counts()"
   ]
  },
  {
   "cell_type": "markdown",
   "metadata": {
    "id": "cO7WbT-KClkE"
   },
   "source": [
    "### Get result based on clustered data\n"
   ]
  },
  {
   "cell_type": "markdown",
   "metadata": {
    "id": "dntFkRWaNPi8"
   },
   "source": [
    "#### Prepare data for extracting privileges from given label"
   ]
  },
  {
   "cell_type": "code",
   "execution_count": 65,
   "metadata": {
    "colab": {
     "base_uri": "https://localhost:8080/",
     "height": 537
    },
    "executionInfo": {
     "elapsed": 23,
     "status": "ok",
     "timestamp": 1649810133331,
     "user": {
      "displayName": "Petar Damianov",
      "userId": "11400996130549296363"
     },
     "user_tz": -180
    },
    "id": "Ql9VmioRCu3l",
    "outputId": "5fc9e5c0-1ffa-4d42-912e-50de8815adc7"
   },
   "outputs": [
    {
     "data": {
      "text/html": [
       "<div>\n",
       "<style scoped>\n",
       "    .dataframe tbody tr th:only-of-type {\n",
       "        vertical-align: middle;\n",
       "    }\n",
       "\n",
       "    .dataframe tbody tr th {\n",
       "        vertical-align: top;\n",
       "    }\n",
       "\n",
       "    .dataframe thead th {\n",
       "        text-align: right;\n",
       "    }\n",
       "</style>\n",
       "<table border=\"1\" class=\"dataframe\">\n",
       "  <thead>\n",
       "    <tr style=\"text-align: right;\">\n",
       "      <th></th>\n",
       "      <th>user_id</th>\n",
       "      <th>job</th>\n",
       "      <th>department</th>\n",
       "      <th>system_name</th>\n",
       "      <th>priv</th>\n",
       "    </tr>\n",
       "  </thead>\n",
       "  <tbody>\n",
       "    <tr>\n",
       "      <th>0</th>\n",
       "      <td>314985</td>\n",
       "      <td>FIELD SERVICE</td>\n",
       "      <td>SERVICE TEAM MANAGER - NORTH</td>\n",
       "      <td>PE1CLNT110</td>\n",
       "      <td>PE1CLNT110:MM3120_DP:D_MATMAS_B+G</td>\n",
       "    </tr>\n",
       "    <tr>\n",
       "      <th>1</th>\n",
       "      <td>690192</td>\n",
       "      <td>FIELD SERVICE</td>\n",
       "      <td>TECHNICAL TRAINING AND VALIDATION MANAGER IC”</td>\n",
       "      <td>PE1CLNT110</td>\n",
       "      <td>PE1CLNT110:XX0000_SP:D_EVERYONE</td>\n",
       "    </tr>\n",
       "    <tr>\n",
       "      <th>2</th>\n",
       "      <td>2935844</td>\n",
       "      <td>CUSTOMER SERVICE</td>\n",
       "      <td>SACHBEARBEITER CUSTOMER SERVICE</td>\n",
       "      <td>QE2CLNT110</td>\n",
       "      <td>QE2CLNT110:MM3040_DP:D_INFOSYS</td>\n",
       "    </tr>\n",
       "    <tr>\n",
       "      <th>3</th>\n",
       "      <td>4020595</td>\n",
       "      <td>FIELD SERVICE</td>\n",
       "      <td>VALIDATION ENGINEER</td>\n",
       "      <td>QE2CLNT110</td>\n",
       "      <td>QE2CLNT110:LO8060_DP:M_LEAN_WM</td>\n",
       "    </tr>\n",
       "    <tr>\n",
       "      <th>4</th>\n",
       "      <td>4008660</td>\n",
       "      <td>FIELD SERVICE</td>\n",
       "      <td>SERVICE TECHNICIAN</td>\n",
       "      <td>PE1CLNT110</td>\n",
       "      <td>PE1CLNT110:PS8090_DP:D_PROJECT_MANAGER</td>\n",
       "    </tr>\n",
       "    <tr>\n",
       "      <th>...</th>\n",
       "      <td>...</td>\n",
       "      <td>...</td>\n",
       "      <td>...</td>\n",
       "      <td>...</td>\n",
       "      <td>...</td>\n",
       "    </tr>\n",
       "    <tr>\n",
       "      <th>21948</th>\n",
       "      <td>423013</td>\n",
       "      <td>SALES</td>\n",
       "      <td>SENIOR DIRECTOR LS SPECIAL PRODUCTS SALES</td>\n",
       "      <td>PE1CLNT110</td>\n",
       "      <td>PE1CLNT110:XX3120_DP:D_IDOC</td>\n",
       "    </tr>\n",
       "    <tr>\n",
       "      <th>21949</th>\n",
       "      <td>4021869</td>\n",
       "      <td>SALES</td>\n",
       "      <td>KEY ACCOUNT MANAGER BIOTECHNOLOGY</td>\n",
       "      <td>PE1CLNT110</td>\n",
       "      <td>PE1CLNT110:CO3030_DP:D_CO_DEFAULT</td>\n",
       "    </tr>\n",
       "    <tr>\n",
       "      <th>21950</th>\n",
       "      <td>2001018</td>\n",
       "      <td>CUSTOMER SERVICE</td>\n",
       "      <td>SECOND LEVEL TECHNICAL SUPPORT SPECIALIST</td>\n",
       "      <td>QE2CLNT110</td>\n",
       "      <td>QE2CLNT110:XX1600_DP:D_IDOC</td>\n",
       "    </tr>\n",
       "    <tr>\n",
       "      <th>21951</th>\n",
       "      <td>2335069</td>\n",
       "      <td>SALES</td>\n",
       "      <td>MANAGING DIRECTOR, GETINGE GROUP, HONG KONG</td>\n",
       "      <td>QE2CLNT110</td>\n",
       "      <td>QE2CLNT110:PS8010_DP:D_PS</td>\n",
       "    </tr>\n",
       "    <tr>\n",
       "      <th>21952</th>\n",
       "      <td>4011209</td>\n",
       "      <td>FIELD SERVICE</td>\n",
       "      <td>TECHNICAL SERVICE MANAGER (IC)</td>\n",
       "      <td>PGWCLNT110</td>\n",
       "      <td>PGWCLNT110:XX0000_SP:D_EVERYONE_FIORI</td>\n",
       "    </tr>\n",
       "  </tbody>\n",
       "</table>\n",
       "<p>21953 rows × 5 columns</p>\n",
       "</div>"
      ],
      "text/plain": [
       "       user_id               job  \\\n",
       "0       314985     FIELD SERVICE   \n",
       "1       690192     FIELD SERVICE   \n",
       "2      2935844  CUSTOMER SERVICE   \n",
       "3      4020595     FIELD SERVICE   \n",
       "4      4008660     FIELD SERVICE   \n",
       "...        ...               ...   \n",
       "21948   423013             SALES   \n",
       "21949  4021869             SALES   \n",
       "21950  2001018  CUSTOMER SERVICE   \n",
       "21951  2335069             SALES   \n",
       "21952  4011209     FIELD SERVICE   \n",
       "\n",
       "                                          department system_name  \\\n",
       "0                       SERVICE TEAM MANAGER - NORTH  PE1CLNT110   \n",
       "1      TECHNICAL TRAINING AND VALIDATION MANAGER IC”  PE1CLNT110   \n",
       "2                    SACHBEARBEITER CUSTOMER SERVICE  QE2CLNT110   \n",
       "3                                VALIDATION ENGINEER  QE2CLNT110   \n",
       "4                                 SERVICE TECHNICIAN  PE1CLNT110   \n",
       "...                                              ...         ...   \n",
       "21948      SENIOR DIRECTOR LS SPECIAL PRODUCTS SALES  PE1CLNT110   \n",
       "21949              KEY ACCOUNT MANAGER BIOTECHNOLOGY  PE1CLNT110   \n",
       "21950      SECOND LEVEL TECHNICAL SUPPORT SPECIALIST  QE2CLNT110   \n",
       "21951    MANAGING DIRECTOR, GETINGE GROUP, HONG KONG  QE2CLNT110   \n",
       "21952                 TECHNICAL SERVICE MANAGER (IC)  PGWCLNT110   \n",
       "\n",
       "                                         priv  \n",
       "0           PE1CLNT110:MM3120_DP:D_MATMAS_B+G  \n",
       "1             PE1CLNT110:XX0000_SP:D_EVERYONE  \n",
       "2              QE2CLNT110:MM3040_DP:D_INFOSYS  \n",
       "3              QE2CLNT110:LO8060_DP:M_LEAN_WM  \n",
       "4      PE1CLNT110:PS8090_DP:D_PROJECT_MANAGER  \n",
       "...                                       ...  \n",
       "21948             PE1CLNT110:XX3120_DP:D_IDOC  \n",
       "21949       PE1CLNT110:CO3030_DP:D_CO_DEFAULT  \n",
       "21950             QE2CLNT110:XX1600_DP:D_IDOC  \n",
       "21951               QE2CLNT110:PS8010_DP:D_PS  \n",
       "21952   PGWCLNT110:XX0000_SP:D_EVERYONE_FIORI  \n",
       "\n",
       "[21953 rows x 5 columns]"
      ]
     },
     "execution_count": 65,
     "metadata": {},
     "output_type": "execute_result"
    }
   ],
   "source": [
    "user_data"
   ]
  },
  {
   "cell_type": "code",
   "execution_count": 66,
   "metadata": {
    "executionInfo": {
     "elapsed": 25653,
     "status": "ok",
     "timestamp": 1649810158973,
     "user": {
      "displayName": "Petar Damianov",
      "userId": "11400996130549296363"
     },
     "user_tz": -180
    },
    "id": "IXwTss3TCu80"
   },
   "outputs": [],
   "source": [
    "unique_user_data = user_data.groupby(['user_id', 'job', 'department']).describe().reset_index()"
   ]
  },
  {
   "cell_type": "code",
   "execution_count": 67,
   "metadata": {
    "colab": {
     "base_uri": "https://localhost:8080/"
    },
    "executionInfo": {
     "elapsed": 36,
     "status": "ok",
     "timestamp": 1649810158973,
     "user": {
      "displayName": "Petar Damianov",
      "userId": "11400996130549296363"
     },
     "user_tz": -180
    },
    "id": "eifbcCRmCu_9",
    "outputId": "830fa22d-54cc-4b8a-9d7b-92ea04960575"
   },
   "outputs": [
    {
     "data": {
      "text/plain": [
       "MultiIndex([(    'user_id',       ''),\n",
       "            (        'job',       ''),\n",
       "            ( 'department',       ''),\n",
       "            ('system_name',  'count'),\n",
       "            ('system_name', 'unique'),\n",
       "            ('system_name',    'top'),\n",
       "            ('system_name',   'freq'),\n",
       "            (       'priv',  'count'),\n",
       "            (       'priv', 'unique'),\n",
       "            (       'priv',    'top'),\n",
       "            (       'priv',   'freq')],\n",
       "           )"
      ]
     },
     "execution_count": 67,
     "metadata": {},
     "output_type": "execute_result"
    }
   ],
   "source": [
    "unique_user_data.columns"
   ]
  },
  {
   "cell_type": "code",
   "execution_count": 68,
   "metadata": {
    "colab": {
     "base_uri": "https://localhost:8080/",
     "height": 814
    },
    "executionInfo": {
     "elapsed": 33,
     "status": "ok",
     "timestamp": 1649810158974,
     "user": {
      "displayName": "Petar Damianov",
      "userId": "11400996130549296363"
     },
     "user_tz": -180
    },
    "id": "Ej2HbJKp_aQm",
    "outputId": "367ecf61-e752-403a-bc89-34681ba9926f"
   },
   "outputs": [
    {
     "data": {
      "text/html": [
       "<div>\n",
       "<style scoped>\n",
       "    .dataframe tbody tr th:only-of-type {\n",
       "        vertical-align: middle;\n",
       "    }\n",
       "\n",
       "    .dataframe tbody tr th {\n",
       "        vertical-align: top;\n",
       "    }\n",
       "\n",
       "    .dataframe thead tr th {\n",
       "        text-align: left;\n",
       "    }\n",
       "</style>\n",
       "<table border=\"1\" class=\"dataframe\">\n",
       "  <thead>\n",
       "    <tr>\n",
       "      <th></th>\n",
       "      <th>user_id</th>\n",
       "      <th>job</th>\n",
       "      <th>department</th>\n",
       "      <th colspan=\"4\" halign=\"left\">system_name</th>\n",
       "      <th colspan=\"4\" halign=\"left\">priv</th>\n",
       "    </tr>\n",
       "    <tr>\n",
       "      <th></th>\n",
       "      <th></th>\n",
       "      <th></th>\n",
       "      <th></th>\n",
       "      <th>count</th>\n",
       "      <th>unique</th>\n",
       "      <th>top</th>\n",
       "      <th>freq</th>\n",
       "      <th>count</th>\n",
       "      <th>unique</th>\n",
       "      <th>top</th>\n",
       "      <th>freq</th>\n",
       "    </tr>\n",
       "  </thead>\n",
       "  <tbody>\n",
       "    <tr>\n",
       "      <th>0</th>\n",
       "      <td>81</td>\n",
       "      <td>SALES</td>\n",
       "      <td>REGIONAL ACCOUNT MANAGER</td>\n",
       "      <td>7</td>\n",
       "      <td>3</td>\n",
       "      <td>PE1CLNT110</td>\n",
       "      <td>3</td>\n",
       "      <td>7</td>\n",
       "      <td>7</td>\n",
       "      <td>QE2CLNT110:CS3180_DP:D_CS_DEFAULT</td>\n",
       "      <td>1</td>\n",
       "    </tr>\n",
       "    <tr>\n",
       "      <th>1</th>\n",
       "      <td>254</td>\n",
       "      <td>FIELD SERVICE</td>\n",
       "      <td>AREA MANAGER, SERVICE</td>\n",
       "      <td>17</td>\n",
       "      <td>2</td>\n",
       "      <td>PE1CLNT110</td>\n",
       "      <td>9</td>\n",
       "      <td>17</td>\n",
       "      <td>17</td>\n",
       "      <td>PE1CLNT110:LO5400_DP:M_DELIVERY</td>\n",
       "      <td>1</td>\n",
       "    </tr>\n",
       "    <tr>\n",
       "      <th>2</th>\n",
       "      <td>276</td>\n",
       "      <td>FIELD SERVICE</td>\n",
       "      <td>FIELD SERVICE TECHNICIAN</td>\n",
       "      <td>7</td>\n",
       "      <td>2</td>\n",
       "      <td>PE1CLNT110</td>\n",
       "      <td>4</td>\n",
       "      <td>7</td>\n",
       "      <td>7</td>\n",
       "      <td>QE2CLNT110:MM3140_DP:D_MM_DEFAULT</td>\n",
       "      <td>1</td>\n",
       "    </tr>\n",
       "    <tr>\n",
       "      <th>3</th>\n",
       "      <td>295</td>\n",
       "      <td>FIELD SERVICE</td>\n",
       "      <td>FIELD SERVICE TECHNICIAN</td>\n",
       "      <td>6</td>\n",
       "      <td>2</td>\n",
       "      <td>PE1CLNT110</td>\n",
       "      <td>3</td>\n",
       "      <td>6</td>\n",
       "      <td>6</td>\n",
       "      <td>QE2CLNT110:PS3280_DP:D_PROJECT_MANAGER</td>\n",
       "      <td>1</td>\n",
       "    </tr>\n",
       "    <tr>\n",
       "      <th>4</th>\n",
       "      <td>323</td>\n",
       "      <td>FIELD SERVICE</td>\n",
       "      <td>IWS SPECIALIST</td>\n",
       "      <td>9</td>\n",
       "      <td>2</td>\n",
       "      <td>PE1CLNT110</td>\n",
       "      <td>6</td>\n",
       "      <td>9</td>\n",
       "      <td>9</td>\n",
       "      <td>PE1CLNT110:LO3360_DP:D_LO</td>\n",
       "      <td>1</td>\n",
       "    </tr>\n",
       "    <tr>\n",
       "      <th>...</th>\n",
       "      <td>...</td>\n",
       "      <td>...</td>\n",
       "      <td>...</td>\n",
       "      <td>...</td>\n",
       "      <td>...</td>\n",
       "      <td>...</td>\n",
       "      <td>...</td>\n",
       "      <td>...</td>\n",
       "      <td>...</td>\n",
       "      <td>...</td>\n",
       "      <td>...</td>\n",
       "    </tr>\n",
       "    <tr>\n",
       "      <th>2272</th>\n",
       "      <td>4023610</td>\n",
       "      <td>FIELD SERVICE</td>\n",
       "      <td>FIELD SERVICE TECHNICIAN</td>\n",
       "      <td>16</td>\n",
       "      <td>4</td>\n",
       "      <td>PE1CLNT110</td>\n",
       "      <td>8</td>\n",
       "      <td>16</td>\n",
       "      <td>16</td>\n",
       "      <td>QE2CLNT110:XX0000_SP:D_EVERYONE</td>\n",
       "      <td>1</td>\n",
       "    </tr>\n",
       "    <tr>\n",
       "      <th>2273</th>\n",
       "      <td>4023637</td>\n",
       "      <td>CUSTOMER SERVICE</td>\n",
       "      <td>SPECIALIST CS</td>\n",
       "      <td>19</td>\n",
       "      <td>2</td>\n",
       "      <td>PE1CLNT110</td>\n",
       "      <td>12</td>\n",
       "      <td>19</td>\n",
       "      <td>19</td>\n",
       "      <td>QE2CLNT110:LO3230_DP:D_LO</td>\n",
       "      <td>1</td>\n",
       "    </tr>\n",
       "    <tr>\n",
       "      <th>2274</th>\n",
       "      <td>4023638</td>\n",
       "      <td>CUSTOMER SERVICE</td>\n",
       "      <td>JUNIOR SPECIALIST CS</td>\n",
       "      <td>17</td>\n",
       "      <td>4</td>\n",
       "      <td>PE1CLNT110</td>\n",
       "      <td>8</td>\n",
       "      <td>17</td>\n",
       "      <td>17</td>\n",
       "      <td>PGWCLNT110:XX0000_SP:D_EVERYONE</td>\n",
       "      <td>1</td>\n",
       "    </tr>\n",
       "    <tr>\n",
       "      <th>2275</th>\n",
       "      <td>4023639</td>\n",
       "      <td>CUSTOMER SERVICE</td>\n",
       "      <td>JUNIOR SPECIALIST CS</td>\n",
       "      <td>14</td>\n",
       "      <td>4</td>\n",
       "      <td>PE1CLNT110</td>\n",
       "      <td>6</td>\n",
       "      <td>14</td>\n",
       "      <td>14</td>\n",
       "      <td>PE1CLNT110:MM6010_DP:M_PO</td>\n",
       "      <td>1</td>\n",
       "    </tr>\n",
       "    <tr>\n",
       "      <th>2276</th>\n",
       "      <td>4023652</td>\n",
       "      <td>CUSTOMER SERVICE</td>\n",
       "      <td>JUNIOR SPECIALIST CS</td>\n",
       "      <td>14</td>\n",
       "      <td>4</td>\n",
       "      <td>QE2CLNT110</td>\n",
       "      <td>7</td>\n",
       "      <td>14</td>\n",
       "      <td>14</td>\n",
       "      <td>QE2CLNT110:SD6900_DP:M_SD</td>\n",
       "      <td>1</td>\n",
       "    </tr>\n",
       "  </tbody>\n",
       "</table>\n",
       "<p>2277 rows × 11 columns</p>\n",
       "</div>"
      ],
      "text/plain": [
       "      user_id               job                department system_name         \\\n",
       "                                                                count unique   \n",
       "0          81             SALES  REGIONAL ACCOUNT MANAGER           7      3   \n",
       "1         254     FIELD SERVICE     AREA MANAGER, SERVICE          17      2   \n",
       "2         276     FIELD SERVICE  FIELD SERVICE TECHNICIAN           7      2   \n",
       "3         295     FIELD SERVICE  FIELD SERVICE TECHNICIAN           6      2   \n",
       "4         323     FIELD SERVICE            IWS SPECIALIST           9      2   \n",
       "...       ...               ...                       ...         ...    ...   \n",
       "2272  4023610     FIELD SERVICE  FIELD SERVICE TECHNICIAN          16      4   \n",
       "2273  4023637  CUSTOMER SERVICE             SPECIALIST CS          19      2   \n",
       "2274  4023638  CUSTOMER SERVICE      JUNIOR SPECIALIST CS          17      4   \n",
       "2275  4023639  CUSTOMER SERVICE      JUNIOR SPECIALIST CS          14      4   \n",
       "2276  4023652  CUSTOMER SERVICE      JUNIOR SPECIALIST CS          14      4   \n",
       "\n",
       "                       priv                                                 \\\n",
       "             top freq count unique                                     top   \n",
       "0     PE1CLNT110    3     7      7       QE2CLNT110:CS3180_DP:D_CS_DEFAULT   \n",
       "1     PE1CLNT110    9    17     17         PE1CLNT110:LO5400_DP:M_DELIVERY   \n",
       "2     PE1CLNT110    4     7      7       QE2CLNT110:MM3140_DP:D_MM_DEFAULT   \n",
       "3     PE1CLNT110    3     6      6  QE2CLNT110:PS3280_DP:D_PROJECT_MANAGER   \n",
       "4     PE1CLNT110    6     9      9               PE1CLNT110:LO3360_DP:D_LO   \n",
       "...          ...  ...   ...    ...                                     ...   \n",
       "2272  PE1CLNT110    8    16     16         QE2CLNT110:XX0000_SP:D_EVERYONE   \n",
       "2273  PE1CLNT110   12    19     19               QE2CLNT110:LO3230_DP:D_LO   \n",
       "2274  PE1CLNT110    8    17     17         PGWCLNT110:XX0000_SP:D_EVERYONE   \n",
       "2275  PE1CLNT110    6    14     14               PE1CLNT110:MM6010_DP:M_PO   \n",
       "2276  QE2CLNT110    7    14     14               QE2CLNT110:SD6900_DP:M_SD   \n",
       "\n",
       "           \n",
       "     freq  \n",
       "0       1  \n",
       "1       1  \n",
       "2       1  \n",
       "3       1  \n",
       "4       1  \n",
       "...   ...  \n",
       "2272    1  \n",
       "2273    1  \n",
       "2274    1  \n",
       "2275    1  \n",
       "2276    1  \n",
       "\n",
       "[2277 rows x 11 columns]"
      ]
     },
     "execution_count": 68,
     "metadata": {},
     "output_type": "execute_result"
    }
   ],
   "source": [
    "unique_user_data"
   ]
  },
  {
   "cell_type": "code",
   "execution_count": 69,
   "metadata": {
    "colab": {
     "base_uri": "https://localhost:8080/"
    },
    "executionInfo": {
     "elapsed": 20,
     "status": "ok",
     "timestamp": 1649810158974,
     "user": {
      "displayName": "Petar Damianov",
      "userId": "11400996130549296363"
     },
     "user_tz": -180
    },
    "id": "oVipXB1QHmmM",
    "outputId": "efab2327-670d-4b5c-9e52-0197107bbb66"
   },
   "outputs": [
    {
     "name": "stderr",
     "output_type": "stream",
     "text": [
      "/home/petar/anaconda3/lib/python3.8/site-packages/pandas/core/generic.py:3887: PerformanceWarning: dropping on a non-lexsorted multi-index without a level parameter may impact performance.\n",
      "  obj = obj._drop_axis(labels, axis, level=level, errors=errors)\n"
     ]
    }
   ],
   "source": [
    "unique_user_data.drop(['system_name', 'priv'], axis=1, inplace=True)"
   ]
  },
  {
   "cell_type": "code",
   "execution_count": 70,
   "metadata": {
    "executionInfo": {
     "elapsed": 16,
     "status": "ok",
     "timestamp": 1649810158975,
     "user": {
      "displayName": "Petar Damianov",
      "userId": "11400996130549296363"
     },
     "user_tz": -180
    },
    "id": "nvH7IJzbJYSe"
   },
   "outputs": [],
   "source": [
    "unique_user_data.columns = ['user_id', 'job', 'department']"
   ]
  },
  {
   "cell_type": "code",
   "execution_count": 71,
   "metadata": {
    "colab": {
     "base_uri": "https://localhost:8080/",
     "height": 424
    },
    "executionInfo": {
     "elapsed": 16,
     "status": "ok",
     "timestamp": 1649810158975,
     "user": {
      "displayName": "Petar Damianov",
      "userId": "11400996130549296363"
     },
     "user_tz": -180
    },
    "id": "oCokdxx1IlgT",
    "outputId": "057b2fa2-d03f-46d7-8552-02c7d7dcfa37"
   },
   "outputs": [
    {
     "data": {
      "text/html": [
       "<div>\n",
       "<style scoped>\n",
       "    .dataframe tbody tr th:only-of-type {\n",
       "        vertical-align: middle;\n",
       "    }\n",
       "\n",
       "    .dataframe tbody tr th {\n",
       "        vertical-align: top;\n",
       "    }\n",
       "\n",
       "    .dataframe thead th {\n",
       "        text-align: right;\n",
       "    }\n",
       "</style>\n",
       "<table border=\"1\" class=\"dataframe\">\n",
       "  <thead>\n",
       "    <tr style=\"text-align: right;\">\n",
       "      <th></th>\n",
       "      <th>user_id</th>\n",
       "      <th>job</th>\n",
       "      <th>department</th>\n",
       "    </tr>\n",
       "  </thead>\n",
       "  <tbody>\n",
       "    <tr>\n",
       "      <th>0</th>\n",
       "      <td>81</td>\n",
       "      <td>SALES</td>\n",
       "      <td>REGIONAL ACCOUNT MANAGER</td>\n",
       "    </tr>\n",
       "    <tr>\n",
       "      <th>1</th>\n",
       "      <td>254</td>\n",
       "      <td>FIELD SERVICE</td>\n",
       "      <td>AREA MANAGER, SERVICE</td>\n",
       "    </tr>\n",
       "    <tr>\n",
       "      <th>2</th>\n",
       "      <td>276</td>\n",
       "      <td>FIELD SERVICE</td>\n",
       "      <td>FIELD SERVICE TECHNICIAN</td>\n",
       "    </tr>\n",
       "    <tr>\n",
       "      <th>3</th>\n",
       "      <td>295</td>\n",
       "      <td>FIELD SERVICE</td>\n",
       "      <td>FIELD SERVICE TECHNICIAN</td>\n",
       "    </tr>\n",
       "    <tr>\n",
       "      <th>4</th>\n",
       "      <td>323</td>\n",
       "      <td>FIELD SERVICE</td>\n",
       "      <td>IWS SPECIALIST</td>\n",
       "    </tr>\n",
       "    <tr>\n",
       "      <th>...</th>\n",
       "      <td>...</td>\n",
       "      <td>...</td>\n",
       "      <td>...</td>\n",
       "    </tr>\n",
       "    <tr>\n",
       "      <th>2272</th>\n",
       "      <td>4023610</td>\n",
       "      <td>FIELD SERVICE</td>\n",
       "      <td>FIELD SERVICE TECHNICIAN</td>\n",
       "    </tr>\n",
       "    <tr>\n",
       "      <th>2273</th>\n",
       "      <td>4023637</td>\n",
       "      <td>CUSTOMER SERVICE</td>\n",
       "      <td>SPECIALIST CS</td>\n",
       "    </tr>\n",
       "    <tr>\n",
       "      <th>2274</th>\n",
       "      <td>4023638</td>\n",
       "      <td>CUSTOMER SERVICE</td>\n",
       "      <td>JUNIOR SPECIALIST CS</td>\n",
       "    </tr>\n",
       "    <tr>\n",
       "      <th>2275</th>\n",
       "      <td>4023639</td>\n",
       "      <td>CUSTOMER SERVICE</td>\n",
       "      <td>JUNIOR SPECIALIST CS</td>\n",
       "    </tr>\n",
       "    <tr>\n",
       "      <th>2276</th>\n",
       "      <td>4023652</td>\n",
       "      <td>CUSTOMER SERVICE</td>\n",
       "      <td>JUNIOR SPECIALIST CS</td>\n",
       "    </tr>\n",
       "  </tbody>\n",
       "</table>\n",
       "<p>2277 rows × 3 columns</p>\n",
       "</div>"
      ],
      "text/plain": [
       "      user_id               job                department\n",
       "0          81             SALES  REGIONAL ACCOUNT MANAGER\n",
       "1         254     FIELD SERVICE     AREA MANAGER, SERVICE\n",
       "2         276     FIELD SERVICE  FIELD SERVICE TECHNICIAN\n",
       "3         295     FIELD SERVICE  FIELD SERVICE TECHNICIAN\n",
       "4         323     FIELD SERVICE            IWS SPECIALIST\n",
       "...       ...               ...                       ...\n",
       "2272  4023610     FIELD SERVICE  FIELD SERVICE TECHNICIAN\n",
       "2273  4023637  CUSTOMER SERVICE             SPECIALIST CS\n",
       "2274  4023638  CUSTOMER SERVICE      JUNIOR SPECIALIST CS\n",
       "2275  4023639  CUSTOMER SERVICE      JUNIOR SPECIALIST CS\n",
       "2276  4023652  CUSTOMER SERVICE      JUNIOR SPECIALIST CS\n",
       "\n",
       "[2277 rows x 3 columns]"
      ]
     },
     "execution_count": 71,
     "metadata": {},
     "output_type": "execute_result"
    }
   ],
   "source": [
    "unique_user_data"
   ]
  },
  {
   "cell_type": "code",
   "execution_count": 72,
   "metadata": {
    "executionInfo": {
     "elapsed": 15,
     "status": "ok",
     "timestamp": 1649810158976,
     "user": {
      "displayName": "Petar Damianov",
      "userId": "11400996130549296363"
     },
     "user_tz": -180
    },
    "id": "UOs5HIGrI8YB"
   },
   "outputs": [],
   "source": [
    "result_table = pd.concat([unique_user_data, user_privs_data.drop('user_id', axis=1)], axis=1)"
   ]
  },
  {
   "cell_type": "code",
   "execution_count": 73,
   "metadata": {
    "colab": {
     "base_uri": "https://localhost:8080/",
     "height": 783
    },
    "executionInfo": {
     "elapsed": 15,
     "status": "ok",
     "timestamp": 1649810158976,
     "user": {
      "displayName": "Petar Damianov",
      "userId": "11400996130549296363"
     },
     "user_tz": -180
    },
    "id": "48ikMNYeJ5KP",
    "outputId": "feead3b7-86fc-436c-e336-07817fd7d698"
   },
   "outputs": [
    {
     "data": {
      "text/html": [
       "<div>\n",
       "<style scoped>\n",
       "    .dataframe tbody tr th:only-of-type {\n",
       "        vertical-align: middle;\n",
       "    }\n",
       "\n",
       "    .dataframe tbody tr th {\n",
       "        vertical-align: top;\n",
       "    }\n",
       "\n",
       "    .dataframe thead th {\n",
       "        text-align: right;\n",
       "    }\n",
       "</style>\n",
       "<table border=\"1\" class=\"dataframe\">\n",
       "  <thead>\n",
       "    <tr style=\"text-align: right;\">\n",
       "      <th></th>\n",
       "      <th>user_id</th>\n",
       "      <th>job</th>\n",
       "      <th>department</th>\n",
       "      <th>ASJAVAIDM:IDM_User</th>\n",
       "      <th>ASJAVAIDM:idm.user</th>\n",
       "      <th>DE2CLNT210:CO3050_DP:D_CO</th>\n",
       "      <th>DE2CLNT210:CO3050_DP:D_CO_DEFAULT</th>\n",
       "      <th>DE2CLNT210:CO3050_DP:D_PRODUCT_COST</th>\n",
       "      <th>DE2CLNT210:CO3160_DP:D_CO</th>\n",
       "      <th>DE2CLNT210:CO3160_DP:D_CO_DEFAULT</th>\n",
       "      <th>...</th>\n",
       "      <th>QG2CLNT110:GTS3220_DP:M_FI</th>\n",
       "      <th>QG2CLNT110:GTS3220_DP:M_WORKLIST</th>\n",
       "      <th>QG2CLNT110:XX0000_SP:D_EVERYONE</th>\n",
       "      <th>QGWCLNT110:XX0000_SP:D_EVERYONE</th>\n",
       "      <th>QGWCLNT110:XX0000_SP:D_EVERYONE_FIORI</th>\n",
       "      <th>QGWCLNT110:XX0000_SP:M_FIORI_CO</th>\n",
       "      <th>QGWCLNT110:XX0000_SP:M_FIORI_CS</th>\n",
       "      <th>QGWCLNT110:XX0000_SP:M_FIORI_TRV</th>\n",
       "      <th>QGWCLNT110:XX0000_SP:M_FIORI_TRV_APP</th>\n",
       "      <th>SE6CLNT110:ZSAP_ALL_ERP</th>\n",
       "    </tr>\n",
       "  </thead>\n",
       "  <tbody>\n",
       "    <tr>\n",
       "      <th>0</th>\n",
       "      <td>81</td>\n",
       "      <td>SALES</td>\n",
       "      <td>REGIONAL ACCOUNT MANAGER</td>\n",
       "      <td>0</td>\n",
       "      <td>0</td>\n",
       "      <td>0</td>\n",
       "      <td>0</td>\n",
       "      <td>0</td>\n",
       "      <td>0</td>\n",
       "      <td>0</td>\n",
       "      <td>...</td>\n",
       "      <td>0</td>\n",
       "      <td>0</td>\n",
       "      <td>0</td>\n",
       "      <td>0</td>\n",
       "      <td>0</td>\n",
       "      <td>0</td>\n",
       "      <td>0</td>\n",
       "      <td>0</td>\n",
       "      <td>0</td>\n",
       "      <td>0</td>\n",
       "    </tr>\n",
       "    <tr>\n",
       "      <th>1</th>\n",
       "      <td>254</td>\n",
       "      <td>FIELD SERVICE</td>\n",
       "      <td>AREA MANAGER, SERVICE</td>\n",
       "      <td>0</td>\n",
       "      <td>0</td>\n",
       "      <td>0</td>\n",
       "      <td>0</td>\n",
       "      <td>0</td>\n",
       "      <td>0</td>\n",
       "      <td>0</td>\n",
       "      <td>...</td>\n",
       "      <td>0</td>\n",
       "      <td>0</td>\n",
       "      <td>0</td>\n",
       "      <td>0</td>\n",
       "      <td>0</td>\n",
       "      <td>0</td>\n",
       "      <td>0</td>\n",
       "      <td>0</td>\n",
       "      <td>0</td>\n",
       "      <td>0</td>\n",
       "    </tr>\n",
       "    <tr>\n",
       "      <th>2</th>\n",
       "      <td>276</td>\n",
       "      <td>FIELD SERVICE</td>\n",
       "      <td>FIELD SERVICE TECHNICIAN</td>\n",
       "      <td>0</td>\n",
       "      <td>0</td>\n",
       "      <td>0</td>\n",
       "      <td>0</td>\n",
       "      <td>0</td>\n",
       "      <td>0</td>\n",
       "      <td>0</td>\n",
       "      <td>...</td>\n",
       "      <td>0</td>\n",
       "      <td>0</td>\n",
       "      <td>0</td>\n",
       "      <td>0</td>\n",
       "      <td>0</td>\n",
       "      <td>0</td>\n",
       "      <td>0</td>\n",
       "      <td>0</td>\n",
       "      <td>0</td>\n",
       "      <td>0</td>\n",
       "    </tr>\n",
       "    <tr>\n",
       "      <th>3</th>\n",
       "      <td>295</td>\n",
       "      <td>FIELD SERVICE</td>\n",
       "      <td>FIELD SERVICE TECHNICIAN</td>\n",
       "      <td>0</td>\n",
       "      <td>0</td>\n",
       "      <td>0</td>\n",
       "      <td>0</td>\n",
       "      <td>0</td>\n",
       "      <td>0</td>\n",
       "      <td>0</td>\n",
       "      <td>...</td>\n",
       "      <td>0</td>\n",
       "      <td>0</td>\n",
       "      <td>0</td>\n",
       "      <td>0</td>\n",
       "      <td>0</td>\n",
       "      <td>0</td>\n",
       "      <td>0</td>\n",
       "      <td>0</td>\n",
       "      <td>0</td>\n",
       "      <td>0</td>\n",
       "    </tr>\n",
       "    <tr>\n",
       "      <th>4</th>\n",
       "      <td>323</td>\n",
       "      <td>FIELD SERVICE</td>\n",
       "      <td>IWS SPECIALIST</td>\n",
       "      <td>0</td>\n",
       "      <td>0</td>\n",
       "      <td>0</td>\n",
       "      <td>0</td>\n",
       "      <td>0</td>\n",
       "      <td>0</td>\n",
       "      <td>0</td>\n",
       "      <td>...</td>\n",
       "      <td>0</td>\n",
       "      <td>0</td>\n",
       "      <td>0</td>\n",
       "      <td>0</td>\n",
       "      <td>0</td>\n",
       "      <td>0</td>\n",
       "      <td>0</td>\n",
       "      <td>0</td>\n",
       "      <td>0</td>\n",
       "      <td>0</td>\n",
       "    </tr>\n",
       "    <tr>\n",
       "      <th>...</th>\n",
       "      <td>...</td>\n",
       "      <td>...</td>\n",
       "      <td>...</td>\n",
       "      <td>...</td>\n",
       "      <td>...</td>\n",
       "      <td>...</td>\n",
       "      <td>...</td>\n",
       "      <td>...</td>\n",
       "      <td>...</td>\n",
       "      <td>...</td>\n",
       "      <td>...</td>\n",
       "      <td>...</td>\n",
       "      <td>...</td>\n",
       "      <td>...</td>\n",
       "      <td>...</td>\n",
       "      <td>...</td>\n",
       "      <td>...</td>\n",
       "      <td>...</td>\n",
       "      <td>...</td>\n",
       "      <td>...</td>\n",
       "      <td>...</td>\n",
       "    </tr>\n",
       "    <tr>\n",
       "      <th>2272</th>\n",
       "      <td>4023610</td>\n",
       "      <td>FIELD SERVICE</td>\n",
       "      <td>FIELD SERVICE TECHNICIAN</td>\n",
       "      <td>0</td>\n",
       "      <td>0</td>\n",
       "      <td>0</td>\n",
       "      <td>0</td>\n",
       "      <td>0</td>\n",
       "      <td>0</td>\n",
       "      <td>0</td>\n",
       "      <td>...</td>\n",
       "      <td>0</td>\n",
       "      <td>0</td>\n",
       "      <td>0</td>\n",
       "      <td>0</td>\n",
       "      <td>0</td>\n",
       "      <td>0</td>\n",
       "      <td>0</td>\n",
       "      <td>0</td>\n",
       "      <td>0</td>\n",
       "      <td>0</td>\n",
       "    </tr>\n",
       "    <tr>\n",
       "      <th>2273</th>\n",
       "      <td>4023637</td>\n",
       "      <td>CUSTOMER SERVICE</td>\n",
       "      <td>SPECIALIST CS</td>\n",
       "      <td>0</td>\n",
       "      <td>0</td>\n",
       "      <td>0</td>\n",
       "      <td>0</td>\n",
       "      <td>0</td>\n",
       "      <td>0</td>\n",
       "      <td>0</td>\n",
       "      <td>...</td>\n",
       "      <td>0</td>\n",
       "      <td>0</td>\n",
       "      <td>0</td>\n",
       "      <td>0</td>\n",
       "      <td>0</td>\n",
       "      <td>0</td>\n",
       "      <td>0</td>\n",
       "      <td>0</td>\n",
       "      <td>0</td>\n",
       "      <td>0</td>\n",
       "    </tr>\n",
       "    <tr>\n",
       "      <th>2274</th>\n",
       "      <td>4023638</td>\n",
       "      <td>CUSTOMER SERVICE</td>\n",
       "      <td>JUNIOR SPECIALIST CS</td>\n",
       "      <td>0</td>\n",
       "      <td>0</td>\n",
       "      <td>0</td>\n",
       "      <td>0</td>\n",
       "      <td>0</td>\n",
       "      <td>0</td>\n",
       "      <td>0</td>\n",
       "      <td>...</td>\n",
       "      <td>0</td>\n",
       "      <td>0</td>\n",
       "      <td>0</td>\n",
       "      <td>0</td>\n",
       "      <td>0</td>\n",
       "      <td>0</td>\n",
       "      <td>0</td>\n",
       "      <td>0</td>\n",
       "      <td>0</td>\n",
       "      <td>0</td>\n",
       "    </tr>\n",
       "    <tr>\n",
       "      <th>2275</th>\n",
       "      <td>4023639</td>\n",
       "      <td>CUSTOMER SERVICE</td>\n",
       "      <td>JUNIOR SPECIALIST CS</td>\n",
       "      <td>0</td>\n",
       "      <td>0</td>\n",
       "      <td>0</td>\n",
       "      <td>0</td>\n",
       "      <td>0</td>\n",
       "      <td>0</td>\n",
       "      <td>0</td>\n",
       "      <td>...</td>\n",
       "      <td>0</td>\n",
       "      <td>0</td>\n",
       "      <td>0</td>\n",
       "      <td>0</td>\n",
       "      <td>0</td>\n",
       "      <td>0</td>\n",
       "      <td>0</td>\n",
       "      <td>0</td>\n",
       "      <td>0</td>\n",
       "      <td>0</td>\n",
       "    </tr>\n",
       "    <tr>\n",
       "      <th>2276</th>\n",
       "      <td>4023652</td>\n",
       "      <td>CUSTOMER SERVICE</td>\n",
       "      <td>JUNIOR SPECIALIST CS</td>\n",
       "      <td>0</td>\n",
       "      <td>0</td>\n",
       "      <td>0</td>\n",
       "      <td>0</td>\n",
       "      <td>0</td>\n",
       "      <td>0</td>\n",
       "      <td>0</td>\n",
       "      <td>...</td>\n",
       "      <td>0</td>\n",
       "      <td>0</td>\n",
       "      <td>0</td>\n",
       "      <td>0</td>\n",
       "      <td>0</td>\n",
       "      <td>0</td>\n",
       "      <td>0</td>\n",
       "      <td>0</td>\n",
       "      <td>0</td>\n",
       "      <td>0</td>\n",
       "    </tr>\n",
       "  </tbody>\n",
       "</table>\n",
       "<p>2277 rows × 4502 columns</p>\n",
       "</div>"
      ],
      "text/plain": [
       "      user_id               job                department  ASJAVAIDM:IDM_User  \\\n",
       "0          81             SALES  REGIONAL ACCOUNT MANAGER                   0   \n",
       "1         254     FIELD SERVICE     AREA MANAGER, SERVICE                   0   \n",
       "2         276     FIELD SERVICE  FIELD SERVICE TECHNICIAN                   0   \n",
       "3         295     FIELD SERVICE  FIELD SERVICE TECHNICIAN                   0   \n",
       "4         323     FIELD SERVICE            IWS SPECIALIST                   0   \n",
       "...       ...               ...                       ...                 ...   \n",
       "2272  4023610     FIELD SERVICE  FIELD SERVICE TECHNICIAN                   0   \n",
       "2273  4023637  CUSTOMER SERVICE             SPECIALIST CS                   0   \n",
       "2274  4023638  CUSTOMER SERVICE      JUNIOR SPECIALIST CS                   0   \n",
       "2275  4023639  CUSTOMER SERVICE      JUNIOR SPECIALIST CS                   0   \n",
       "2276  4023652  CUSTOMER SERVICE      JUNIOR SPECIALIST CS                   0   \n",
       "\n",
       "      ASJAVAIDM:idm.user  DE2CLNT210:CO3050_DP:D_CO  \\\n",
       "0                      0                          0   \n",
       "1                      0                          0   \n",
       "2                      0                          0   \n",
       "3                      0                          0   \n",
       "4                      0                          0   \n",
       "...                  ...                        ...   \n",
       "2272                   0                          0   \n",
       "2273                   0                          0   \n",
       "2274                   0                          0   \n",
       "2275                   0                          0   \n",
       "2276                   0                          0   \n",
       "\n",
       "      DE2CLNT210:CO3050_DP:D_CO_DEFAULT  DE2CLNT210:CO3050_DP:D_PRODUCT_COST  \\\n",
       "0                                     0                                    0   \n",
       "1                                     0                                    0   \n",
       "2                                     0                                    0   \n",
       "3                                     0                                    0   \n",
       "4                                     0                                    0   \n",
       "...                                 ...                                  ...   \n",
       "2272                                  0                                    0   \n",
       "2273                                  0                                    0   \n",
       "2274                                  0                                    0   \n",
       "2275                                  0                                    0   \n",
       "2276                                  0                                    0   \n",
       "\n",
       "      DE2CLNT210:CO3160_DP:D_CO  DE2CLNT210:CO3160_DP:D_CO_DEFAULT  ...  \\\n",
       "0                             0                                  0  ...   \n",
       "1                             0                                  0  ...   \n",
       "2                             0                                  0  ...   \n",
       "3                             0                                  0  ...   \n",
       "4                             0                                  0  ...   \n",
       "...                         ...                                ...  ...   \n",
       "2272                          0                                  0  ...   \n",
       "2273                          0                                  0  ...   \n",
       "2274                          0                                  0  ...   \n",
       "2275                          0                                  0  ...   \n",
       "2276                          0                                  0  ...   \n",
       "\n",
       "      QG2CLNT110:GTS3220_DP:M_FI  QG2CLNT110:GTS3220_DP:M_WORKLIST  \\\n",
       "0                              0                                 0   \n",
       "1                              0                                 0   \n",
       "2                              0                                 0   \n",
       "3                              0                                 0   \n",
       "4                              0                                 0   \n",
       "...                          ...                               ...   \n",
       "2272                           0                                 0   \n",
       "2273                           0                                 0   \n",
       "2274                           0                                 0   \n",
       "2275                           0                                 0   \n",
       "2276                           0                                 0   \n",
       "\n",
       "      QG2CLNT110:XX0000_SP:D_EVERYONE  QGWCLNT110:XX0000_SP:D_EVERYONE  \\\n",
       "0                                   0                                0   \n",
       "1                                   0                                0   \n",
       "2                                   0                                0   \n",
       "3                                   0                                0   \n",
       "4                                   0                                0   \n",
       "...                               ...                              ...   \n",
       "2272                                0                                0   \n",
       "2273                                0                                0   \n",
       "2274                                0                                0   \n",
       "2275                                0                                0   \n",
       "2276                                0                                0   \n",
       "\n",
       "      QGWCLNT110:XX0000_SP:D_EVERYONE_FIORI  QGWCLNT110:XX0000_SP:M_FIORI_CO  \\\n",
       "0                                         0                                0   \n",
       "1                                         0                                0   \n",
       "2                                         0                                0   \n",
       "3                                         0                                0   \n",
       "4                                         0                                0   \n",
       "...                                     ...                              ...   \n",
       "2272                                      0                                0   \n",
       "2273                                      0                                0   \n",
       "2274                                      0                                0   \n",
       "2275                                      0                                0   \n",
       "2276                                      0                                0   \n",
       "\n",
       "      QGWCLNT110:XX0000_SP:M_FIORI_CS  QGWCLNT110:XX0000_SP:M_FIORI_TRV  \\\n",
       "0                                   0                                 0   \n",
       "1                                   0                                 0   \n",
       "2                                   0                                 0   \n",
       "3                                   0                                 0   \n",
       "4                                   0                                 0   \n",
       "...                               ...                               ...   \n",
       "2272                                0                                 0   \n",
       "2273                                0                                 0   \n",
       "2274                                0                                 0   \n",
       "2275                                0                                 0   \n",
       "2276                                0                                 0   \n",
       "\n",
       "      QGWCLNT110:XX0000_SP:M_FIORI_TRV_APP  SE6CLNT110:ZSAP_ALL_ERP  \n",
       "0                                        0                        0  \n",
       "1                                        0                        0  \n",
       "2                                        0                        0  \n",
       "3                                        0                        0  \n",
       "4                                        0                        0  \n",
       "...                                    ...                      ...  \n",
       "2272                                     0                        0  \n",
       "2273                                     0                        0  \n",
       "2274                                     0                        0  \n",
       "2275                                     0                        0  \n",
       "2276                                     0                        0  \n",
       "\n",
       "[2277 rows x 4502 columns]"
      ]
     },
     "execution_count": 73,
     "metadata": {},
     "output_type": "execute_result"
    }
   ],
   "source": [
    "result_table"
   ]
  },
  {
   "cell_type": "code",
   "execution_count": 74,
   "metadata": {
    "executionInfo": {
     "elapsed": 453,
     "status": "ok",
     "timestamp": 1649810159416,
     "user": {
      "displayName": "Petar Damianov",
      "userId": "11400996130549296363"
     },
     "user_tz": -180
    },
    "id": "IQUccSTEJ4bm"
   },
   "outputs": [],
   "source": [
    "result_table.insert(3, \"cluster_label\", result.id)"
   ]
  },
  {
   "cell_type": "code",
   "execution_count": 75,
   "metadata": {
    "colab": {
     "base_uri": "https://localhost:8080/",
     "height": 783
    },
    "executionInfo": {
     "elapsed": 9,
     "status": "ok",
     "timestamp": 1649810159417,
     "user": {
      "displayName": "Petar Damianov",
      "userId": "11400996130549296363"
     },
     "user_tz": -180
    },
    "id": "TJsTKr5ELUNE",
    "outputId": "ce609ac9-ee89-41b9-8b23-7527e93d05de"
   },
   "outputs": [
    {
     "data": {
      "text/html": [
       "<div>\n",
       "<style scoped>\n",
       "    .dataframe tbody tr th:only-of-type {\n",
       "        vertical-align: middle;\n",
       "    }\n",
       "\n",
       "    .dataframe tbody tr th {\n",
       "        vertical-align: top;\n",
       "    }\n",
       "\n",
       "    .dataframe thead th {\n",
       "        text-align: right;\n",
       "    }\n",
       "</style>\n",
       "<table border=\"1\" class=\"dataframe\">\n",
       "  <thead>\n",
       "    <tr style=\"text-align: right;\">\n",
       "      <th></th>\n",
       "      <th>user_id</th>\n",
       "      <th>job</th>\n",
       "      <th>department</th>\n",
       "      <th>cluster_label</th>\n",
       "      <th>ASJAVAIDM:IDM_User</th>\n",
       "      <th>ASJAVAIDM:idm.user</th>\n",
       "      <th>DE2CLNT210:CO3050_DP:D_CO</th>\n",
       "      <th>DE2CLNT210:CO3050_DP:D_CO_DEFAULT</th>\n",
       "      <th>DE2CLNT210:CO3050_DP:D_PRODUCT_COST</th>\n",
       "      <th>DE2CLNT210:CO3160_DP:D_CO</th>\n",
       "      <th>...</th>\n",
       "      <th>QG2CLNT110:GTS3220_DP:M_FI</th>\n",
       "      <th>QG2CLNT110:GTS3220_DP:M_WORKLIST</th>\n",
       "      <th>QG2CLNT110:XX0000_SP:D_EVERYONE</th>\n",
       "      <th>QGWCLNT110:XX0000_SP:D_EVERYONE</th>\n",
       "      <th>QGWCLNT110:XX0000_SP:D_EVERYONE_FIORI</th>\n",
       "      <th>QGWCLNT110:XX0000_SP:M_FIORI_CO</th>\n",
       "      <th>QGWCLNT110:XX0000_SP:M_FIORI_CS</th>\n",
       "      <th>QGWCLNT110:XX0000_SP:M_FIORI_TRV</th>\n",
       "      <th>QGWCLNT110:XX0000_SP:M_FIORI_TRV_APP</th>\n",
       "      <th>SE6CLNT110:ZSAP_ALL_ERP</th>\n",
       "    </tr>\n",
       "  </thead>\n",
       "  <tbody>\n",
       "    <tr>\n",
       "      <th>0</th>\n",
       "      <td>81</td>\n",
       "      <td>SALES</td>\n",
       "      <td>REGIONAL ACCOUNT MANAGER</td>\n",
       "      <td>4</td>\n",
       "      <td>0</td>\n",
       "      <td>0</td>\n",
       "      <td>0</td>\n",
       "      <td>0</td>\n",
       "      <td>0</td>\n",
       "      <td>0</td>\n",
       "      <td>...</td>\n",
       "      <td>0</td>\n",
       "      <td>0</td>\n",
       "      <td>0</td>\n",
       "      <td>0</td>\n",
       "      <td>0</td>\n",
       "      <td>0</td>\n",
       "      <td>0</td>\n",
       "      <td>0</td>\n",
       "      <td>0</td>\n",
       "      <td>0</td>\n",
       "    </tr>\n",
       "    <tr>\n",
       "      <th>1</th>\n",
       "      <td>254</td>\n",
       "      <td>FIELD SERVICE</td>\n",
       "      <td>AREA MANAGER, SERVICE</td>\n",
       "      <td>0</td>\n",
       "      <td>0</td>\n",
       "      <td>0</td>\n",
       "      <td>0</td>\n",
       "      <td>0</td>\n",
       "      <td>0</td>\n",
       "      <td>0</td>\n",
       "      <td>...</td>\n",
       "      <td>0</td>\n",
       "      <td>0</td>\n",
       "      <td>0</td>\n",
       "      <td>0</td>\n",
       "      <td>0</td>\n",
       "      <td>0</td>\n",
       "      <td>0</td>\n",
       "      <td>0</td>\n",
       "      <td>0</td>\n",
       "      <td>0</td>\n",
       "    </tr>\n",
       "    <tr>\n",
       "      <th>2</th>\n",
       "      <td>276</td>\n",
       "      <td>FIELD SERVICE</td>\n",
       "      <td>FIELD SERVICE TECHNICIAN</td>\n",
       "      <td>1</td>\n",
       "      <td>0</td>\n",
       "      <td>0</td>\n",
       "      <td>0</td>\n",
       "      <td>0</td>\n",
       "      <td>0</td>\n",
       "      <td>0</td>\n",
       "      <td>...</td>\n",
       "      <td>0</td>\n",
       "      <td>0</td>\n",
       "      <td>0</td>\n",
       "      <td>0</td>\n",
       "      <td>0</td>\n",
       "      <td>0</td>\n",
       "      <td>0</td>\n",
       "      <td>0</td>\n",
       "      <td>0</td>\n",
       "      <td>0</td>\n",
       "    </tr>\n",
       "    <tr>\n",
       "      <th>3</th>\n",
       "      <td>295</td>\n",
       "      <td>FIELD SERVICE</td>\n",
       "      <td>FIELD SERVICE TECHNICIAN</td>\n",
       "      <td>10</td>\n",
       "      <td>0</td>\n",
       "      <td>0</td>\n",
       "      <td>0</td>\n",
       "      <td>0</td>\n",
       "      <td>0</td>\n",
       "      <td>0</td>\n",
       "      <td>...</td>\n",
       "      <td>0</td>\n",
       "      <td>0</td>\n",
       "      <td>0</td>\n",
       "      <td>0</td>\n",
       "      <td>0</td>\n",
       "      <td>0</td>\n",
       "      <td>0</td>\n",
       "      <td>0</td>\n",
       "      <td>0</td>\n",
       "      <td>0</td>\n",
       "    </tr>\n",
       "    <tr>\n",
       "      <th>4</th>\n",
       "      <td>323</td>\n",
       "      <td>FIELD SERVICE</td>\n",
       "      <td>IWS SPECIALIST</td>\n",
       "      <td>1</td>\n",
       "      <td>0</td>\n",
       "      <td>0</td>\n",
       "      <td>0</td>\n",
       "      <td>0</td>\n",
       "      <td>0</td>\n",
       "      <td>0</td>\n",
       "      <td>...</td>\n",
       "      <td>0</td>\n",
       "      <td>0</td>\n",
       "      <td>0</td>\n",
       "      <td>0</td>\n",
       "      <td>0</td>\n",
       "      <td>0</td>\n",
       "      <td>0</td>\n",
       "      <td>0</td>\n",
       "      <td>0</td>\n",
       "      <td>0</td>\n",
       "    </tr>\n",
       "    <tr>\n",
       "      <th>...</th>\n",
       "      <td>...</td>\n",
       "      <td>...</td>\n",
       "      <td>...</td>\n",
       "      <td>...</td>\n",
       "      <td>...</td>\n",
       "      <td>...</td>\n",
       "      <td>...</td>\n",
       "      <td>...</td>\n",
       "      <td>...</td>\n",
       "      <td>...</td>\n",
       "      <td>...</td>\n",
       "      <td>...</td>\n",
       "      <td>...</td>\n",
       "      <td>...</td>\n",
       "      <td>...</td>\n",
       "      <td>...</td>\n",
       "      <td>...</td>\n",
       "      <td>...</td>\n",
       "      <td>...</td>\n",
       "      <td>...</td>\n",
       "      <td>...</td>\n",
       "    </tr>\n",
       "    <tr>\n",
       "      <th>2272</th>\n",
       "      <td>4023610</td>\n",
       "      <td>FIELD SERVICE</td>\n",
       "      <td>FIELD SERVICE TECHNICIAN</td>\n",
       "      <td>1</td>\n",
       "      <td>0</td>\n",
       "      <td>0</td>\n",
       "      <td>0</td>\n",
       "      <td>0</td>\n",
       "      <td>0</td>\n",
       "      <td>0</td>\n",
       "      <td>...</td>\n",
       "      <td>0</td>\n",
       "      <td>0</td>\n",
       "      <td>0</td>\n",
       "      <td>0</td>\n",
       "      <td>0</td>\n",
       "      <td>0</td>\n",
       "      <td>0</td>\n",
       "      <td>0</td>\n",
       "      <td>0</td>\n",
       "      <td>0</td>\n",
       "    </tr>\n",
       "    <tr>\n",
       "      <th>2273</th>\n",
       "      <td>4023637</td>\n",
       "      <td>CUSTOMER SERVICE</td>\n",
       "      <td>SPECIALIST CS</td>\n",
       "      <td>12</td>\n",
       "      <td>0</td>\n",
       "      <td>0</td>\n",
       "      <td>0</td>\n",
       "      <td>0</td>\n",
       "      <td>0</td>\n",
       "      <td>0</td>\n",
       "      <td>...</td>\n",
       "      <td>0</td>\n",
       "      <td>0</td>\n",
       "      <td>0</td>\n",
       "      <td>0</td>\n",
       "      <td>0</td>\n",
       "      <td>0</td>\n",
       "      <td>0</td>\n",
       "      <td>0</td>\n",
       "      <td>0</td>\n",
       "      <td>0</td>\n",
       "    </tr>\n",
       "    <tr>\n",
       "      <th>2274</th>\n",
       "      <td>4023638</td>\n",
       "      <td>CUSTOMER SERVICE</td>\n",
       "      <td>JUNIOR SPECIALIST CS</td>\n",
       "      <td>14</td>\n",
       "      <td>0</td>\n",
       "      <td>0</td>\n",
       "      <td>0</td>\n",
       "      <td>0</td>\n",
       "      <td>0</td>\n",
       "      <td>0</td>\n",
       "      <td>...</td>\n",
       "      <td>0</td>\n",
       "      <td>0</td>\n",
       "      <td>0</td>\n",
       "      <td>0</td>\n",
       "      <td>0</td>\n",
       "      <td>0</td>\n",
       "      <td>0</td>\n",
       "      <td>0</td>\n",
       "      <td>0</td>\n",
       "      <td>0</td>\n",
       "    </tr>\n",
       "    <tr>\n",
       "      <th>2275</th>\n",
       "      <td>4023639</td>\n",
       "      <td>CUSTOMER SERVICE</td>\n",
       "      <td>JUNIOR SPECIALIST CS</td>\n",
       "      <td>0</td>\n",
       "      <td>0</td>\n",
       "      <td>0</td>\n",
       "      <td>0</td>\n",
       "      <td>0</td>\n",
       "      <td>0</td>\n",
       "      <td>0</td>\n",
       "      <td>...</td>\n",
       "      <td>0</td>\n",
       "      <td>0</td>\n",
       "      <td>0</td>\n",
       "      <td>0</td>\n",
       "      <td>0</td>\n",
       "      <td>0</td>\n",
       "      <td>0</td>\n",
       "      <td>0</td>\n",
       "      <td>0</td>\n",
       "      <td>0</td>\n",
       "    </tr>\n",
       "    <tr>\n",
       "      <th>2276</th>\n",
       "      <td>4023652</td>\n",
       "      <td>CUSTOMER SERVICE</td>\n",
       "      <td>JUNIOR SPECIALIST CS</td>\n",
       "      <td>14</td>\n",
       "      <td>0</td>\n",
       "      <td>0</td>\n",
       "      <td>0</td>\n",
       "      <td>0</td>\n",
       "      <td>0</td>\n",
       "      <td>0</td>\n",
       "      <td>...</td>\n",
       "      <td>0</td>\n",
       "      <td>0</td>\n",
       "      <td>0</td>\n",
       "      <td>0</td>\n",
       "      <td>0</td>\n",
       "      <td>0</td>\n",
       "      <td>0</td>\n",
       "      <td>0</td>\n",
       "      <td>0</td>\n",
       "      <td>0</td>\n",
       "    </tr>\n",
       "  </tbody>\n",
       "</table>\n",
       "<p>2277 rows × 4503 columns</p>\n",
       "</div>"
      ],
      "text/plain": [
       "      user_id               job                department  cluster_label  \\\n",
       "0          81             SALES  REGIONAL ACCOUNT MANAGER              4   \n",
       "1         254     FIELD SERVICE     AREA MANAGER, SERVICE              0   \n",
       "2         276     FIELD SERVICE  FIELD SERVICE TECHNICIAN              1   \n",
       "3         295     FIELD SERVICE  FIELD SERVICE TECHNICIAN             10   \n",
       "4         323     FIELD SERVICE            IWS SPECIALIST              1   \n",
       "...       ...               ...                       ...            ...   \n",
       "2272  4023610     FIELD SERVICE  FIELD SERVICE TECHNICIAN              1   \n",
       "2273  4023637  CUSTOMER SERVICE             SPECIALIST CS             12   \n",
       "2274  4023638  CUSTOMER SERVICE      JUNIOR SPECIALIST CS             14   \n",
       "2275  4023639  CUSTOMER SERVICE      JUNIOR SPECIALIST CS              0   \n",
       "2276  4023652  CUSTOMER SERVICE      JUNIOR SPECIALIST CS             14   \n",
       "\n",
       "      ASJAVAIDM:IDM_User  ASJAVAIDM:idm.user  DE2CLNT210:CO3050_DP:D_CO  \\\n",
       "0                      0                   0                          0   \n",
       "1                      0                   0                          0   \n",
       "2                      0                   0                          0   \n",
       "3                      0                   0                          0   \n",
       "4                      0                   0                          0   \n",
       "...                  ...                 ...                        ...   \n",
       "2272                   0                   0                          0   \n",
       "2273                   0                   0                          0   \n",
       "2274                   0                   0                          0   \n",
       "2275                   0                   0                          0   \n",
       "2276                   0                   0                          0   \n",
       "\n",
       "      DE2CLNT210:CO3050_DP:D_CO_DEFAULT  DE2CLNT210:CO3050_DP:D_PRODUCT_COST  \\\n",
       "0                                     0                                    0   \n",
       "1                                     0                                    0   \n",
       "2                                     0                                    0   \n",
       "3                                     0                                    0   \n",
       "4                                     0                                    0   \n",
       "...                                 ...                                  ...   \n",
       "2272                                  0                                    0   \n",
       "2273                                  0                                    0   \n",
       "2274                                  0                                    0   \n",
       "2275                                  0                                    0   \n",
       "2276                                  0                                    0   \n",
       "\n",
       "      DE2CLNT210:CO3160_DP:D_CO  ...  QG2CLNT110:GTS3220_DP:M_FI  \\\n",
       "0                             0  ...                           0   \n",
       "1                             0  ...                           0   \n",
       "2                             0  ...                           0   \n",
       "3                             0  ...                           0   \n",
       "4                             0  ...                           0   \n",
       "...                         ...  ...                         ...   \n",
       "2272                          0  ...                           0   \n",
       "2273                          0  ...                           0   \n",
       "2274                          0  ...                           0   \n",
       "2275                          0  ...                           0   \n",
       "2276                          0  ...                           0   \n",
       "\n",
       "      QG2CLNT110:GTS3220_DP:M_WORKLIST  QG2CLNT110:XX0000_SP:D_EVERYONE  \\\n",
       "0                                    0                                0   \n",
       "1                                    0                                0   \n",
       "2                                    0                                0   \n",
       "3                                    0                                0   \n",
       "4                                    0                                0   \n",
       "...                                ...                              ...   \n",
       "2272                                 0                                0   \n",
       "2273                                 0                                0   \n",
       "2274                                 0                                0   \n",
       "2275                                 0                                0   \n",
       "2276                                 0                                0   \n",
       "\n",
       "      QGWCLNT110:XX0000_SP:D_EVERYONE  QGWCLNT110:XX0000_SP:D_EVERYONE_FIORI  \\\n",
       "0                                   0                                      0   \n",
       "1                                   0                                      0   \n",
       "2                                   0                                      0   \n",
       "3                                   0                                      0   \n",
       "4                                   0                                      0   \n",
       "...                               ...                                    ...   \n",
       "2272                                0                                      0   \n",
       "2273                                0                                      0   \n",
       "2274                                0                                      0   \n",
       "2275                                0                                      0   \n",
       "2276                                0                                      0   \n",
       "\n",
       "      QGWCLNT110:XX0000_SP:M_FIORI_CO  QGWCLNT110:XX0000_SP:M_FIORI_CS  \\\n",
       "0                                   0                                0   \n",
       "1                                   0                                0   \n",
       "2                                   0                                0   \n",
       "3                                   0                                0   \n",
       "4                                   0                                0   \n",
       "...                               ...                              ...   \n",
       "2272                                0                                0   \n",
       "2273                                0                                0   \n",
       "2274                                0                                0   \n",
       "2275                                0                                0   \n",
       "2276                                0                                0   \n",
       "\n",
       "      QGWCLNT110:XX0000_SP:M_FIORI_TRV  QGWCLNT110:XX0000_SP:M_FIORI_TRV_APP  \\\n",
       "0                                    0                                     0   \n",
       "1                                    0                                     0   \n",
       "2                                    0                                     0   \n",
       "3                                    0                                     0   \n",
       "4                                    0                                     0   \n",
       "...                                ...                                   ...   \n",
       "2272                                 0                                     0   \n",
       "2273                                 0                                     0   \n",
       "2274                                 0                                     0   \n",
       "2275                                 0                                     0   \n",
       "2276                                 0                                     0   \n",
       "\n",
       "      SE6CLNT110:ZSAP_ALL_ERP  \n",
       "0                           0  \n",
       "1                           0  \n",
       "2                           0  \n",
       "3                           0  \n",
       "4                           0  \n",
       "...                       ...  \n",
       "2272                        0  \n",
       "2273                        0  \n",
       "2274                        0  \n",
       "2275                        0  \n",
       "2276                        0  \n",
       "\n",
       "[2277 rows x 4503 columns]"
      ]
     },
     "execution_count": 75,
     "metadata": {},
     "output_type": "execute_result"
    }
   ],
   "source": [
    "result_table"
   ]
  },
  {
   "cell_type": "markdown",
   "metadata": {
    "id": "NjOk6oY7FYYi"
   },
   "source": [
    "### Extract all data from clusters with selected job and department in them"
   ]
  },
  {
   "cell_type": "code",
   "execution_count": 76,
   "metadata": {
    "executionInfo": {
     "elapsed": 547,
     "status": "ok",
     "timestamp": 1649810159957,
     "user": {
      "displayName": "Petar Damianov",
      "userId": "11400996130549296363"
     },
     "user_tz": -180
    },
    "id": "1_fCklKkN9fd"
   },
   "outputs": [],
   "source": [
    "result_data = result_table.where((result_table.job == job) & (result_table.department == department))"
   ]
  },
  {
   "cell_type": "code",
   "execution_count": 77,
   "metadata": {
    "executionInfo": {
     "elapsed": 596,
     "status": "ok",
     "timestamp": 1649810160550,
     "user": {
      "displayName": "Petar Damianov",
      "userId": "11400996130549296363"
     },
     "user_tz": -180
    },
    "id": "rjhEXD5jN9h8"
   },
   "outputs": [],
   "source": [
    "result_data.dropna(inplace=True)"
   ]
  },
  {
   "cell_type": "code",
   "execution_count": 78,
   "metadata": {
    "executionInfo": {
     "elapsed": 3,
     "status": "ok",
     "timestamp": 1649810160550,
     "user": {
      "displayName": "Petar Damianov",
      "userId": "11400996130549296363"
     },
     "user_tz": -180
    },
    "id": "GnBODmx1OXB9"
   },
   "outputs": [],
   "source": [
    "result_data = result_data.reset_index(drop=True)"
   ]
  },
  {
   "cell_type": "code",
   "execution_count": 79,
   "metadata": {
    "colab": {
     "base_uri": "https://localhost:8080/",
     "height": 835
    },
    "executionInfo": {
     "elapsed": 219,
     "status": "ok",
     "timestamp": 1649810160767,
     "user": {
      "displayName": "Petar Damianov",
      "userId": "11400996130549296363"
     },
     "user_tz": -180
    },
    "id": "V1kKQiGWQWYH",
    "outputId": "7345200b-6efa-4e70-de7d-13d8e36ab540"
   },
   "outputs": [
    {
     "data": {
      "text/html": [
       "<div>\n",
       "<style scoped>\n",
       "    .dataframe tbody tr th:only-of-type {\n",
       "        vertical-align: middle;\n",
       "    }\n",
       "\n",
       "    .dataframe tbody tr th {\n",
       "        vertical-align: top;\n",
       "    }\n",
       "\n",
       "    .dataframe thead th {\n",
       "        text-align: right;\n",
       "    }\n",
       "</style>\n",
       "<table border=\"1\" class=\"dataframe\">\n",
       "  <thead>\n",
       "    <tr style=\"text-align: right;\">\n",
       "      <th></th>\n",
       "      <th>user_id</th>\n",
       "      <th>job</th>\n",
       "      <th>department</th>\n",
       "      <th>cluster_label</th>\n",
       "      <th>ASJAVAIDM:IDM_User</th>\n",
       "      <th>ASJAVAIDM:idm.user</th>\n",
       "      <th>DE2CLNT210:CO3050_DP:D_CO</th>\n",
       "      <th>DE2CLNT210:CO3050_DP:D_CO_DEFAULT</th>\n",
       "      <th>DE2CLNT210:CO3050_DP:D_PRODUCT_COST</th>\n",
       "      <th>DE2CLNT210:CO3160_DP:D_CO</th>\n",
       "      <th>...</th>\n",
       "      <th>QG2CLNT110:GTS3220_DP:M_FI</th>\n",
       "      <th>QG2CLNT110:GTS3220_DP:M_WORKLIST</th>\n",
       "      <th>QG2CLNT110:XX0000_SP:D_EVERYONE</th>\n",
       "      <th>QGWCLNT110:XX0000_SP:D_EVERYONE</th>\n",
       "      <th>QGWCLNT110:XX0000_SP:D_EVERYONE_FIORI</th>\n",
       "      <th>QGWCLNT110:XX0000_SP:M_FIORI_CO</th>\n",
       "      <th>QGWCLNT110:XX0000_SP:M_FIORI_CS</th>\n",
       "      <th>QGWCLNT110:XX0000_SP:M_FIORI_TRV</th>\n",
       "      <th>QGWCLNT110:XX0000_SP:M_FIORI_TRV_APP</th>\n",
       "      <th>SE6CLNT110:ZSAP_ALL_ERP</th>\n",
       "    </tr>\n",
       "  </thead>\n",
       "  <tbody>\n",
       "    <tr>\n",
       "      <th>0</th>\n",
       "      <td>4017417.0</td>\n",
       "      <td>CUSTOMER SERVICE</td>\n",
       "      <td>JUNIOR SPECIALIST CS</td>\n",
       "      <td>12.0</td>\n",
       "      <td>0.0</td>\n",
       "      <td>0.0</td>\n",
       "      <td>0.0</td>\n",
       "      <td>0.0</td>\n",
       "      <td>0.0</td>\n",
       "      <td>0.0</td>\n",
       "      <td>...</td>\n",
       "      <td>0.0</td>\n",
       "      <td>0.0</td>\n",
       "      <td>0.0</td>\n",
       "      <td>0.0</td>\n",
       "      <td>0.0</td>\n",
       "      <td>0.0</td>\n",
       "      <td>0.0</td>\n",
       "      <td>0.0</td>\n",
       "      <td>0.0</td>\n",
       "      <td>0.0</td>\n",
       "    </tr>\n",
       "    <tr>\n",
       "      <th>1</th>\n",
       "      <td>4020599.0</td>\n",
       "      <td>CUSTOMER SERVICE</td>\n",
       "      <td>JUNIOR SPECIALIST CS</td>\n",
       "      <td>7.0</td>\n",
       "      <td>0.0</td>\n",
       "      <td>0.0</td>\n",
       "      <td>0.0</td>\n",
       "      <td>0.0</td>\n",
       "      <td>0.0</td>\n",
       "      <td>0.0</td>\n",
       "      <td>...</td>\n",
       "      <td>0.0</td>\n",
       "      <td>0.0</td>\n",
       "      <td>0.0</td>\n",
       "      <td>0.0</td>\n",
       "      <td>0.0</td>\n",
       "      <td>0.0</td>\n",
       "      <td>0.0</td>\n",
       "      <td>0.0</td>\n",
       "      <td>0.0</td>\n",
       "      <td>0.0</td>\n",
       "    </tr>\n",
       "    <tr>\n",
       "      <th>2</th>\n",
       "      <td>4020961.0</td>\n",
       "      <td>CUSTOMER SERVICE</td>\n",
       "      <td>JUNIOR SPECIALIST CS</td>\n",
       "      <td>0.0</td>\n",
       "      <td>0.0</td>\n",
       "      <td>0.0</td>\n",
       "      <td>0.0</td>\n",
       "      <td>0.0</td>\n",
       "      <td>0.0</td>\n",
       "      <td>0.0</td>\n",
       "      <td>...</td>\n",
       "      <td>0.0</td>\n",
       "      <td>0.0</td>\n",
       "      <td>0.0</td>\n",
       "      <td>0.0</td>\n",
       "      <td>0.0</td>\n",
       "      <td>0.0</td>\n",
       "      <td>0.0</td>\n",
       "      <td>0.0</td>\n",
       "      <td>0.0</td>\n",
       "      <td>0.0</td>\n",
       "    </tr>\n",
       "    <tr>\n",
       "      <th>3</th>\n",
       "      <td>4021375.0</td>\n",
       "      <td>CUSTOMER SERVICE</td>\n",
       "      <td>JUNIOR SPECIALIST CS</td>\n",
       "      <td>11.0</td>\n",
       "      <td>0.0</td>\n",
       "      <td>0.0</td>\n",
       "      <td>0.0</td>\n",
       "      <td>0.0</td>\n",
       "      <td>0.0</td>\n",
       "      <td>0.0</td>\n",
       "      <td>...</td>\n",
       "      <td>0.0</td>\n",
       "      <td>0.0</td>\n",
       "      <td>0.0</td>\n",
       "      <td>0.0</td>\n",
       "      <td>0.0</td>\n",
       "      <td>0.0</td>\n",
       "      <td>0.0</td>\n",
       "      <td>0.0</td>\n",
       "      <td>0.0</td>\n",
       "      <td>0.0</td>\n",
       "    </tr>\n",
       "    <tr>\n",
       "      <th>4</th>\n",
       "      <td>4021538.0</td>\n",
       "      <td>CUSTOMER SERVICE</td>\n",
       "      <td>JUNIOR SPECIALIST CS</td>\n",
       "      <td>18.0</td>\n",
       "      <td>0.0</td>\n",
       "      <td>0.0</td>\n",
       "      <td>0.0</td>\n",
       "      <td>0.0</td>\n",
       "      <td>0.0</td>\n",
       "      <td>0.0</td>\n",
       "      <td>...</td>\n",
       "      <td>0.0</td>\n",
       "      <td>0.0</td>\n",
       "      <td>0.0</td>\n",
       "      <td>0.0</td>\n",
       "      <td>0.0</td>\n",
       "      <td>0.0</td>\n",
       "      <td>0.0</td>\n",
       "      <td>0.0</td>\n",
       "      <td>0.0</td>\n",
       "      <td>0.0</td>\n",
       "    </tr>\n",
       "    <tr>\n",
       "      <th>5</th>\n",
       "      <td>4021540.0</td>\n",
       "      <td>CUSTOMER SERVICE</td>\n",
       "      <td>JUNIOR SPECIALIST CS</td>\n",
       "      <td>6.0</td>\n",
       "      <td>0.0</td>\n",
       "      <td>0.0</td>\n",
       "      <td>0.0</td>\n",
       "      <td>0.0</td>\n",
       "      <td>0.0</td>\n",
       "      <td>0.0</td>\n",
       "      <td>...</td>\n",
       "      <td>0.0</td>\n",
       "      <td>0.0</td>\n",
       "      <td>0.0</td>\n",
       "      <td>0.0</td>\n",
       "      <td>0.0</td>\n",
       "      <td>0.0</td>\n",
       "      <td>0.0</td>\n",
       "      <td>0.0</td>\n",
       "      <td>0.0</td>\n",
       "      <td>0.0</td>\n",
       "    </tr>\n",
       "    <tr>\n",
       "      <th>6</th>\n",
       "      <td>4021541.0</td>\n",
       "      <td>CUSTOMER SERVICE</td>\n",
       "      <td>JUNIOR SPECIALIST CS</td>\n",
       "      <td>6.0</td>\n",
       "      <td>0.0</td>\n",
       "      <td>0.0</td>\n",
       "      <td>0.0</td>\n",
       "      <td>0.0</td>\n",
       "      <td>0.0</td>\n",
       "      <td>0.0</td>\n",
       "      <td>...</td>\n",
       "      <td>0.0</td>\n",
       "      <td>0.0</td>\n",
       "      <td>0.0</td>\n",
       "      <td>0.0</td>\n",
       "      <td>0.0</td>\n",
       "      <td>0.0</td>\n",
       "      <td>0.0</td>\n",
       "      <td>0.0</td>\n",
       "      <td>0.0</td>\n",
       "      <td>0.0</td>\n",
       "    </tr>\n",
       "    <tr>\n",
       "      <th>7</th>\n",
       "      <td>4021746.0</td>\n",
       "      <td>CUSTOMER SERVICE</td>\n",
       "      <td>JUNIOR SPECIALIST CS</td>\n",
       "      <td>14.0</td>\n",
       "      <td>0.0</td>\n",
       "      <td>0.0</td>\n",
       "      <td>0.0</td>\n",
       "      <td>0.0</td>\n",
       "      <td>0.0</td>\n",
       "      <td>0.0</td>\n",
       "      <td>...</td>\n",
       "      <td>0.0</td>\n",
       "      <td>0.0</td>\n",
       "      <td>0.0</td>\n",
       "      <td>0.0</td>\n",
       "      <td>0.0</td>\n",
       "      <td>0.0</td>\n",
       "      <td>0.0</td>\n",
       "      <td>0.0</td>\n",
       "      <td>0.0</td>\n",
       "      <td>0.0</td>\n",
       "    </tr>\n",
       "    <tr>\n",
       "      <th>8</th>\n",
       "      <td>4021748.0</td>\n",
       "      <td>CUSTOMER SERVICE</td>\n",
       "      <td>JUNIOR SPECIALIST CS</td>\n",
       "      <td>0.0</td>\n",
       "      <td>0.0</td>\n",
       "      <td>0.0</td>\n",
       "      <td>0.0</td>\n",
       "      <td>0.0</td>\n",
       "      <td>0.0</td>\n",
       "      <td>0.0</td>\n",
       "      <td>...</td>\n",
       "      <td>0.0</td>\n",
       "      <td>0.0</td>\n",
       "      <td>0.0</td>\n",
       "      <td>0.0</td>\n",
       "      <td>0.0</td>\n",
       "      <td>0.0</td>\n",
       "      <td>0.0</td>\n",
       "      <td>0.0</td>\n",
       "      <td>0.0</td>\n",
       "      <td>0.0</td>\n",
       "    </tr>\n",
       "    <tr>\n",
       "      <th>9</th>\n",
       "      <td>4022458.0</td>\n",
       "      <td>CUSTOMER SERVICE</td>\n",
       "      <td>JUNIOR SPECIALIST CS</td>\n",
       "      <td>12.0</td>\n",
       "      <td>0.0</td>\n",
       "      <td>0.0</td>\n",
       "      <td>0.0</td>\n",
       "      <td>0.0</td>\n",
       "      <td>0.0</td>\n",
       "      <td>0.0</td>\n",
       "      <td>...</td>\n",
       "      <td>0.0</td>\n",
       "      <td>0.0</td>\n",
       "      <td>0.0</td>\n",
       "      <td>0.0</td>\n",
       "      <td>0.0</td>\n",
       "      <td>0.0</td>\n",
       "      <td>0.0</td>\n",
       "      <td>0.0</td>\n",
       "      <td>0.0</td>\n",
       "      <td>0.0</td>\n",
       "    </tr>\n",
       "    <tr>\n",
       "      <th>10</th>\n",
       "      <td>4022588.0</td>\n",
       "      <td>CUSTOMER SERVICE</td>\n",
       "      <td>JUNIOR SPECIALIST CS</td>\n",
       "      <td>4.0</td>\n",
       "      <td>0.0</td>\n",
       "      <td>0.0</td>\n",
       "      <td>0.0</td>\n",
       "      <td>0.0</td>\n",
       "      <td>0.0</td>\n",
       "      <td>0.0</td>\n",
       "      <td>...</td>\n",
       "      <td>0.0</td>\n",
       "      <td>0.0</td>\n",
       "      <td>0.0</td>\n",
       "      <td>0.0</td>\n",
       "      <td>0.0</td>\n",
       "      <td>0.0</td>\n",
       "      <td>0.0</td>\n",
       "      <td>0.0</td>\n",
       "      <td>0.0</td>\n",
       "      <td>0.0</td>\n",
       "    </tr>\n",
       "    <tr>\n",
       "      <th>11</th>\n",
       "      <td>4022911.0</td>\n",
       "      <td>CUSTOMER SERVICE</td>\n",
       "      <td>JUNIOR SPECIALIST CS</td>\n",
       "      <td>6.0</td>\n",
       "      <td>0.0</td>\n",
       "      <td>0.0</td>\n",
       "      <td>0.0</td>\n",
       "      <td>0.0</td>\n",
       "      <td>0.0</td>\n",
       "      <td>0.0</td>\n",
       "      <td>...</td>\n",
       "      <td>0.0</td>\n",
       "      <td>0.0</td>\n",
       "      <td>0.0</td>\n",
       "      <td>0.0</td>\n",
       "      <td>0.0</td>\n",
       "      <td>0.0</td>\n",
       "      <td>0.0</td>\n",
       "      <td>0.0</td>\n",
       "      <td>0.0</td>\n",
       "      <td>0.0</td>\n",
       "    </tr>\n",
       "    <tr>\n",
       "      <th>12</th>\n",
       "      <td>4022922.0</td>\n",
       "      <td>CUSTOMER SERVICE</td>\n",
       "      <td>JUNIOR SPECIALIST CS</td>\n",
       "      <td>6.0</td>\n",
       "      <td>0.0</td>\n",
       "      <td>0.0</td>\n",
       "      <td>0.0</td>\n",
       "      <td>0.0</td>\n",
       "      <td>0.0</td>\n",
       "      <td>0.0</td>\n",
       "      <td>...</td>\n",
       "      <td>0.0</td>\n",
       "      <td>0.0</td>\n",
       "      <td>0.0</td>\n",
       "      <td>0.0</td>\n",
       "      <td>0.0</td>\n",
       "      <td>0.0</td>\n",
       "      <td>0.0</td>\n",
       "      <td>0.0</td>\n",
       "      <td>0.0</td>\n",
       "      <td>0.0</td>\n",
       "    </tr>\n",
       "    <tr>\n",
       "      <th>13</th>\n",
       "      <td>4022923.0</td>\n",
       "      <td>CUSTOMER SERVICE</td>\n",
       "      <td>JUNIOR SPECIALIST CS</td>\n",
       "      <td>6.0</td>\n",
       "      <td>0.0</td>\n",
       "      <td>0.0</td>\n",
       "      <td>0.0</td>\n",
       "      <td>0.0</td>\n",
       "      <td>0.0</td>\n",
       "      <td>0.0</td>\n",
       "      <td>...</td>\n",
       "      <td>0.0</td>\n",
       "      <td>0.0</td>\n",
       "      <td>0.0</td>\n",
       "      <td>0.0</td>\n",
       "      <td>0.0</td>\n",
       "      <td>0.0</td>\n",
       "      <td>0.0</td>\n",
       "      <td>0.0</td>\n",
       "      <td>0.0</td>\n",
       "      <td>0.0</td>\n",
       "    </tr>\n",
       "    <tr>\n",
       "      <th>14</th>\n",
       "      <td>4022924.0</td>\n",
       "      <td>CUSTOMER SERVICE</td>\n",
       "      <td>JUNIOR SPECIALIST CS</td>\n",
       "      <td>6.0</td>\n",
       "      <td>0.0</td>\n",
       "      <td>0.0</td>\n",
       "      <td>0.0</td>\n",
       "      <td>0.0</td>\n",
       "      <td>0.0</td>\n",
       "      <td>0.0</td>\n",
       "      <td>...</td>\n",
       "      <td>0.0</td>\n",
       "      <td>0.0</td>\n",
       "      <td>0.0</td>\n",
       "      <td>0.0</td>\n",
       "      <td>0.0</td>\n",
       "      <td>0.0</td>\n",
       "      <td>0.0</td>\n",
       "      <td>0.0</td>\n",
       "      <td>0.0</td>\n",
       "      <td>0.0</td>\n",
       "    </tr>\n",
       "    <tr>\n",
       "      <th>15</th>\n",
       "      <td>4023318.0</td>\n",
       "      <td>CUSTOMER SERVICE</td>\n",
       "      <td>JUNIOR SPECIALIST CS</td>\n",
       "      <td>8.0</td>\n",
       "      <td>0.0</td>\n",
       "      <td>0.0</td>\n",
       "      <td>0.0</td>\n",
       "      <td>0.0</td>\n",
       "      <td>0.0</td>\n",
       "      <td>0.0</td>\n",
       "      <td>...</td>\n",
       "      <td>0.0</td>\n",
       "      <td>0.0</td>\n",
       "      <td>0.0</td>\n",
       "      <td>0.0</td>\n",
       "      <td>0.0</td>\n",
       "      <td>0.0</td>\n",
       "      <td>0.0</td>\n",
       "      <td>0.0</td>\n",
       "      <td>0.0</td>\n",
       "      <td>0.0</td>\n",
       "    </tr>\n",
       "    <tr>\n",
       "      <th>16</th>\n",
       "      <td>4023638.0</td>\n",
       "      <td>CUSTOMER SERVICE</td>\n",
       "      <td>JUNIOR SPECIALIST CS</td>\n",
       "      <td>14.0</td>\n",
       "      <td>0.0</td>\n",
       "      <td>0.0</td>\n",
       "      <td>0.0</td>\n",
       "      <td>0.0</td>\n",
       "      <td>0.0</td>\n",
       "      <td>0.0</td>\n",
       "      <td>...</td>\n",
       "      <td>0.0</td>\n",
       "      <td>0.0</td>\n",
       "      <td>0.0</td>\n",
       "      <td>0.0</td>\n",
       "      <td>0.0</td>\n",
       "      <td>0.0</td>\n",
       "      <td>0.0</td>\n",
       "      <td>0.0</td>\n",
       "      <td>0.0</td>\n",
       "      <td>0.0</td>\n",
       "    </tr>\n",
       "    <tr>\n",
       "      <th>17</th>\n",
       "      <td>4023639.0</td>\n",
       "      <td>CUSTOMER SERVICE</td>\n",
       "      <td>JUNIOR SPECIALIST CS</td>\n",
       "      <td>0.0</td>\n",
       "      <td>0.0</td>\n",
       "      <td>0.0</td>\n",
       "      <td>0.0</td>\n",
       "      <td>0.0</td>\n",
       "      <td>0.0</td>\n",
       "      <td>0.0</td>\n",
       "      <td>...</td>\n",
       "      <td>0.0</td>\n",
       "      <td>0.0</td>\n",
       "      <td>0.0</td>\n",
       "      <td>0.0</td>\n",
       "      <td>0.0</td>\n",
       "      <td>0.0</td>\n",
       "      <td>0.0</td>\n",
       "      <td>0.0</td>\n",
       "      <td>0.0</td>\n",
       "      <td>0.0</td>\n",
       "    </tr>\n",
       "    <tr>\n",
       "      <th>18</th>\n",
       "      <td>4023652.0</td>\n",
       "      <td>CUSTOMER SERVICE</td>\n",
       "      <td>JUNIOR SPECIALIST CS</td>\n",
       "      <td>14.0</td>\n",
       "      <td>0.0</td>\n",
       "      <td>0.0</td>\n",
       "      <td>0.0</td>\n",
       "      <td>0.0</td>\n",
       "      <td>0.0</td>\n",
       "      <td>0.0</td>\n",
       "      <td>...</td>\n",
       "      <td>0.0</td>\n",
       "      <td>0.0</td>\n",
       "      <td>0.0</td>\n",
       "      <td>0.0</td>\n",
       "      <td>0.0</td>\n",
       "      <td>0.0</td>\n",
       "      <td>0.0</td>\n",
       "      <td>0.0</td>\n",
       "      <td>0.0</td>\n",
       "      <td>0.0</td>\n",
       "    </tr>\n",
       "  </tbody>\n",
       "</table>\n",
       "<p>19 rows × 4503 columns</p>\n",
       "</div>"
      ],
      "text/plain": [
       "      user_id               job            department  cluster_label  \\\n",
       "0   4017417.0  CUSTOMER SERVICE  JUNIOR SPECIALIST CS           12.0   \n",
       "1   4020599.0  CUSTOMER SERVICE  JUNIOR SPECIALIST CS            7.0   \n",
       "2   4020961.0  CUSTOMER SERVICE  JUNIOR SPECIALIST CS            0.0   \n",
       "3   4021375.0  CUSTOMER SERVICE  JUNIOR SPECIALIST CS           11.0   \n",
       "4   4021538.0  CUSTOMER SERVICE  JUNIOR SPECIALIST CS           18.0   \n",
       "5   4021540.0  CUSTOMER SERVICE  JUNIOR SPECIALIST CS            6.0   \n",
       "6   4021541.0  CUSTOMER SERVICE  JUNIOR SPECIALIST CS            6.0   \n",
       "7   4021746.0  CUSTOMER SERVICE  JUNIOR SPECIALIST CS           14.0   \n",
       "8   4021748.0  CUSTOMER SERVICE  JUNIOR SPECIALIST CS            0.0   \n",
       "9   4022458.0  CUSTOMER SERVICE  JUNIOR SPECIALIST CS           12.0   \n",
       "10  4022588.0  CUSTOMER SERVICE  JUNIOR SPECIALIST CS            4.0   \n",
       "11  4022911.0  CUSTOMER SERVICE  JUNIOR SPECIALIST CS            6.0   \n",
       "12  4022922.0  CUSTOMER SERVICE  JUNIOR SPECIALIST CS            6.0   \n",
       "13  4022923.0  CUSTOMER SERVICE  JUNIOR SPECIALIST CS            6.0   \n",
       "14  4022924.0  CUSTOMER SERVICE  JUNIOR SPECIALIST CS            6.0   \n",
       "15  4023318.0  CUSTOMER SERVICE  JUNIOR SPECIALIST CS            8.0   \n",
       "16  4023638.0  CUSTOMER SERVICE  JUNIOR SPECIALIST CS           14.0   \n",
       "17  4023639.0  CUSTOMER SERVICE  JUNIOR SPECIALIST CS            0.0   \n",
       "18  4023652.0  CUSTOMER SERVICE  JUNIOR SPECIALIST CS           14.0   \n",
       "\n",
       "    ASJAVAIDM:IDM_User  ASJAVAIDM:idm.user  DE2CLNT210:CO3050_DP:D_CO  \\\n",
       "0                  0.0                 0.0                        0.0   \n",
       "1                  0.0                 0.0                        0.0   \n",
       "2                  0.0                 0.0                        0.0   \n",
       "3                  0.0                 0.0                        0.0   \n",
       "4                  0.0                 0.0                        0.0   \n",
       "5                  0.0                 0.0                        0.0   \n",
       "6                  0.0                 0.0                        0.0   \n",
       "7                  0.0                 0.0                        0.0   \n",
       "8                  0.0                 0.0                        0.0   \n",
       "9                  0.0                 0.0                        0.0   \n",
       "10                 0.0                 0.0                        0.0   \n",
       "11                 0.0                 0.0                        0.0   \n",
       "12                 0.0                 0.0                        0.0   \n",
       "13                 0.0                 0.0                        0.0   \n",
       "14                 0.0                 0.0                        0.0   \n",
       "15                 0.0                 0.0                        0.0   \n",
       "16                 0.0                 0.0                        0.0   \n",
       "17                 0.0                 0.0                        0.0   \n",
       "18                 0.0                 0.0                        0.0   \n",
       "\n",
       "    DE2CLNT210:CO3050_DP:D_CO_DEFAULT  DE2CLNT210:CO3050_DP:D_PRODUCT_COST  \\\n",
       "0                                 0.0                                  0.0   \n",
       "1                                 0.0                                  0.0   \n",
       "2                                 0.0                                  0.0   \n",
       "3                                 0.0                                  0.0   \n",
       "4                                 0.0                                  0.0   \n",
       "5                                 0.0                                  0.0   \n",
       "6                                 0.0                                  0.0   \n",
       "7                                 0.0                                  0.0   \n",
       "8                                 0.0                                  0.0   \n",
       "9                                 0.0                                  0.0   \n",
       "10                                0.0                                  0.0   \n",
       "11                                0.0                                  0.0   \n",
       "12                                0.0                                  0.0   \n",
       "13                                0.0                                  0.0   \n",
       "14                                0.0                                  0.0   \n",
       "15                                0.0                                  0.0   \n",
       "16                                0.0                                  0.0   \n",
       "17                                0.0                                  0.0   \n",
       "18                                0.0                                  0.0   \n",
       "\n",
       "    DE2CLNT210:CO3160_DP:D_CO  ...  QG2CLNT110:GTS3220_DP:M_FI  \\\n",
       "0                         0.0  ...                         0.0   \n",
       "1                         0.0  ...                         0.0   \n",
       "2                         0.0  ...                         0.0   \n",
       "3                         0.0  ...                         0.0   \n",
       "4                         0.0  ...                         0.0   \n",
       "5                         0.0  ...                         0.0   \n",
       "6                         0.0  ...                         0.0   \n",
       "7                         0.0  ...                         0.0   \n",
       "8                         0.0  ...                         0.0   \n",
       "9                         0.0  ...                         0.0   \n",
       "10                        0.0  ...                         0.0   \n",
       "11                        0.0  ...                         0.0   \n",
       "12                        0.0  ...                         0.0   \n",
       "13                        0.0  ...                         0.0   \n",
       "14                        0.0  ...                         0.0   \n",
       "15                        0.0  ...                         0.0   \n",
       "16                        0.0  ...                         0.0   \n",
       "17                        0.0  ...                         0.0   \n",
       "18                        0.0  ...                         0.0   \n",
       "\n",
       "    QG2CLNT110:GTS3220_DP:M_WORKLIST  QG2CLNT110:XX0000_SP:D_EVERYONE  \\\n",
       "0                                0.0                              0.0   \n",
       "1                                0.0                              0.0   \n",
       "2                                0.0                              0.0   \n",
       "3                                0.0                              0.0   \n",
       "4                                0.0                              0.0   \n",
       "5                                0.0                              0.0   \n",
       "6                                0.0                              0.0   \n",
       "7                                0.0                              0.0   \n",
       "8                                0.0                              0.0   \n",
       "9                                0.0                              0.0   \n",
       "10                               0.0                              0.0   \n",
       "11                               0.0                              0.0   \n",
       "12                               0.0                              0.0   \n",
       "13                               0.0                              0.0   \n",
       "14                               0.0                              0.0   \n",
       "15                               0.0                              0.0   \n",
       "16                               0.0                              0.0   \n",
       "17                               0.0                              0.0   \n",
       "18                               0.0                              0.0   \n",
       "\n",
       "    QGWCLNT110:XX0000_SP:D_EVERYONE  QGWCLNT110:XX0000_SP:D_EVERYONE_FIORI  \\\n",
       "0                               0.0                                    0.0   \n",
       "1                               0.0                                    0.0   \n",
       "2                               0.0                                    0.0   \n",
       "3                               0.0                                    0.0   \n",
       "4                               0.0                                    0.0   \n",
       "5                               0.0                                    0.0   \n",
       "6                               0.0                                    0.0   \n",
       "7                               0.0                                    0.0   \n",
       "8                               0.0                                    0.0   \n",
       "9                               0.0                                    0.0   \n",
       "10                              0.0                                    0.0   \n",
       "11                              0.0                                    0.0   \n",
       "12                              0.0                                    0.0   \n",
       "13                              0.0                                    0.0   \n",
       "14                              0.0                                    0.0   \n",
       "15                              0.0                                    0.0   \n",
       "16                              0.0                                    0.0   \n",
       "17                              0.0                                    0.0   \n",
       "18                              0.0                                    0.0   \n",
       "\n",
       "    QGWCLNT110:XX0000_SP:M_FIORI_CO  QGWCLNT110:XX0000_SP:M_FIORI_CS  \\\n",
       "0                               0.0                              0.0   \n",
       "1                               0.0                              0.0   \n",
       "2                               0.0                              0.0   \n",
       "3                               0.0                              0.0   \n",
       "4                               0.0                              0.0   \n",
       "5                               0.0                              0.0   \n",
       "6                               0.0                              0.0   \n",
       "7                               0.0                              0.0   \n",
       "8                               0.0                              0.0   \n",
       "9                               0.0                              0.0   \n",
       "10                              0.0                              0.0   \n",
       "11                              0.0                              0.0   \n",
       "12                              0.0                              0.0   \n",
       "13                              0.0                              0.0   \n",
       "14                              0.0                              0.0   \n",
       "15                              0.0                              0.0   \n",
       "16                              0.0                              0.0   \n",
       "17                              0.0                              0.0   \n",
       "18                              0.0                              0.0   \n",
       "\n",
       "    QGWCLNT110:XX0000_SP:M_FIORI_TRV  QGWCLNT110:XX0000_SP:M_FIORI_TRV_APP  \\\n",
       "0                                0.0                                   0.0   \n",
       "1                                0.0                                   0.0   \n",
       "2                                0.0                                   0.0   \n",
       "3                                0.0                                   0.0   \n",
       "4                                0.0                                   0.0   \n",
       "5                                0.0                                   0.0   \n",
       "6                                0.0                                   0.0   \n",
       "7                                0.0                                   0.0   \n",
       "8                                0.0                                   0.0   \n",
       "9                                0.0                                   0.0   \n",
       "10                               0.0                                   0.0   \n",
       "11                               0.0                                   0.0   \n",
       "12                               0.0                                   0.0   \n",
       "13                               0.0                                   0.0   \n",
       "14                               0.0                                   0.0   \n",
       "15                               0.0                                   0.0   \n",
       "16                               0.0                                   0.0   \n",
       "17                               0.0                                   0.0   \n",
       "18                               0.0                                   0.0   \n",
       "\n",
       "    SE6CLNT110:ZSAP_ALL_ERP  \n",
       "0                       0.0  \n",
       "1                       0.0  \n",
       "2                       0.0  \n",
       "3                       0.0  \n",
       "4                       0.0  \n",
       "5                       0.0  \n",
       "6                       0.0  \n",
       "7                       0.0  \n",
       "8                       0.0  \n",
       "9                       0.0  \n",
       "10                      0.0  \n",
       "11                      0.0  \n",
       "12                      0.0  \n",
       "13                      0.0  \n",
       "14                      0.0  \n",
       "15                      0.0  \n",
       "16                      0.0  \n",
       "17                      0.0  \n",
       "18                      0.0  \n",
       "\n",
       "[19 rows x 4503 columns]"
      ]
     },
     "execution_count": 79,
     "metadata": {},
     "output_type": "execute_result"
    }
   ],
   "source": [
    "result_data"
   ]
  },
  {
   "cell_type": "code",
   "execution_count": 80,
   "metadata": {
    "colab": {
     "base_uri": "https://localhost:8080/"
    },
    "executionInfo": {
     "elapsed": 13,
     "status": "ok",
     "timestamp": 1649810160767,
     "user": {
      "displayName": "Petar Damianov",
      "userId": "11400996130549296363"
     },
     "user_tz": -180
    },
    "id": "ApquXxbiSBnw",
    "outputId": "c8310d87-af08-41ba-e94e-38b922bb0481"
   },
   "outputs": [
    {
     "data": {
      "text/plain": [
       "6.0     6\n",
       "14.0    3\n",
       "0.0     3\n",
       "12.0    2\n",
       "8.0     1\n",
       "4.0     1\n",
       "18.0    1\n",
       "11.0    1\n",
       "7.0     1\n",
       "Name: cluster_label, dtype: int64"
      ]
     },
     "execution_count": 80,
     "metadata": {},
     "output_type": "execute_result"
    }
   ],
   "source": [
    "result_data.cluster_label.value_counts()"
   ]
  },
  {
   "cell_type": "markdown",
   "metadata": {
    "id": "X1R5Jw-RFpVd"
   },
   "source": [
    "#### Get  the best fitted cluster"
   ]
  },
  {
   "cell_type": "code",
   "execution_count": 81,
   "metadata": {
    "executionInfo": {
     "elapsed": 10,
     "status": "ok",
     "timestamp": 1649810160768,
     "user": {
      "displayName": "Petar Damianov",
      "userId": "11400996130549296363"
     },
     "user_tz": -180
    },
    "id": "cxB061_4Tp9I"
   },
   "outputs": [],
   "source": [
    "index = 1\n",
    "# if len(result_data.cluster_label.value_counts().index.tolist()) > 3:\n",
    "#   index = 2\n",
    "\n",
    "best_cluster_label = result_data.cluster_label.value_counts().index.tolist()[0: index]"
   ]
  },
  {
   "cell_type": "code",
   "execution_count": 82,
   "metadata": {
    "colab": {
     "base_uri": "https://localhost:8080/"
    },
    "executionInfo": {
     "elapsed": 9,
     "status": "ok",
     "timestamp": 1649810160768,
     "user": {
      "displayName": "Petar Damianov",
      "userId": "11400996130549296363"
     },
     "user_tz": -180
    },
    "id": "0ypBZeDUUPAb",
    "outputId": "df62de0c-a9ad-4549-f520-3c05c2c5035f"
   },
   "outputs": [
    {
     "data": {
      "text/plain": [
       "[6.0]"
      ]
     },
     "execution_count": 82,
     "metadata": {},
     "output_type": "execute_result"
    }
   ],
   "source": [
    "best_cluster_label"
   ]
  },
  {
   "cell_type": "code",
   "execution_count": 83,
   "metadata": {
    "executionInfo": {
     "elapsed": 1031,
     "status": "ok",
     "timestamp": 1649810161794,
     "user": {
      "displayName": "Petar Damianov",
      "userId": "11400996130549296363"
     },
     "user_tz": -180
    },
    "id": "4Pye4MppURMW"
   },
   "outputs": [],
   "source": [
    "privileges_counts = {}\n",
    "users_count = 0\n",
    "for c in best_cluster_label:\n",
    "  current_cluster_label_data = result_data[result_data['cluster_label'] == c]\n",
    "  current_cluster_label_data.reset_index(drop=True, inplace=True)\n",
    "  users_count += current_cluster_label_data.shape[0]\n",
    "  if 'index' in current_cluster_label_data.columns:\n",
    "    current_cluster_label_data = current_cluster_label_data.drop('index', axis=1)\n",
    "  for pr in current_cluster_label_data.columns[4:]:\n",
    "    if 1 in current_cluster_label_data[pr].value_counts().index.tolist():\n",
    "      if pr not in privileges_counts.keys():\n",
    "        privileges_counts[pr] = 0  \n",
    "      privileges_counts[pr] += current_cluster_label_data[pr].value_counts()[1]"
   ]
  },
  {
   "cell_type": "code",
   "execution_count": 84,
   "metadata": {
    "colab": {
     "base_uri": "https://localhost:8080/"
    },
    "executionInfo": {
     "elapsed": 5,
     "status": "ok",
     "timestamp": 1649810161794,
     "user": {
      "displayName": "Petar Damianov",
      "userId": "11400996130549296363"
     },
     "user_tz": -180
    },
    "id": "ZL_lHJmcVYHF",
    "outputId": "fe5052d9-8bc8-4c8a-8343-d074b73f0b7f"
   },
   "outputs": [
    {
     "data": {
      "text/plain": [
       "6"
      ]
     },
     "execution_count": 84,
     "metadata": {},
     "output_type": "execute_result"
    }
   ],
   "source": [
    "users_count"
   ]
  },
  {
   "cell_type": "code",
   "execution_count": 85,
   "metadata": {
    "colab": {
     "base_uri": "https://localhost:8080/"
    },
    "executionInfo": {
     "elapsed": 356,
     "status": "ok",
     "timestamp": 1649810162148,
     "user": {
      "displayName": "Petar Damianov",
      "userId": "11400996130549296363"
     },
     "user_tz": -180
    },
    "id": "7XRbTm7l8raH",
    "outputId": "615804b3-89f7-49ce-b075-2f64caaa8c44"
   },
   "outputs": [
    {
     "data": {
      "text/plain": [
       "[('QE2CLNT110:XX0000_SP:D_EVERYONE', 5),\n",
       " ('QE2CLNT110:MM6900_DP:D_PO_MESSAGES', 3),\n",
       " ('P11CLNT110:XX0025_DP:D_COMPANY', 2),\n",
       " ('PE1CLNT110:CO6900_DP:D_CO_DEFAULT', 2),\n",
       " ('PE1CLNT110:CS6900_DP:D_CS_STATISTIC', 2),\n",
       " ('PE1CLNT110:PP6900_DP:D_PP_DEFAULT', 2),\n",
       " ('PO1CLNT110:SM0000_SP:D_EVERYONE_PO1', 2),\n",
       " ('P11CLNT110:SD0025_DP:D_SALES_STATISTIC', 1),\n",
       " ('PE1CLNT110:CO3140_DP:D_CO', 1),\n",
       " ('PE1CLNT110:CO3140_DP:D_CO_DEFAULT', 1),\n",
       " ('PE1CLNT110:CS3280_DP:D_CS_DEFAULT', 1),\n",
       " ('PE1CLNT110:CS5400_DP:D_CS_DEFAULT', 1),\n",
       " ('PE1CLNT110:CS5400_DP:D_CS_STATISTIC', 1),\n",
       " ('PE1CLNT110:LO3270_DP:D_LO', 1),\n",
       " ('PE1CLNT110:LO5400_DP:D_LO', 1),\n",
       " ('PE1CLNT110:LO5400_DP:D_LO_DEFAULT', 1),\n",
       " ('PE1CLNT110:LO6900_DP:D_LO_DEFAULT', 1),\n",
       " ('PE1CLNT110:MM3140_DP:D_MM_DEFAULT', 1),\n",
       " ('PE1CLNT110:MM3270_DP:D_MM_DEFAULT', 1),\n",
       " ('PE1CLNT110:MM3270_DP:D_PURCHASING', 1),\n",
       " ('PE1CLNT110:MM3280_DP:D_STOCKS', 1),\n",
       " ('PE1CLNT110:MM5400_DP:D_PO_MESSAGES', 1),\n",
       " ('PE1CLNT110:MM5400_DP:D_PURCHASING', 1),\n",
       " ('PE1CLNT110:MM6900_DP:D_MATMAS_B+G', 1),\n",
       " ('PE1CLNT110:PP6900_DP:M_PLANNING', 1),\n",
       " ('PE1CLNT110:PS3140_DP:D_PROJECT_MANAGER', 1),\n",
       " ('PE1CLNT110:QM6900_DP:D_QM', 1),\n",
       " ('PE1CLNT110:SD3140_DP:M_INVOICE_CANCEL', 1),\n",
       " ('PE1CLNT110:SD3270_DP:D_SD_DEFAULT', 1),\n",
       " ('PE1CLNT110:SD5400_DP:D_SALES', 1),\n",
       " ('PE1CLNT110:SD6900_DP:D_SALES', 1),\n",
       " ('PE1CLNT110:SD6900_DP:D_SD_DEFAULT', 1),\n",
       " ('PE1CLNT110:SD6900_DP:M_SD', 1),\n",
       " ('PE1CLNT110:SD6900_DP:M_SD_ORDER', 1),\n",
       " ('PE1CLNT110:XX3140_DP:D_IDOC', 1),\n",
       " ('PE1CLNT110:XX3140_DP:M_CATS', 1),\n",
       " ('PE1CLNT110:XX3270_DP:M_CATS', 1),\n",
       " ('PE1CLNT110:XX6900_DP:D_IDOC', 1),\n",
       " ('PGWCLNT110:XX0000_SP:D_EVERYONE_FIORI', 1),\n",
       " ('PO1CLNT110:SM6900_DP:M_BUSINESS', 1),\n",
       " ('QE2CLNT110:CS3270_DP:D_CS_DEFAULT', 1),\n",
       " ('QE2CLNT110:CS3280_DP:M_MAINTENANCE_PLAN', 1),\n",
       " ('QE2CLNT110:FI3280_DP:D_FI_DEFAULT', 1),\n",
       " ('QE2CLNT110:FI6900_DP:D_FI_DEFAULT', 1),\n",
       " ('QE2CLNT110:LO3270_DP:D_LO_DEFAULT', 1),\n",
       " ('QE2CLNT110:MM3270_DP:D_PURCHASING', 1),\n",
       " ('QE2CLNT110:MM3280_DP:D_MM_DEFAULT', 1),\n",
       " ('QE2CLNT110:MM5400_DP:D_PURCHASING', 1),\n",
       " ('QE2CLNT110:MM6900_DP:D_INFOSYS', 1),\n",
       " ('QE2CLNT110:MM6900_DP:D_STOCKS', 1),\n",
       " ('QE2CLNT110:MM6900_DP:M_REQUISITION', 1),\n",
       " ('QE2CLNT110:PP3280_DP:D_PP_DEFAULT', 1),\n",
       " ('QE2CLNT110:PP5400_DP:D_PP_DEFAULT', 1),\n",
       " ('QE2CLNT110:PP6900_DP:D_PP', 1),\n",
       " ('QE2CLNT110:PS6900_DP:D_PROJECT_MANAGER', 1),\n",
       " ('QE2CLNT110:QM5400_DP:D_QM', 1),\n",
       " ('QE2CLNT110:QM6900_DP:D_QM', 1),\n",
       " ('QE2CLNT110:SD3280_DP:M_SD_ORDER', 1),\n",
       " ('QE2CLNT110:SD6900_DP:D_SALES', 1),\n",
       " ('QE2CLNT110:SD6900_DP:D_SD_DEFAULT', 1),\n",
       " ('QE2CLNT110:SD6900_DP:M_INVOICE', 1),\n",
       " ('QE2CLNT110:SD6900_DP:M_SD', 1),\n",
       " ('QE2CLNT110:SD6900_DP:M_SD_ORDER', 1),\n",
       " ('QE2CLNT110:XX3280_DP:D_IDOC', 1),\n",
       " ('QE2CLNT110:XX5400_DP:D_IDOC', 1),\n",
       " ('QE2CLNT110:XX6900_DP:D_IDOC', 1)]"
      ]
     },
     "execution_count": 85,
     "metadata": {},
     "output_type": "execute_result"
    }
   ],
   "source": [
    "#privileges_counts = dict(sorted(privileges_counts.items(),key= lambda x:x[1]))\n",
    "sorted_privileges_counts = sorted(privileges_counts.items(), key=lambda x: x[1], reverse=True)\n",
    "sorted_privileges_counts"
   ]
  },
  {
   "cell_type": "code",
   "execution_count": 86,
   "metadata": {
    "executionInfo": {
     "elapsed": 20,
     "status": "ok",
     "timestamp": 1649810162148,
     "user": {
      "displayName": "Petar Damianov",
      "userId": "11400996130549296363"
     },
     "user_tz": -180
    },
    "id": "V8p5Yaxe7aga"
   },
   "outputs": [],
   "source": [
    "filtered_privileges_counts = list(filter(lambda x: x[1] > users_count*0.4, sorted_privileges_counts))"
   ]
  },
  {
   "cell_type": "markdown",
   "metadata": {
    "id": "IxtoM9crFy8n"
   },
   "source": [
    "#### Filter the most relevant privileges from that cluster"
   ]
  },
  {
   "cell_type": "code",
   "execution_count": 87,
   "metadata": {
    "colab": {
     "base_uri": "https://localhost:8080/"
    },
    "executionInfo": {
     "elapsed": 21,
     "status": "ok",
     "timestamp": 1649810162149,
     "user": {
      "displayName": "Petar Damianov",
      "userId": "11400996130549296363"
     },
     "user_tz": -180
    },
    "id": "Vrd0maZRCBNG",
    "outputId": "22dc176f-b802-420c-c317-c45b6ecfa180"
   },
   "outputs": [
    {
     "data": {
      "text/plain": [
       "[('QE2CLNT110:XX0000_SP:D_EVERYONE', 5),\n",
       " ('QE2CLNT110:MM6900_DP:D_PO_MESSAGES', 3)]"
      ]
     },
     "execution_count": 87,
     "metadata": {},
     "output_type": "execute_result"
    }
   ],
   "source": [
    "filtered_privileges_counts"
   ]
  },
  {
   "cell_type": "code",
   "execution_count": 88,
   "metadata": {
    "executionInfo": {
     "elapsed": 16,
     "status": "ok",
     "timestamp": 1649810162149,
     "user": {
      "displayName": "Petar Damianov",
      "userId": "11400996130549296363"
     },
     "user_tz": -180
    },
    "id": "Ig7G1jDfEn91"
   },
   "outputs": [],
   "source": [
    "suggested_privileges = [v[0] for v in filtered_privileges_counts]"
   ]
  },
  {
   "cell_type": "code",
   "execution_count": 89,
   "metadata": {
    "colab": {
     "base_uri": "https://localhost:8080/"
    },
    "executionInfo": {
     "elapsed": 16,
     "status": "ok",
     "timestamp": 1649810162150,
     "user": {
      "displayName": "Petar Damianov",
      "userId": "11400996130549296363"
     },
     "user_tz": -180
    },
    "id": "vleEgyRVE1fj",
    "outputId": "398c2d15-de5d-43f3-cc2f-1e6f7a6e01de"
   },
   "outputs": [
    {
     "data": {
      "text/plain": [
       "['QE2CLNT110:XX0000_SP:D_EVERYONE', 'QE2CLNT110:MM6900_DP:D_PO_MESSAGES']"
      ]
     },
     "execution_count": 89,
     "metadata": {},
     "output_type": "execute_result"
    }
   ],
   "source": [
    "suggested_privileges"
   ]
  },
  {
   "cell_type": "markdown",
   "metadata": {
    "id": "YbzgOcKJBe9J"
   },
   "source": [
    "### Applying PCA to the model data"
   ]
  },
  {
   "cell_type": "markdown",
   "metadata": {
    "id": "C-207y9XiBVM"
   },
   "source": [
    "To reduce dimentionality of the dataset we are going to use PCA from sckitlearn"
   ]
  },
  {
   "cell_type": "code",
   "execution_count": 90,
   "metadata": {
    "executionInfo": {
     "elapsed": 12,
     "status": "ok",
     "timestamp": 1649810162150,
     "user": {
      "displayName": "Petar Damianov",
      "userId": "11400996130549296363"
     },
     "user_tz": -180
    },
    "id": "UAhCMmlRh-it"
   },
   "outputs": [],
   "source": [
    "#pca = PCA()"
   ]
  },
  {
   "cell_type": "code",
   "execution_count": 91,
   "metadata": {
    "executionInfo": {
     "elapsed": 12,
     "status": "ok",
     "timestamp": 1649810162150,
     "user": {
      "displayName": "Petar Damianov",
      "userId": "11400996130549296363"
     },
     "user_tz": -180
    },
    "id": "hatZnWash-2j"
   },
   "outputs": [],
   "source": [
    "#new_transformed_privs = pca.fit_transform(user_privs_data.drop('user_id', axis=1))"
   ]
  },
  {
   "cell_type": "code",
   "execution_count": 92,
   "metadata": {
    "executionInfo": {
     "elapsed": 12,
     "status": "ok",
     "timestamp": 1649810162151,
     "user": {
      "displayName": "Petar Damianov",
      "userId": "11400996130549296363"
     },
     "user_tz": -180
    },
    "id": "sPOltgJzh-5C"
   },
   "outputs": [],
   "source": [
    "#new_transformed_privs.shape"
   ]
  },
  {
   "cell_type": "code",
   "execution_count": 93,
   "metadata": {
    "executionInfo": {
     "elapsed": 12,
     "status": "ok",
     "timestamp": 1649810162151,
     "user": {
      "displayName": "Petar Damianov",
      "userId": "11400996130549296363"
     },
     "user_tz": -180
    },
    "id": "vltAiHydh-8G"
   },
   "outputs": [],
   "source": [
    "#transformed_user_privs_data = pd.DataFrame(new_transformed_privs, columns=user_privs_data.drop('user_id', axis=1).columns)"
   ]
  },
  {
   "cell_type": "code",
   "execution_count": 94,
   "metadata": {
    "executionInfo": {
     "elapsed": 11,
     "status": "ok",
     "timestamp": 1649810162152,
     "user": {
      "displayName": "Petar Damianov",
      "userId": "11400996130549296363"
     },
     "user_tz": -180
    },
    "id": "QaufCgg3kF7Q"
   },
   "outputs": [],
   "source": [
    "#transformed_user_privs_data"
   ]
  },
  {
   "cell_type": "code",
   "execution_count": 95,
   "metadata": {
    "executionInfo": {
     "elapsed": 10,
     "status": "ok",
     "timestamp": 1649810162152,
     "user": {
      "displayName": "Petar Damianov",
      "userId": "11400996130549296363"
     },
     "user_tz": -180
    },
    "id": "8QZhkdlmmGOO"
   },
   "outputs": [],
   "source": [
    "#pca.explained_variance_ratio_.shape"
   ]
  },
  {
   "cell_type": "code",
   "execution_count": 96,
   "metadata": {
    "executionInfo": {
     "elapsed": 10,
     "status": "ok",
     "timestamp": 1649810162152,
     "user": {
      "displayName": "Petar Damianov",
      "userId": "11400996130549296363"
     },
     "user_tz": -180
    },
    "id": "OReQu0b2mMVq"
   },
   "outputs": [],
   "source": [
    "#user_privs_data.drop('user_id', axis=1).columns.shape"
   ]
  },
  {
   "cell_type": "code",
   "execution_count": 97,
   "metadata": {
    "executionInfo": {
     "elapsed": 8,
     "status": "ok",
     "timestamp": 1649810162486,
     "user": {
      "displayName": "Petar Damianov",
      "userId": "11400996130549296363"
     },
     "user_tz": -180
    },
    "id": "_PPF0GMolQ41"
   },
   "outputs": [],
   "source": [
    "#variance_explained = pd.DataFrame([pca.explained_variance_ratio_], columns=user_privs_data.drop('user_id', axis=1).columns)"
   ]
  },
  {
   "cell_type": "code",
   "execution_count": 98,
   "metadata": {
    "executionInfo": {
     "elapsed": 8,
     "status": "ok",
     "timestamp": 1649810162487,
     "user": {
      "displayName": "Petar Damianov",
      "userId": "11400996130549296363"
     },
     "user_tz": -180
    },
    "id": "Gx3CVjdfmqam"
   },
   "outputs": [],
   "source": [
    "#variance_explained"
   ]
  },
  {
   "cell_type": "code",
   "execution_count": 99,
   "metadata": {
    "executionInfo": {
     "elapsed": 8,
     "status": "ok",
     "timestamp": 1649810162487,
     "user": {
      "displayName": "Petar Damianov",
      "userId": "11400996130549296363"
     },
     "user_tz": -180
    },
    "id": "rueF6fD2gUXf"
   },
   "outputs": [],
   "source": [
    "#fit_pca_data = agg_clustering.fit(transformed_user_privs_data)"
   ]
  },
  {
   "cell_type": "code",
   "execution_count": 100,
   "metadata": {
    "executionInfo": {
     "elapsed": 8,
     "status": "ok",
     "timestamp": 1649810162488,
     "user": {
      "displayName": "Petar Damianov",
      "userId": "11400996130549296363"
     },
     "user_tz": -180
    },
    "id": "UdcxXO4FgUas"
   },
   "outputs": [],
   "source": [
    "#fit_pca_data.n_clusters_"
   ]
  },
  {
   "cell_type": "code",
   "execution_count": 101,
   "metadata": {
    "executionInfo": {
     "elapsed": 8,
     "status": "ok",
     "timestamp": 1649810162488,
     "user": {
      "displayName": "Petar Damianov",
      "userId": "11400996130549296363"
     },
     "user_tz": -180
    },
    "id": "IVQx-HL6gUdo"
   },
   "outputs": [],
   "source": [
    "#result = pd.DataFrame(fit_pca_data.labels_, columns=['id'])"
   ]
  },
  {
   "cell_type": "code",
   "execution_count": 102,
   "metadata": {
    "executionInfo": {
     "elapsed": 8,
     "status": "ok",
     "timestamp": 1649810162489,
     "user": {
      "displayName": "Petar Damianov",
      "userId": "11400996130549296363"
     },
     "user_tz": -180
    },
    "id": "oqZ2q9_F2NSD"
   },
   "outputs": [],
   "source": [
    "#result"
   ]
  },
  {
   "cell_type": "code",
   "execution_count": 103,
   "metadata": {
    "executionInfo": {
     "elapsed": 8,
     "status": "ok",
     "timestamp": 1649810162489,
     "user": {
      "displayName": "Petar Damianov",
      "userId": "11400996130549296363"
     },
     "user_tz": -180
    },
    "id": "kszTKFDN2NUy"
   },
   "outputs": [],
   "source": [
    "#result.id.value_counts()"
   ]
  },
  {
   "cell_type": "code",
   "execution_count": null,
   "metadata": {
    "executionInfo": {
     "elapsed": 9,
     "status": "ok",
     "timestamp": 1649810162490,
     "user": {
      "displayName": "Petar Damianov",
      "userId": "11400996130549296363"
     },
     "user_tz": -180
    },
    "id": "SveB08Pf2NXt"
   },
   "outputs": [],
   "source": []
  },
  {
   "cell_type": "code",
   "execution_count": null,
   "metadata": {
    "executionInfo": {
     "elapsed": 8,
     "status": "ok",
     "timestamp": 1649810162490,
     "user": {
      "displayName": "Petar Damianov",
      "userId": "11400996130549296363"
     },
     "user_tz": -180
    },
    "id": "wpoHUovs2NaW"
   },
   "outputs": [],
   "source": []
  }
 ],
 "metadata": {
  "colab": {
   "collapsed_sections": [],
   "name": "BClustering.ipynb",
   "provenance": [],
   "toc_visible": true
  },
  "kernelspec": {
   "display_name": "Python 3",
   "language": "python",
   "name": "python3"
  },
  "language_info": {
   "codemirror_mode": {
    "name": "ipython",
    "version": 3
   },
   "file_extension": ".py",
   "mimetype": "text/x-python",
   "name": "python",
   "nbconvert_exporter": "python",
   "pygments_lexer": "ipython3",
   "version": "3.8.5"
  }
 },
 "nbformat": 4,
 "nbformat_minor": 1
}
