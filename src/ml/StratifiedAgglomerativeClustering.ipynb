{
 "cells": [
  {
   "cell_type": "markdown",
   "metadata": {
    "id": "FHvfGUxAYIfk"
   },
   "source": [
    "# System for access segmentation"
   ]
  },
  {
   "cell_type": "markdown",
   "metadata": {
    "id": "5lBJ004WYIfr"
   },
   "source": [
    "##### imports"
   ]
  },
  {
   "cell_type": "code",
   "execution_count": 1,
   "metadata": {
    "executionInfo": {
     "elapsed": 3,
     "status": "ok",
     "timestamp": 1649810066073,
     "user": {
      "displayName": "Petar Damianov",
      "userId": "11400996130549296363"
     },
     "user_tz": -180
    },
    "id": "s131fPvJYIfs"
   },
   "outputs": [],
   "source": [
    "import numpy as np\n",
    "import pandas as pd\n",
    "import os\n",
    "from sklearn.preprocessing import StandardScaler\n",
    "from sklearn.decomposition import PCA\n",
    "from sklearn.model_selection import StratifiedShuffleSplit, train_test_split\n",
    "from sklearn.cluster import AgglomerativeClustering"
   ]
  },
  {
   "cell_type": "markdown",
   "metadata": {
    "id": "1VMd7f-IYIfu"
   },
   "source": [
    "#### Get data from results/data folder"
   ]
  },
  {
   "cell_type": "code",
   "execution_count": 2,
   "metadata": {
    "executionInfo": {
     "elapsed": 6,
     "status": "ok",
     "timestamp": 1649810066632,
     "user": {
      "displayName": "Petar Damianov",
      "userId": "11400996130549296363"
     },
     "user_tz": -180
    },
    "id": "KXfjUVOcYIfu"
   },
   "outputs": [],
   "source": [
    "data = pd.data = pd.read_excel(\"../server/public/data/User-624921c5e1c4d602ddd19695-1649816982449.xlsx\", skiprows=1)"
   ]
  },
  {
   "cell_type": "code",
   "execution_count": 3,
   "metadata": {
    "colab": {
     "base_uri": "https://localhost:8080/"
    },
    "executionInfo": {
     "elapsed": 1643,
     "status": "ok",
     "timestamp": 1649810068269,
     "user": {
      "displayName": "Petar Damianov",
      "userId": "11400996130549296363"
     },
     "user_tz": -180
    },
    "id": "G5FzI74rYYfO",
    "outputId": "e1b026f8-c826-40ca-af11-4b821e83fe89"
   },
   "outputs": [],
   "source": [
    "# from google.colab import drive\n",
    "# drive.mount('/content/drive')"
   ]
  },
  {
   "cell_type": "code",
   "execution_count": 4,
   "metadata": {
    "executionInfo": {
     "elapsed": 16143,
     "status": "ok",
     "timestamp": 1649810084409,
     "user": {
      "displayName": "Petar Damianov",
      "userId": "11400996130549296363"
     },
     "user_tz": -180
    },
    "id": "OFFY2pMrYlxl"
   },
   "outputs": [],
   "source": [
    "# data = pd.read_excel(\"/content/drive/MyDrive/User-624921c5e1c4d602ddd19695-1649206670127.xlsx\", skiprows=1)"
   ]
  },
  {
   "cell_type": "code",
   "execution_count": 5,
   "metadata": {
    "colab": {
     "base_uri": "https://localhost:8080/",
     "height": 641
    },
    "executionInfo": {
     "elapsed": 17,
     "status": "ok",
     "timestamp": 1649810084412,
     "user": {
      "displayName": "Petar Damianov",
      "userId": "11400996130549296363"
     },
     "user_tz": -180
    },
    "id": "yadvj-JMYIfv",
    "outputId": "50602946-278c-44f1-aeec-fa3f813c46fa"
   },
   "outputs": [
    {
     "data": {
      "text/html": [
       "<div>\n",
       "<style scoped>\n",
       "    .dataframe tbody tr th:only-of-type {\n",
       "        vertical-align: middle;\n",
       "    }\n",
       "\n",
       "    .dataframe tbody tr th {\n",
       "        vertical-align: top;\n",
       "    }\n",
       "\n",
       "    .dataframe thead th {\n",
       "        text-align: right;\n",
       "    }\n",
       "</style>\n",
       "<table border=\"1\" class=\"dataframe\">\n",
       "  <thead>\n",
       "    <tr style=\"text-align: right;\">\n",
       "      <th></th>\n",
       "      <th>0000081</th>\n",
       "      <th>SALES</th>\n",
       "      <th>REGIONAL ACCOUNT MANAGER</th>\n",
       "      <th>PRIV:ROLE:QE2CLNT110:CO3180_DP:D_CO_DEFAULT</th>\n",
       "    </tr>\n",
       "  </thead>\n",
       "  <tbody>\n",
       "    <tr>\n",
       "      <th>0</th>\n",
       "      <td>81</td>\n",
       "      <td>SALES</td>\n",
       "      <td>REGIONAL ACCOUNT MANAGER</td>\n",
       "      <td>PRIV:ROLE:QE2CLNT110:CS3180_DP:D_CS_DEFAULT</td>\n",
       "    </tr>\n",
       "    <tr>\n",
       "      <th>1</th>\n",
       "      <td>81</td>\n",
       "      <td>SALES</td>\n",
       "      <td>REGIONAL ACCOUNT MANAGER</td>\n",
       "      <td>PRIV:ROLE:QE2CLNT110:CS3180_DP:D_CS_STATISTIC</td>\n",
       "    </tr>\n",
       "    <tr>\n",
       "      <th>2</th>\n",
       "      <td>81</td>\n",
       "      <td>SALES</td>\n",
       "      <td>REGIONAL ACCOUNT MANAGER</td>\n",
       "      <td>PRIV:ROLE:QE2CLNT110:FI3180_DP:D_FI_DEFAULT</td>\n",
       "    </tr>\n",
       "    <tr>\n",
       "      <th>3</th>\n",
       "      <td>81</td>\n",
       "      <td>SALES</td>\n",
       "      <td>REGIONAL ACCOUNT MANAGER</td>\n",
       "      <td>PRIV:ROLE:QE2CLNT110:LO3180_DP:D_LO</td>\n",
       "    </tr>\n",
       "    <tr>\n",
       "      <th>4</th>\n",
       "      <td>81</td>\n",
       "      <td>SALES</td>\n",
       "      <td>REGIONAL ACCOUNT MANAGER</td>\n",
       "      <td>PRIV:ROLE:QE2CLNT110:LO3180_DP:D_LO_DEFAULT</td>\n",
       "    </tr>\n",
       "    <tr>\n",
       "      <th>...</th>\n",
       "      <td>...</td>\n",
       "      <td>...</td>\n",
       "      <td>...</td>\n",
       "      <td>...</td>\n",
       "    </tr>\n",
       "    <tr>\n",
       "      <th>221273</th>\n",
       "      <td>4023652</td>\n",
       "      <td>CUSTOMER SERVICE</td>\n",
       "      <td>JUNIOR SPECIALIST CS</td>\n",
       "      <td>PRIV:ROLE:PE1CLNT110:SD5400_DP:M_SD_ORDER</td>\n",
       "    </tr>\n",
       "    <tr>\n",
       "      <th>221274</th>\n",
       "      <td>4023652</td>\n",
       "      <td>CUSTOMER SERVICE</td>\n",
       "      <td>JUNIOR SPECIALIST CS</td>\n",
       "      <td>PRIV:ROLE:PE1CLNT110:SD6900_DP:M_INVOICE</td>\n",
       "    </tr>\n",
       "    <tr>\n",
       "      <th>221275</th>\n",
       "      <td>4023652</td>\n",
       "      <td>CUSTOMER SERVICE</td>\n",
       "      <td>JUNIOR SPECIALIST CS</td>\n",
       "      <td>PRIV:ROLE:PE1CLNT110:SD6900_DP:M_MD_OUTPUT_CON...</td>\n",
       "    </tr>\n",
       "    <tr>\n",
       "      <th>221276</th>\n",
       "      <td>4023652</td>\n",
       "      <td>CUSTOMER SERVICE</td>\n",
       "      <td>JUNIOR SPECIALIST CS</td>\n",
       "      <td>PRIV:ROLE:PE1CLNT110:SD6900_DP:M_SD</td>\n",
       "    </tr>\n",
       "    <tr>\n",
       "      <th>221277</th>\n",
       "      <td>4023652</td>\n",
       "      <td>CUSTOMER SERVICE</td>\n",
       "      <td>JUNIOR SPECIALIST CS</td>\n",
       "      <td>PRIV:ROLE:PE1CLNT110:SD6900_DP:M_SD_ORDER</td>\n",
       "    </tr>\n",
       "  </tbody>\n",
       "</table>\n",
       "<p>221278 rows × 4 columns</p>\n",
       "</div>"
      ],
      "text/plain": [
       "        0000081             SALES  REGIONAL ACCOUNT MANAGER  \\\n",
       "0            81             SALES  REGIONAL ACCOUNT MANAGER   \n",
       "1            81             SALES  REGIONAL ACCOUNT MANAGER   \n",
       "2            81             SALES  REGIONAL ACCOUNT MANAGER   \n",
       "3            81             SALES  REGIONAL ACCOUNT MANAGER   \n",
       "4            81             SALES  REGIONAL ACCOUNT MANAGER   \n",
       "...         ...               ...                       ...   \n",
       "221273  4023652  CUSTOMER SERVICE      JUNIOR SPECIALIST CS   \n",
       "221274  4023652  CUSTOMER SERVICE      JUNIOR SPECIALIST CS   \n",
       "221275  4023652  CUSTOMER SERVICE      JUNIOR SPECIALIST CS   \n",
       "221276  4023652  CUSTOMER SERVICE      JUNIOR SPECIALIST CS   \n",
       "221277  4023652  CUSTOMER SERVICE      JUNIOR SPECIALIST CS   \n",
       "\n",
       "              PRIV:ROLE:QE2CLNT110:CO3180_DP:D_CO_DEFAULT  \n",
       "0             PRIV:ROLE:QE2CLNT110:CS3180_DP:D_CS_DEFAULT  \n",
       "1           PRIV:ROLE:QE2CLNT110:CS3180_DP:D_CS_STATISTIC  \n",
       "2             PRIV:ROLE:QE2CLNT110:FI3180_DP:D_FI_DEFAULT  \n",
       "3                     PRIV:ROLE:QE2CLNT110:LO3180_DP:D_LO  \n",
       "4             PRIV:ROLE:QE2CLNT110:LO3180_DP:D_LO_DEFAULT  \n",
       "...                                                   ...  \n",
       "221273          PRIV:ROLE:PE1CLNT110:SD5400_DP:M_SD_ORDER  \n",
       "221274           PRIV:ROLE:PE1CLNT110:SD6900_DP:M_INVOICE  \n",
       "221275  PRIV:ROLE:PE1CLNT110:SD6900_DP:M_MD_OUTPUT_CON...  \n",
       "221276                PRIV:ROLE:PE1CLNT110:SD6900_DP:M_SD  \n",
       "221277          PRIV:ROLE:PE1CLNT110:SD6900_DP:M_SD_ORDER  \n",
       "\n",
       "[221278 rows x 4 columns]"
      ]
     },
     "execution_count": 5,
     "metadata": {},
     "output_type": "execute_result"
    }
   ],
   "source": [
    "data"
   ]
  },
  {
   "cell_type": "code",
   "execution_count": 6,
   "metadata": {
    "executionInfo": {
     "elapsed": 15,
     "status": "ok",
     "timestamp": 1649810084412,
     "user": {
      "displayName": "Petar Damianov",
      "userId": "11400996130549296363"
     },
     "user_tz": -180
    },
    "id": "JGLItQjaYIfw"
   },
   "outputs": [],
   "source": [
    "data.columns = [\"user_id\", \"job\", \"department\", \"privileges_data\"]"
   ]
  },
  {
   "cell_type": "code",
   "execution_count": 7,
   "metadata": {
    "executionInfo": {
     "elapsed": 16,
     "status": "ok",
     "timestamp": 1649810084413,
     "user": {
      "displayName": "Petar Damianov",
      "userId": "11400996130549296363"
     },
     "user_tz": -180
    },
    "id": "XO0oX3w3YIfx"
   },
   "outputs": [],
   "source": [
    "data = data.dropna()"
   ]
  },
  {
   "cell_type": "code",
   "execution_count": 8,
   "metadata": {
    "colab": {
     "base_uri": "https://localhost:8080/"
    },
    "executionInfo": {
     "elapsed": 15,
     "status": "ok",
     "timestamp": 1649810084413,
     "user": {
      "displayName": "Petar Damianov",
      "userId": "11400996130549296363"
     },
     "user_tz": -180
    },
    "id": "BooE_U9eubBT",
    "outputId": "d1e98982-f63b-4be1-9edf-1fb8090afa2a"
   },
   "outputs": [
    {
     "data": {
      "text/plain": [
       "PRIV:ROLE:PE1CLNT110:XX0000_SP:D_EVERYONE          2278\n",
       "PRIV:ROLE:PGWCLNT110:XX0000_SP:D_EVERYONE          2115\n",
       "PRIV:ROLE:PGWCLNT110:XX0000_SP:D_EVERYONE_FIORI    2115\n",
       "PRIV:ROLE:QE2CLNT110:XX0000_SP:D_EVERYONE          2110\n",
       "PRIV:ROLE:PO1CLNT110:SM0000_SP:D_EVERYONE_PO1      2049\n",
       "                                                   ... \n",
       "PRIV:ROLE:P11CLNT110:CO0980_DP:D_CO_REP_GIDE          1\n",
       "PRIV:ROLE:QE2CLNT110:FI4100_DP:M_TRAVEL_FI            1\n",
       "PRIV:ROLE:QE2CLNT110:FI3220_DP:M_POST_CUSTOMER        1\n",
       "PRIV:ROLE:QE2CLNT110:CS3240_DP:M_CS_ORDER             1\n",
       "PRIV:ROLE:QG2CLNT110:GTS1500_DP:M_LC                  1\n",
       "Name: privileges_data, Length: 8495, dtype: int64"
      ]
     },
     "execution_count": 8,
     "metadata": {},
     "output_type": "execute_result"
    }
   ],
   "source": [
    "class_to_counts = data.privileges_data.value_counts()\n",
    "class_to_counts"
   ]
  },
  {
   "cell_type": "code",
   "execution_count": 9,
   "metadata": {
    "colab": {
     "base_uri": "https://localhost:8080/"
    },
    "executionInfo": {
     "elapsed": 1109,
     "status": "ok",
     "timestamp": 1649810085513,
     "user": {
      "displayName": "Petar Damianov",
      "userId": "11400996130549296363"
     },
     "user_tz": -180
    },
    "id": "zscTDXNdu0nk",
    "outputId": "a1c15fff-0b08-44b3-c6ab-f52e43d05cee"
   },
   "outputs": [],
   "source": [
    "data['times_occured'] = data['privileges_data'].apply(lambda y: class_to_counts[y])"
   ]
  },
  {
   "cell_type": "code",
   "execution_count": 10,
   "metadata": {
    "colab": {
     "base_uri": "https://localhost:8080/"
    },
    "executionInfo": {
     "elapsed": 24,
     "status": "ok",
     "timestamp": 1649810085514,
     "user": {
      "displayName": "Petar Damianov",
      "userId": "11400996130549296363"
     },
     "user_tz": -180
    },
    "id": "xRby68GVvIvw",
    "outputId": "e325a35a-fc1b-464a-a6a1-a11c667c5f78"
   },
   "outputs": [],
   "source": [
    "data.times_occured = data.times_occured.astype(int)"
   ]
  },
  {
   "cell_type": "code",
   "execution_count": 11,
   "metadata": {
    "colab": {
     "base_uri": "https://localhost:8080/"
    },
    "executionInfo": {
     "elapsed": 18,
     "status": "ok",
     "timestamp": 1649810085514,
     "user": {
      "displayName": "Petar Damianov",
      "userId": "11400996130549296363"
     },
     "user_tz": -180
    },
    "id": "cQ1mtILQv1-t",
    "outputId": "0c161b14-c6ca-4ea3-e197-b433938791ce"
   },
   "outputs": [
    {
     "data": {
      "text/plain": [
       "user_id             int64\n",
       "job                object\n",
       "department         object\n",
       "privileges_data    object\n",
       "times_occured       int64\n",
       "dtype: object"
      ]
     },
     "execution_count": 11,
     "metadata": {},
     "output_type": "execute_result"
    }
   ],
   "source": [
    "data.dtypes"
   ]
  },
  {
   "cell_type": "code",
   "execution_count": 12,
   "metadata": {
    "colab": {
     "base_uri": "https://localhost:8080/",
     "height": 728
    },
    "executionInfo": {
     "elapsed": 15,
     "status": "ok",
     "timestamp": 1649810085515,
     "user": {
      "displayName": "Petar Damianov",
      "userId": "11400996130549296363"
     },
     "user_tz": -180
    },
    "id": "yHwdxhDqwGy7",
    "outputId": "1bc7d3ce-25ba-4b31-a735-6981ae02fb9d"
   },
   "outputs": [
    {
     "data": {
      "text/html": [
       "<div>\n",
       "<style scoped>\n",
       "    .dataframe tbody tr th:only-of-type {\n",
       "        vertical-align: middle;\n",
       "    }\n",
       "\n",
       "    .dataframe tbody tr th {\n",
       "        vertical-align: top;\n",
       "    }\n",
       "\n",
       "    .dataframe thead th {\n",
       "        text-align: right;\n",
       "    }\n",
       "</style>\n",
       "<table border=\"1\" class=\"dataframe\">\n",
       "  <thead>\n",
       "    <tr style=\"text-align: right;\">\n",
       "      <th></th>\n",
       "      <th>user_id</th>\n",
       "      <th>job</th>\n",
       "      <th>department</th>\n",
       "      <th>privileges_data</th>\n",
       "      <th>times_occured</th>\n",
       "    </tr>\n",
       "  </thead>\n",
       "  <tbody>\n",
       "    <tr>\n",
       "      <th>0</th>\n",
       "      <td>81</td>\n",
       "      <td>SALES</td>\n",
       "      <td>REGIONAL ACCOUNT MANAGER</td>\n",
       "      <td>PRIV:ROLE:QE2CLNT110:CS3180_DP:D_CS_DEFAULT</td>\n",
       "      <td>72</td>\n",
       "    </tr>\n",
       "    <tr>\n",
       "      <th>1</th>\n",
       "      <td>81</td>\n",
       "      <td>SALES</td>\n",
       "      <td>REGIONAL ACCOUNT MANAGER</td>\n",
       "      <td>PRIV:ROLE:QE2CLNT110:CS3180_DP:D_CS_STATISTIC</td>\n",
       "      <td>72</td>\n",
       "    </tr>\n",
       "    <tr>\n",
       "      <th>2</th>\n",
       "      <td>81</td>\n",
       "      <td>SALES</td>\n",
       "      <td>REGIONAL ACCOUNT MANAGER</td>\n",
       "      <td>PRIV:ROLE:QE2CLNT110:FI3180_DP:D_FI_DEFAULT</td>\n",
       "      <td>72</td>\n",
       "    </tr>\n",
       "    <tr>\n",
       "      <th>3</th>\n",
       "      <td>81</td>\n",
       "      <td>SALES</td>\n",
       "      <td>REGIONAL ACCOUNT MANAGER</td>\n",
       "      <td>PRIV:ROLE:QE2CLNT110:LO3180_DP:D_LO</td>\n",
       "      <td>72</td>\n",
       "    </tr>\n",
       "    <tr>\n",
       "      <th>4</th>\n",
       "      <td>81</td>\n",
       "      <td>SALES</td>\n",
       "      <td>REGIONAL ACCOUNT MANAGER</td>\n",
       "      <td>PRIV:ROLE:QE2CLNT110:LO3180_DP:D_LO_DEFAULT</td>\n",
       "      <td>72</td>\n",
       "    </tr>\n",
       "    <tr>\n",
       "      <th>...</th>\n",
       "      <td>...</td>\n",
       "      <td>...</td>\n",
       "      <td>...</td>\n",
       "      <td>...</td>\n",
       "      <td>...</td>\n",
       "    </tr>\n",
       "    <tr>\n",
       "      <th>221273</th>\n",
       "      <td>4023652</td>\n",
       "      <td>CUSTOMER SERVICE</td>\n",
       "      <td>JUNIOR SPECIALIST CS</td>\n",
       "      <td>PRIV:ROLE:PE1CLNT110:SD5400_DP:M_SD_ORDER</td>\n",
       "      <td>9</td>\n",
       "    </tr>\n",
       "    <tr>\n",
       "      <th>221274</th>\n",
       "      <td>4023652</td>\n",
       "      <td>CUSTOMER SERVICE</td>\n",
       "      <td>JUNIOR SPECIALIST CS</td>\n",
       "      <td>PRIV:ROLE:PE1CLNT110:SD6900_DP:M_INVOICE</td>\n",
       "      <td>90</td>\n",
       "    </tr>\n",
       "    <tr>\n",
       "      <th>221275</th>\n",
       "      <td>4023652</td>\n",
       "      <td>CUSTOMER SERVICE</td>\n",
       "      <td>JUNIOR SPECIALIST CS</td>\n",
       "      <td>PRIV:ROLE:PE1CLNT110:SD6900_DP:M_MD_OUTPUT_CON...</td>\n",
       "      <td>104</td>\n",
       "    </tr>\n",
       "    <tr>\n",
       "      <th>221276</th>\n",
       "      <td>4023652</td>\n",
       "      <td>CUSTOMER SERVICE</td>\n",
       "      <td>JUNIOR SPECIALIST CS</td>\n",
       "      <td>PRIV:ROLE:PE1CLNT110:SD6900_DP:M_SD</td>\n",
       "      <td>108</td>\n",
       "    </tr>\n",
       "    <tr>\n",
       "      <th>221277</th>\n",
       "      <td>4023652</td>\n",
       "      <td>CUSTOMER SERVICE</td>\n",
       "      <td>JUNIOR SPECIALIST CS</td>\n",
       "      <td>PRIV:ROLE:PE1CLNT110:SD6900_DP:M_SD_ORDER</td>\n",
       "      <td>109</td>\n",
       "    </tr>\n",
       "  </tbody>\n",
       "</table>\n",
       "<p>221278 rows × 5 columns</p>\n",
       "</div>"
      ],
      "text/plain": [
       "        user_id               job                department  \\\n",
       "0            81             SALES  REGIONAL ACCOUNT MANAGER   \n",
       "1            81             SALES  REGIONAL ACCOUNT MANAGER   \n",
       "2            81             SALES  REGIONAL ACCOUNT MANAGER   \n",
       "3            81             SALES  REGIONAL ACCOUNT MANAGER   \n",
       "4            81             SALES  REGIONAL ACCOUNT MANAGER   \n",
       "...         ...               ...                       ...   \n",
       "221273  4023652  CUSTOMER SERVICE      JUNIOR SPECIALIST CS   \n",
       "221274  4023652  CUSTOMER SERVICE      JUNIOR SPECIALIST CS   \n",
       "221275  4023652  CUSTOMER SERVICE      JUNIOR SPECIALIST CS   \n",
       "221276  4023652  CUSTOMER SERVICE      JUNIOR SPECIALIST CS   \n",
       "221277  4023652  CUSTOMER SERVICE      JUNIOR SPECIALIST CS   \n",
       "\n",
       "                                          privileges_data  times_occured  \n",
       "0             PRIV:ROLE:QE2CLNT110:CS3180_DP:D_CS_DEFAULT             72  \n",
       "1           PRIV:ROLE:QE2CLNT110:CS3180_DP:D_CS_STATISTIC             72  \n",
       "2             PRIV:ROLE:QE2CLNT110:FI3180_DP:D_FI_DEFAULT             72  \n",
       "3                     PRIV:ROLE:QE2CLNT110:LO3180_DP:D_LO             72  \n",
       "4             PRIV:ROLE:QE2CLNT110:LO3180_DP:D_LO_DEFAULT             72  \n",
       "...                                                   ...            ...  \n",
       "221273          PRIV:ROLE:PE1CLNT110:SD5400_DP:M_SD_ORDER              9  \n",
       "221274           PRIV:ROLE:PE1CLNT110:SD6900_DP:M_INVOICE             90  \n",
       "221275  PRIV:ROLE:PE1CLNT110:SD6900_DP:M_MD_OUTPUT_CON...            104  \n",
       "221276                PRIV:ROLE:PE1CLNT110:SD6900_DP:M_SD            108  \n",
       "221277          PRIV:ROLE:PE1CLNT110:SD6900_DP:M_SD_ORDER            109  \n",
       "\n",
       "[221278 rows x 5 columns]"
      ]
     },
     "execution_count": 12,
     "metadata": {},
     "output_type": "execute_result"
    }
   ],
   "source": [
    "data"
   ]
  },
  {
   "cell_type": "code",
   "execution_count": 13,
   "metadata": {
    "executionInfo": {
     "elapsed": 14,
     "status": "ok",
     "timestamp": 1649810085515,
     "user": {
      "displayName": "Petar Damianov",
      "userId": "11400996130549296363"
     },
     "user_tz": -180
    },
    "id": "-Ux9QmUdrwz7"
   },
   "outputs": [],
   "source": [
    "data_with_privileges_found_one_time = data.where(data['times_occured'] == 1).dropna()"
   ]
  },
  {
   "cell_type": "code",
   "execution_count": 14,
   "metadata": {
    "colab": {
     "base_uri": "https://localhost:8080/"
    },
    "executionInfo": {
     "elapsed": 372,
     "status": "ok",
     "timestamp": 1649810085874,
     "user": {
      "displayName": "Petar Damianov",
      "userId": "11400996130549296363"
     },
     "user_tz": -180
    },
    "id": "wewB3KOCvUrH",
    "outputId": "e00c17e0-cba0-49d2-aa77-089e6de63f25"
   },
   "outputs": [
    {
     "data": {
      "text/plain": [
       "user_id            float64\n",
       "job                 object\n",
       "department          object\n",
       "privileges_data     object\n",
       "times_occured      float64\n",
       "dtype: object"
      ]
     },
     "execution_count": 14,
     "metadata": {},
     "output_type": "execute_result"
    }
   ],
   "source": [
    "data_with_privileges_found_one_time.dtypes"
   ]
  },
  {
   "cell_type": "code",
   "execution_count": 15,
   "metadata": {
    "executionInfo": {
     "elapsed": 20,
     "status": "ok",
     "timestamp": 1649810085879,
     "user": {
      "displayName": "Petar Damianov",
      "userId": "11400996130549296363"
     },
     "user_tz": -180
    },
    "id": "WVy2oGjqwQB1"
   },
   "outputs": [],
   "source": [
    "data_with_privileges_found_one_time.times_occured = data_with_privileges_found_one_time.times_occured.astype(int)"
   ]
  },
  {
   "cell_type": "code",
   "execution_count": 16,
   "metadata": {
    "colab": {
     "base_uri": "https://localhost:8080/"
    },
    "executionInfo": {
     "elapsed": 20,
     "status": "ok",
     "timestamp": 1649810085880,
     "user": {
      "displayName": "Petar Damianov",
      "userId": "11400996130549296363"
     },
     "user_tz": -180
    },
    "id": "SNOsq9FfwPir",
    "outputId": "0bbf96f3-a5a0-451f-e8bb-d36b165ae9f6"
   },
   "outputs": [
    {
     "data": {
      "text/plain": [
       "user_id            float64\n",
       "job                 object\n",
       "department          object\n",
       "privileges_data     object\n",
       "times_occured        int64\n",
       "dtype: object"
      ]
     },
     "execution_count": 16,
     "metadata": {},
     "output_type": "execute_result"
    }
   ],
   "source": [
    "data_with_privileges_found_one_time.dtypes"
   ]
  },
  {
   "cell_type": "code",
   "execution_count": 17,
   "metadata": {
    "colab": {
     "base_uri": "https://localhost:8080/",
     "height": 780
    },
    "executionInfo": {
     "elapsed": 19,
     "status": "ok",
     "timestamp": 1649810085880,
     "user": {
      "displayName": "Petar Damianov",
      "userId": "11400996130549296363"
     },
     "user_tz": -180
    },
    "id": "NPdq68z0wIxi",
    "outputId": "b02bfb67-cae7-40ce-dd95-d5dffecdc969"
   },
   "outputs": [
    {
     "data": {
      "text/html": [
       "<div>\n",
       "<style scoped>\n",
       "    .dataframe tbody tr th:only-of-type {\n",
       "        vertical-align: middle;\n",
       "    }\n",
       "\n",
       "    .dataframe tbody tr th {\n",
       "        vertical-align: top;\n",
       "    }\n",
       "\n",
       "    .dataframe thead th {\n",
       "        text-align: right;\n",
       "    }\n",
       "</style>\n",
       "<table border=\"1\" class=\"dataframe\">\n",
       "  <thead>\n",
       "    <tr style=\"text-align: right;\">\n",
       "      <th></th>\n",
       "      <th>user_id</th>\n",
       "      <th>job</th>\n",
       "      <th>department</th>\n",
       "      <th>privileges_data</th>\n",
       "      <th>times_occured</th>\n",
       "    </tr>\n",
       "  </thead>\n",
       "  <tbody>\n",
       "    <tr>\n",
       "      <th>1143</th>\n",
       "      <td>404.0</td>\n",
       "      <td>CUSTOMER SERVICE</td>\n",
       "      <td>CUSTOMER SERVICES SPECIALIST</td>\n",
       "      <td>PRIV:ROLE:DE2CLNT210:MM3180_DP:M_REQUISITION_REL</td>\n",
       "      <td>1</td>\n",
       "    </tr>\n",
       "    <tr>\n",
       "      <th>1147</th>\n",
       "      <td>404.0</td>\n",
       "      <td>CUSTOMER SERVICE</td>\n",
       "      <td>CUSTOMER SERVICES SPECIALIST</td>\n",
       "      <td>PRIV:ROLE:DE2CLNT210:SD3180_DP:M_KEYUSER</td>\n",
       "      <td>1</td>\n",
       "    </tr>\n",
       "    <tr>\n",
       "      <th>1148</th>\n",
       "      <td>404.0</td>\n",
       "      <td>CUSTOMER SERVICE</td>\n",
       "      <td>CUSTOMER SERVICES SPECIALIST</td>\n",
       "      <td>PRIV:ROLE:DE2CLNT210:SD3180_DP:M_MD_CUSTOMER</td>\n",
       "      <td>1</td>\n",
       "    </tr>\n",
       "    <tr>\n",
       "      <th>1149</th>\n",
       "      <td>404.0</td>\n",
       "      <td>CUSTOMER SERVICE</td>\n",
       "      <td>CUSTOMER SERVICES SPECIALIST</td>\n",
       "      <td>PRIV:ROLE:DE2CLNT210:SD3180_DP:M_MD_SALES_PRICE</td>\n",
       "      <td>1</td>\n",
       "    </tr>\n",
       "    <tr>\n",
       "      <th>1151</th>\n",
       "      <td>404.0</td>\n",
       "      <td>CUSTOMER SERVICE</td>\n",
       "      <td>CUSTOMER SERVICES SPECIALIST</td>\n",
       "      <td>PRIV:ROLE:DE2CLNT210:SD3180_DP:M_SD</td>\n",
       "      <td>1</td>\n",
       "    </tr>\n",
       "    <tr>\n",
       "      <th>...</th>\n",
       "      <td>...</td>\n",
       "      <td>...</td>\n",
       "      <td>...</td>\n",
       "      <td>...</td>\n",
       "      <td>...</td>\n",
       "    </tr>\n",
       "    <tr>\n",
       "      <th>220110</th>\n",
       "      <td>4023508.0</td>\n",
       "      <td>FIELD SERVICE</td>\n",
       "      <td>OPÉRATEUR DE SAISIE</td>\n",
       "      <td>PRIV:ROLE:PE1CLNT110:PS3270_DP:M_PROJECT_MANAGER</td>\n",
       "      <td>1</td>\n",
       "    </tr>\n",
       "    <tr>\n",
       "      <th>220891</th>\n",
       "      <td>4023637.0</td>\n",
       "      <td>CUSTOMER SERVICE</td>\n",
       "      <td>SPECIALIST CS</td>\n",
       "      <td>PRIV:ROLE:PE1CLNT110:XX3230_DP:M_CATS_ADMIN</td>\n",
       "      <td>1</td>\n",
       "    </tr>\n",
       "    <tr>\n",
       "      <th>220893</th>\n",
       "      <td>4023637.0</td>\n",
       "      <td>CUSTOMER SERVICE</td>\n",
       "      <td>SPECIALIST CS</td>\n",
       "      <td>PRIV:ROLE:PE1CLNT110:XX3230_DP:M_CATS_X</td>\n",
       "      <td>1</td>\n",
       "    </tr>\n",
       "    <tr>\n",
       "      <th>220894</th>\n",
       "      <td>4023637.0</td>\n",
       "      <td>CUSTOMER SERVICE</td>\n",
       "      <td>SPECIALIST CS</td>\n",
       "      <td>PRIV:ROLE:PE1CLNT110:XX3250_DP:M_CATS_ADMIN</td>\n",
       "      <td>1</td>\n",
       "    </tr>\n",
       "    <tr>\n",
       "      <th>220895</th>\n",
       "      <td>4023637.0</td>\n",
       "      <td>CUSTOMER SERVICE</td>\n",
       "      <td>SPECIALIST CS</td>\n",
       "      <td>PRIV:ROLE:PE1CLNT110:XX3250_DP:M_CATS_X</td>\n",
       "      <td>1</td>\n",
       "    </tr>\n",
       "  </tbody>\n",
       "</table>\n",
       "<p>1744 rows × 5 columns</p>\n",
       "</div>"
      ],
      "text/plain": [
       "          user_id               job                    department  \\\n",
       "1143        404.0  CUSTOMER SERVICE  CUSTOMER SERVICES SPECIALIST   \n",
       "1147        404.0  CUSTOMER SERVICE  CUSTOMER SERVICES SPECIALIST   \n",
       "1148        404.0  CUSTOMER SERVICE  CUSTOMER SERVICES SPECIALIST   \n",
       "1149        404.0  CUSTOMER SERVICE  CUSTOMER SERVICES SPECIALIST   \n",
       "1151        404.0  CUSTOMER SERVICE  CUSTOMER SERVICES SPECIALIST   \n",
       "...           ...               ...                           ...   \n",
       "220110  4023508.0     FIELD SERVICE           OPÉRATEUR DE SAISIE   \n",
       "220891  4023637.0  CUSTOMER SERVICE                 SPECIALIST CS   \n",
       "220893  4023637.0  CUSTOMER SERVICE                 SPECIALIST CS   \n",
       "220894  4023637.0  CUSTOMER SERVICE                 SPECIALIST CS   \n",
       "220895  4023637.0  CUSTOMER SERVICE                 SPECIALIST CS   \n",
       "\n",
       "                                         privileges_data  times_occured  \n",
       "1143    PRIV:ROLE:DE2CLNT210:MM3180_DP:M_REQUISITION_REL              1  \n",
       "1147            PRIV:ROLE:DE2CLNT210:SD3180_DP:M_KEYUSER              1  \n",
       "1148        PRIV:ROLE:DE2CLNT210:SD3180_DP:M_MD_CUSTOMER              1  \n",
       "1149     PRIV:ROLE:DE2CLNT210:SD3180_DP:M_MD_SALES_PRICE              1  \n",
       "1151                 PRIV:ROLE:DE2CLNT210:SD3180_DP:M_SD              1  \n",
       "...                                                  ...            ...  \n",
       "220110  PRIV:ROLE:PE1CLNT110:PS3270_DP:M_PROJECT_MANAGER              1  \n",
       "220891       PRIV:ROLE:PE1CLNT110:XX3230_DP:M_CATS_ADMIN              1  \n",
       "220893           PRIV:ROLE:PE1CLNT110:XX3230_DP:M_CATS_X              1  \n",
       "220894       PRIV:ROLE:PE1CLNT110:XX3250_DP:M_CATS_ADMIN              1  \n",
       "220895           PRIV:ROLE:PE1CLNT110:XX3250_DP:M_CATS_X              1  \n",
       "\n",
       "[1744 rows x 5 columns]"
      ]
     },
     "execution_count": 17,
     "metadata": {},
     "output_type": "execute_result"
    }
   ],
   "source": [
    "data_with_privileges_found_one_time"
   ]
  },
  {
   "cell_type": "code",
   "execution_count": 18,
   "metadata": {
    "colab": {
     "base_uri": "https://localhost:8080/"
    },
    "executionInfo": {
     "elapsed": 19,
     "status": "ok",
     "timestamp": 1649810085881,
     "user": {
      "displayName": "Petar Damianov",
      "userId": "11400996130549296363"
     },
     "user_tz": -180
    },
    "id": "6U3a4CHIxFtw",
    "outputId": "bb97cf04-421a-41e8-e932-754d898ef6bb"
   },
   "outputs": [],
   "source": [
    "data.drop(data_with_privileges_found_one_time.index, inplace=True)"
   ]
  },
  {
   "cell_type": "code",
   "execution_count": 19,
   "metadata": {
    "colab": {
     "base_uri": "https://localhost:8080/",
     "height": 728
    },
    "executionInfo": {
     "elapsed": 14,
     "status": "ok",
     "timestamp": 1649810085881,
     "user": {
      "displayName": "Petar Damianov",
      "userId": "11400996130549296363"
     },
     "user_tz": -180
    },
    "id": "SDiw0H0QxFwj",
    "outputId": "fa5ab7c1-939b-4e9a-deaa-1a7da53d2944"
   },
   "outputs": [
    {
     "data": {
      "text/html": [
       "<div>\n",
       "<style scoped>\n",
       "    .dataframe tbody tr th:only-of-type {\n",
       "        vertical-align: middle;\n",
       "    }\n",
       "\n",
       "    .dataframe tbody tr th {\n",
       "        vertical-align: top;\n",
       "    }\n",
       "\n",
       "    .dataframe thead th {\n",
       "        text-align: right;\n",
       "    }\n",
       "</style>\n",
       "<table border=\"1\" class=\"dataframe\">\n",
       "  <thead>\n",
       "    <tr style=\"text-align: right;\">\n",
       "      <th></th>\n",
       "      <th>user_id</th>\n",
       "      <th>job</th>\n",
       "      <th>department</th>\n",
       "      <th>privileges_data</th>\n",
       "      <th>times_occured</th>\n",
       "    </tr>\n",
       "  </thead>\n",
       "  <tbody>\n",
       "    <tr>\n",
       "      <th>0</th>\n",
       "      <td>81</td>\n",
       "      <td>SALES</td>\n",
       "      <td>REGIONAL ACCOUNT MANAGER</td>\n",
       "      <td>PRIV:ROLE:QE2CLNT110:CS3180_DP:D_CS_DEFAULT</td>\n",
       "      <td>72</td>\n",
       "    </tr>\n",
       "    <tr>\n",
       "      <th>1</th>\n",
       "      <td>81</td>\n",
       "      <td>SALES</td>\n",
       "      <td>REGIONAL ACCOUNT MANAGER</td>\n",
       "      <td>PRIV:ROLE:QE2CLNT110:CS3180_DP:D_CS_STATISTIC</td>\n",
       "      <td>72</td>\n",
       "    </tr>\n",
       "    <tr>\n",
       "      <th>2</th>\n",
       "      <td>81</td>\n",
       "      <td>SALES</td>\n",
       "      <td>REGIONAL ACCOUNT MANAGER</td>\n",
       "      <td>PRIV:ROLE:QE2CLNT110:FI3180_DP:D_FI_DEFAULT</td>\n",
       "      <td>72</td>\n",
       "    </tr>\n",
       "    <tr>\n",
       "      <th>3</th>\n",
       "      <td>81</td>\n",
       "      <td>SALES</td>\n",
       "      <td>REGIONAL ACCOUNT MANAGER</td>\n",
       "      <td>PRIV:ROLE:QE2CLNT110:LO3180_DP:D_LO</td>\n",
       "      <td>72</td>\n",
       "    </tr>\n",
       "    <tr>\n",
       "      <th>4</th>\n",
       "      <td>81</td>\n",
       "      <td>SALES</td>\n",
       "      <td>REGIONAL ACCOUNT MANAGER</td>\n",
       "      <td>PRIV:ROLE:QE2CLNT110:LO3180_DP:D_LO_DEFAULT</td>\n",
       "      <td>72</td>\n",
       "    </tr>\n",
       "    <tr>\n",
       "      <th>...</th>\n",
       "      <td>...</td>\n",
       "      <td>...</td>\n",
       "      <td>...</td>\n",
       "      <td>...</td>\n",
       "      <td>...</td>\n",
       "    </tr>\n",
       "    <tr>\n",
       "      <th>219529</th>\n",
       "      <td>4023652</td>\n",
       "      <td>CUSTOMER SERVICE</td>\n",
       "      <td>JUNIOR SPECIALIST CS</td>\n",
       "      <td>PRIV:ROLE:PE1CLNT110:SD5400_DP:M_SD_ORDER</td>\n",
       "      <td>9</td>\n",
       "    </tr>\n",
       "    <tr>\n",
       "      <th>219530</th>\n",
       "      <td>4023652</td>\n",
       "      <td>CUSTOMER SERVICE</td>\n",
       "      <td>JUNIOR SPECIALIST CS</td>\n",
       "      <td>PRIV:ROLE:PE1CLNT110:SD6900_DP:M_INVOICE</td>\n",
       "      <td>90</td>\n",
       "    </tr>\n",
       "    <tr>\n",
       "      <th>219531</th>\n",
       "      <td>4023652</td>\n",
       "      <td>CUSTOMER SERVICE</td>\n",
       "      <td>JUNIOR SPECIALIST CS</td>\n",
       "      <td>PRIV:ROLE:PE1CLNT110:SD6900_DP:M_MD_OUTPUT_CON...</td>\n",
       "      <td>104</td>\n",
       "    </tr>\n",
       "    <tr>\n",
       "      <th>219532</th>\n",
       "      <td>4023652</td>\n",
       "      <td>CUSTOMER SERVICE</td>\n",
       "      <td>JUNIOR SPECIALIST CS</td>\n",
       "      <td>PRIV:ROLE:PE1CLNT110:SD6900_DP:M_SD</td>\n",
       "      <td>108</td>\n",
       "    </tr>\n",
       "    <tr>\n",
       "      <th>219533</th>\n",
       "      <td>4023652</td>\n",
       "      <td>CUSTOMER SERVICE</td>\n",
       "      <td>JUNIOR SPECIALIST CS</td>\n",
       "      <td>PRIV:ROLE:PE1CLNT110:SD6900_DP:M_SD_ORDER</td>\n",
       "      <td>109</td>\n",
       "    </tr>\n",
       "  </tbody>\n",
       "</table>\n",
       "<p>219534 rows × 5 columns</p>\n",
       "</div>"
      ],
      "text/plain": [
       "        user_id               job                department  \\\n",
       "0            81             SALES  REGIONAL ACCOUNT MANAGER   \n",
       "1            81             SALES  REGIONAL ACCOUNT MANAGER   \n",
       "2            81             SALES  REGIONAL ACCOUNT MANAGER   \n",
       "3            81             SALES  REGIONAL ACCOUNT MANAGER   \n",
       "4            81             SALES  REGIONAL ACCOUNT MANAGER   \n",
       "...         ...               ...                       ...   \n",
       "219529  4023652  CUSTOMER SERVICE      JUNIOR SPECIALIST CS   \n",
       "219530  4023652  CUSTOMER SERVICE      JUNIOR SPECIALIST CS   \n",
       "219531  4023652  CUSTOMER SERVICE      JUNIOR SPECIALIST CS   \n",
       "219532  4023652  CUSTOMER SERVICE      JUNIOR SPECIALIST CS   \n",
       "219533  4023652  CUSTOMER SERVICE      JUNIOR SPECIALIST CS   \n",
       "\n",
       "                                          privileges_data  times_occured  \n",
       "0             PRIV:ROLE:QE2CLNT110:CS3180_DP:D_CS_DEFAULT             72  \n",
       "1           PRIV:ROLE:QE2CLNT110:CS3180_DP:D_CS_STATISTIC             72  \n",
       "2             PRIV:ROLE:QE2CLNT110:FI3180_DP:D_FI_DEFAULT             72  \n",
       "3                     PRIV:ROLE:QE2CLNT110:LO3180_DP:D_LO             72  \n",
       "4             PRIV:ROLE:QE2CLNT110:LO3180_DP:D_LO_DEFAULT             72  \n",
       "...                                                   ...            ...  \n",
       "219529          PRIV:ROLE:PE1CLNT110:SD5400_DP:M_SD_ORDER              9  \n",
       "219530           PRIV:ROLE:PE1CLNT110:SD6900_DP:M_INVOICE             90  \n",
       "219531  PRIV:ROLE:PE1CLNT110:SD6900_DP:M_MD_OUTPUT_CON...            104  \n",
       "219532                PRIV:ROLE:PE1CLNT110:SD6900_DP:M_SD            108  \n",
       "219533          PRIV:ROLE:PE1CLNT110:SD6900_DP:M_SD_ORDER            109  \n",
       "\n",
       "[219534 rows x 5 columns]"
      ]
     },
     "execution_count": 19,
     "metadata": {},
     "output_type": "execute_result"
    }
   ],
   "source": [
    "data = data.reset_index(drop=True)\n",
    "data"
   ]
  },
  {
   "cell_type": "code",
   "execution_count": 20,
   "metadata": {
    "executionInfo": {
     "elapsed": 13,
     "status": "ok",
     "timestamp": 1649810085881,
     "user": {
      "displayName": "Petar Damianov",
      "userId": "11400996130549296363"
     },
     "user_tz": -180
    },
    "id": "j42lNZOAxFzX"
   },
   "outputs": [],
   "source": [
    "data.drop('times_occured', axis=1, inplace=True)"
   ]
  },
  {
   "cell_type": "code",
   "execution_count": 21,
   "metadata": {
    "executionInfo": {
     "elapsed": 13,
     "status": "ok",
     "timestamp": 1649810085882,
     "user": {
      "displayName": "Petar Damianov",
      "userId": "11400996130549296363"
     },
     "user_tz": -180
    },
    "id": "mqY371EDR1Y0"
   },
   "outputs": [],
   "source": [
    "X_train, y_train = train_test_split(data, train_size=0.4, shuffle=True, stratify=data.privileges_data)"
   ]
  },
  {
   "cell_type": "code",
   "execution_count": 22,
   "metadata": {
    "colab": {
     "base_uri": "https://localhost:8080/",
     "height": 537
    },
    "executionInfo": {
     "elapsed": 361,
     "status": "ok",
     "timestamp": 1649810086230,
     "user": {
      "displayName": "Petar Damianov",
      "userId": "11400996130549296363"
     },
     "user_tz": -180
    },
    "id": "3U1ZGUXGc9Ll",
    "outputId": "be15f425-1883-4881-a1b0-346812364073"
   },
   "outputs": [
    {
     "data": {
      "text/html": [
       "<div>\n",
       "<style scoped>\n",
       "    .dataframe tbody tr th:only-of-type {\n",
       "        vertical-align: middle;\n",
       "    }\n",
       "\n",
       "    .dataframe tbody tr th {\n",
       "        vertical-align: top;\n",
       "    }\n",
       "\n",
       "    .dataframe thead th {\n",
       "        text-align: right;\n",
       "    }\n",
       "</style>\n",
       "<table border=\"1\" class=\"dataframe\">\n",
       "  <thead>\n",
       "    <tr style=\"text-align: right;\">\n",
       "      <th></th>\n",
       "      <th>user_id</th>\n",
       "      <th>job</th>\n",
       "      <th>department</th>\n",
       "      <th>privileges_data</th>\n",
       "    </tr>\n",
       "  </thead>\n",
       "  <tbody>\n",
       "    <tr>\n",
       "      <th>69665</th>\n",
       "      <td>2187682</td>\n",
       "      <td>FIELD SERVICE</td>\n",
       "      <td>SERVICETECHNIKER ACT</td>\n",
       "      <td>PRIV:ROLE:QE2CLNT110:SD3030_DP:D_SD_DEFAULT</td>\n",
       "    </tr>\n",
       "    <tr>\n",
       "      <th>125208</th>\n",
       "      <td>4004067</td>\n",
       "      <td>FIELD SERVICE</td>\n",
       "      <td>SR. FIELD SERVICE TECHNICIAN</td>\n",
       "      <td>PRIV:ROLE:QE2CLNT110:MM4100_DP:D_PURCHASING</td>\n",
       "    </tr>\n",
       "    <tr>\n",
       "      <th>30673</th>\n",
       "      <td>522300</td>\n",
       "      <td>FIELD SERVICE</td>\n",
       "      <td>SERVICE &amp; TEST ENGINEER NORTH WEST</td>\n",
       "      <td>PRIV:ROLE:QE2CLNT110:SD3120_DP:D_SD_DEFAULT</td>\n",
       "    </tr>\n",
       "    <tr>\n",
       "      <th>147699</th>\n",
       "      <td>4013020</td>\n",
       "      <td>FIELD SERVICE</td>\n",
       "      <td>SR. FIELD SERVICE TECHNICIAN</td>\n",
       "      <td>PRIV:ROLE:QE2CLNT110:PP4100_DP:D_PP</td>\n",
       "    </tr>\n",
       "    <tr>\n",
       "      <th>7877</th>\n",
       "      <td>1482</td>\n",
       "      <td>FIELD SERVICE</td>\n",
       "      <td>SERVICE, SERVICE IC</td>\n",
       "      <td>PRIV:ROLE:PE1CLNT110:LO8030_DP:D_LO_DEFAULT</td>\n",
       "    </tr>\n",
       "    <tr>\n",
       "      <th>...</th>\n",
       "      <td>...</td>\n",
       "      <td>...</td>\n",
       "      <td>...</td>\n",
       "      <td>...</td>\n",
       "    </tr>\n",
       "    <tr>\n",
       "      <th>210824</th>\n",
       "      <td>4022588</td>\n",
       "      <td>CUSTOMER SERVICE</td>\n",
       "      <td>JUNIOR SPECIALIST CS</td>\n",
       "      <td>PRIV:ROLE:PE1CLNT110:XX3010_DP:M_CATS</td>\n",
       "    </tr>\n",
       "    <tr>\n",
       "      <th>198060</th>\n",
       "      <td>4021043</td>\n",
       "      <td>SALES</td>\n",
       "      <td>SALES CONSULTANT SWP+IC</td>\n",
       "      <td>PRIV:ROLE:QE2CLNT110:CS3040_DP:D_CS_STATISTIC</td>\n",
       "    </tr>\n",
       "    <tr>\n",
       "      <th>209139</th>\n",
       "      <td>4022456</td>\n",
       "      <td>CUSTOMER SERVICE</td>\n",
       "      <td>SPECIALIST CS</td>\n",
       "      <td>PRIV:ROLE:PE1CLNT110:CS3270_DP:M_MD</td>\n",
       "    </tr>\n",
       "    <tr>\n",
       "      <th>127530</th>\n",
       "      <td>4004846</td>\n",
       "      <td>FIELD SERVICE</td>\n",
       "      <td>FIELD SERVICE TECHNICIAN</td>\n",
       "      <td>PRIV:ROLE:PO1CLNT110:XX0000_SP:D_EVERYONE</td>\n",
       "    </tr>\n",
       "    <tr>\n",
       "      <th>21260</th>\n",
       "      <td>341329</td>\n",
       "      <td>FIELD SERVICE</td>\n",
       "      <td>FIELD SERVICE TECHNICIAN</td>\n",
       "      <td>PRIV:ROLE:PE1CLNT110:SD4100_DP:D_SALES</td>\n",
       "    </tr>\n",
       "  </tbody>\n",
       "</table>\n",
       "<p>87813 rows × 4 columns</p>\n",
       "</div>"
      ],
      "text/plain": [
       "        user_id               job                          department  \\\n",
       "69665   2187682     FIELD SERVICE                SERVICETECHNIKER ACT   \n",
       "125208  4004067     FIELD SERVICE        SR. FIELD SERVICE TECHNICIAN   \n",
       "30673    522300     FIELD SERVICE  SERVICE & TEST ENGINEER NORTH WEST   \n",
       "147699  4013020     FIELD SERVICE        SR. FIELD SERVICE TECHNICIAN   \n",
       "7877       1482     FIELD SERVICE                 SERVICE, SERVICE IC   \n",
       "...         ...               ...                                 ...   \n",
       "210824  4022588  CUSTOMER SERVICE                JUNIOR SPECIALIST CS   \n",
       "198060  4021043             SALES             SALES CONSULTANT SWP+IC   \n",
       "209139  4022456  CUSTOMER SERVICE                       SPECIALIST CS   \n",
       "127530  4004846     FIELD SERVICE            FIELD SERVICE TECHNICIAN   \n",
       "21260    341329     FIELD SERVICE            FIELD SERVICE TECHNICIAN   \n",
       "\n",
       "                                      privileges_data  \n",
       "69665     PRIV:ROLE:QE2CLNT110:SD3030_DP:D_SD_DEFAULT  \n",
       "125208    PRIV:ROLE:QE2CLNT110:MM4100_DP:D_PURCHASING  \n",
       "30673     PRIV:ROLE:QE2CLNT110:SD3120_DP:D_SD_DEFAULT  \n",
       "147699            PRIV:ROLE:QE2CLNT110:PP4100_DP:D_PP  \n",
       "7877      PRIV:ROLE:PE1CLNT110:LO8030_DP:D_LO_DEFAULT  \n",
       "...                                               ...  \n",
       "210824          PRIV:ROLE:PE1CLNT110:XX3010_DP:M_CATS  \n",
       "198060  PRIV:ROLE:QE2CLNT110:CS3040_DP:D_CS_STATISTIC  \n",
       "209139            PRIV:ROLE:PE1CLNT110:CS3270_DP:M_MD  \n",
       "127530      PRIV:ROLE:PO1CLNT110:XX0000_SP:D_EVERYONE  \n",
       "21260          PRIV:ROLE:PE1CLNT110:SD4100_DP:D_SALES  \n",
       "\n",
       "[87813 rows x 4 columns]"
      ]
     },
     "execution_count": 22,
     "metadata": {},
     "output_type": "execute_result"
    }
   ],
   "source": [
    "X_train"
   ]
  },
  {
   "cell_type": "code",
   "execution_count": 23,
   "metadata": {
    "executionInfo": {
     "elapsed": 19,
     "status": "ok",
     "timestamp": 1649810086234,
     "user": {
      "displayName": "Petar Damianov",
      "userId": "11400996130549296363"
     },
     "user_tz": -180
    },
    "id": "lACGuamEYIfy"
   },
   "outputs": [],
   "source": [
    "data = X_train"
   ]
  },
  {
   "cell_type": "code",
   "execution_count": 24,
   "metadata": {
    "colab": {
     "base_uri": "https://localhost:8080/"
    },
    "executionInfo": {
     "elapsed": 19,
     "status": "ok",
     "timestamp": 1649810086235,
     "user": {
      "displayName": "Petar Damianov",
      "userId": "11400996130549296363"
     },
     "user_tz": -180
    },
    "id": "PeuRX19w3_GH",
    "outputId": "4679d5e3-43d2-4b20-e301-c0dd8cba2d1a"
   },
   "outputs": [
    {
     "data": {
      "text/plain": [
       "(87813, 4)"
      ]
     },
     "execution_count": 24,
     "metadata": {},
     "output_type": "execute_result"
    }
   ],
   "source": [
    "data.shape"
   ]
  },
  {
   "cell_type": "code",
   "execution_count": 25,
   "metadata": {
    "colab": {
     "base_uri": "https://localhost:8080/",
     "height": 537
    },
    "executionInfo": {
     "elapsed": 17,
     "status": "ok",
     "timestamp": 1649810086235,
     "user": {
      "displayName": "Petar Damianov",
      "userId": "11400996130549296363"
     },
     "user_tz": -180
    },
    "id": "-TLP0bEm4B46",
    "outputId": "fc40dcb7-ca25-4e82-da1e-32db03df6e4b"
   },
   "outputs": [
    {
     "data": {
      "text/html": [
       "<div>\n",
       "<style scoped>\n",
       "    .dataframe tbody tr th:only-of-type {\n",
       "        vertical-align: middle;\n",
       "    }\n",
       "\n",
       "    .dataframe tbody tr th {\n",
       "        vertical-align: top;\n",
       "    }\n",
       "\n",
       "    .dataframe thead th {\n",
       "        text-align: right;\n",
       "    }\n",
       "</style>\n",
       "<table border=\"1\" class=\"dataframe\">\n",
       "  <thead>\n",
       "    <tr style=\"text-align: right;\">\n",
       "      <th></th>\n",
       "      <th>user_id</th>\n",
       "      <th>job</th>\n",
       "      <th>department</th>\n",
       "      <th>privileges_data</th>\n",
       "    </tr>\n",
       "  </thead>\n",
       "  <tbody>\n",
       "    <tr>\n",
       "      <th>69665</th>\n",
       "      <td>2187682</td>\n",
       "      <td>FIELD SERVICE</td>\n",
       "      <td>SERVICETECHNIKER ACT</td>\n",
       "      <td>PRIV:ROLE:QE2CLNT110:SD3030_DP:D_SD_DEFAULT</td>\n",
       "    </tr>\n",
       "    <tr>\n",
       "      <th>125208</th>\n",
       "      <td>4004067</td>\n",
       "      <td>FIELD SERVICE</td>\n",
       "      <td>SR. FIELD SERVICE TECHNICIAN</td>\n",
       "      <td>PRIV:ROLE:QE2CLNT110:MM4100_DP:D_PURCHASING</td>\n",
       "    </tr>\n",
       "    <tr>\n",
       "      <th>30673</th>\n",
       "      <td>522300</td>\n",
       "      <td>FIELD SERVICE</td>\n",
       "      <td>SERVICE &amp; TEST ENGINEER NORTH WEST</td>\n",
       "      <td>PRIV:ROLE:QE2CLNT110:SD3120_DP:D_SD_DEFAULT</td>\n",
       "    </tr>\n",
       "    <tr>\n",
       "      <th>147699</th>\n",
       "      <td>4013020</td>\n",
       "      <td>FIELD SERVICE</td>\n",
       "      <td>SR. FIELD SERVICE TECHNICIAN</td>\n",
       "      <td>PRIV:ROLE:QE2CLNT110:PP4100_DP:D_PP</td>\n",
       "    </tr>\n",
       "    <tr>\n",
       "      <th>7877</th>\n",
       "      <td>1482</td>\n",
       "      <td>FIELD SERVICE</td>\n",
       "      <td>SERVICE, SERVICE IC</td>\n",
       "      <td>PRIV:ROLE:PE1CLNT110:LO8030_DP:D_LO_DEFAULT</td>\n",
       "    </tr>\n",
       "    <tr>\n",
       "      <th>...</th>\n",
       "      <td>...</td>\n",
       "      <td>...</td>\n",
       "      <td>...</td>\n",
       "      <td>...</td>\n",
       "    </tr>\n",
       "    <tr>\n",
       "      <th>210824</th>\n",
       "      <td>4022588</td>\n",
       "      <td>CUSTOMER SERVICE</td>\n",
       "      <td>JUNIOR SPECIALIST CS</td>\n",
       "      <td>PRIV:ROLE:PE1CLNT110:XX3010_DP:M_CATS</td>\n",
       "    </tr>\n",
       "    <tr>\n",
       "      <th>198060</th>\n",
       "      <td>4021043</td>\n",
       "      <td>SALES</td>\n",
       "      <td>SALES CONSULTANT SWP+IC</td>\n",
       "      <td>PRIV:ROLE:QE2CLNT110:CS3040_DP:D_CS_STATISTIC</td>\n",
       "    </tr>\n",
       "    <tr>\n",
       "      <th>209139</th>\n",
       "      <td>4022456</td>\n",
       "      <td>CUSTOMER SERVICE</td>\n",
       "      <td>SPECIALIST CS</td>\n",
       "      <td>PRIV:ROLE:PE1CLNT110:CS3270_DP:M_MD</td>\n",
       "    </tr>\n",
       "    <tr>\n",
       "      <th>127530</th>\n",
       "      <td>4004846</td>\n",
       "      <td>FIELD SERVICE</td>\n",
       "      <td>FIELD SERVICE TECHNICIAN</td>\n",
       "      <td>PRIV:ROLE:PO1CLNT110:XX0000_SP:D_EVERYONE</td>\n",
       "    </tr>\n",
       "    <tr>\n",
       "      <th>21260</th>\n",
       "      <td>341329</td>\n",
       "      <td>FIELD SERVICE</td>\n",
       "      <td>FIELD SERVICE TECHNICIAN</td>\n",
       "      <td>PRIV:ROLE:PE1CLNT110:SD4100_DP:D_SALES</td>\n",
       "    </tr>\n",
       "  </tbody>\n",
       "</table>\n",
       "<p>87813 rows × 4 columns</p>\n",
       "</div>"
      ],
      "text/plain": [
       "        user_id               job                          department  \\\n",
       "69665   2187682     FIELD SERVICE                SERVICETECHNIKER ACT   \n",
       "125208  4004067     FIELD SERVICE        SR. FIELD SERVICE TECHNICIAN   \n",
       "30673    522300     FIELD SERVICE  SERVICE & TEST ENGINEER NORTH WEST   \n",
       "147699  4013020     FIELD SERVICE        SR. FIELD SERVICE TECHNICIAN   \n",
       "7877       1482     FIELD SERVICE                 SERVICE, SERVICE IC   \n",
       "...         ...               ...                                 ...   \n",
       "210824  4022588  CUSTOMER SERVICE                JUNIOR SPECIALIST CS   \n",
       "198060  4021043             SALES             SALES CONSULTANT SWP+IC   \n",
       "209139  4022456  CUSTOMER SERVICE                       SPECIALIST CS   \n",
       "127530  4004846     FIELD SERVICE            FIELD SERVICE TECHNICIAN   \n",
       "21260    341329     FIELD SERVICE            FIELD SERVICE TECHNICIAN   \n",
       "\n",
       "                                      privileges_data  \n",
       "69665     PRIV:ROLE:QE2CLNT110:SD3030_DP:D_SD_DEFAULT  \n",
       "125208    PRIV:ROLE:QE2CLNT110:MM4100_DP:D_PURCHASING  \n",
       "30673     PRIV:ROLE:QE2CLNT110:SD3120_DP:D_SD_DEFAULT  \n",
       "147699            PRIV:ROLE:QE2CLNT110:PP4100_DP:D_PP  \n",
       "7877      PRIV:ROLE:PE1CLNT110:LO8030_DP:D_LO_DEFAULT  \n",
       "...                                               ...  \n",
       "210824          PRIV:ROLE:PE1CLNT110:XX3010_DP:M_CATS  \n",
       "198060  PRIV:ROLE:QE2CLNT110:CS3040_DP:D_CS_STATISTIC  \n",
       "209139            PRIV:ROLE:PE1CLNT110:CS3270_DP:M_MD  \n",
       "127530      PRIV:ROLE:PO1CLNT110:XX0000_SP:D_EVERYONE  \n",
       "21260          PRIV:ROLE:PE1CLNT110:SD4100_DP:D_SALES  \n",
       "\n",
       "[87813 rows x 4 columns]"
      ]
     },
     "execution_count": 25,
     "metadata": {},
     "output_type": "execute_result"
    }
   ],
   "source": [
    "data"
   ]
  },
  {
   "cell_type": "code",
   "execution_count": 26,
   "metadata": {
    "executionInfo": {
     "elapsed": 15,
     "status": "ok",
     "timestamp": 1649810086235,
     "user": {
      "displayName": "Petar Damianov",
      "userId": "11400996130549296363"
     },
     "user_tz": -180
    },
    "id": "V_5lzcae30bz"
   },
   "outputs": [],
   "source": [
    "#data = data.append(data_with_privileges_found_one_time.drop('times_occured', axis=1))"
   ]
  },
  {
   "cell_type": "code",
   "execution_count": 27,
   "metadata": {
    "executionInfo": {
     "elapsed": 16,
     "status": "ok",
     "timestamp": 1649810086236,
     "user": {
      "displayName": "Petar Damianov",
      "userId": "11400996130549296363"
     },
     "user_tz": -180
    },
    "id": "kSzoocEP31-0"
   },
   "outputs": [],
   "source": [
    "data = data.reset_index(drop=True)"
   ]
  },
  {
   "cell_type": "code",
   "execution_count": 28,
   "metadata": {
    "colab": {
     "base_uri": "https://localhost:8080/"
    },
    "executionInfo": {
     "elapsed": 17,
     "status": "ok",
     "timestamp": 1649810086237,
     "user": {
      "displayName": "Petar Damianov",
      "userId": "11400996130549296363"
     },
     "user_tz": -180
    },
    "id": "50aIwXYo4E6k",
    "outputId": "d0a36a44-03d3-4f44-ea85-c4fa49c30ef2"
   },
   "outputs": [
    {
     "data": {
      "text/plain": [
       "(87813, 4)"
      ]
     },
     "execution_count": 28,
     "metadata": {},
     "output_type": "execute_result"
    }
   ],
   "source": [
    "data.shape"
   ]
  },
  {
   "cell_type": "code",
   "execution_count": 29,
   "metadata": {
    "colab": {
     "base_uri": "https://localhost:8080/",
     "height": 537
    },
    "executionInfo": {
     "elapsed": 14,
     "status": "ok",
     "timestamp": 1649810086238,
     "user": {
      "displayName": "Petar Damianov",
      "userId": "11400996130549296363"
     },
     "user_tz": -180
    },
    "id": "S4Z_whPt4E6l",
    "outputId": "ff848377-a4bc-4dbf-e3bb-3f2f5e1b4adf"
   },
   "outputs": [
    {
     "data": {
      "text/html": [
       "<div>\n",
       "<style scoped>\n",
       "    .dataframe tbody tr th:only-of-type {\n",
       "        vertical-align: middle;\n",
       "    }\n",
       "\n",
       "    .dataframe tbody tr th {\n",
       "        vertical-align: top;\n",
       "    }\n",
       "\n",
       "    .dataframe thead th {\n",
       "        text-align: right;\n",
       "    }\n",
       "</style>\n",
       "<table border=\"1\" class=\"dataframe\">\n",
       "  <thead>\n",
       "    <tr style=\"text-align: right;\">\n",
       "      <th></th>\n",
       "      <th>user_id</th>\n",
       "      <th>job</th>\n",
       "      <th>department</th>\n",
       "      <th>privileges_data</th>\n",
       "    </tr>\n",
       "  </thead>\n",
       "  <tbody>\n",
       "    <tr>\n",
       "      <th>0</th>\n",
       "      <td>2187682</td>\n",
       "      <td>FIELD SERVICE</td>\n",
       "      <td>SERVICETECHNIKER ACT</td>\n",
       "      <td>PRIV:ROLE:QE2CLNT110:SD3030_DP:D_SD_DEFAULT</td>\n",
       "    </tr>\n",
       "    <tr>\n",
       "      <th>1</th>\n",
       "      <td>4004067</td>\n",
       "      <td>FIELD SERVICE</td>\n",
       "      <td>SR. FIELD SERVICE TECHNICIAN</td>\n",
       "      <td>PRIV:ROLE:QE2CLNT110:MM4100_DP:D_PURCHASING</td>\n",
       "    </tr>\n",
       "    <tr>\n",
       "      <th>2</th>\n",
       "      <td>522300</td>\n",
       "      <td>FIELD SERVICE</td>\n",
       "      <td>SERVICE &amp; TEST ENGINEER NORTH WEST</td>\n",
       "      <td>PRIV:ROLE:QE2CLNT110:SD3120_DP:D_SD_DEFAULT</td>\n",
       "    </tr>\n",
       "    <tr>\n",
       "      <th>3</th>\n",
       "      <td>4013020</td>\n",
       "      <td>FIELD SERVICE</td>\n",
       "      <td>SR. FIELD SERVICE TECHNICIAN</td>\n",
       "      <td>PRIV:ROLE:QE2CLNT110:PP4100_DP:D_PP</td>\n",
       "    </tr>\n",
       "    <tr>\n",
       "      <th>4</th>\n",
       "      <td>1482</td>\n",
       "      <td>FIELD SERVICE</td>\n",
       "      <td>SERVICE, SERVICE IC</td>\n",
       "      <td>PRIV:ROLE:PE1CLNT110:LO8030_DP:D_LO_DEFAULT</td>\n",
       "    </tr>\n",
       "    <tr>\n",
       "      <th>...</th>\n",
       "      <td>...</td>\n",
       "      <td>...</td>\n",
       "      <td>...</td>\n",
       "      <td>...</td>\n",
       "    </tr>\n",
       "    <tr>\n",
       "      <th>87808</th>\n",
       "      <td>4022588</td>\n",
       "      <td>CUSTOMER SERVICE</td>\n",
       "      <td>JUNIOR SPECIALIST CS</td>\n",
       "      <td>PRIV:ROLE:PE1CLNT110:XX3010_DP:M_CATS</td>\n",
       "    </tr>\n",
       "    <tr>\n",
       "      <th>87809</th>\n",
       "      <td>4021043</td>\n",
       "      <td>SALES</td>\n",
       "      <td>SALES CONSULTANT SWP+IC</td>\n",
       "      <td>PRIV:ROLE:QE2CLNT110:CS3040_DP:D_CS_STATISTIC</td>\n",
       "    </tr>\n",
       "    <tr>\n",
       "      <th>87810</th>\n",
       "      <td>4022456</td>\n",
       "      <td>CUSTOMER SERVICE</td>\n",
       "      <td>SPECIALIST CS</td>\n",
       "      <td>PRIV:ROLE:PE1CLNT110:CS3270_DP:M_MD</td>\n",
       "    </tr>\n",
       "    <tr>\n",
       "      <th>87811</th>\n",
       "      <td>4004846</td>\n",
       "      <td>FIELD SERVICE</td>\n",
       "      <td>FIELD SERVICE TECHNICIAN</td>\n",
       "      <td>PRIV:ROLE:PO1CLNT110:XX0000_SP:D_EVERYONE</td>\n",
       "    </tr>\n",
       "    <tr>\n",
       "      <th>87812</th>\n",
       "      <td>341329</td>\n",
       "      <td>FIELD SERVICE</td>\n",
       "      <td>FIELD SERVICE TECHNICIAN</td>\n",
       "      <td>PRIV:ROLE:PE1CLNT110:SD4100_DP:D_SALES</td>\n",
       "    </tr>\n",
       "  </tbody>\n",
       "</table>\n",
       "<p>87813 rows × 4 columns</p>\n",
       "</div>"
      ],
      "text/plain": [
       "       user_id               job                          department  \\\n",
       "0      2187682     FIELD SERVICE                SERVICETECHNIKER ACT   \n",
       "1      4004067     FIELD SERVICE        SR. FIELD SERVICE TECHNICIAN   \n",
       "2       522300     FIELD SERVICE  SERVICE & TEST ENGINEER NORTH WEST   \n",
       "3      4013020     FIELD SERVICE        SR. FIELD SERVICE TECHNICIAN   \n",
       "4         1482     FIELD SERVICE                 SERVICE, SERVICE IC   \n",
       "...        ...               ...                                 ...   \n",
       "87808  4022588  CUSTOMER SERVICE                JUNIOR SPECIALIST CS   \n",
       "87809  4021043             SALES             SALES CONSULTANT SWP+IC   \n",
       "87810  4022456  CUSTOMER SERVICE                       SPECIALIST CS   \n",
       "87811  4004846     FIELD SERVICE            FIELD SERVICE TECHNICIAN   \n",
       "87812   341329     FIELD SERVICE            FIELD SERVICE TECHNICIAN   \n",
       "\n",
       "                                     privileges_data  \n",
       "0        PRIV:ROLE:QE2CLNT110:SD3030_DP:D_SD_DEFAULT  \n",
       "1        PRIV:ROLE:QE2CLNT110:MM4100_DP:D_PURCHASING  \n",
       "2        PRIV:ROLE:QE2CLNT110:SD3120_DP:D_SD_DEFAULT  \n",
       "3                PRIV:ROLE:QE2CLNT110:PP4100_DP:D_PP  \n",
       "4        PRIV:ROLE:PE1CLNT110:LO8030_DP:D_LO_DEFAULT  \n",
       "...                                              ...  \n",
       "87808          PRIV:ROLE:PE1CLNT110:XX3010_DP:M_CATS  \n",
       "87809  PRIV:ROLE:QE2CLNT110:CS3040_DP:D_CS_STATISTIC  \n",
       "87810            PRIV:ROLE:PE1CLNT110:CS3270_DP:M_MD  \n",
       "87811      PRIV:ROLE:PO1CLNT110:XX0000_SP:D_EVERYONE  \n",
       "87812         PRIV:ROLE:PE1CLNT110:SD4100_DP:D_SALES  \n",
       "\n",
       "[87813 rows x 4 columns]"
      ]
     },
     "execution_count": 29,
     "metadata": {},
     "output_type": "execute_result"
    }
   ],
   "source": [
    "data"
   ]
  },
  {
   "cell_type": "code",
   "execution_count": 30,
   "metadata": {
    "executionInfo": {
     "elapsed": 13,
     "status": "ok",
     "timestamp": 1649810086238,
     "user": {
      "displayName": "Petar Damianov",
      "userId": "11400996130549296363"
     },
     "user_tz": -180
    },
    "id": "dSBgTgRjYIfz"
   },
   "outputs": [],
   "source": [
    "user_data = data.drop(\"privileges_data\", axis=1)"
   ]
  },
  {
   "cell_type": "code",
   "execution_count": 31,
   "metadata": {
    "colab": {
     "base_uri": "https://localhost:8080/",
     "height": 424
    },
    "executionInfo": {
     "elapsed": 13,
     "status": "ok",
     "timestamp": 1649810086238,
     "user": {
      "displayName": "Petar Damianov",
      "userId": "11400996130549296363"
     },
     "user_tz": -180
    },
    "id": "atb0RM4r3a2g",
    "outputId": "f84b0034-b674-4f1d-b38b-e92fc1928ecc"
   },
   "outputs": [
    {
     "data": {
      "text/html": [
       "<div>\n",
       "<style scoped>\n",
       "    .dataframe tbody tr th:only-of-type {\n",
       "        vertical-align: middle;\n",
       "    }\n",
       "\n",
       "    .dataframe tbody tr th {\n",
       "        vertical-align: top;\n",
       "    }\n",
       "\n",
       "    .dataframe thead th {\n",
       "        text-align: right;\n",
       "    }\n",
       "</style>\n",
       "<table border=\"1\" class=\"dataframe\">\n",
       "  <thead>\n",
       "    <tr style=\"text-align: right;\">\n",
       "      <th></th>\n",
       "      <th>user_id</th>\n",
       "      <th>job</th>\n",
       "      <th>department</th>\n",
       "    </tr>\n",
       "  </thead>\n",
       "  <tbody>\n",
       "    <tr>\n",
       "      <th>0</th>\n",
       "      <td>2187682</td>\n",
       "      <td>FIELD SERVICE</td>\n",
       "      <td>SERVICETECHNIKER ACT</td>\n",
       "    </tr>\n",
       "    <tr>\n",
       "      <th>1</th>\n",
       "      <td>4004067</td>\n",
       "      <td>FIELD SERVICE</td>\n",
       "      <td>SR. FIELD SERVICE TECHNICIAN</td>\n",
       "    </tr>\n",
       "    <tr>\n",
       "      <th>2</th>\n",
       "      <td>522300</td>\n",
       "      <td>FIELD SERVICE</td>\n",
       "      <td>SERVICE &amp; TEST ENGINEER NORTH WEST</td>\n",
       "    </tr>\n",
       "    <tr>\n",
       "      <th>3</th>\n",
       "      <td>4013020</td>\n",
       "      <td>FIELD SERVICE</td>\n",
       "      <td>SR. FIELD SERVICE TECHNICIAN</td>\n",
       "    </tr>\n",
       "    <tr>\n",
       "      <th>4</th>\n",
       "      <td>1482</td>\n",
       "      <td>FIELD SERVICE</td>\n",
       "      <td>SERVICE, SERVICE IC</td>\n",
       "    </tr>\n",
       "    <tr>\n",
       "      <th>...</th>\n",
       "      <td>...</td>\n",
       "      <td>...</td>\n",
       "      <td>...</td>\n",
       "    </tr>\n",
       "    <tr>\n",
       "      <th>87808</th>\n",
       "      <td>4022588</td>\n",
       "      <td>CUSTOMER SERVICE</td>\n",
       "      <td>JUNIOR SPECIALIST CS</td>\n",
       "    </tr>\n",
       "    <tr>\n",
       "      <th>87809</th>\n",
       "      <td>4021043</td>\n",
       "      <td>SALES</td>\n",
       "      <td>SALES CONSULTANT SWP+IC</td>\n",
       "    </tr>\n",
       "    <tr>\n",
       "      <th>87810</th>\n",
       "      <td>4022456</td>\n",
       "      <td>CUSTOMER SERVICE</td>\n",
       "      <td>SPECIALIST CS</td>\n",
       "    </tr>\n",
       "    <tr>\n",
       "      <th>87811</th>\n",
       "      <td>4004846</td>\n",
       "      <td>FIELD SERVICE</td>\n",
       "      <td>FIELD SERVICE TECHNICIAN</td>\n",
       "    </tr>\n",
       "    <tr>\n",
       "      <th>87812</th>\n",
       "      <td>341329</td>\n",
       "      <td>FIELD SERVICE</td>\n",
       "      <td>FIELD SERVICE TECHNICIAN</td>\n",
       "    </tr>\n",
       "  </tbody>\n",
       "</table>\n",
       "<p>87813 rows × 3 columns</p>\n",
       "</div>"
      ],
      "text/plain": [
       "       user_id               job                          department\n",
       "0      2187682     FIELD SERVICE                SERVICETECHNIKER ACT\n",
       "1      4004067     FIELD SERVICE        SR. FIELD SERVICE TECHNICIAN\n",
       "2       522300     FIELD SERVICE  SERVICE & TEST ENGINEER NORTH WEST\n",
       "3      4013020     FIELD SERVICE        SR. FIELD SERVICE TECHNICIAN\n",
       "4         1482     FIELD SERVICE                 SERVICE, SERVICE IC\n",
       "...        ...               ...                                 ...\n",
       "87808  4022588  CUSTOMER SERVICE                JUNIOR SPECIALIST CS\n",
       "87809  4021043             SALES             SALES CONSULTANT SWP+IC\n",
       "87810  4022456  CUSTOMER SERVICE                       SPECIALIST CS\n",
       "87811  4004846     FIELD SERVICE            FIELD SERVICE TECHNICIAN\n",
       "87812   341329     FIELD SERVICE            FIELD SERVICE TECHNICIAN\n",
       "\n",
       "[87813 rows x 3 columns]"
      ]
     },
     "execution_count": 31,
     "metadata": {},
     "output_type": "execute_result"
    }
   ],
   "source": [
    "user_data"
   ]
  },
  {
   "cell_type": "code",
   "execution_count": 32,
   "metadata": {
    "executionInfo": {
     "elapsed": 13,
     "status": "ok",
     "timestamp": 1649810086239,
     "user": {
      "displayName": "Petar Damianov",
      "userId": "11400996130549296363"
     },
     "user_tz": -180
    },
    "id": "cnS6KHaJYIf1"
   },
   "outputs": [],
   "source": [
    "privileges_data = pd.DataFrame(data[\"privileges_data\"])"
   ]
  },
  {
   "cell_type": "code",
   "execution_count": 33,
   "metadata": {
    "executionInfo": {
     "elapsed": 13,
     "status": "ok",
     "timestamp": 1649810086239,
     "user": {
      "displayName": "Petar Damianov",
      "userId": "11400996130549296363"
     },
     "user_tz": -180
    },
    "id": "Vr-MWXBGYIf1"
   },
   "outputs": [],
   "source": [
    "privileges_data.privileges_data = privileges_data[\"privileges_data\"].str[10:]"
   ]
  },
  {
   "cell_type": "markdown",
   "metadata": {
    "id": "hUdsKMtxYIf2"
   },
   "source": [
    "I saw anomaly in data where in some of the records there is ::(double) symbols so i need to remove it so the data is clear"
   ]
  },
  {
   "cell_type": "code",
   "execution_count": 34,
   "metadata": {
    "executionInfo": {
     "elapsed": 334,
     "status": "ok",
     "timestamp": 1649810086560,
     "user": {
      "displayName": "Petar Damianov",
      "userId": "11400996130549296363"
     },
     "user_tz": -180
    },
    "id": "9eUxhUiYYIf2"
   },
   "outputs": [],
   "source": [
    "for indx in privileges_data[privileges_data[\"privileges_data\"].str.startswith(\":\")].index.tolist():\n",
    "    privileges_data.loc[indx].privileges_data = privileges_data.loc[indx].privileges_data[1:]"
   ]
  },
  {
   "cell_type": "code",
   "execution_count": 35,
   "metadata": {
    "colab": {
     "base_uri": "https://localhost:8080/"
    },
    "executionInfo": {
     "elapsed": 6,
     "status": "ok",
     "timestamp": 1649810086561,
     "user": {
      "displayName": "Petar Damianov",
      "userId": "11400996130549296363"
     },
     "user_tz": -180
    },
    "id": "p32Qc1u7YIf3",
    "outputId": "1b26e666-15c8-48a6-81bf-b8c787e58a7e"
   },
   "outputs": [
    {
     "data": {
      "text/plain": [
       "0"
      ]
     },
     "execution_count": 35,
     "metadata": {},
     "output_type": "execute_result"
    }
   ],
   "source": [
    "len(privileges_data.loc[privileges_data[\"privileges_data\"].str.startswith(\":\")].privileges_data)"
   ]
  },
  {
   "cell_type": "code",
   "execution_count": 36,
   "metadata": {
    "colab": {
     "base_uri": "https://localhost:8080/",
     "height": 424
    },
    "executionInfo": {
     "elapsed": 5,
     "status": "ok",
     "timestamp": 1649810086561,
     "user": {
      "displayName": "Petar Damianov",
      "userId": "11400996130549296363"
     },
     "user_tz": -180
    },
    "id": "502T8J4VYIf3",
    "outputId": "d3c00a9a-401b-4daf-e456-8cf0cb688a82"
   },
   "outputs": [
    {
     "data": {
      "text/html": [
       "<div>\n",
       "<style scoped>\n",
       "    .dataframe tbody tr th:only-of-type {\n",
       "        vertical-align: middle;\n",
       "    }\n",
       "\n",
       "    .dataframe tbody tr th {\n",
       "        vertical-align: top;\n",
       "    }\n",
       "\n",
       "    .dataframe thead th {\n",
       "        text-align: right;\n",
       "    }\n",
       "</style>\n",
       "<table border=\"1\" class=\"dataframe\">\n",
       "  <thead>\n",
       "    <tr style=\"text-align: right;\">\n",
       "      <th></th>\n",
       "      <th>privileges_data</th>\n",
       "    </tr>\n",
       "  </thead>\n",
       "  <tbody>\n",
       "    <tr>\n",
       "      <th>0</th>\n",
       "      <td>QE2CLNT110:SD3030_DP:D_SD_DEFAULT</td>\n",
       "    </tr>\n",
       "    <tr>\n",
       "      <th>1</th>\n",
       "      <td>QE2CLNT110:MM4100_DP:D_PURCHASING</td>\n",
       "    </tr>\n",
       "    <tr>\n",
       "      <th>2</th>\n",
       "      <td>QE2CLNT110:SD3120_DP:D_SD_DEFAULT</td>\n",
       "    </tr>\n",
       "    <tr>\n",
       "      <th>3</th>\n",
       "      <td>QE2CLNT110:PP4100_DP:D_PP</td>\n",
       "    </tr>\n",
       "    <tr>\n",
       "      <th>4</th>\n",
       "      <td>PE1CLNT110:LO8030_DP:D_LO_DEFAULT</td>\n",
       "    </tr>\n",
       "    <tr>\n",
       "      <th>...</th>\n",
       "      <td>...</td>\n",
       "    </tr>\n",
       "    <tr>\n",
       "      <th>87808</th>\n",
       "      <td>PE1CLNT110:XX3010_DP:M_CATS</td>\n",
       "    </tr>\n",
       "    <tr>\n",
       "      <th>87809</th>\n",
       "      <td>QE2CLNT110:CS3040_DP:D_CS_STATISTIC</td>\n",
       "    </tr>\n",
       "    <tr>\n",
       "      <th>87810</th>\n",
       "      <td>PE1CLNT110:CS3270_DP:M_MD</td>\n",
       "    </tr>\n",
       "    <tr>\n",
       "      <th>87811</th>\n",
       "      <td>PO1CLNT110:XX0000_SP:D_EVERYONE</td>\n",
       "    </tr>\n",
       "    <tr>\n",
       "      <th>87812</th>\n",
       "      <td>PE1CLNT110:SD4100_DP:D_SALES</td>\n",
       "    </tr>\n",
       "  </tbody>\n",
       "</table>\n",
       "<p>87813 rows × 1 columns</p>\n",
       "</div>"
      ],
      "text/plain": [
       "                           privileges_data\n",
       "0        QE2CLNT110:SD3030_DP:D_SD_DEFAULT\n",
       "1        QE2CLNT110:MM4100_DP:D_PURCHASING\n",
       "2        QE2CLNT110:SD3120_DP:D_SD_DEFAULT\n",
       "3                QE2CLNT110:PP4100_DP:D_PP\n",
       "4        PE1CLNT110:LO8030_DP:D_LO_DEFAULT\n",
       "...                                    ...\n",
       "87808          PE1CLNT110:XX3010_DP:M_CATS\n",
       "87809  QE2CLNT110:CS3040_DP:D_CS_STATISTIC\n",
       "87810            PE1CLNT110:CS3270_DP:M_MD\n",
       "87811      PO1CLNT110:XX0000_SP:D_EVERYONE\n",
       "87812         PE1CLNT110:SD4100_DP:D_SALES\n",
       "\n",
       "[87813 rows x 1 columns]"
      ]
     },
     "execution_count": 36,
     "metadata": {},
     "output_type": "execute_result"
    }
   ],
   "source": [
    "privileges_data"
   ]
  },
  {
   "cell_type": "code",
   "execution_count": 37,
   "metadata": {
    "executionInfo": {
     "elapsed": 272,
     "status": "ok",
     "timestamp": 1649810086829,
     "user": {
      "displayName": "Petar Damianov",
      "userId": "11400996130549296363"
     },
     "user_tz": -180
    },
    "id": "SjNmuePOYIf4"
   },
   "outputs": [],
   "source": [
    "privileges_data['priv'] = privileges_data['privileges_data']\n",
    "privileges_data['system_name'] = privileges_data['privileges_data'].str.split(':', 1, expand=True)[0]"
   ]
  },
  {
   "cell_type": "code",
   "execution_count": 38,
   "metadata": {
    "executionInfo": {
     "elapsed": 13,
     "status": "ok",
     "timestamp": 1649810086830,
     "user": {
      "displayName": "Petar Damianov",
      "userId": "11400996130549296363"
     },
     "user_tz": -180
    },
    "id": "H0bdkChrYIf4"
   },
   "outputs": [],
   "source": [
    "privileges_data = privileges_data.drop('privileges_data', axis=1)"
   ]
  },
  {
   "cell_type": "code",
   "execution_count": 39,
   "metadata": {
    "colab": {
     "base_uri": "https://localhost:8080/",
     "height": 424
    },
    "executionInfo": {
     "elapsed": 13,
     "status": "ok",
     "timestamp": 1649810086831,
     "user": {
      "displayName": "Petar Damianov",
      "userId": "11400996130549296363"
     },
     "user_tz": -180
    },
    "id": "9NDSKybEYIf5",
    "outputId": "1ca9a396-a7a2-4199-a351-1f7fe258dab9"
   },
   "outputs": [
    {
     "data": {
      "text/html": [
       "<div>\n",
       "<style scoped>\n",
       "    .dataframe tbody tr th:only-of-type {\n",
       "        vertical-align: middle;\n",
       "    }\n",
       "\n",
       "    .dataframe tbody tr th {\n",
       "        vertical-align: top;\n",
       "    }\n",
       "\n",
       "    .dataframe thead th {\n",
       "        text-align: right;\n",
       "    }\n",
       "</style>\n",
       "<table border=\"1\" class=\"dataframe\">\n",
       "  <thead>\n",
       "    <tr style=\"text-align: right;\">\n",
       "      <th></th>\n",
       "      <th>priv</th>\n",
       "      <th>system_name</th>\n",
       "    </tr>\n",
       "  </thead>\n",
       "  <tbody>\n",
       "    <tr>\n",
       "      <th>0</th>\n",
       "      <td>QE2CLNT110:SD3030_DP:D_SD_DEFAULT</td>\n",
       "      <td>QE2CLNT110</td>\n",
       "    </tr>\n",
       "    <tr>\n",
       "      <th>1</th>\n",
       "      <td>QE2CLNT110:MM4100_DP:D_PURCHASING</td>\n",
       "      <td>QE2CLNT110</td>\n",
       "    </tr>\n",
       "    <tr>\n",
       "      <th>2</th>\n",
       "      <td>QE2CLNT110:SD3120_DP:D_SD_DEFAULT</td>\n",
       "      <td>QE2CLNT110</td>\n",
       "    </tr>\n",
       "    <tr>\n",
       "      <th>3</th>\n",
       "      <td>QE2CLNT110:PP4100_DP:D_PP</td>\n",
       "      <td>QE2CLNT110</td>\n",
       "    </tr>\n",
       "    <tr>\n",
       "      <th>4</th>\n",
       "      <td>PE1CLNT110:LO8030_DP:D_LO_DEFAULT</td>\n",
       "      <td>PE1CLNT110</td>\n",
       "    </tr>\n",
       "    <tr>\n",
       "      <th>...</th>\n",
       "      <td>...</td>\n",
       "      <td>...</td>\n",
       "    </tr>\n",
       "    <tr>\n",
       "      <th>87808</th>\n",
       "      <td>PE1CLNT110:XX3010_DP:M_CATS</td>\n",
       "      <td>PE1CLNT110</td>\n",
       "    </tr>\n",
       "    <tr>\n",
       "      <th>87809</th>\n",
       "      <td>QE2CLNT110:CS3040_DP:D_CS_STATISTIC</td>\n",
       "      <td>QE2CLNT110</td>\n",
       "    </tr>\n",
       "    <tr>\n",
       "      <th>87810</th>\n",
       "      <td>PE1CLNT110:CS3270_DP:M_MD</td>\n",
       "      <td>PE1CLNT110</td>\n",
       "    </tr>\n",
       "    <tr>\n",
       "      <th>87811</th>\n",
       "      <td>PO1CLNT110:XX0000_SP:D_EVERYONE</td>\n",
       "      <td>PO1CLNT110</td>\n",
       "    </tr>\n",
       "    <tr>\n",
       "      <th>87812</th>\n",
       "      <td>PE1CLNT110:SD4100_DP:D_SALES</td>\n",
       "      <td>PE1CLNT110</td>\n",
       "    </tr>\n",
       "  </tbody>\n",
       "</table>\n",
       "<p>87813 rows × 2 columns</p>\n",
       "</div>"
      ],
      "text/plain": [
       "                                      priv system_name\n",
       "0        QE2CLNT110:SD3030_DP:D_SD_DEFAULT  QE2CLNT110\n",
       "1        QE2CLNT110:MM4100_DP:D_PURCHASING  QE2CLNT110\n",
       "2        QE2CLNT110:SD3120_DP:D_SD_DEFAULT  QE2CLNT110\n",
       "3                QE2CLNT110:PP4100_DP:D_PP  QE2CLNT110\n",
       "4        PE1CLNT110:LO8030_DP:D_LO_DEFAULT  PE1CLNT110\n",
       "...                                    ...         ...\n",
       "87808          PE1CLNT110:XX3010_DP:M_CATS  PE1CLNT110\n",
       "87809  QE2CLNT110:CS3040_DP:D_CS_STATISTIC  QE2CLNT110\n",
       "87810            PE1CLNT110:CS3270_DP:M_MD  PE1CLNT110\n",
       "87811      PO1CLNT110:XX0000_SP:D_EVERYONE  PO1CLNT110\n",
       "87812         PE1CLNT110:SD4100_DP:D_SALES  PE1CLNT110\n",
       "\n",
       "[87813 rows x 2 columns]"
      ]
     },
     "execution_count": 39,
     "metadata": {},
     "output_type": "execute_result"
    }
   ],
   "source": [
    "privileges_data"
   ]
  },
  {
   "cell_type": "code",
   "execution_count": 40,
   "metadata": {
    "executionInfo": {
     "elapsed": 12,
     "status": "ok",
     "timestamp": 1649810086831,
     "user": {
      "displayName": "Petar Damianov",
      "userId": "11400996130549296363"
     },
     "user_tz": -180
    },
    "id": "dWJTAXSjYIf5"
   },
   "outputs": [],
   "source": [
    "user_data['system_name'] = privileges_data['system_name']\n",
    "user_data['priv'] = privileges_data['priv']"
   ]
  },
  {
   "cell_type": "code",
   "execution_count": 41,
   "metadata": {
    "executionInfo": {
     "elapsed": 11,
     "status": "ok",
     "timestamp": 1649810086831,
     "user": {
      "displayName": "Petar Damianov",
      "userId": "11400996130549296363"
     },
     "user_tz": -180
    },
    "id": "TNMc5z-WYIf6"
   },
   "outputs": [],
   "source": [
    "job=\"POSTDOCTORAL FELLOW\"\n",
    "department=\"BIOLOGICAL, ENVIRONMENTAL SCIENCE & ENG\""
   ]
  },
  {
   "cell_type": "markdown",
   "metadata": {
    "id": "K0j4oU3SYIf8"
   },
   "source": [
    "### Get information about dataset properties"
   ]
  },
  {
   "cell_type": "markdown",
   "metadata": {
    "id": "QVK_NWejYIf8"
   },
   "source": [
    "#### Get columns"
   ]
  },
  {
   "cell_type": "code",
   "execution_count": 42,
   "metadata": {
    "colab": {
     "base_uri": "https://localhost:8080/"
    },
    "executionInfo": {
     "elapsed": 12,
     "status": "ok",
     "timestamp": 1649810086832,
     "user": {
      "displayName": "Petar Damianov",
      "userId": "11400996130549296363"
     },
     "user_tz": -180
    },
    "id": "2FDe1jkEYIf8",
    "outputId": "af811650-61ca-408e-ab8a-7d068f2acfab"
   },
   "outputs": [
    {
     "data": {
      "text/plain": [
       "Index(['user_id', 'job', 'department', 'system_name', 'priv'], dtype='object')"
      ]
     },
     "execution_count": 42,
     "metadata": {},
     "output_type": "execute_result"
    }
   ],
   "source": [
    "user_data.columns"
   ]
  },
  {
   "cell_type": "markdown",
   "metadata": {
    "id": "mW4XUce3YIf9"
   },
   "source": [
    "#### Get unique attributes in every column"
   ]
  },
  {
   "cell_type": "code",
   "execution_count": 43,
   "metadata": {
    "colab": {
     "base_uri": "https://localhost:8080/"
    },
    "executionInfo": {
     "elapsed": 200,
     "status": "ok",
     "timestamp": 1649810087025,
     "user": {
      "displayName": "Petar Damianov",
      "userId": "11400996130549296363"
     },
     "user_tz": -180
    },
    "id": "jHaguU7HYIf9",
    "outputId": "63a5abbe-83dc-4407-ee95-59a54ddc9711"
   },
   "outputs": [
    {
     "name": "stdout",
     "output_type": "stream",
     "text": [
      "user_id 2343\n",
      "job 3\n",
      "department 726\n",
      "system_name 20\n",
      "priv 6751\n"
     ]
    }
   ],
   "source": [
    "for c in user_data.columns:\n",
    "    print(c, len(user_data[c].value_counts()))"
   ]
  },
  {
   "cell_type": "markdown",
   "metadata": {
    "id": "U679JxZdYIf-"
   },
   "source": [
    "#### Get unique privileges count for every system "
   ]
  },
  {
   "cell_type": "code",
   "execution_count": 44,
   "metadata": {
    "colab": {
     "base_uri": "https://localhost:8080/"
    },
    "executionInfo": {
     "elapsed": 281,
     "status": "ok",
     "timestamp": 1649810087301,
     "user": {
      "displayName": "Petar Damianov",
      "userId": "11400996130549296363"
     },
     "user_tz": -180
    },
    "id": "u1BT5T9jYIf-",
    "outputId": "98cb6fed-461f-4d77-9db7-fba3f5992161"
   },
   "outputs": [
    {
     "name": "stdout",
     "output_type": "stream",
     "text": [
      "QE2CLNT110 2504\n",
      "PE1CLNT110 2182\n",
      "DE2CLNT210 1584\n",
      "PO1CLNT110 10\n",
      "PGWCLNT110 10\n",
      "QGWCLNT110 6\n",
      "DGWCLNT110 5\n",
      "PR1CLNT110 13\n",
      "Q12CLNT110 103\n",
      "P11CLNT110 204\n",
      "QG2CLNT110 27\n",
      "PB1CLNT110 23\n",
      "PGRCLNT110 2\n",
      "PG1CLNT110 33\n",
      "QB1CLNT110 22\n",
      "DG2CLNT210 14\n",
      "SE6CLNT110 2\n",
      "ASJAVAIDM 2\n",
      "Q13CLNT110 2\n",
      "PSRCLNT110 3\n",
      "Uniqua privs for every system count =  6751\n"
     ]
    }
   ],
   "source": [
    "system_privs_count = 0\n",
    "for s in user_data.system_name.unique():\n",
    "    print(s, len(user_data[user_data.system_name == s].priv.unique()))\n",
    "    system_privs_count += len(user_data[user_data.system_name == s].priv.unique())\n",
    "\n",
    "print(\"Uniqua privs for every system count = \", system_privs_count)"
   ]
  },
  {
   "cell_type": "markdown",
   "metadata": {
    "id": "ocMocfF1YIf-"
   },
   "source": [
    "#### get how many times system occurs in data"
   ]
  },
  {
   "cell_type": "code",
   "execution_count": 45,
   "metadata": {
    "colab": {
     "base_uri": "https://localhost:8080/"
    },
    "executionInfo": {
     "elapsed": 12,
     "status": "ok",
     "timestamp": 1649810087302,
     "user": {
      "displayName": "Petar Damianov",
      "userId": "11400996130549296363"
     },
     "user_tz": -180
    },
    "id": "Zco2MvK2YIf_",
    "outputId": "61e0fe34-1ee6-445f-8250-313bfe965ab6"
   },
   "outputs": [
    {
     "data": {
      "text/plain": [
       "QE2CLNT110    38227\n",
       "PE1CLNT110    38040\n",
       "DE2CLNT210     4283\n",
       "PGWCLNT110     3217\n",
       "PO1CLNT110     1911\n",
       "P11CLNT110      968\n",
       "PR1CLNT110      369\n",
       "QGWCLNT110      218\n",
       "Q12CLNT110      204\n",
       "PG1CLNT110       68\n",
       "DG2CLNT210       67\n",
       "PB1CLNT110       54\n",
       "DGWCLNT110       52\n",
       "QG2CLNT110       50\n",
       "QB1CLNT110       48\n",
       "PGRCLNT110       16\n",
       "ASJAVAIDM         8\n",
       "PSRCLNT110        6\n",
       "SE6CLNT110        5\n",
       "Q13CLNT110        2\n",
       "Name: system_name, dtype: int64"
      ]
     },
     "execution_count": 45,
     "metadata": {},
     "output_type": "execute_result"
    }
   ],
   "source": [
    "user_data.system_name.value_counts()"
   ]
  },
  {
   "cell_type": "markdown",
   "metadata": {
    "id": "p76rqOrMYIf_"
   },
   "source": [
    "We can conclude that BCMP970 and IT systems contains special privileges for just one certain department and job"
   ]
  },
  {
   "cell_type": "markdown",
   "metadata": {
    "id": "5akVzgjSYIf_"
   },
   "source": [
    "#### get data about privileges. Are there privileges which are the same for various systems"
   ]
  },
  {
   "cell_type": "code",
   "execution_count": 46,
   "metadata": {
    "colab": {
     "base_uri": "https://localhost:8080/"
    },
    "executionInfo": {
     "elapsed": 8,
     "status": "ok",
     "timestamp": 1649810087302,
     "user": {
      "displayName": "Petar Damianov",
      "userId": "11400996130549296363"
     },
     "user_tz": -180
    },
    "id": "6a16ny2qYIgA",
    "outputId": "b8cd6025-50f8-47c8-cc0e-0cc08b808d1b"
   },
   "outputs": [
    {
     "data": {
      "text/plain": [
       "0"
      ]
     },
     "execution_count": 46,
     "metadata": {},
     "output_type": "execute_result"
    }
   ],
   "source": [
    "system_privs_count - len(user_data.priv.unique())"
   ]
  },
  {
   "cell_type": "markdown",
   "metadata": {
    "id": "E2TPCknuYIgA"
   },
   "source": [
    "### Prepare data for clustering"
   ]
  },
  {
   "cell_type": "markdown",
   "metadata": {
    "id": "5wzdrS9TYIgA"
   },
   "source": [
    "In simple words we don't need data for job and department to cluster data, because clustering is performed on privileges for all users.\n",
    "\n",
    "So we will create new table with user id - user_id, and all of the privileges as attributes with values of 0 or 1. 0 - don't have that role, 1 - have that role."
   ]
  },
  {
   "cell_type": "code",
   "execution_count": 47,
   "metadata": {
    "executionInfo": {
     "elapsed": 6,
     "status": "ok",
     "timestamp": 1649810087303,
     "user": {
      "displayName": "Petar Damianov",
      "userId": "11400996130549296363"
     },
     "user_tz": -180
    },
    "id": "ZLCXsy0AYIgB"
   },
   "outputs": [],
   "source": [
    "user_privs_data = pd.DataFrame()"
   ]
  },
  {
   "cell_type": "markdown",
   "metadata": {
    "id": "9UN_gwUzYIgC"
   },
   "source": [
    "Create all privileges(categorical data) compatabel for clustering by transforming all privs into numerical data."
   ]
  },
  {
   "cell_type": "code",
   "execution_count": 48,
   "metadata": {
    "executionInfo": {
     "elapsed": 5,
     "status": "ok",
     "timestamp": 1649810087303,
     "user": {
      "displayName": "Petar Damianov",
      "userId": "11400996130549296363"
     },
     "user_tz": -180
    },
    "id": "sFUIyFV1YIgC"
   },
   "outputs": [],
   "source": [
    "priv_dummies = pd.DataFrame()"
   ]
  },
  {
   "cell_type": "code",
   "execution_count": 49,
   "metadata": {
    "executionInfo": {
     "elapsed": 6,
     "status": "ok",
     "timestamp": 1649810087304,
     "user": {
      "displayName": "Petar Damianov",
      "userId": "11400996130549296363"
     },
     "user_tz": -180
    },
    "id": "8wFFhdYbYIgC"
   },
   "outputs": [],
   "source": [
    "priv_dummies['user_id'] = user_data.user_id"
   ]
  },
  {
   "cell_type": "code",
   "execution_count": 50,
   "metadata": {
    "executionInfo": {
     "elapsed": 938,
     "status": "ok",
     "timestamp": 1649810088236,
     "user": {
      "displayName": "Petar Damianov",
      "userId": "11400996130549296363"
     },
     "user_tz": -180
    },
    "id": "XJ-ld1ZgYIgD"
   },
   "outputs": [],
   "source": [
    "priv_dummies = pd.concat([priv_dummies, pd.get_dummies(user_data.priv, dtype=np.ubyte)], axis=1)"
   ]
  },
  {
   "cell_type": "code",
   "execution_count": 51,
   "metadata": {
    "colab": {
     "base_uri": "https://localhost:8080/"
    },
    "executionInfo": {
     "elapsed": 7,
     "status": "ok",
     "timestamp": 1649810088237,
     "user": {
      "displayName": "Petar Damianov",
      "userId": "11400996130549296363"
     },
     "user_tz": -180
    },
    "id": "M5f7MViuFeEx",
    "outputId": "371c9777-3e8c-48de-dc6e-82c1406a0716"
   },
   "outputs": [
    {
     "data": {
      "text/plain": [
       "user_id                                 int64\n",
       "ASJAVAIDM:IDM_User                      uint8\n",
       "ASJAVAIDM:idm.user                      uint8\n",
       "DE2CLNT210:BC0000_DP:M_LOCUSER_DE       uint8\n",
       "DE2CLNT210:CO3020_DP:D_CO               uint8\n",
       "                                        ...  \n",
       "QGWCLNT110:XX0000_SP:M_FIORI_CS         uint8\n",
       "QGWCLNT110:XX0000_SP:M_FIORI_TRV        uint8\n",
       "QGWCLNT110:XX0000_SP:M_FIORI_TRV_APP    uint8\n",
       "SE6CLNT110:XX0000_SP:D_EVERYONE         uint8\n",
       "SE6CLNT110:ZSAP_ALL_ERP                 uint8\n",
       "Length: 6752, dtype: object"
      ]
     },
     "execution_count": 51,
     "metadata": {},
     "output_type": "execute_result"
    }
   ],
   "source": [
    "priv_dummies.dtypes"
   ]
  },
  {
   "cell_type": "code",
   "execution_count": 52,
   "metadata": {
    "executionInfo": {
     "elapsed": 339,
     "status": "ok",
     "timestamp": 1649810088573,
     "user": {
      "displayName": "Petar Damianov",
      "userId": "11400996130549296363"
     },
     "user_tz": -180
    },
    "id": "kLPDgg1Bj5uI"
   },
   "outputs": [],
   "source": [
    "priv_dummies = priv_dummies.drop('user_id', axis=1).astype('byte')"
   ]
  },
  {
   "cell_type": "code",
   "execution_count": 53,
   "metadata": {
    "colab": {
     "base_uri": "https://localhost:8080/"
    },
    "executionInfo": {
     "elapsed": 6,
     "status": "ok",
     "timestamp": 1649810088574,
     "user": {
      "displayName": "Petar Damianov",
      "userId": "11400996130549296363"
     },
     "user_tz": -180
    },
    "id": "MqVaYwKD0YLu",
    "outputId": "e9da71ae-2e15-43d7-c4b4-70c1498ecb02"
   },
   "outputs": [
    {
     "data": {
      "text/plain": [
       "ASJAVAIDM:IDM_User                      int8\n",
       "ASJAVAIDM:idm.user                      int8\n",
       "DE2CLNT210:BC0000_DP:M_LOCUSER_DE       int8\n",
       "DE2CLNT210:CO3020_DP:D_CO               int8\n",
       "DE2CLNT210:CO3020_DP:M_CO_DEPT          int8\n",
       "                                        ... \n",
       "QGWCLNT110:XX0000_SP:M_FIORI_CS         int8\n",
       "QGWCLNT110:XX0000_SP:M_FIORI_TRV        int8\n",
       "QGWCLNT110:XX0000_SP:M_FIORI_TRV_APP    int8\n",
       "SE6CLNT110:XX0000_SP:D_EVERYONE         int8\n",
       "SE6CLNT110:ZSAP_ALL_ERP                 int8\n",
       "Length: 6751, dtype: object"
      ]
     },
     "execution_count": 53,
     "metadata": {},
     "output_type": "execute_result"
    }
   ],
   "source": [
    "priv_dummies.dtypes"
   ]
  },
  {
   "cell_type": "code",
   "execution_count": 54,
   "metadata": {
    "executionInfo": {
     "elapsed": 4,
     "status": "ok",
     "timestamp": 1649810088574,
     "user": {
      "displayName": "Petar Damianov",
      "userId": "11400996130549296363"
     },
     "user_tz": -180
    },
    "id": "Rh9mi30qlpSi"
   },
   "outputs": [],
   "source": [
    "priv_dummies['user_id'] = user_data.user_id"
   ]
  },
  {
   "cell_type": "code",
   "execution_count": null,
   "metadata": {
    "executionInfo": {
     "elapsed": 4200,
     "status": "ok",
     "timestamp": 1649810092771,
     "user": {
      "displayName": "Petar Damianov",
      "userId": "11400996130549296363"
     },
     "user_tz": -180
    },
    "id": "GDv-Fz3HYIgD"
   },
   "outputs": [],
   "source": [
    "user_privs_data = priv_dummies.groupby('user_id').sum().reset_index(drop=True)"
   ]
  },
  {
   "cell_type": "code",
   "execution_count": null,
   "metadata": {
    "executionInfo": {
     "elapsed": 5,
     "status": "ok",
     "timestamp": 1649810092771,
     "user": {
      "displayName": "Petar Damianov",
      "userId": "11400996130549296363"
     },
     "user_tz": -180
    },
    "id": "dzkXZZgjzq2A"
   },
   "outputs": [],
   "source": [
    "user_privs_data['user_id'] = user_data.user_id"
   ]
  },
  {
   "cell_type": "code",
   "execution_count": null,
   "metadata": {
    "executionInfo": {
     "elapsed": 363,
     "status": "ok",
     "timestamp": 1649810093130,
     "user": {
      "displayName": "Petar Damianov",
      "userId": "11400996130549296363"
     },
     "user_tz": -180
    },
    "id": "hq8XVX8-bIxV"
   },
   "outputs": [],
   "source": [
    "agg_clustering = AgglomerativeClustering(n_clusters=None, compute_full_tree=True, distance_threshold=15)"
   ]
  },
  {
   "cell_type": "code",
   "execution_count": null,
   "metadata": {
    "executionInfo": {
     "elapsed": 40201,
     "status": "ok",
     "timestamp": 1649810133326,
     "user": {
      "displayName": "Petar Damianov",
      "userId": "11400996130549296363"
     },
     "user_tz": -180
    },
    "id": "ERo6EhOyepEo"
   },
   "outputs": [],
   "source": [
    "fit_data = agg_clustering.fit(user_privs_data.drop('user_id', axis=1))"
   ]
  },
  {
   "cell_type": "code",
   "execution_count": null,
   "metadata": {
    "colab": {
     "base_uri": "https://localhost:8080/"
    },
    "executionInfo": {
     "elapsed": 41,
     "status": "ok",
     "timestamp": 1649810133328,
     "user": {
      "displayName": "Petar Damianov",
      "userId": "11400996130549296363"
     },
     "user_tz": -180
    },
    "id": "lRR7m4y8bUa2",
    "outputId": "6c3aa27b-4137-4022-97e6-1dfaeae508cf"
   },
   "outputs": [],
   "source": [
    "fit_data.n_clusters_"
   ]
  },
  {
   "cell_type": "code",
   "execution_count": null,
   "metadata": {
    "colab": {
     "base_uri": "https://localhost:8080/"
    },
    "executionInfo": {
     "elapsed": 38,
     "status": "ok",
     "timestamp": 1649810133329,
     "user": {
      "displayName": "Petar Damianov",
      "userId": "11400996130549296363"
     },
     "user_tz": -180
    },
    "id": "wP72j6T6frcZ",
    "outputId": "9fa348c2-d696-4e52-e827-bc96cce4687c"
   },
   "outputs": [],
   "source": [
    "fit_data.n_features_in_"
   ]
  },
  {
   "cell_type": "code",
   "execution_count": null,
   "metadata": {
    "colab": {
     "base_uri": "https://localhost:8080/"
    },
    "executionInfo": {
     "elapsed": 34,
     "status": "ok",
     "timestamp": 1649810133329,
     "user": {
      "displayName": "Petar Damianov",
      "userId": "11400996130549296363"
     },
     "user_tz": -180
    },
    "id": "Y07BH6u2fWjM",
    "outputId": "6a8db5a6-9f74-40aa-ef19-7f88e7297007"
   },
   "outputs": [],
   "source": [
    "fit_data.labels_"
   ]
  },
  {
   "cell_type": "code",
   "execution_count": null,
   "metadata": {
    "executionInfo": {
     "elapsed": 26,
     "status": "ok",
     "timestamp": 1649810133330,
     "user": {
      "displayName": "Petar Damianov",
      "userId": "11400996130549296363"
     },
     "user_tz": -180
    },
    "id": "XwnKv40vAIeH"
   },
   "outputs": [],
   "source": [
    "result = pd.DataFrame(fit_data.labels_, columns=['id'])"
   ]
  },
  {
   "cell_type": "code",
   "execution_count": null,
   "metadata": {
    "colab": {
     "base_uri": "https://localhost:8080/"
    },
    "executionInfo": {
     "elapsed": 27,
     "status": "ok",
     "timestamp": 1649810133331,
     "user": {
      "displayName": "Petar Damianov",
      "userId": "11400996130549296363"
     },
     "user_tz": -180
    },
    "id": "yvTBNB7SAIp0",
    "outputId": "d5bdecf3-8f96-4fcb-a77c-c44a55c682be"
   },
   "outputs": [],
   "source": [
    "result.id.value_counts()"
   ]
  },
  {
   "cell_type": "markdown",
   "metadata": {
    "id": "cO7WbT-KClkE"
   },
   "source": [
    "### Get result based on clustered data\n"
   ]
  },
  {
   "cell_type": "markdown",
   "metadata": {
    "id": "dntFkRWaNPi8"
   },
   "source": [
    "#### Prepare data for extracting privileges from given label"
   ]
  },
  {
   "cell_type": "code",
   "execution_count": null,
   "metadata": {
    "colab": {
     "base_uri": "https://localhost:8080/",
     "height": 537
    },
    "executionInfo": {
     "elapsed": 23,
     "status": "ok",
     "timestamp": 1649810133331,
     "user": {
      "displayName": "Petar Damianov",
      "userId": "11400996130549296363"
     },
     "user_tz": -180
    },
    "id": "Ql9VmioRCu3l",
    "outputId": "5fc9e5c0-1ffa-4d42-912e-50de8815adc7"
   },
   "outputs": [],
   "source": [
    "user_data"
   ]
  },
  {
   "cell_type": "code",
   "execution_count": null,
   "metadata": {
    "executionInfo": {
     "elapsed": 25653,
     "status": "ok",
     "timestamp": 1649810158973,
     "user": {
      "displayName": "Petar Damianov",
      "userId": "11400996130549296363"
     },
     "user_tz": -180
    },
    "id": "IXwTss3TCu80"
   },
   "outputs": [],
   "source": [
    "unique_user_data = user_data.groupby(['user_id', 'job', 'department']).describe().reset_index()"
   ]
  },
  {
   "cell_type": "code",
   "execution_count": null,
   "metadata": {
    "colab": {
     "base_uri": "https://localhost:8080/"
    },
    "executionInfo": {
     "elapsed": 36,
     "status": "ok",
     "timestamp": 1649810158973,
     "user": {
      "displayName": "Petar Damianov",
      "userId": "11400996130549296363"
     },
     "user_tz": -180
    },
    "id": "eifbcCRmCu_9",
    "outputId": "830fa22d-54cc-4b8a-9d7b-92ea04960575"
   },
   "outputs": [],
   "source": [
    "unique_user_data.columns"
   ]
  },
  {
   "cell_type": "code",
   "execution_count": null,
   "metadata": {
    "colab": {
     "base_uri": "https://localhost:8080/",
     "height": 814
    },
    "executionInfo": {
     "elapsed": 33,
     "status": "ok",
     "timestamp": 1649810158974,
     "user": {
      "displayName": "Petar Damianov",
      "userId": "11400996130549296363"
     },
     "user_tz": -180
    },
    "id": "Ej2HbJKp_aQm",
    "outputId": "367ecf61-e752-403a-bc89-34681ba9926f"
   },
   "outputs": [],
   "source": [
    "unique_user_data"
   ]
  },
  {
   "cell_type": "code",
   "execution_count": null,
   "metadata": {
    "colab": {
     "base_uri": "https://localhost:8080/"
    },
    "executionInfo": {
     "elapsed": 20,
     "status": "ok",
     "timestamp": 1649810158974,
     "user": {
      "displayName": "Petar Damianov",
      "userId": "11400996130549296363"
     },
     "user_tz": -180
    },
    "id": "oVipXB1QHmmM",
    "outputId": "efab2327-670d-4b5c-9e52-0197107bbb66"
   },
   "outputs": [],
   "source": [
    "unique_user_data.drop(['system_name', 'priv'], axis=1, inplace=True)"
   ]
  },
  {
   "cell_type": "code",
   "execution_count": null,
   "metadata": {
    "executionInfo": {
     "elapsed": 16,
     "status": "ok",
     "timestamp": 1649810158975,
     "user": {
      "displayName": "Petar Damianov",
      "userId": "11400996130549296363"
     },
     "user_tz": -180
    },
    "id": "nvH7IJzbJYSe"
   },
   "outputs": [],
   "source": [
    "unique_user_data.columns = ['user_id', 'job', 'department']"
   ]
  },
  {
   "cell_type": "code",
   "execution_count": null,
   "metadata": {
    "colab": {
     "base_uri": "https://localhost:8080/",
     "height": 424
    },
    "executionInfo": {
     "elapsed": 16,
     "status": "ok",
     "timestamp": 1649810158975,
     "user": {
      "displayName": "Petar Damianov",
      "userId": "11400996130549296363"
     },
     "user_tz": -180
    },
    "id": "oCokdxx1IlgT",
    "outputId": "057b2fa2-d03f-46d7-8552-02c7d7dcfa37"
   },
   "outputs": [],
   "source": [
    "unique_user_data"
   ]
  },
  {
   "cell_type": "code",
   "execution_count": null,
   "metadata": {
    "executionInfo": {
     "elapsed": 15,
     "status": "ok",
     "timestamp": 1649810158976,
     "user": {
      "displayName": "Petar Damianov",
      "userId": "11400996130549296363"
     },
     "user_tz": -180
    },
    "id": "UOs5HIGrI8YB"
   },
   "outputs": [],
   "source": [
    "result_table = pd.concat([unique_user_data, user_privs_data.drop('user_id', axis=1)], axis=1)"
   ]
  },
  {
   "cell_type": "code",
   "execution_count": null,
   "metadata": {
    "colab": {
     "base_uri": "https://localhost:8080/",
     "height": 783
    },
    "executionInfo": {
     "elapsed": 15,
     "status": "ok",
     "timestamp": 1649810158976,
     "user": {
      "displayName": "Petar Damianov",
      "userId": "11400996130549296363"
     },
     "user_tz": -180
    },
    "id": "48ikMNYeJ5KP",
    "outputId": "feead3b7-86fc-436c-e336-07817fd7d698"
   },
   "outputs": [],
   "source": [
    "result_table"
   ]
  },
  {
   "cell_type": "code",
   "execution_count": null,
   "metadata": {
    "executionInfo": {
     "elapsed": 453,
     "status": "ok",
     "timestamp": 1649810159416,
     "user": {
      "displayName": "Petar Damianov",
      "userId": "11400996130549296363"
     },
     "user_tz": -180
    },
    "id": "IQUccSTEJ4bm"
   },
   "outputs": [],
   "source": [
    "result_table.insert(3, \"cluster_label\", result.id)"
   ]
  },
  {
   "cell_type": "code",
   "execution_count": null,
   "metadata": {
    "colab": {
     "base_uri": "https://localhost:8080/",
     "height": 783
    },
    "executionInfo": {
     "elapsed": 9,
     "status": "ok",
     "timestamp": 1649810159417,
     "user": {
      "displayName": "Petar Damianov",
      "userId": "11400996130549296363"
     },
     "user_tz": -180
    },
    "id": "TJsTKr5ELUNE",
    "outputId": "ce609ac9-ee89-41b9-8b23-7527e93d05de"
   },
   "outputs": [],
   "source": [
    "result_table"
   ]
  },
  {
   "cell_type": "markdown",
   "metadata": {
    "id": "NjOk6oY7FYYi"
   },
   "source": [
    "### Extract all data from clusters with selected job and department in them"
   ]
  },
  {
   "cell_type": "code",
   "execution_count": null,
   "metadata": {
    "executionInfo": {
     "elapsed": 547,
     "status": "ok",
     "timestamp": 1649810159957,
     "user": {
      "displayName": "Petar Damianov",
      "userId": "11400996130549296363"
     },
     "user_tz": -180
    },
    "id": "1_fCklKkN9fd"
   },
   "outputs": [],
   "source": [
    "result_data = result_table.where((result_table.job == job) & (result_table.department == department))"
   ]
  },
  {
   "cell_type": "code",
   "execution_count": null,
   "metadata": {
    "executionInfo": {
     "elapsed": 596,
     "status": "ok",
     "timestamp": 1649810160550,
     "user": {
      "displayName": "Petar Damianov",
      "userId": "11400996130549296363"
     },
     "user_tz": -180
    },
    "id": "rjhEXD5jN9h8"
   },
   "outputs": [],
   "source": [
    "result_data.dropna(inplace=True)"
   ]
  },
  {
   "cell_type": "code",
   "execution_count": null,
   "metadata": {
    "executionInfo": {
     "elapsed": 3,
     "status": "ok",
     "timestamp": 1649810160550,
     "user": {
      "displayName": "Petar Damianov",
      "userId": "11400996130549296363"
     },
     "user_tz": -180
    },
    "id": "GnBODmx1OXB9"
   },
   "outputs": [],
   "source": [
    "result_data = result_data.reset_index(drop=True)"
   ]
  },
  {
   "cell_type": "code",
   "execution_count": null,
   "metadata": {
    "colab": {
     "base_uri": "https://localhost:8080/",
     "height": 835
    },
    "executionInfo": {
     "elapsed": 219,
     "status": "ok",
     "timestamp": 1649810160767,
     "user": {
      "displayName": "Petar Damianov",
      "userId": "11400996130549296363"
     },
     "user_tz": -180
    },
    "id": "V1kKQiGWQWYH",
    "outputId": "7345200b-6efa-4e70-de7d-13d8e36ab540"
   },
   "outputs": [],
   "source": [
    "result_data"
   ]
  },
  {
   "cell_type": "code",
   "execution_count": null,
   "metadata": {
    "colab": {
     "base_uri": "https://localhost:8080/"
    },
    "executionInfo": {
     "elapsed": 13,
     "status": "ok",
     "timestamp": 1649810160767,
     "user": {
      "displayName": "Petar Damianov",
      "userId": "11400996130549296363"
     },
     "user_tz": -180
    },
    "id": "ApquXxbiSBnw",
    "outputId": "c8310d87-af08-41ba-e94e-38b922bb0481"
   },
   "outputs": [],
   "source": [
    "result_data.cluster_label.value_counts()"
   ]
  },
  {
   "cell_type": "markdown",
   "metadata": {
    "id": "X1R5Jw-RFpVd"
   },
   "source": [
    "#### Get  the best fitted cluster"
   ]
  },
  {
   "cell_type": "code",
   "execution_count": null,
   "metadata": {
    "executionInfo": {
     "elapsed": 10,
     "status": "ok",
     "timestamp": 1649810160768,
     "user": {
      "displayName": "Petar Damianov",
      "userId": "11400996130549296363"
     },
     "user_tz": -180
    },
    "id": "cxB061_4Tp9I"
   },
   "outputs": [],
   "source": [
    "index = 1\n",
    "# if len(result_data.cluster_label.value_counts().index.tolist()) > 3:\n",
    "#   index = 2\n",
    "\n",
    "best_cluster_label = result_data.cluster_label.value_counts().index.tolist()[0: index]"
   ]
  },
  {
   "cell_type": "code",
   "execution_count": null,
   "metadata": {
    "colab": {
     "base_uri": "https://localhost:8080/"
    },
    "executionInfo": {
     "elapsed": 9,
     "status": "ok",
     "timestamp": 1649810160768,
     "user": {
      "displayName": "Petar Damianov",
      "userId": "11400996130549296363"
     },
     "user_tz": -180
    },
    "id": "0ypBZeDUUPAb",
    "outputId": "df62de0c-a9ad-4549-f520-3c05c2c5035f"
   },
   "outputs": [],
   "source": [
    "best_cluster_label"
   ]
  },
  {
   "cell_type": "code",
   "execution_count": null,
   "metadata": {
    "executionInfo": {
     "elapsed": 1031,
     "status": "ok",
     "timestamp": 1649810161794,
     "user": {
      "displayName": "Petar Damianov",
      "userId": "11400996130549296363"
     },
     "user_tz": -180
    },
    "id": "4Pye4MppURMW"
   },
   "outputs": [],
   "source": [
    "privileges_counts = {}\n",
    "users_count = 0\n",
    "for c in best_cluster_label:\n",
    "  current_cluster_label_data = result_data[result_data['cluster_label'] == c]\n",
    "  current_cluster_label_data.reset_index(drop=True, inplace=True)\n",
    "  users_count += current_cluster_label_data.shape[0]\n",
    "  if 'index' in current_cluster_label_data.columns:\n",
    "    current_cluster_label_data = current_cluster_label_data.drop('index', axis=1)\n",
    "  for pr in current_cluster_label_data.columns[4:]:\n",
    "    if 1 in current_cluster_label_data[pr].value_counts().index.tolist():\n",
    "      if pr not in privileges_counts.keys():\n",
    "        privileges_counts[pr] = 0  \n",
    "      privileges_counts[pr] += current_cluster_label_data[pr].value_counts()[1]"
   ]
  },
  {
   "cell_type": "code",
   "execution_count": null,
   "metadata": {
    "colab": {
     "base_uri": "https://localhost:8080/"
    },
    "executionInfo": {
     "elapsed": 5,
     "status": "ok",
     "timestamp": 1649810161794,
     "user": {
      "displayName": "Petar Damianov",
      "userId": "11400996130549296363"
     },
     "user_tz": -180
    },
    "id": "ZL_lHJmcVYHF",
    "outputId": "fe5052d9-8bc8-4c8a-8343-d074b73f0b7f"
   },
   "outputs": [],
   "source": [
    "users_count"
   ]
  },
  {
   "cell_type": "code",
   "execution_count": null,
   "metadata": {
    "colab": {
     "base_uri": "https://localhost:8080/"
    },
    "executionInfo": {
     "elapsed": 356,
     "status": "ok",
     "timestamp": 1649810162148,
     "user": {
      "displayName": "Petar Damianov",
      "userId": "11400996130549296363"
     },
     "user_tz": -180
    },
    "id": "7XRbTm7l8raH",
    "outputId": "615804b3-89f7-49ce-b075-2f64caaa8c44"
   },
   "outputs": [],
   "source": [
    "#privileges_counts = dict(sorted(privileges_counts.items(),key= lambda x:x[1]))\n",
    "sorted_privileges_counts = sorted(privileges_counts.items(), key=lambda x: x[1], reverse=True)\n",
    "sorted_privileges_counts"
   ]
  },
  {
   "cell_type": "code",
   "execution_count": null,
   "metadata": {
    "executionInfo": {
     "elapsed": 20,
     "status": "ok",
     "timestamp": 1649810162148,
     "user": {
      "displayName": "Petar Damianov",
      "userId": "11400996130549296363"
     },
     "user_tz": -180
    },
    "id": "V8p5Yaxe7aga"
   },
   "outputs": [],
   "source": [
    "filtered_privileges_counts = list(filter(lambda x: x[1] > users_count*0.4, sorted_privileges_counts))"
   ]
  },
  {
   "cell_type": "markdown",
   "metadata": {
    "id": "IxtoM9crFy8n"
   },
   "source": [
    "#### Filter the most relevant privileges from that cluster"
   ]
  },
  {
   "cell_type": "code",
   "execution_count": null,
   "metadata": {
    "colab": {
     "base_uri": "https://localhost:8080/"
    },
    "executionInfo": {
     "elapsed": 21,
     "status": "ok",
     "timestamp": 1649810162149,
     "user": {
      "displayName": "Petar Damianov",
      "userId": "11400996130549296363"
     },
     "user_tz": -180
    },
    "id": "Vrd0maZRCBNG",
    "outputId": "22dc176f-b802-420c-c317-c45b6ecfa180"
   },
   "outputs": [],
   "source": [
    "filtered_privileges_counts"
   ]
  },
  {
   "cell_type": "code",
   "execution_count": null,
   "metadata": {
    "executionInfo": {
     "elapsed": 16,
     "status": "ok",
     "timestamp": 1649810162149,
     "user": {
      "displayName": "Petar Damianov",
      "userId": "11400996130549296363"
     },
     "user_tz": -180
    },
    "id": "Ig7G1jDfEn91"
   },
   "outputs": [],
   "source": [
    "suggested_privileges = [v[0] for v in filtered_privileges_counts]"
   ]
  },
  {
   "cell_type": "code",
   "execution_count": null,
   "metadata": {
    "colab": {
     "base_uri": "https://localhost:8080/"
    },
    "executionInfo": {
     "elapsed": 16,
     "status": "ok",
     "timestamp": 1649810162150,
     "user": {
      "displayName": "Petar Damianov",
      "userId": "11400996130549296363"
     },
     "user_tz": -180
    },
    "id": "vleEgyRVE1fj",
    "outputId": "398c2d15-de5d-43f3-cc2f-1e6f7a6e01de"
   },
   "outputs": [],
   "source": [
    "suggested_privileges"
   ]
  },
  {
   "cell_type": "markdown",
   "metadata": {
    "id": "YbzgOcKJBe9J"
   },
   "source": [
    "### Applying PCA to the model data"
   ]
  },
  {
   "cell_type": "markdown",
   "metadata": {
    "id": "C-207y9XiBVM"
   },
   "source": [
    "To reduce dimentionality of the dataset we are going to use PCA from sckitlearn"
   ]
  },
  {
   "cell_type": "code",
   "execution_count": null,
   "metadata": {
    "executionInfo": {
     "elapsed": 12,
     "status": "ok",
     "timestamp": 1649810162150,
     "user": {
      "displayName": "Petar Damianov",
      "userId": "11400996130549296363"
     },
     "user_tz": -180
    },
    "id": "UAhCMmlRh-it"
   },
   "outputs": [],
   "source": [
    "#pca = PCA()"
   ]
  },
  {
   "cell_type": "code",
   "execution_count": null,
   "metadata": {
    "executionInfo": {
     "elapsed": 12,
     "status": "ok",
     "timestamp": 1649810162150,
     "user": {
      "displayName": "Petar Damianov",
      "userId": "11400996130549296363"
     },
     "user_tz": -180
    },
    "id": "hatZnWash-2j"
   },
   "outputs": [],
   "source": [
    "#new_transformed_privs = pca.fit_transform(user_privs_data.drop('user_id', axis=1))"
   ]
  },
  {
   "cell_type": "code",
   "execution_count": null,
   "metadata": {
    "executionInfo": {
     "elapsed": 12,
     "status": "ok",
     "timestamp": 1649810162151,
     "user": {
      "displayName": "Petar Damianov",
      "userId": "11400996130549296363"
     },
     "user_tz": -180
    },
    "id": "sPOltgJzh-5C"
   },
   "outputs": [],
   "source": [
    "#new_transformed_privs.shape"
   ]
  },
  {
   "cell_type": "code",
   "execution_count": null,
   "metadata": {
    "executionInfo": {
     "elapsed": 12,
     "status": "ok",
     "timestamp": 1649810162151,
     "user": {
      "displayName": "Petar Damianov",
      "userId": "11400996130549296363"
     },
     "user_tz": -180
    },
    "id": "vltAiHydh-8G"
   },
   "outputs": [],
   "source": [
    "#transformed_user_privs_data = pd.DataFrame(new_transformed_privs, columns=user_privs_data.drop('user_id', axis=1).columns)"
   ]
  },
  {
   "cell_type": "code",
   "execution_count": null,
   "metadata": {
    "executionInfo": {
     "elapsed": 11,
     "status": "ok",
     "timestamp": 1649810162152,
     "user": {
      "displayName": "Petar Damianov",
      "userId": "11400996130549296363"
     },
     "user_tz": -180
    },
    "id": "QaufCgg3kF7Q"
   },
   "outputs": [],
   "source": [
    "#transformed_user_privs_data"
   ]
  },
  {
   "cell_type": "code",
   "execution_count": null,
   "metadata": {
    "executionInfo": {
     "elapsed": 10,
     "status": "ok",
     "timestamp": 1649810162152,
     "user": {
      "displayName": "Petar Damianov",
      "userId": "11400996130549296363"
     },
     "user_tz": -180
    },
    "id": "8QZhkdlmmGOO"
   },
   "outputs": [],
   "source": [
    "#pca.explained_variance_ratio_.shape"
   ]
  },
  {
   "cell_type": "code",
   "execution_count": null,
   "metadata": {
    "executionInfo": {
     "elapsed": 10,
     "status": "ok",
     "timestamp": 1649810162152,
     "user": {
      "displayName": "Petar Damianov",
      "userId": "11400996130549296363"
     },
     "user_tz": -180
    },
    "id": "OReQu0b2mMVq"
   },
   "outputs": [],
   "source": [
    "#user_privs_data.drop('user_id', axis=1).columns.shape"
   ]
  },
  {
   "cell_type": "code",
   "execution_count": null,
   "metadata": {
    "executionInfo": {
     "elapsed": 8,
     "status": "ok",
     "timestamp": 1649810162486,
     "user": {
      "displayName": "Petar Damianov",
      "userId": "11400996130549296363"
     },
     "user_tz": -180
    },
    "id": "_PPF0GMolQ41"
   },
   "outputs": [],
   "source": [
    "#variance_explained = pd.DataFrame([pca.explained_variance_ratio_], columns=user_privs_data.drop('user_id', axis=1).columns)"
   ]
  },
  {
   "cell_type": "code",
   "execution_count": null,
   "metadata": {
    "executionInfo": {
     "elapsed": 8,
     "status": "ok",
     "timestamp": 1649810162487,
     "user": {
      "displayName": "Petar Damianov",
      "userId": "11400996130549296363"
     },
     "user_tz": -180
    },
    "id": "Gx3CVjdfmqam"
   },
   "outputs": [],
   "source": [
    "#variance_explained"
   ]
  },
  {
   "cell_type": "code",
   "execution_count": null,
   "metadata": {
    "executionInfo": {
     "elapsed": 8,
     "status": "ok",
     "timestamp": 1649810162487,
     "user": {
      "displayName": "Petar Damianov",
      "userId": "11400996130549296363"
     },
     "user_tz": -180
    },
    "id": "rueF6fD2gUXf"
   },
   "outputs": [],
   "source": [
    "#fit_pca_data = agg_clustering.fit(transformed_user_privs_data)"
   ]
  },
  {
   "cell_type": "code",
   "execution_count": null,
   "metadata": {
    "executionInfo": {
     "elapsed": 8,
     "status": "ok",
     "timestamp": 1649810162488,
     "user": {
      "displayName": "Petar Damianov",
      "userId": "11400996130549296363"
     },
     "user_tz": -180
    },
    "id": "UdcxXO4FgUas"
   },
   "outputs": [],
   "source": [
    "#fit_pca_data.n_clusters_"
   ]
  },
  {
   "cell_type": "code",
   "execution_count": null,
   "metadata": {
    "executionInfo": {
     "elapsed": 8,
     "status": "ok",
     "timestamp": 1649810162488,
     "user": {
      "displayName": "Petar Damianov",
      "userId": "11400996130549296363"
     },
     "user_tz": -180
    },
    "id": "IVQx-HL6gUdo"
   },
   "outputs": [],
   "source": [
    "#result = pd.DataFrame(fit_pca_data.labels_, columns=['id'])"
   ]
  },
  {
   "cell_type": "code",
   "execution_count": null,
   "metadata": {
    "executionInfo": {
     "elapsed": 8,
     "status": "ok",
     "timestamp": 1649810162489,
     "user": {
      "displayName": "Petar Damianov",
      "userId": "11400996130549296363"
     },
     "user_tz": -180
    },
    "id": "oqZ2q9_F2NSD"
   },
   "outputs": [],
   "source": [
    "#result"
   ]
  },
  {
   "cell_type": "code",
   "execution_count": null,
   "metadata": {
    "executionInfo": {
     "elapsed": 8,
     "status": "ok",
     "timestamp": 1649810162489,
     "user": {
      "displayName": "Petar Damianov",
      "userId": "11400996130549296363"
     },
     "user_tz": -180
    },
    "id": "kszTKFDN2NUy"
   },
   "outputs": [],
   "source": [
    "#result.id.value_counts()"
   ]
  },
  {
   "cell_type": "code",
   "execution_count": null,
   "metadata": {
    "executionInfo": {
     "elapsed": 9,
     "status": "ok",
     "timestamp": 1649810162490,
     "user": {
      "displayName": "Petar Damianov",
      "userId": "11400996130549296363"
     },
     "user_tz": -180
    },
    "id": "SveB08Pf2NXt"
   },
   "outputs": [],
   "source": []
  },
  {
   "cell_type": "code",
   "execution_count": null,
   "metadata": {
    "executionInfo": {
     "elapsed": 8,
     "status": "ok",
     "timestamp": 1649810162490,
     "user": {
      "displayName": "Petar Damianov",
      "userId": "11400996130549296363"
     },
     "user_tz": -180
    },
    "id": "wpoHUovs2NaW"
   },
   "outputs": [],
   "source": []
  }
 ],
 "metadata": {
  "colab": {
   "collapsed_sections": [],
   "name": "BClustering.ipynb",
   "provenance": [],
   "toc_visible": true
  },
  "kernelspec": {
   "display_name": "Python 3",
   "language": "python",
   "name": "python3"
  },
  "language_info": {
   "codemirror_mode": {
    "name": "ipython",
    "version": 3
   },
   "file_extension": ".py",
   "mimetype": "text/x-python",
   "name": "python",
   "nbconvert_exporter": "python",
   "pygments_lexer": "ipython3",
   "version": "3.8.5"
  }
 },
 "nbformat": 4,
 "nbformat_minor": 1
}
